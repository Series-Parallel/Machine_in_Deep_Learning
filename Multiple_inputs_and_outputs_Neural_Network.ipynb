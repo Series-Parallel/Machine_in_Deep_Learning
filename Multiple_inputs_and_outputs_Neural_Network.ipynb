{
  "nbformat": 4,
  "nbformat_minor": 0,
  "metadata": {
    "colab": {
      "provenance": [],
      "authorship_tag": "ABX9TyMIoGivdUcfytsdfrlqiFmo",
      "include_colab_link": true
    },
    "kernelspec": {
      "name": "python3",
      "display_name": "Python 3"
    },
    "language_info": {
      "name": "python"
    },
    "widgets": {
      "application/vnd.jupyter.widget-state+json": {
        "1eebc1a6691c47dd825b5b281d11b5d0": {
          "model_module": "@jupyter-widgets/controls",
          "model_name": "HBoxModel",
          "model_module_version": "1.5.0",
          "state": {
            "_dom_classes": [],
            "_model_module": "@jupyter-widgets/controls",
            "_model_module_version": "1.5.0",
            "_model_name": "HBoxModel",
            "_view_count": null,
            "_view_module": "@jupyter-widgets/controls",
            "_view_module_version": "1.5.0",
            "_view_name": "HBoxView",
            "box_style": "",
            "children": [
              "IPY_MODEL_71045efa7f564038b65ab1146a1c3d2c",
              "IPY_MODEL_37077b71dfd546549de8b3241e646742",
              "IPY_MODEL_efbcc337d3bf441f8ee1d54d90d63c3e"
            ],
            "layout": "IPY_MODEL_690f993b65c145d39682a3719a84efbe"
          }
        },
        "71045efa7f564038b65ab1146a1c3d2c": {
          "model_module": "@jupyter-widgets/controls",
          "model_name": "HTMLModel",
          "model_module_version": "1.5.0",
          "state": {
            "_dom_classes": [],
            "_model_module": "@jupyter-widgets/controls",
            "_model_module_version": "1.5.0",
            "_model_name": "HTMLModel",
            "_view_count": null,
            "_view_module": "@jupyter-widgets/controls",
            "_view_module_version": "1.5.0",
            "_view_name": "HTMLView",
            "description": "",
            "description_tooltip": null,
            "layout": "IPY_MODEL_ebc4a0d8b26d48589a68554bedfa3cd2",
            "placeholder": "​",
            "style": "IPY_MODEL_10c66f219aca495890eb0bf8484de053",
            "value": "Epoch 9: 100%"
          }
        },
        "37077b71dfd546549de8b3241e646742": {
          "model_module": "@jupyter-widgets/controls",
          "model_name": "FloatProgressModel",
          "model_module_version": "1.5.0",
          "state": {
            "_dom_classes": [],
            "_model_module": "@jupyter-widgets/controls",
            "_model_module_version": "1.5.0",
            "_model_name": "FloatProgressModel",
            "_view_count": null,
            "_view_module": "@jupyter-widgets/controls",
            "_view_module_version": "1.5.0",
            "_view_name": "ProgressView",
            "bar_style": "success",
            "description": "",
            "description_tooltip": null,
            "layout": "IPY_MODEL_c0a322f26a8b4f6699a77ace6f981467",
            "max": 112,
            "min": 0,
            "orientation": "horizontal",
            "style": "IPY_MODEL_51f909d9610140a2a148667e613950f1",
            "value": 112
          }
        },
        "efbcc337d3bf441f8ee1d54d90d63c3e": {
          "model_module": "@jupyter-widgets/controls",
          "model_name": "HTMLModel",
          "model_module_version": "1.5.0",
          "state": {
            "_dom_classes": [],
            "_model_module": "@jupyter-widgets/controls",
            "_model_module_version": "1.5.0",
            "_model_name": "HTMLModel",
            "_view_count": null,
            "_view_module": "@jupyter-widgets/controls",
            "_view_module_version": "1.5.0",
            "_view_name": "HTMLView",
            "description": "",
            "description_tooltip": null,
            "layout": "IPY_MODEL_a3080d52ba1b4e23995fdd52996375f0",
            "placeholder": "​",
            "style": "IPY_MODEL_8a6fd15c07c04b08a9bf79e6a2e95c05",
            "value": " 112/112 [00:00&lt;00:00, 199.32it/s, v_num=2]"
          }
        },
        "690f993b65c145d39682a3719a84efbe": {
          "model_module": "@jupyter-widgets/base",
          "model_name": "LayoutModel",
          "model_module_version": "1.2.0",
          "state": {
            "_model_module": "@jupyter-widgets/base",
            "_model_module_version": "1.2.0",
            "_model_name": "LayoutModel",
            "_view_count": null,
            "_view_module": "@jupyter-widgets/base",
            "_view_module_version": "1.2.0",
            "_view_name": "LayoutView",
            "align_content": null,
            "align_items": null,
            "align_self": null,
            "border": null,
            "bottom": null,
            "display": "inline-flex",
            "flex": null,
            "flex_flow": "row wrap",
            "grid_area": null,
            "grid_auto_columns": null,
            "grid_auto_flow": null,
            "grid_auto_rows": null,
            "grid_column": null,
            "grid_gap": null,
            "grid_row": null,
            "grid_template_areas": null,
            "grid_template_columns": null,
            "grid_template_rows": null,
            "height": null,
            "justify_content": null,
            "justify_items": null,
            "left": null,
            "margin": null,
            "max_height": null,
            "max_width": null,
            "min_height": null,
            "min_width": null,
            "object_fit": null,
            "object_position": null,
            "order": null,
            "overflow": null,
            "overflow_x": null,
            "overflow_y": null,
            "padding": null,
            "right": null,
            "top": null,
            "visibility": null,
            "width": "100%"
          }
        },
        "ebc4a0d8b26d48589a68554bedfa3cd2": {
          "model_module": "@jupyter-widgets/base",
          "model_name": "LayoutModel",
          "model_module_version": "1.2.0",
          "state": {
            "_model_module": "@jupyter-widgets/base",
            "_model_module_version": "1.2.0",
            "_model_name": "LayoutModel",
            "_view_count": null,
            "_view_module": "@jupyter-widgets/base",
            "_view_module_version": "1.2.0",
            "_view_name": "LayoutView",
            "align_content": null,
            "align_items": null,
            "align_self": null,
            "border": null,
            "bottom": null,
            "display": null,
            "flex": null,
            "flex_flow": null,
            "grid_area": null,
            "grid_auto_columns": null,
            "grid_auto_flow": null,
            "grid_auto_rows": null,
            "grid_column": null,
            "grid_gap": null,
            "grid_row": null,
            "grid_template_areas": null,
            "grid_template_columns": null,
            "grid_template_rows": null,
            "height": null,
            "justify_content": null,
            "justify_items": null,
            "left": null,
            "margin": null,
            "max_height": null,
            "max_width": null,
            "min_height": null,
            "min_width": null,
            "object_fit": null,
            "object_position": null,
            "order": null,
            "overflow": null,
            "overflow_x": null,
            "overflow_y": null,
            "padding": null,
            "right": null,
            "top": null,
            "visibility": null,
            "width": null
          }
        },
        "10c66f219aca495890eb0bf8484de053": {
          "model_module": "@jupyter-widgets/controls",
          "model_name": "DescriptionStyleModel",
          "model_module_version": "1.5.0",
          "state": {
            "_model_module": "@jupyter-widgets/controls",
            "_model_module_version": "1.5.0",
            "_model_name": "DescriptionStyleModel",
            "_view_count": null,
            "_view_module": "@jupyter-widgets/base",
            "_view_module_version": "1.2.0",
            "_view_name": "StyleView",
            "description_width": ""
          }
        },
        "c0a322f26a8b4f6699a77ace6f981467": {
          "model_module": "@jupyter-widgets/base",
          "model_name": "LayoutModel",
          "model_module_version": "1.2.0",
          "state": {
            "_model_module": "@jupyter-widgets/base",
            "_model_module_version": "1.2.0",
            "_model_name": "LayoutModel",
            "_view_count": null,
            "_view_module": "@jupyter-widgets/base",
            "_view_module_version": "1.2.0",
            "_view_name": "LayoutView",
            "align_content": null,
            "align_items": null,
            "align_self": null,
            "border": null,
            "bottom": null,
            "display": null,
            "flex": "2",
            "flex_flow": null,
            "grid_area": null,
            "grid_auto_columns": null,
            "grid_auto_flow": null,
            "grid_auto_rows": null,
            "grid_column": null,
            "grid_gap": null,
            "grid_row": null,
            "grid_template_areas": null,
            "grid_template_columns": null,
            "grid_template_rows": null,
            "height": null,
            "justify_content": null,
            "justify_items": null,
            "left": null,
            "margin": null,
            "max_height": null,
            "max_width": null,
            "min_height": null,
            "min_width": null,
            "object_fit": null,
            "object_position": null,
            "order": null,
            "overflow": null,
            "overflow_x": null,
            "overflow_y": null,
            "padding": null,
            "right": null,
            "top": null,
            "visibility": null,
            "width": null
          }
        },
        "51f909d9610140a2a148667e613950f1": {
          "model_module": "@jupyter-widgets/controls",
          "model_name": "ProgressStyleModel",
          "model_module_version": "1.5.0",
          "state": {
            "_model_module": "@jupyter-widgets/controls",
            "_model_module_version": "1.5.0",
            "_model_name": "ProgressStyleModel",
            "_view_count": null,
            "_view_module": "@jupyter-widgets/base",
            "_view_module_version": "1.2.0",
            "_view_name": "StyleView",
            "bar_color": null,
            "description_width": ""
          }
        },
        "a3080d52ba1b4e23995fdd52996375f0": {
          "model_module": "@jupyter-widgets/base",
          "model_name": "LayoutModel",
          "model_module_version": "1.2.0",
          "state": {
            "_model_module": "@jupyter-widgets/base",
            "_model_module_version": "1.2.0",
            "_model_name": "LayoutModel",
            "_view_count": null,
            "_view_module": "@jupyter-widgets/base",
            "_view_module_version": "1.2.0",
            "_view_name": "LayoutView",
            "align_content": null,
            "align_items": null,
            "align_self": null,
            "border": null,
            "bottom": null,
            "display": null,
            "flex": null,
            "flex_flow": null,
            "grid_area": null,
            "grid_auto_columns": null,
            "grid_auto_flow": null,
            "grid_auto_rows": null,
            "grid_column": null,
            "grid_gap": null,
            "grid_row": null,
            "grid_template_areas": null,
            "grid_template_columns": null,
            "grid_template_rows": null,
            "height": null,
            "justify_content": null,
            "justify_items": null,
            "left": null,
            "margin": null,
            "max_height": null,
            "max_width": null,
            "min_height": null,
            "min_width": null,
            "object_fit": null,
            "object_position": null,
            "order": null,
            "overflow": null,
            "overflow_x": null,
            "overflow_y": null,
            "padding": null,
            "right": null,
            "top": null,
            "visibility": null,
            "width": null
          }
        },
        "8a6fd15c07c04b08a9bf79e6a2e95c05": {
          "model_module": "@jupyter-widgets/controls",
          "model_name": "DescriptionStyleModel",
          "model_module_version": "1.5.0",
          "state": {
            "_model_module": "@jupyter-widgets/controls",
            "_model_module_version": "1.5.0",
            "_model_name": "DescriptionStyleModel",
            "_view_count": null,
            "_view_module": "@jupyter-widgets/base",
            "_view_module_version": "1.2.0",
            "_view_name": "StyleView",
            "description_width": ""
          }
        },
        "8a8834e0381a4502ada135095e38a9cb": {
          "model_module": "@jupyter-widgets/controls",
          "model_name": "HBoxModel",
          "model_module_version": "1.5.0",
          "state": {
            "_dom_classes": [],
            "_model_module": "@jupyter-widgets/controls",
            "_model_module_version": "1.5.0",
            "_model_name": "HBoxModel",
            "_view_count": null,
            "_view_module": "@jupyter-widgets/controls",
            "_view_module_version": "1.5.0",
            "_view_name": "HBoxView",
            "box_style": "",
            "children": [
              "IPY_MODEL_91df484b00004b75a3087a016e30ddb4",
              "IPY_MODEL_5b13ddc1803d4510b7cef391fc90c60f",
              "IPY_MODEL_c6f7cc4086f24c13bcdf60538467bf33"
            ],
            "layout": "IPY_MODEL_eaf13d8b8ebb487a96472792fea09c36"
          }
        },
        "91df484b00004b75a3087a016e30ddb4": {
          "model_module": "@jupyter-widgets/controls",
          "model_name": "HTMLModel",
          "model_module_version": "1.5.0",
          "state": {
            "_dom_classes": [],
            "_model_module": "@jupyter-widgets/controls",
            "_model_module_version": "1.5.0",
            "_model_name": "HTMLModel",
            "_view_count": null,
            "_view_module": "@jupyter-widgets/controls",
            "_view_module_version": "1.5.0",
            "_view_name": "HTMLView",
            "description": "",
            "description_tooltip": null,
            "layout": "IPY_MODEL_78aad8480acd4c5cbe89dc5bf2ead86a",
            "placeholder": "​",
            "style": "IPY_MODEL_5448aeab9bef4c24b82854fc32d3f165",
            "value": "Epoch 99: 100%"
          }
        },
        "5b13ddc1803d4510b7cef391fc90c60f": {
          "model_module": "@jupyter-widgets/controls",
          "model_name": "FloatProgressModel",
          "model_module_version": "1.5.0",
          "state": {
            "_dom_classes": [],
            "_model_module": "@jupyter-widgets/controls",
            "_model_module_version": "1.5.0",
            "_model_name": "FloatProgressModel",
            "_view_count": null,
            "_view_module": "@jupyter-widgets/controls",
            "_view_module_version": "1.5.0",
            "_view_name": "ProgressView",
            "bar_style": "success",
            "description": "",
            "description_tooltip": null,
            "layout": "IPY_MODEL_86cdf1aabdf04e42a3f2e09772e8d699",
            "max": 112,
            "min": 0,
            "orientation": "horizontal",
            "style": "IPY_MODEL_d060844fba9a4bee8a3b9df99e3d8c6c",
            "value": 112
          }
        },
        "c6f7cc4086f24c13bcdf60538467bf33": {
          "model_module": "@jupyter-widgets/controls",
          "model_name": "HTMLModel",
          "model_module_version": "1.5.0",
          "state": {
            "_dom_classes": [],
            "_model_module": "@jupyter-widgets/controls",
            "_model_module_version": "1.5.0",
            "_model_name": "HTMLModel",
            "_view_count": null,
            "_view_module": "@jupyter-widgets/controls",
            "_view_module_version": "1.5.0",
            "_view_name": "HTMLView",
            "description": "",
            "description_tooltip": null,
            "layout": "IPY_MODEL_f4a53f6741d14d989454f69586d47a05",
            "placeholder": "​",
            "style": "IPY_MODEL_412e31e672704bddae165666643ccd72",
            "value": " 112/112 [00:00&lt;00:00, 172.29it/s, v_num=3]"
          }
        },
        "eaf13d8b8ebb487a96472792fea09c36": {
          "model_module": "@jupyter-widgets/base",
          "model_name": "LayoutModel",
          "model_module_version": "1.2.0",
          "state": {
            "_model_module": "@jupyter-widgets/base",
            "_model_module_version": "1.2.0",
            "_model_name": "LayoutModel",
            "_view_count": null,
            "_view_module": "@jupyter-widgets/base",
            "_view_module_version": "1.2.0",
            "_view_name": "LayoutView",
            "align_content": null,
            "align_items": null,
            "align_self": null,
            "border": null,
            "bottom": null,
            "display": "inline-flex",
            "flex": null,
            "flex_flow": "row wrap",
            "grid_area": null,
            "grid_auto_columns": null,
            "grid_auto_flow": null,
            "grid_auto_rows": null,
            "grid_column": null,
            "grid_gap": null,
            "grid_row": null,
            "grid_template_areas": null,
            "grid_template_columns": null,
            "grid_template_rows": null,
            "height": null,
            "justify_content": null,
            "justify_items": null,
            "left": null,
            "margin": null,
            "max_height": null,
            "max_width": null,
            "min_height": null,
            "min_width": null,
            "object_fit": null,
            "object_position": null,
            "order": null,
            "overflow": null,
            "overflow_x": null,
            "overflow_y": null,
            "padding": null,
            "right": null,
            "top": null,
            "visibility": null,
            "width": "100%"
          }
        },
        "78aad8480acd4c5cbe89dc5bf2ead86a": {
          "model_module": "@jupyter-widgets/base",
          "model_name": "LayoutModel",
          "model_module_version": "1.2.0",
          "state": {
            "_model_module": "@jupyter-widgets/base",
            "_model_module_version": "1.2.0",
            "_model_name": "LayoutModel",
            "_view_count": null,
            "_view_module": "@jupyter-widgets/base",
            "_view_module_version": "1.2.0",
            "_view_name": "LayoutView",
            "align_content": null,
            "align_items": null,
            "align_self": null,
            "border": null,
            "bottom": null,
            "display": null,
            "flex": null,
            "flex_flow": null,
            "grid_area": null,
            "grid_auto_columns": null,
            "grid_auto_flow": null,
            "grid_auto_rows": null,
            "grid_column": null,
            "grid_gap": null,
            "grid_row": null,
            "grid_template_areas": null,
            "grid_template_columns": null,
            "grid_template_rows": null,
            "height": null,
            "justify_content": null,
            "justify_items": null,
            "left": null,
            "margin": null,
            "max_height": null,
            "max_width": null,
            "min_height": null,
            "min_width": null,
            "object_fit": null,
            "object_position": null,
            "order": null,
            "overflow": null,
            "overflow_x": null,
            "overflow_y": null,
            "padding": null,
            "right": null,
            "top": null,
            "visibility": null,
            "width": null
          }
        },
        "5448aeab9bef4c24b82854fc32d3f165": {
          "model_module": "@jupyter-widgets/controls",
          "model_name": "DescriptionStyleModel",
          "model_module_version": "1.5.0",
          "state": {
            "_model_module": "@jupyter-widgets/controls",
            "_model_module_version": "1.5.0",
            "_model_name": "DescriptionStyleModel",
            "_view_count": null,
            "_view_module": "@jupyter-widgets/base",
            "_view_module_version": "1.2.0",
            "_view_name": "StyleView",
            "description_width": ""
          }
        },
        "86cdf1aabdf04e42a3f2e09772e8d699": {
          "model_module": "@jupyter-widgets/base",
          "model_name": "LayoutModel",
          "model_module_version": "1.2.0",
          "state": {
            "_model_module": "@jupyter-widgets/base",
            "_model_module_version": "1.2.0",
            "_model_name": "LayoutModel",
            "_view_count": null,
            "_view_module": "@jupyter-widgets/base",
            "_view_module_version": "1.2.0",
            "_view_name": "LayoutView",
            "align_content": null,
            "align_items": null,
            "align_self": null,
            "border": null,
            "bottom": null,
            "display": null,
            "flex": "2",
            "flex_flow": null,
            "grid_area": null,
            "grid_auto_columns": null,
            "grid_auto_flow": null,
            "grid_auto_rows": null,
            "grid_column": null,
            "grid_gap": null,
            "grid_row": null,
            "grid_template_areas": null,
            "grid_template_columns": null,
            "grid_template_rows": null,
            "height": null,
            "justify_content": null,
            "justify_items": null,
            "left": null,
            "margin": null,
            "max_height": null,
            "max_width": null,
            "min_height": null,
            "min_width": null,
            "object_fit": null,
            "object_position": null,
            "order": null,
            "overflow": null,
            "overflow_x": null,
            "overflow_y": null,
            "padding": null,
            "right": null,
            "top": null,
            "visibility": null,
            "width": null
          }
        },
        "d060844fba9a4bee8a3b9df99e3d8c6c": {
          "model_module": "@jupyter-widgets/controls",
          "model_name": "ProgressStyleModel",
          "model_module_version": "1.5.0",
          "state": {
            "_model_module": "@jupyter-widgets/controls",
            "_model_module_version": "1.5.0",
            "_model_name": "ProgressStyleModel",
            "_view_count": null,
            "_view_module": "@jupyter-widgets/base",
            "_view_module_version": "1.2.0",
            "_view_name": "StyleView",
            "bar_color": null,
            "description_width": ""
          }
        },
        "f4a53f6741d14d989454f69586d47a05": {
          "model_module": "@jupyter-widgets/base",
          "model_name": "LayoutModel",
          "model_module_version": "1.2.0",
          "state": {
            "_model_module": "@jupyter-widgets/base",
            "_model_module_version": "1.2.0",
            "_model_name": "LayoutModel",
            "_view_count": null,
            "_view_module": "@jupyter-widgets/base",
            "_view_module_version": "1.2.0",
            "_view_name": "LayoutView",
            "align_content": null,
            "align_items": null,
            "align_self": null,
            "border": null,
            "bottom": null,
            "display": null,
            "flex": null,
            "flex_flow": null,
            "grid_area": null,
            "grid_auto_columns": null,
            "grid_auto_flow": null,
            "grid_auto_rows": null,
            "grid_column": null,
            "grid_gap": null,
            "grid_row": null,
            "grid_template_areas": null,
            "grid_template_columns": null,
            "grid_template_rows": null,
            "height": null,
            "justify_content": null,
            "justify_items": null,
            "left": null,
            "margin": null,
            "max_height": null,
            "max_width": null,
            "min_height": null,
            "min_width": null,
            "object_fit": null,
            "object_position": null,
            "order": null,
            "overflow": null,
            "overflow_x": null,
            "overflow_y": null,
            "padding": null,
            "right": null,
            "top": null,
            "visibility": null,
            "width": null
          }
        },
        "412e31e672704bddae165666643ccd72": {
          "model_module": "@jupyter-widgets/controls",
          "model_name": "DescriptionStyleModel",
          "model_module_version": "1.5.0",
          "state": {
            "_model_module": "@jupyter-widgets/controls",
            "_model_module_version": "1.5.0",
            "_model_name": "DescriptionStyleModel",
            "_view_count": null,
            "_view_module": "@jupyter-widgets/base",
            "_view_module_version": "1.2.0",
            "_view_name": "StyleView",
            "description_width": ""
          }
        }
      }
    }
  },
  "cells": [
    {
      "cell_type": "markdown",
      "metadata": {
        "id": "view-in-github",
        "colab_type": "text"
      },
      "source": [
        "<a href=\"https://colab.research.google.com/github/Series-Parallel/Machine_in_Deep_Learning/blob/main/Multiple_inputs_and_outputs_Neural_Network.ipynb\" target=\"_parent\"><img src=\"https://colab.research.google.com/assets/colab-badge.svg\" alt=\"Open In Colab\"/></a>"
      ]
    },
    {
      "cell_type": "markdown",
      "source": [
        "![image.png](data:image/png;base64,iVBORw0KGgoAAAANSUhEUgAAB4AAAAIcCAIAAACYXCQOAAAgAElEQVR4AeydB5xbxbX/hYFAHgnwARIgyT/lhSS8JDwSEvJ4SQi8Rx42BkyzHcDU0GuooQQCBAiEUI0TJ2C87n2llbb3vpJWbSWteu+9t9vvP1djbm6k3fXuuuA1Zz76rOfOnDkz873yrvTT0RkRCwUIAAEgAASAABAAAkAACAABIAAEgAAQAAJAAAgAASAABIDAQSAgOgg+wSUQAAJAAAgAASAABIAAEAACQAAIAAEgAASAABAAAkAACAABFgRoeBIAASAABIAAEAACQAAIAAEgAASAABAAAkAACAABIAAEgMBBIQAC9EHBCk6BABAAAkAACAABIAAEgAAQAAJAAAgAASAABIAAEAACQAAEaHgOAAEgAASAABAAAkAACAABIAAEgAAQAAJAAAgAASAABIDAQSEAAvRBwQpOgQAQAAJAAAgAASAABIAAEAACQAAIAAEgAASAABAAAkBgQQrQDMPgOI5hGNw/IAAEgAAQAAJAAAgAASAABIAAEAACQAAIAAEgAASAABA4bAksSAGapulYLKbT6XAcP2zJwsKAABAAAkAACAABIAAEgAAQAAJAAAgAASAABIAAEAACn3ICC1KAZlk2l8up1Wqv1/spv3+wfSAABIAAEAACQAAIAAEgAASAABAAAkAACAABIAAEgMBhS2CeAjRTLZ/grgiCcLlc4+PjFEV9gss4UFNTFMUwzIHyBn6AABAAAkAACAABIAAEgAAQAAJAAAgAASAABIAAEAAChwOB+QjQDMPkcjmlUpnJZD7BPWQyGYVCEYvFPsE17P/UGIZptVq9Xl8qlfbfG3gAAkAACAABIAAEgAAQAAJAAAgAASAABIAAEAACQAAIHD4E5iNAsyyL47hOp+vv7y8UCp/UZiqVisViMRqNCzd2uFKpaDSa7u7uSCRC0/QnRRLmBQJAAAgAASAABIAAEAACQAAIAAEgAASAABAAAkAACBwMAvMUoFmWLZfLY2NjIyMjGIYdjJXt0yfDMLFYTKFQLNDYYZqmDQZDZ2en1+slSXKf+wUDIAAEgAAQAAJAAAgAASAABIAAEAACQAAIAAEgAASAwMIiMH8BmmGYfD4/MDCg0Wg+qUTMhULBYDCEQqGFBZ1lWYZh3G53d3e3w+EgCGLBrR8WDASAABAAAkAACAABIAAEgAAQAAJAAAgAASAABIAAENgngfkL0EhFTaVSvb29NpvtE8kgQZJkKBSyWCz73OdhZYBit3t6eoxGY6VSOazWBosBAkAACAABIAAEgAAQAAJAAAgAASAABIAAEAACQAAIHCgC+yVAsyxL03Q0Gu3r6wuHw59ILuZisehyuRaWjFsqlUZGRjQaTbFYPFA3EvwAASAABIAAEAACQAAIAAEgAASAABAAAkAACAABIAAEDjcC+ytAIw06HA6Pjo7m8/lDvz2CIGKxWCaTOfRTz29GmqaNRqNSqfxEcM1vzTAKCAABIAAEgAAQAAJAAAgAASAABIAAEAACQAAIAAEgMA8CB0CARhp0PB43m82fSDpjkiQXUAR0JBJRqVSpVOoTCRifx1MEhgABIAAEgAAQAAJAAAgAASAABIAAEAACQAAIAAEgAATmR+DACNAoH3SxWMzlcvNbx6dkFEEQDocjnU5/IimzPyWQYZtAAAgAASAABIAAEAACQAAIAAEgAASAABAAAkAACBwmBA6YAH2Y7OcwXwaGYZVKBdTnw/w2wfKAABAAAkAACAABIAAEgAAQAAJAAAgAASAABIAAEDggBECAPiAYwQkQAAJAAAgAASAABIAAEAACQAAIAAEgAASAABAAAkAACNQSWNgCNMMw9McFUirX3lu4BgJAAAgAASAABIAAEAACQAAIAAEgAASAABAAAkAACHyiBOYpQCPVd04rR2IxRVFoLPVxQZdIPp69iMwwDEEQyWTS5XLZbDafz5fL5SC1xZzuCBgDASAABIAAEAACQAAIAAEgAASAABAAAkAACAABIAAEDiqBOQvQFEVls1mXy+VwOIrF4syLQ6IzQRClUimZTPr9fovFYjAYJqrFaDSaTCa73e7z+aLRaD6fx3EcKdT7dJvP5zUazeDg4OTkpMvlMpvNKpUqEAiQJDnz2AXXKxTlGYahKKpUKhUKBcRqwW0HFgwEgAAQAAJAAAgAASAABIAAEAACQAAIAAEgAASAwKeHwNwEaIqiAoGAXC4Ph8NOp1Or1VIUNSUsmqYrlUoul/N6vRqNZmhoqL29XSaTSSSSxn8tEolEKpW2trb29PQMDw/r9fpAIFAsFkmSZKql3n+xWNRoNMPDw/l8nu8tl8uTk5OBQGCucdDCPB4oHJv/Od0C+EkPeAXNiH7SNE2SZDweJwiCZVmGYbLZrF6vV6vVZrPZYDA4nU4cxw/4GsAhEAACQAAIAAEgAASAABAAAkAACAABIHCwCZAkOTo6unnz5pdeeunhhx/+05/+tHPnTrVaLQxEO9hrAP9AAAgAgUNAYA4CNMMwuVyur68vEomwLIth2Pj4eH0QNEVRhULB5/Op1eru7m6ZTNbY2CgWi5uamqRSaXNzc1tbW2e1dHV1tbW1NTc3S6XSpqYmiUQirhaZTNbV1aVSqSKRCI7jNSowEsF7e3tDoVANoEgkYrfbhap0jUH9JU3T6XTa6/X6/X6fz+d2u10ul9vt9ng8Xq83GAzm83mSJHEcxzCMJEmapuv/EtSssN4AzcsnIfk4+whFkiRBEBiGVSqVYrFYKBSy2WwymYxGo+FwGAWMt7W1mc1mgiCy2ezIyIjP50NR3gRB6HQ6p9N55AV9198maAECQAAIAAEgAASAABAAAkAACAABIHDEECgUCu+8887XvvY10VTlnHPO2bVr13TawhEDATYCBIDAp4fAHARoiqI8Hk9XV1elUmFZtlQqKZXKcrnMw0JRz8FgUKVStbe3IzVZKpUiNdlut0ej0VwuV6lUiGrBcbxSqeTz+UQi4Xa7JyYmBgYGWlpampqa0NjW1laVShUOhyuVCv+bF8dxq9Xa19dXLzRns1mbzRaNRvkl7bOSz+fVavXExEShUCiVSvl8PpPJJJPJeDweCoX0er1SqbTZbH6/3+Px2O12p9OZyWSEmi9N05lMJpVKEQRB03SpVMrlcihFRo1anclk7HY7ykCi0+m0Wq1Go1Gr1SqVanx8XKlUqj8uWq3WaDROVktrtcRiMaVSabfbhVNnMhmVSoVh2D63CQZAAAgAASAABIAAEAACQAAIAAEgAASAwOFAIBaLnXXWWVMpz//StmTJkum+dD7XXSxfvvzKaonFYnMdC/ZAAAgAgf0nMAcBmiRJu93e3t6eTqdxHPd6vUajkdeFSZKMRqNGo7GnpwfFMre0tCiVSr/fP3uFlKKoXC7ndDpHRkaam5uRn+bm5tHRUa/XW6lUaJomCMLpdPb29qZSqZr9p1Ipi8USDAaLxWK5XCZJEmWU5hdZY8+ybDAYHB4etlgsSDJGscwUxcUmZzIZnU7X19fn8XiQB6QvBwKBcDjM574IBAIul8vj8QSDQZSNGl26XC6fzydUqyuVSjKZTCQS6XQ6l8uhReI4jtZZE0bNLzUcDicSiVwu19PTk0qlhHtJpVJqtXr2eHmfUAECQAAIAAEgAASAABAAAkAACAABIAAEDj2BQqHwox/9iFeaTzvttPvuu+/tt9/+y1/+8tRTT/3sZz/ju0Qi0W9/+9sDssLPfvazyK3H4zkgDsEJEAACQGBOBOYgQNM0HY1GW1tbBwYGDNWCQqFZliUIwu/39/f3y2QysVgsk8lUKlUymZzTUoTGFEUlk0mdTtfW1oZk6La2NpSUA8OwRCLR399vMpmE6Z4ZhnG5XEajMRaLOZ1OjUaj0+nMZrPH40kkEsVikSAIXo9mGAblvohGoxMTEwqFor+/Xy6Xx6tFpVINDQ0pFIqhoSGVSpXJZFAKZj6iOVotKDWz1Wp1u91er9disYyMjCQSCaQRMwxTqVSCwWAgEOBBCfeIMnLk8/lwOOzxeEKhUKFQmO7jzXw+39XV5fP5kAE6jVCv10MKDiFSqAMBIAAEgAAQAAJAAAgAASAABIAAEDicCbz88su8xHzffffxwW38moeGhs444wzeZmRkhO+adwUE6Hmjg4FAAAgcEAJzEKBZliVJ0uVyoVwQSH5F6rPdbu/v75dUS29vbzAYFAbqznuhKLuFVqttaWkRi8USiaSzs3NiYiKdTrtcru7ubnQKH0VRBEHE43GVSsVPTZJkoVCIRqMOh0Ov16uqZWJiwmazhUKhXC7n9/u1Wm04HEZirtVqVavVqVTK5/Pp9frJyUmPx+N0OpFPFN/tcDgymQzDMMVi0ePxlEollIrEYrE4HA6bzSaXy0OhEEoVzYvj0Wi0PgycYZh8Pm82m9HBiSjvM5Kh6yOa0QpHRkZ6enoikQg63XFyclKn000pbc8bOAwEAkAACAABIAAEgAAQAAJAAAgAASAABA4egUsvvRSJyxdeeOF0yolSqTzuuOOQ2Ysvvrj/iwEBev8ZggcgAAT2h8DcBOj6mXAc93g83d3d6JhBhUJRfyxh/ag5tVAUFY1Gh4eH+VBovV6fTqc9Hs/g4ODo6KhOpxsfH1coFNFolJd9a6ZA2TPi8bjT6TQYDBqNpr+/XyqVyuXybDaby+XUarXVakUHEqKQZ5Zl0+m0w+FIpVK5XM5qtQ4PDxuNRhzHI5GIx+OpVCokSfp8Po/HMzk56ff7FQqFUqnM5/N+v99utxcKBRTmbLPZUC4OgiBIkkTHOapUKrfbjfJfBwIBpDsnEgl09CK/fpIkY7GY1+t1OBwDAwMdHR19fX1jY2Mej0eYD5q3hwoQAAJAAAgAASAABIAAEAACQAAIAAEgcBgSoCjq85//PFKWX3755RlWeNVVVyGzJUuWzGDGsmwymUyn0zPbzEmAJkkyHA7P7LCmN51ORyKR6b7SXWOMLovFYiAQqD/ca0pjaAQCQGChE9gvAbpcLlut1s7OTpR2Y2Ji4uBJopVKxWKxtLW1icXi1tZWtVqdTCYxDEulUqFQKJlM1n9vZYZ7Q9N0OBweHR0dGxuLRqNer1epVEaqJRAIoOBuFO7tcrkIgigWi+gcwlQqFY1GLRZLLpdjGAZl8EgkEk6ns1Ao6PV6r9dbLpctFsvg4KDFYkHHJzocDm+1oEDpfD5vMBjcbncymdTr9XK5vLu72+FwlEqlVCpltVoLhQLLsjRN4zju9/s7OztlMlkkEsEwLJ1OZ7PZg8d5BmjQBQSAABAAAkAACAABIAAEgAAQAAJAAAjMm0A6nUayskgkevLJJ2fw8+GHHyLLU045pd6MYZh169Zdd911X/3qV5HZCSecsHTp0q6uLqHxgw8+eEm1LFq0CJn96Ec/Qi2dnZ1CS5Zl//GV63vuuef8888//vjjRSLRySef/D//8z+PPfaY1WqtsUSXBEHs2LHj4osv5iX1RYsWnX766bfeeuvo6OiUQyqVykcffXTBBRecfPLJPIfjjjtu8eLFDQ0NUw6BRiAABI4MAvMXoMvlssFgaG1tlUgkUqlUq9UebFWUIIhAINDb24tmHB0dTSaTwpBndEThLD9zQ/IuQRCVSkVfLfl8PhAI8GfCJpNJs9nMX6KkGW6322az5fN5plqMRqPb7Y5Go2igQqFAsrjD4dDpdKFQCMOwbDar1WpHRkZSqVSpVIpGo4lEQq1WZ7PZUChks9mQh2Qy6XQ67XZ7KpUiSZIgiEQiodfrdTqd1+s1mUz1qTmOjKcg7AIIAAEgAASAABAAAkAACAABIAAEgMCnhMBZZ52FtNcvfelLoVBohl0jZaBeaYnH40uXLuUF3JrK+++/z/u84IILanr5S6EZQRCPP/74UUcdxfcKKyeccEK9OlwqlS6++GKhWU39z3/+M78MVPH7/bxcXmOMLu+5557pcpLUuIJLIAAEFhyBeQrQGIZNTk62tra2tLRIJJKRkZFDI49SFBWPxwcGBiQSSVNT0+joaDqd5n9D4TgeDocjkQifn3o29yMajY6Pj/t8vkwm4/f70RdASJJ0Op02mw3DMBzHMQwjCMLn89lstnK5jGYsFAooENvv9ycSCbPZrNfri8UiRVGVaimXy+FwWKfTyeVynU5XKBQikUgmkwkGgzqdLp/Po9jqfD6PPMdiMfSnpVgsmkwmtVodCoVmqafPZqdgAwSAABAAAkAACCxEAjjJUDSDU0z94rmDImiunTMgmRLBeDN0KMcUce6RLnO9XO6vCjMRpi1x2p+lowUmXuQe4Tzjz9KuFG2O0YYoNyqPcR5cKVob4lo8abpMMCTNhHKMPkIPeah2G9VqpTQhejJKq4P0iJfqc1GddqrFSknNlHiS3G0kdxr2PnYZyD2TpNhEyixUm43qdlCDHkrhpybCtDVOyyzUGjkxHqCSpb2L5HeHk4w6SEvNVB6bYsu8GVSAABAAAkAACCxEArfffjsvv5500kmrV69OJBKz30gsFjvzzDN5D6eddtpFF130ne98h49xFolEq1evRg5nI0BTFPXTn/6UdygSib7+9a9fdNFFp512mrDx8ccfFy5yxYoVfO/nP//5Sy655Iorrjj77LP5xqOOOkomk/FDcrncd7/7Xb5XJBJ961vfuvzyy8855xxho1Qq5YdABQgAgSOJwHwEaJIk3W63TCZDCTE6Ojrm9OtyP/HRNJ1KpQYHB8VicUtLi06nQ4cBIrelUsnj8QQCARzHeWF6hhkpirLZbGq1Op1OR6NRXvBNpVImkykcDhMEYbPZ9Hp9LpejKCqdTvv9/kKhQFGUx+PR6/WFQsHpdMbjcYVC4fP5CIIIBoMGg2F8fHxoaGh0dNTn842Pj/v9/nK57PV6S6VSKBTSaDS5XA6dbWi322tE80gk4vf75ySjz7BH6PpUEUilUrYZC5/i/LDFkslk0A5yudxhu0hYGBAAAkBgnwQSRUZsIjdpOQU2UdwrpA64qWYLNR6g3h0lPGmaoplUidOCux3ULgO5Rk681EvcLcE3ajkNd8U27Lqt2OuDxOuDxJ1i/MVe4ukOfOU27Nbd2N0S/JEW/L1R4vE2/I5GfHEDtrgBu2YL9mwXfod47+XK7VzjLB+XbcCWbpja+LJp2mfpeWazyzZgbwwRf1WQnXaKRxrOM7ECM+r9ZwtS2Iv4Ya1Hp8uH9fJ4vFABAkAACACBT5aAxWI5/fTTharrokWLLrjggmeeeUYmk8Xj8ZmXx+vXJ5988tatW3ljh8Px85//nHer1WpZlsUwrFwtKKuGSCSyWCyohY91W7t2LT/qP//zP00mE+9TJpOdeuqpqHfRokUGgwF1YRjGO7z77ruF8YjDw8Nf/OIX0ZDrr7+ed7Vlyxbez5o1a4TbVCgU/CwzpyXhvUEFCACBBUdgzgI0wzCpVKqjo6OlpUUmk0mlUqPReIi3TdN0IpHo7e0Vi8VtbW1Wq1X4+65SqXg8Hq/Xi/Ivz7y2YrGo1WpVKlU4HPb5fKlUinuHQ1FOp3NycrJYLKZSKb1e39fXNzExgc5XzOVyLpcrGo2q1Wqv11soFDwej8vlUigUmUwGwzCz2WwwGCwWC0rBkUwmlUplOp2OxWKhUAjH8XQ6LZfLE4kEEtoymQxBEOVyuf6bNTMvHnqBQD2B1157jX/1MF3lC1/4wk9/+tMNGzbUDz8cWh555BG08t///veHw3pgDUAACACBeRCQmimkCF+5CVu1E3tzmHiln/ibknx7hHimE792K3bFJuyPA8QD0r1i8U27sFt2Yzftwu5twq/bOrUQPLOSuxB7n+3E723CPxjn1OdQjrEnaRTy7EnT2/SkMkDJLJxe3+2gepzUE234DTswTYhGt6OAMaogrQvTsQIn+9IMF/GdKDKBLO1M0qYY16XwczHXfS4qXWYIivPvz9DpMhPJc1HeBYyzr1RDvFmWzZQZQ5QLEi8TjC3BBYaPB7hYb2+GDmS58PB4ESVg4/w4knSyxGQqTLLEuNPcdBhZq5jP42kDQ4AAEAACQOBTQmBycvIrX/nKlO/XjjrqqB/+8IfPPPMMUpBrgCgUCpQoY9GiRfV5lkmSPO+885Dbe++9Vzh2ukMI8/k8rxf/+Mc/rlQqwlEsy3q9Xj7F86WXXop6h4eH+cW73e6aITt37kS9Z5xxBt911113ocb777+fb+Qrzz33HOq95JJL+EaoAAEgcCQRmLMAjWHY+Pg4Un4bGxu7urrQiXlzgoKSNWPVQhAESZKziVYWTkFRVCgUam9vF4vF3d3dHo9HmAwawzCfz+d2u4tF7r2CcCCqMwxD0zRJkpVKJRQK6fX6iYmJQCCAhGwcxy0Wy9jYmMfj8fl84XDY4/H09/ebzWYMw1B2DoPBMDY2lk6nE4mEz+dTKpVms7lcLsfjcaQy8xOZqqVYLDqdzkwmg+bVarUmkwkJ3Oh4w8nJyUgkAhp0/c2CljkRmI0Azb9W+PnPfz5z0rFZTv2LX/zih9Xi9XpnOWQGs4ceegit8Nlnn53BDLqAABAAAoczgViBGfNRW3SkL0MT1dQZkTwjMZG6MN1pp1wputlC7TGSv+8mXuwl7pfid0u4x/1S/NV+4sUe4kEZvmon9lQH/ko/8Yc+4nddxMPN+ANS/Jbd08Yp/2o79toA8doA8ZCMs/xNC75i28ITsq/bygV337gTmy7s+qrN2F3iWo3+mi3T7vTyjdjte6Z2uPJjPiu2YS/2cpDvbeI+D3iqY++nAvWa/tWbuTDz+vYGDWmKcXf2cH5OwtqAABAAAkDgsCKA4/jGjRt/9KMf8e/O6iuXX365Wq0WLvvOO+9EZrfddpuwna+rVCpkcOKJJ6IQOtQ1nQDd0NDAzzs8PMz7EVb++Mc/8jYul4tl2UAgwCeMfvzxx4VqDMuyhULh3Wr56KOPeEHm5ptv/km1dHR0CJ2j+gsvvICm+MUvflHfCy1AAAgcAQTmJkDTNB2JRJqamtAxgE1NTTqdbk4UGIbBMCwWixkMhtHR0aGhIaVSabfb0+n0XGVoHMftdru0WhQKBcrdzC+GIAi/3+90OguFAv8rD/UyDFMqlVCaC7/fHwgEQqFQJBJJJBLZbLZSqSBh2uPxqFQqu91eKpVwHDebzb29vQ6Hw+Vy+f3+iYkJo9FYKpWCwaDL5erv7/f5fBiGeTyedDrN//4tl8tyuTwcDqfTaZfLVSgUyGqJx+MjIyMWi6VQKCAJPlgtOI7zW4AKEJgHAV6APvroo//rX8uPf/zjM888k3+hgP7AL1u2bB6z1Aw56aSTkDebzVbTNY9LEKDnAQ2GAAEgcGQQiBe5VMsNGi7/hthEPtTMpdd4UMap0s904qYYfZcYn1IAXbmdE0Yv3ziFNlqvlkLLASfwxwGi2UKhZNwH+6lI0EQBz8HjoBKgmb2B9gf7boJ/IAAEgADLstFodOvWrXfdddf3v/99YR5n9A7ruOOOGxwc5EHxyZobGhoK05QTTzwRjW1vb+cHTidAP/3008j4/PPP541rKqVSiV9YW1sb6v2v//ovNFAkEp177rlvv/22xWKpGTiby0gk8v77759yyinIGwjQs4EGNkBgIRKYmwCNwp8bGxslEglKwRwOh2e/bYZhisXi5ORkc3Nz47+WtrY2o9GYz+d56XY2bguFgkKhEIvFnZ2dHo+nRmgmSTIYDDqdzlwuJ3RbKpWMRqNer0+lUsVisVQqFYvFXC6XTCZDoZDX6w0EAigtBkVR/MBCoaDRaLq7u81mcyaTkcvlHo+nXC4Hg0GPxzM6OiqXy81mMxKs+cWjBNC5XM7n89nt9kAgEA6H/X6/1Wq12+1arVaj0dhsNq/Xa7fbE4kEREDz6KAyPwK8AH3SSSdN6aFcLr/33nt8ji2RSLT/5zyAAD0lamgEAkAACMyJgCvFHfr37ihx+55pI3APuHIKDg8IgT8NEjUZq+d06+dk3O+VLRefB4+DSiCQq/06+ZzuERgDASAABOZNIJfL7d69+4YbbjjhhBN4effkk0+22+3IJ//Oi++doSJMujidAH3NNdcgD7feeusMy/7GN76BzN555x1ktnv3bj4NNL+GU089ddmyZe+///4MX421Wq3r1q279957L7rooi984Qv8WFQBAXqGuwBdQGBBE5iDAM0wTCaTaWlpQQI0yr9RnyFoBhwYhlmt1qampn8Vn/deSSSS4eHheDzOa77TuUIZPNBpfkiAbm5unpycrBGgUTbnSCTicDjS6TSf6yMUCimVSr/fP6V/hmHK5XI0Gg0GgzXR06lUyul0lsvlfD6v0WiUSqXBYECBzxiGRSIRj8cjFLspilKr1VartVwuV6oFwzCiWpxOJwqULpfLuVwun8/zNqhSv5cpVwuNQKCGwD4FaGTf39/Ph0Lfc889NU7mesm/DIII6LmiA3sgAASOJAIVcoqsX7PcYKrEvD9GjAcoW4K2Jui1SvKRFnyTlmyxUhu1ZIOGfLYTv30P/kQb/toAsaQBW7GNSy29uIE7pfBuCf5sF75eTY54qYkwl9zjnmoWi6c68HUq8tku/OFmfKeBXKsg75aAtH1QgsRXjxGHJvyZZVkkQF8v+cmtzRfB44ATWCH+0XLxeSBAz/IXF5gBASBw8Ai43e4LLriAF2dfeeUVlmXj8TjfMpvKG2+8wa9wOgGan+WZZ57hjesrv/zlL9GMDz30EN9rMpmEcdDCJR199NE333xzNBrljVmWbWlp+clPfiI0q6+DAC0kBnUgcCQRmIMAjY7mQ2qxpFrGxsZmr5MyDBOPxzs6OqZUn1GjWCzu7++Px+NTumUYhiRJlGfZZDL19/cjLVsikXR3d3u93ilH0TQdi8XMZvPExITb7S6Xyw6HQ6FQxGIxXummabpUKuXzeQzD0FGwSG33+/0osweamiAIHMeRZJxKpbLZbLFY5I+OrX9aZLPZoaEhm80Wj8eTgoI08WKxSNM0wzAURaEwao/H43a7bQhIOr8AACAASURBVDabXq8XHqtY73nmFiTQQzD1zJSO1N5ZCtAsy/7v//4v+nt/0UUXTUeDJEmDwaDX69Pp9HQ2LMvOUoBGvwR0Op1KpXK5XMKUZELnkIJDSAPqQAAILBQCJYJps+1NAYxT3Nl0BMUdcEfRDE4ys9GmUQR0q5V6ugO/eRcnKz8ow++T4n/oJXYayDeHiVf7iUdb8V4n9VwXsV5N/q6L+H03cf0OToy+Q4wrA1zK6Udb8Ss2cRrrZRuwLTpy6wS5RUe+3MeZCUN9r/g4WceSBi53xzVbsCs2YksaOJsrN2FXbd5rvGIbdtse7J5qfuo7GrkzAJGTa7Zwy3tAxgnfQrfT1a/bir3aT9y0ixvOOxcaX7t12tzWl2/kFlCz/sUN2Mrt2P1S/CEZtyokx/+2Hb9sA5ch+s1h4m4JftVmbFkVxa8bObNlm7FX+ok3hojnu4llm7A/9BJrleTflORrA8R2PfnBOPmhivxtO/5iL7F8GwcBbXbVTuyNIWLYQ23Skm8MEbuN5OOtXF4UsYlU+Ck+Hco6FXnInqhIgH5fDef0HhTkv+m+FgTog0IWnAIBIPAxgUceeeSyahGGJ3/c+S//YhjGv8+6/PLLWZYlCOKYY45Bb+K++93vXrqv0tTUxHucToC+6KKLkMNHH32UN66v/PjHP0Zmzz//fE2v2+1evXr1lVdeyafRQJYoNUc2m0X227dv50OgRCLRGWeccfXVVz/xxBMffvihXC7ftm0bGgUCdA1euAQCRwyBOQjQOI6Pj4/zSvFcE0ATBGGz2cRisUQiaWtra21tlUqlYrG4Ro+WSCQjIyPChM5IosUwLJVK2e324eFhmUzGL6O1tXVsbMzv98+QPZlhGJfL1d7eLpfLU6lUIpFQqVQajSaTyaAbWSgUJiYmuru7FQpFKBRC0i065zASidA0jXJoOBwOW7U4nc6JiYlsNstL3jRNU9XCt7Asm8/nnU6n+eMyOTlps9ncbncgEIjH45lMJpVK5fN5j8ej0WhyuRzLsgzDhMNhn883P/mYoigMw6LRqNlsdrlcBEEcMc9U2MgsCcxegH7ggQfQ3/gvfelLNc5JknzllVf++7//m3+ZIhKJvve9733wwQdCy5tuuuk71cJnBDvzzDNRy44dO4SWSqVy1apVQm8ikejYY49dsmRJS0uL0JJlWRCga4DAJRAAAguCAMMwmtDevLF5jOlyUKYYl825RDA9Tk4aDuWmjY+mGcYSp3Vhmo+ijRYYdZAe9VEKP2WIcKk50mVOy0YvFRxJuojv9Zap/IvbWIHRhmhNiO53cYccNluoHXryz0PEJi3pStGNk6TUTOUxpttB3SfFt+nJLgeFVQO340Vm1Ed9pCZf7OVk7me78N1GLgr7QRku91PGKP2RmlyvJv/QR9zRyB1yuG2CfKWfuG0Pdv0ObPk2TgtGwdpr5MRv2/FHWvC/j5MojvutYaLNSrnT3Kqe6yKkZmqngbTGaYxkxJMkF9+tJtttlNRMdVehRQuML0MPe6heJ6UK0mWC22CyxHjSdLzIZCpMtMB4M7NK0RvKMfXYSZoJ55l4cS/P+mdXAWNKBGNP0NHCXrauFN1mpdRBLjjdlaL7XNQfeglVkEaHFi5uwD4YBwG6HuSCbAEBekHeNlg0EFhQBG655Rb0LmzJkiX7XPivfvUrZHzmmWci47PPPhu1tLa27nO40IB/L+bxeITtd999N3KING5hl7DO55XesmWLsF1YZxjGaDQ++uijvLFIJHr77beRNnLcccehib75zW8ODw8LlROWZXft2oV6QYAWIoU6EDiSCMxBgC6Xyz09PbzyK5VKTSbT7FmUSiWVStXY2NjR0eHxeBKJhF6vb29vl0gkNRq0TCYzGAxI0sVxPJfLud1uuVze1tYmFKxR4LPb7UZhyDW/v4QLIwjCbDa3tLT09/eHQiGKoiwWi16vL5VKyCwej9tsNrPZ3N/fj9KAsCyLYZjP54tGo9ls1mq1+v1+DMN4XRil9UAx1BiGJRKJWCwWj8dzuRwfE03TdLlcTiQSoVDI5/MZjcZYLEYQRDgcdrlcPp/P7XYbDIbh4WGr1YpCnguFgt1uLxQKwvXPpk5RVLlc9nq9IyMjHR0d3d3d4+Pjc0qQMptZwObwJzB7Afrmm29Gf+PPPvts4b7cbvd0X6QSiUSPPPIIb/yLX/wCeaj/+dZbb/Fmb7/9dr0B37Jo0aL169fzxiBAC1FAHQgAgYVFwDc7VfQT3JQ1Tvc6qVCO2aEnJ8L/ouHGi5xWG8xxqmuswDiTdCTPGCJ0u40iqH9q3LkKM8MrrrlujZfR5zrwE7efjNJvDBF8EPdbw4fuI3+IgD6odx8E6IOKF5wDASDAsuz777+P3gqdfPLJM0TRIVZXXnklMv7mN7+JWviUzSgpx5RI169f/84777z77rsoyg3ZTCdAv/nmm2iKU089VWgv9CyXy/m3b+Pj4yzL9vX1ra0Wg8EgtET1ZDL5rW99Cw259tprufxR/f28B4fDUT+Ef88IAnQ9HGgBAkcGgdkK0AzD5HK5lmoC6MbGRrFYLJVKrVbr7CkUCoWxsbHGxsbu7u5EIoESNEej0YGBgXoNuqurK1AtarW6o6NDqDujqVE4M1KT97kGhmFSqZTD4XC73blq0Wq1DocDyccMwyQSCa/XG4lELBaLyWRCJxCitBj5fN5isWi1WmFQNsuydrsdJXFmWdbv93u93kQigTwg+ZhhmFgsptfrfT5fPp8nSdLj8SCRenJyEtkkEgmj0djf3x8Oh1EAtdPpRCL1PjfFG9A0jeO4z+cbGRnp6emZmJiIxWIYhh3A94f8XFA5/AnMUoDGcfzf//3f0YuAq6++mt9XMBg8+eSTUftRRx117rnnrlq16pe//CX/5S+RSPSb3/wG2V9xxRWnVAv/XaqTTz4Ztfz1r39FNo2NjXyvSCT68pe/vHz58rvuuusHP/gB/xLk+OOPF772ggho/nZABQgAgQVEACOZF3sOnQq5gMgckUvdqOWSoiz7OFeJ1Lw3+8oh2CwI0AcVMgjQBxUvOAcCQIBlWaVSyb8PuuWWW2Zgks/n+bdmfLj0O++8g4afeuqpfHYLoROHw4EMjjnmmFgsxndNJ0CrVCp+PU899RRvL6z89Kc/RTannXYaCuN78cUXUcvSpUuFlnz9/vvvRwaXXHLJP3I28ss+/fTTeRu+QpIknxsaBGgeC1SAwBFGYA4CdDKZFJ4fKJVKLRbL7HEUCgW5XI4E6HA4jAYiaXhgYEAoMSOBWyaTCadDunNra+vAwIDZbE6lUnww8uzXgCwDgYBKpYpEIvxAhmEqlUomk8nlcpVKBcVco9jqVCql0WhcLhdFUSRJEgSBhF273Z7JZBiGoWnaYDDwGaWRykySZCaTGRwctFgsfDZnt9udSqXMZrNKpcrn8ygxiFqt5i+j0ajFYolGo2gZ/Fz8OusrJEmmUim1Wj0yMmK1WmtOTay3h5YjnsBsBOh/ZJV59NFH+dcZwuMmbrjhBtT+5S9/ubu7m8eVTqdvvPFGfkhXVxffNXMO6P/7v/9Do84991yXyyUctWnTJl6blsvlfBcI0DwKqAABILCACKRKzB8HQIBeQHdsv5Z6bxN3GuST7XtTYHc5qArBZf3eL6ezGwwC9Ow4zdMKBOh5goNhQAAIzJoAjuPnnnsu/8bq/vvvR/F5NQ6SySSvyYpEIj7DYaVS+cpXvoKG//KXv6w55a9SqVx44YWol9eskefPfe5zqB2FMAunW7lyJer6zGc+8/e//13YhWEYLyWLRKI1a9ag3r6+PjTk2GOPbW5uFg5hWTaXy33nO99BBi+88ALLslu3bkWXixYtqjm4vlQq3XXXXahXJBKdd955Nd7gEggAgSODwGwFaHSUnzBUuampSa/Xz55CqVTS6XQoBYfX6xUeABgOh9vb22sScfC5PpqamlpbW/v7+41GYyQS4fXc2U8ttCQIwmQy6XQ6/gA0/sg+pCwnk0mr1RqJREiSpGna5XJpNJp0Oo1hmMvlmpiYKJVKDMM4HA6UAxrDMK1Wm0wm0fBMJuNyuTKZzPj4+NjYmPA7LC6XK51O63S6ycnJcrlcKpUsFsvIyIjD4cBxvFKp6PV6rVbrcrlQSLXRaCwWi9MFMjMMQxCE1+tF57ntJxYhIqgvaAK8AH3ssceq/rUolUqpVPruu++ec845/B/4z33uc4FAAG15YGAAtR9zzDFarbaew2WXXYYMVqxYIezl46NrXkwQBHHCCSegIWq1WjgE1b/73e+iXuELHRCg60FBCxAAAguCwKEMg10QQI7gRT4gw1+pngmJsnCsVZLBHJfk+hBsGQTogwoZBOiDihecAwEggAh4vd4vfOEL6H2QSCT67Gc/e9ddd/31r39ta2vr6OhoaGi48cYb+bdRIpHopptu4vUTlmXXr1/Pjz399NMfe+yxzZs3t7a2vvnmm9/4xjdQ19FHHy0MJ/qHBMznxPja175266233nvvvbye43a7+QTNIpFo8eLFq1evbmpqevXVV7///e/zc5199tl8FGC5XOa3cOyxx65YsWLLli19fX0dHR2vvfbaWWedxY8aGhpiWdZms/EtZ5555p///Oeurq5t27Y9//zzX/3qV/muf+SMPvHEE9977z232w3PFiAABI4wAnMQoKPRqFCAlkgkSqVy9jgIgnC5XBKJRCqVqtXqcrnMj8UwbHJysiYIuqmpqbm5GeWU2H/dmZ8rk8mo1Wq73c7n34jFYujIvnQ6TZIkjuPhcDgajRIEkc/ndTqdxWIhCCKRSIyNjfX29uZyOYZh7HY7EqBzuZxGo+G//ELTtNvt1mg0nZ2dfr+fzwfNMIzT6UylUkql0ul0olmMRuPQ0FA8HidJ0uv1Dg4OajQaJDrH43G73S7MS8BvAVUIgvD7/T6fD6TnGjKf8ktegBb+FZ+h/s477/DE7r33XmR555138o3CitvtRgbHHntsPB7nu6YToIPB4LXVsnLlSv7/Aj+KYZivf/3ryCGfsgNyQPN8oAIEgMCCI6AMcHkYDv9M0AsO7GG44OXbsJf7iK0TJBKg18iJNXKi33UoEnGAAH1Qnw8gQB9UvOAcCAABnsDQ0BD/HmqGN2sikWjVqlVC9ZllWZqmf//73/PnwE85nA9V5mcUfp8VDXn//ff53u7u7jPPPHNKV6jx/PPPdzqdvD3LsuPj40KVfMqxL730Ej9kxYoVU9qIRKKjjjrq4YcfPuaYY3iDN998kx8IFSAABI4MArMVoFGi5JqcGAMDA/wnYPvEgTyghM49PT3RaJSP7UVdKAhaIpHIZLLOzk6VSuX3+4U69T6nqDegKArHcQzDCIJAv7X9fr9SqeRzgJRKJZvNplAoRkZGBgcHnU4nQRCVSsXv90ejUZ/PNz4+Hg6HcRyPRCI6nW5wcDCbzdI0bbPZkBIdiUQmJiZQhmi0o3g83tvbq9PphIunKMrhcMTj8bGxsVAoRJKk0+lUq9UajSafz6fTaaPRODg4iLJal8tlq9UqHF6zNZQzBMdxnmGNAVx+agnMXoD+4he/uGnTJiEo/utar732mmWawr/I2LNnDz+Wf/FUEwHNG9RUYrFYe3s7H08tEolAgK5BBJdAAAgsRAL2JBcAO+w9FCrkQuRzJK35kRZ81U6MT8Gx00Bu0JA4pOBY+PcYBOiFfw9hB0BgwRDIZrMvv/zyqaeeyquuNZWf/exnW7ZsqY/jQTvs7+/n452FA3/wgx9IpdJ6CsFg8OKLLxZaCgVolmUTicTVV1999NFHC21QgPaTTz5JEFPkGZPL5UuXLuXTKgoHfuc73xF+yZVl2VKpdNNNNwlVZmR/xhlnoASPV111Fe8BBOj6OwgtQGChE5iDAJ3NZpubm1FmDPSzvb1dmGJinyzK5bJerxeLxTKZDIX68kNQgo6Ojo6xsTGn05nP52s+5eMtucPXq4Vvma7CMEw4HFYoFGNjY2azGR0taDKZ1Go1rxdHIhGPx1MqlTAMczgcOp0unU6zLBuNRu12u0aj0ev15XI5nU6HQiGn0zk0NJRKpWiatlqtmUyGoiiXy2UymUqlEk3TxWIR5Ynm46MpikIbwXHc5XKFQiG5XJ5MJguFgs1mGxsb83q9pVLJ4XBotVqNRlMoFCiKQtmipyMw3X6hHQiwLMsL0Mccc8ylU5Vf/epXzz///ObNmzOZTA2xU045hf+Tv8+KUDLepwAdj8e3b9/+4IMPXnjhhfx3tYRTCL1BCo6a+wKXQAAILBQCBYzRhGhIxLFQ7te815ksMfdJ8cda9yaAXtyA/UVBJEuMPwMpOOYN9XAZCAL04XInYB1A4FNDoFgsdnR0rF279sknn1yxYsXNN9/8u9/97u9//7vBYJgNA5TOdM2aNa+//vrWrVvHx8dnjlHLZrMOh0NfLclksn6Kcrk8Pj7+97///e23396yZYvJZJpOAefHulyuPXv2vPvuuy+//PIbb7yxadMmjUbD99ZUfD7ftm3bXnvttdWrV+/Zs8fpdPILxnG8qanphRdeEIvFU66txhVcAgEgsLAIzFaARh9YdXV1CQVomUw2p9Q8NE0nEonu7u7GxsbW1lar1cr/LmMYBsfxfD7Pt9RzRFmPS6VSLpcrlUpTntFH0zSSgDEMy+VyVqsVxVwPDQ3FYrFMJqNUKk0mEwrcRqKw2WwOBAJIbnY4HJVKhWGYaDSqVCoHBwd9Ph9N05FIxOFw2Gw2pVKZyWRQng273R4KhSYmJpxOJwqy1uv1iUSCF44piopEIkinrlQq7mpRq9W5XC4YDJrN5rGxsVQqFQwGXS6XXC4PBAIEQaDI69mHlteDgpZPMwFegD7ppJPmxCGXywkV4X3WX3zxRd7/DAJ0Op2+7777jj/++HqHxx57LN8IAjQPEypAAAgsUAIUzfS5KIWfmggfChVygVI6MpYdzjPLt2FvDBEo/8biBmyNnCCrT4BDsEFIwXFQIYMAfVDxgnMgAASAABAAAkDgU0tgDgI0hmFjY2NCAVoikSgUCv4Dq9lARJmgm5ubxWJxV1eX3+/n5dqZhzMMUyqVXC6X0Wi02Wxms9lms9UcJFgqlZLJpN/vt9lsJpPJbDYbjca+agkGg0j+Hh8f12q1iUQCScbZbNbj8VgsFrvdHo/HUaaOf3w3xOl09vb2jo+PoxBvkiQrlUq5XOazXtA0ncvl0CmCfr8fqd5yudxisaCkzBRFhUKh/v7+YDBIUVShUPB4PGhJhULB6XTq9Xqz2RyPx91ut91u12q1+WpxOByFQmFmGtALBKYjMG8BmmXZz3/+80gR/tnPfvbrfZXOzk5+DdMJ0DiOX3TRRbzKfMIJJyxduvTpp59et27d6OhoPp+/9tprUS8I0DxMqAABILBACUQLjHiSdKfpTJlZoFuAZc+ewJ1i/IYdGC9Ar1eTH6pIe+JQfPYAAvTsb9M8LEGAngc0GAIEgAAQAAJAAAgAgX0SmIMATZKk2WwWCtCNjY3t7e0oZ8U+Z+INMAwzmUxIg+7u7hae1Mfb1FcqlYrdbjcajSj3EIZhSMMlCIKiqFQq5XK5zGaz3W4PBoPZbBYpxYVCwWw2ezweFFjNMEyhUHA4HOPj4zqdzuv1ZrPZSqWCYRhKFV0sFmOxmMPhmJyclMvlDoeDrhaCIJABL0AjTdlkMvX390ciEZqmcRwfGxsbHBxEIdLxeHxoaKirqyuZTDIMk8lkvF6vVqt1OBzJZNLpdKpUKp/PhxJDazQav9+PcnEkk8kZwsDryUALEBAS2B8B+vzzz0dy8K5du4Q+91mfToD+29/+xqvPjz32WP2BmSBA75MtGAABILBQCNAM02ql5vSp/ELZGqyznsDK7dgVm/4pQF+2AWu2UF5IwVFPao4tFE36co7x8IA7YyEofI6jD4A5CNAHACK4AAJAAAgAASAABIBAHYE5CNA0TcfjcalUKtSgm5qatFrtXAVTgiA8Hk9vb69EImlvbzebzYVCYYZQaHRK4fj4uDA0+B/hkwaDIRqN0jSNROR6DygjR/3yMAyLRCJWq1Wn06FEz0aj0WAwoHQcuVzObrer1WqU7jkej5tMJq1Wq1AolEolyh8dDAYnJiZ0Ot3IyAiS4CuVysTERFtbm81mi8VioVBIqVSOjo6iGOpkMhkIBFQqlVarNZvNXq/3Hwn7x8fH/dViMBgymYzf749EIlNm96+7cdAABKYmsD8C9C233IL04kcffXRq79Uc049XSyQS4W2mE6Bvv/125PDCCy/kjYWVH/zgB8gAIqCFWKAOBIDAAiUw6KFMsUMRA7tA+Rwxy7Ym6JXbsfuk/8wB/YAM/2Cc9KQPxd1fWBHQm43v3t9xBXqs1b48w3NAGxl5oveG6yU/WS4+Dz1WSs5/pHt5v695hlGz6UqUIvwa7u+4Ipj3zDAKBOgZ4EAXEAACQAAIAAEgAATmTUCEYRhJkvXS7ZQey+XywMCAUIBGQdCJRGJK+xkaSZJEGSqkUmlLS4tKpUomk3x8cc1AiqICgcDIyEilUuG7isWi2WwOhUJ8y5wqKOt0NptNJpOZasnn8yjzcrFY1Gg0CoUikUhks1mUIgNl9kBZm1mW9Xg8oVDI5XKNj49ns1mUI9vn88nl8pGREY/HUy6X5XK5VqstlUosy8ZisWAwODk5OTw8bDKZwuGw1WqdnJzMZrMGgyEQCITDYa/XK9zgnLYDxkAAEdgfAXrz5s1IDj7++OMDgUA9UovFggyOOeaYeDzOG0wnQPMh1Y888ghvzFdGR0cXLVoEAjQPBCpAAAgsdAJSM2WJ04kipOBY6HeSTSaTM3zDr3GSvGEH9ngrfvnGvUHQz3cT74wSh2bbC0iAxinsluZf8ILy62NTvBhgWZakiY2Gd3iz+sp7qt+VSe7l9PzKHss6oU9v1j6DHxCgZ4ADXUAACAABIAAEgAAQmDcBkdVq9Xg80Wg0m82ik/1mEKNJkrTZbGKxWKhBSyQSpVKJ43P+lhxFUfF4fGxsrLm5WSKR9PX12e32TCZTHwJM03Q4HOaTXbAsS1FUIpEwGAwovniu+8dxPJlM2mw2lUrl9XprQqRRuo/BwUG5XG4ymYLBINpdPp+fmJiIRqMYhvn9/kKhYLVaR0dHPR5POp1OJBKRSCQcDrtcrlKpVC6XBwcHzWYzSjsQjUadTqfFYrHZbA6HQ61WBwIBj8fj8/n0en00GnW5XLlcDr66O9dbCfY1BPZHgKZp+pxzzkGK8Pe+9z2TySR0nslkfvjDH6LepUuXCrtOPfVU1N7d3S1s5zNsnHPOOeiTGL53aGjo//2//4dGiUSi119/ne966KGHUPuzzz7LN0IFCAABIHCYE8hjzIs9RJOJGvZSh/lSYXkzE2AYZufOnWvWrFEqlTUvEdFAS5y+fCN22x7sgY+DoO8S4/bkoQh/Zll2OgF6p/lvbyqeJOjZ6uD2lPGJ3ut9OcfMNPand+vkGqHyO50A/YbicaHZlPXf9q2iaHIei4kU/He1XSr0CQL0PDDCECAABIAAEAACQAAI7CcBkUKhGBkZGRoaksvlZrPZ7/en0+lyuTylDM0wTDab7ejoEArQjY2Nzc3NLpdrytfoM6+PYRiUSaOjo6OpqUkqlQ4PD7vdbhSMLFRj8/m8qlqSyWQul4tGo0g6n3Kd+5w0GAz29/ej6WKxmHAiNJYkyUgkotVqJyYm+BCYfD6v0+kMBoPdbrdarfl83u12j46O9vb2Dg0NaTSaWCzGQ0in0729vR6PB2WpDofDFovFZDK5q2ViYsLtdnu9XrPZbDKZnE5nKpXix868fugFAjMQ2B8BmmXZ1tZWXhT+7Gc/u3z58ldfffWDDz547LHHTjnlFNT1mc98Znh4WLiGc889F3WdeOKJl1xyyRVXXDE4OMhW83Xw3v7jP/7jT3/60/r165977rnLLruMb0eVb3/726+//jr6BgAI0EK2UAcCQGChEHCl6D8NEm8OE32uT6MAnUqlkh+Xebw2O6zuslarXf1x2bx5c/2X7TCSWbkNu+Lj8OfFDdgfB4j6F5MHaVNTCtBS+yaksf5x9OHZaND2lPEWGReb/OuW/42Xwgd8qXks86HudaHsu1x83pQCtCLYW2M23aXE1jCndTIMY4gp72z9vxqHIEDPCSMYAwEgAASAABAAAkDggBAQURRVqVTS6XQgEHC5XDabzel0RiKR+uPC0HwEQUxMTNQEQYvF4q6urkQiMb8X3wRB+P3+0dHR1tZWiUTS2tqqUCi8Xm8mk8EwDL2NoWk6m81aLJbJyUkk2oZCIZQxY04gGIYpl8t2u32kWnw+3wxvk6hq4TeF47jf75+YmJicnETJmgmCyOfzoVDIYrE4nU5hAo1IJNLX1+d0OuPxeDQa9fl86XQ6GAxGIhF0nmEul/P5fC6Xy2KxxGKxeexlThsH408Jgf0UoFmW3bBhwwknnFAjEAsvt2zZUgOTl4x5s7feeotl2XQ6fdZZZ/GNNZVvf/vbzz//vLAxGAyyLMt7gwjoGs5wCQSAwOFMIJRjdhpITYhW+D+NAjT6lN1ULQv6A/V8Pr927dqP9ee9//b19QlfGFM0g5JvLGnYm4LjUH7qMKUArQj2rpScj5TWfWrQvPq8XHzeo90r8jiXSm7/C8MwzY4tWyfff13+qDCVM6//TilAP9N/K2+wXHzezbILRwOd6UpcExm+u22xsOuO1l/OJgjamtTvsaz7UPf6/R1XCIfz9dkL0ATF5LGFkVGHZua8TpJmKHq2oyiaIacyxqnZetj/J9g8PBAUkyxxNzFRZGiGsSdpnGRsCTpTZhxJOo8x2Qrjz9JyP3d+bCjHGCK0P0s3WyiZhRr0UFIztUVHbtaRLVZKFaS9GbrLwbV3OaiNWrLTTrVYqa0T5DoVuV5NbtKSQx5qzEcZonSPk9qk5f4c9Lu4S1uCjhcZX4b76+BK0aM+YLD22gAAIABJREFUasRL4RQz4ObcdjsoxNaTpvUR2hjlFqkO0hTNFDCGfx/KMNz9wkimiDMExVQIpkQwmQpTIblbkKlw9TzGbTNX4Szn8ZSYB2EYAgSAABAAAkBg9gSmPoSQ+1s3zesYdB5gV1dXTRC0RCIZHh5GB/TNfnrekmEYlNFiYGCgpaVFIpE0NzcPDg6aTKZEIsFHZHN/eikKxRTzY2dfYRimVCo5nU6z2ZxIJIrF4mwyhyAaNE1TFEWSJEEQeLVUKhUcx9FiUBfqRS3xeFyn0+n1+snJSavVWh/gTNO0yWTyVku5XJ79LsASCMxA4K233kKS7kknnTSD2cxdVqv14osvPv7444XqsEgkuvTSS+Vyef3YbDZ76623nnjiibw9EqBZlrXb7cuWLTvqqKP4LpFI9G//9m+33XZboVAolUp8+g6RSAQCdD1baAECQGChEEiVmI1a0pWiLfFDlIrhsCJzxAjQUqm0Rn1Gl+vWreNPR9iiIxdXpefXBwlUkZoP/KcOJeKf0h5O7lVCKwTT5ZYtF5/3vvr3NU+AsWDXbDToGvU5i6Vr/Mz7kmIoXuSdslIvQAfz7hrLiegYv4BAzs3vCJmNhwf43ukqWyZX1/isuZyNAL1J5xBPktv15BYdKZ7kHg1q8rFW/Lku4o8DxONt+Fol+cYQ8WIvcY8Ef0iGP92BP96K39GIP9WB/2mQa9+kJTdoyGYL9c4I8XIf0aAhXx8k2qzUawPEb1rwR1vxd0eJV/qJrRPk893EW8PE893EHY3442347XvwB2T43RL8ASn+SAvn/CM1t5LXBogdelJqpt4Y4uwflOFPtuP3SfH3x4hWK/VSL/FqP7FFRzZoqqvVcJJoh53qrD6e7yb+PER0OThF9W9Kcq2CfHOYeKoDHw9QsQL31FIH6cfb8CfacImJfKGH+FBF7jGSphgnm2YqnOI55qM+UnM67JCHemuY2G0gZWZSF6Zu3oV9pCLeHiH+Iif+0Ec83cE5ear689FWrv5QdZ237cFu34Ot2IZdtxVbuY2r37gT+1DFORz0kP0uss9FqQL0ZJRus1EDbk7Y7XNRCj/30IZof4YeD1A79aTCT+0xkhu1ZK+THPNRuw1kt4OUmsn1GuJ3XfhaJfEXBfFYK/67Lo7MHY34qp3YDTu4SRc3cDlz7hTjt+3Blm3CrtrMPa7ejC3bzPX+ajt2pxh7qBlHX2tYvg3jP1tC/8HRz6UbsYdk3I2+bQ92bxO+chv2ZDu+bBPn/Jot2GUbuE1dtgFbtZNrWbGNm2JxA3btVq5R6OeyDdg9Evz+agIfNOOtu7FHWvDl27Bbd2PXVxd83VbOw+UbsbvE3C5u3MlNcctubOV2bOkGbnlLGjj/j7XiV27Cbt7F7W7ldm6uG3ZwBosbuEkXyscn0/1f/nS20zTjjOSjGU4c0LpT5kA2W+IynToj+U5daMQSUzuTu8e8nbrQoCm6c9Tbog4q7Yldo96/ddqk4/4/SSbXdtj+1ml7W2b+3Tbd6+LJPzeZXt1jfK5aX91qeXar7qWd+rUdtue3T9z7d8VvPlI9vVn7m49Ud/1Vftv7o7e8N7Lq3ZFb3hv59Zqxe9YqHlmv+t1W3Q1vD/+l3TpsjnGnXmFkuzaUL88219OcbiJBfhpfPs0JERgDgYVOYGoBeuZdURTlcrlkMlm9Bq1UKguFwszDZ+hFYc4mk2lwcLCtrQ0l5ejp6dHr9bFYDMO4T4FnGD5zF8MwxWLR4XCg7BkzG6NemqZxHC+VSrlcLplMRiIRn8/ncDhsNpvVauUTOqMjBKPRaDwej8Vi0Wg0l8vx8vR0EdYon0koFIrH4/Vpr2ezPLABAvUECIJIVUsmk6nvnVMLSZKTk5Nbt25dv359f38/Uodn9lCpVNDswm8DsCzr9Xrb29s/+OCDXbt22Ww24X8KDMMkEsn27dtdLhdyXiqV0tUCH8zMTBt6gQAQOKwIZCrM892EPcFF1R1WCzs0izkyBGibzTal+rx69eo1a9akUikEc/UYpzsvacCe6cSRrrTLsDc9sS9Dr1dzoZFFnJmM0tsmSF2YVgaoZgv1wTj5Ui+XpOW2PdzApzs4BeqhZvzFHuIBKX79Dk7SumLTXpEOSWZLGjgFCmlhV23GkC52+RbxlAI0y7L71KAPnvrMHdAydwG607VbqA4/0XtDzdP1z4onhAYN+jdrDOovD4gA/cdB224jpyCvVZJ3ijmN79dVdfiZTk58fKYTv1PM3fqbd3HapVBbrKkvrcqRt+zG3hom1irJJ9vxZzs5fXlxA3bFJuylXu7W37yLkxEflOHLNnPq4Y1V+fJuCX7VZuz2PTjyf+UmLuH4ZRs4gRLpm2iiJQ3YTVXxUTgvUiqFLdPVr64qpNP1HtR2JKEu28Tp0fxESxqwKzdhdzZi127BHm/j9PcrNmI37eQaf9vOgXpAxunFN+7g/pvc28RJrk+04Tft5Ox5kXdK7Zifgq9cvpEToJ/u4Mj/tp1Tq2/bzd3QVTs5yL9t5/jzp4yiUat2cr237eEWvHI7dwcXV1Xg67Zylpdv5G4f73/KypIGzsNvWnBu+EZO/r5sA1epmWh5lckzndxnD00m7jOMF3uJjVry5T7i993cL5B3RojdRk6+f3+M+9RhjZz4SE2+N0p8ME7K/dSeSfKvCu5Dskz50/jHqP53wsJqeWmnfukrva/uMa7rdrwunlz1zvCzW3VLXu5d8efBm94d+a+n2s97ovW8J1r/++m9FXR5UH9e9nLv7WvGeg0RRyRvD+Ua5b7tw549Y7571ipCqZI9nOvWh92xgj2U07hSQ+ZYpy7Uow87I/kxa1zrThl9GZM/U6gQ3njBEcmPWGLt2pDSntC5U+F0edQSN/gyGlcqmCrJbf884n5h3TVYLRAAArMkMB8BmmXZSqWiVCprEnE0NjY2NTWpVKpCobA/SjFN0/l83uFwKJXK7u7ulpYWqVTa09NjNptTqdRsYpbrN48irO12u81m26dEzjAMSZKlUikej7vdbpPJpNFoUK7n9vZ2mUzW1NQk+bhIpdK2trauri50aKFOp0NxzdFoNJ1O7/Ncx/qlQgsQAAJAAAgAASCw4AiQNPORmlQGqGzl0/ie/wgQoDEMW7du3XQCtFKp5J+TwRx9t4SL7ny0da8APRHm4rZwkhGbyN93c2dRrlNxIatvDhMPNXOBjZdt4B437OB+3raHq6DoSKFKdWNV20LylrC9pj6DAD2zBn1Q1ef5CdBrtS8L9eXtpr/wkFGlzysVGjw/eEeNQf3lARGgXx203bCDi0V9UMZpoPdIuJu4chtXebKdu/XPdRHXV9XGKzft/YSg5jbt5yX67IF3gqJ0+cv9rFy2AbuvGl69y8A9S6/bij3bxcVcL27g5O/7qpG5Szdw2u7tezhl9uZd+9BVhfnQUfjtfq5wNsOXNHChvrzujOZFuvZshtfYoP+hNY3zuLx8IycxX7+De1ag4OsV27C7JfgNVdF8cQN2f/Ujh9v2cPr1ss3YAzIuwHnKiZZVA7TRJxA37OCefo+34r9pwe+R4HdUP/+4dTcnXqPLR1u5z7R4V9fv4Gav/98BLYc/AYKkQ6kSy7KRTDlVwALJkt6T7tSFGuW+zQOuN6Wm327SPLxu/Ia3h1/ebbjgYxn6J0+1Xf36wKp3hpe91n8otenZC9///XT7BU+3//hJTj2f8vFuiwXFeh/+9whWCASAwLwJzFOAZhgmnU53d3fXBEE3NjZKJBKFQpHNZvdHg2ZZlmEYHMej0ejk5GRPT49UKm1qaurv73c4HMVicU7pBWmazuVyTqfT7XaXStwv9OkKTdMYhmUyGZ/PZzAYhoeHOzs7ZTKZWCxuampqbm5ub2/v6urq7u7u+bh0d3d3dna2t7c3Nzc3NTWJxWKpVNrV1SWXy/V6vcfjiUQi9WcqTrcAaAcCQAAIAAEgAAQWIgGKZlaPESNe7gvjC3H9+7nmI0CA7unpmU593rx5s/CVZ5OJy2OweoyLSUTKUbrMJZntcc6UiKNMMN0OLg767qqIuUZOIMkPeVi2idOtZhO8ObMAPZ0GfbDVZ/T86XI3bja+xz9q8jvXp+B4bvAOob48FuyueR66Mmahwa9bLqkxqL8MF/z8AlBF6GG5+LzZpOC4bKN1cTX8nAtV3siFxF6zhQt6rREKawJXa3oPyOXKbRhSG2u8XbmJkzIfkuH3NuHPduF/6COWVcOZV+3EXu4jLt+IvdjDKcu/bsTfHObiZ6/Zgr3QQ9wn5XJT3NvEBVMvbuBCgG/YwT3xUDCvcIqlG7hUFXeK96YEuWU3F3SMDK7Zwo1a0oA9XM1ZMZsnrdDzvOu8zL2kunIUOIzyUczbp3Dgzbu4Pa7ayYU/P9LCIbpyE/dANvWZNPixyzb/Sxz39Tu4cPUrqsHdt+/hIqlX7eSC2e8Ucz6v3co9l/ixL/YQ26uZVf6q4BKMyCxU4yTZZuNyp8j9lDNJS0xcEHS7jUqVGF2YfnOY+F0X8XAz/kIPcYeY+yzkD33ECz3EWgW500D+RcHldflH8o3HWvEV20CArv/1sIBb4rlKjz5891r5Rc93/vSZjmvfGPjpM1MHQfNR0lPqvIdto3Tcv4BvDywdCACB2RHYhwBN03S5XC5+XPhczFyYA0V5vd62trYpNeixsbF0On1ADtbDcTwQCCiVyvb2dqQCj4+PozMAZ6NxUxSVSqUsFovH4xEeIFPDB+nd6XTa4XDI5fKOjg6pVIpSUaPoZpVKZTKZ3G53OBxOJBKpVCqdTqdSqXg8HgqFPB6P2WxWq9VDQ0M9PT1tbW1SqVQsFre1tY2MjFgslmg0ms/nCYKgaXo2yxYuj2EYDMNKpVI+ny8UCsK3QEIzqAMBIAAEgAAQAAKfFAGKZh6U4Rs0nIjwSa3hE5x3oQvQoVBoOvV59erVNUmoOu3UtgnuaDKUi2NxA7Ztgvs6vCM57WcPlf/P3ptAt1Gd/f8G2sJb2vc93d6+XU57fl3fc9qX9u8CpbSFlgIBUvaQQkkDYQlhD2BCFiDsS1gCSUgICThkD7FGmyVLli1v8iLbsuVNsrVYtvZ9X2bXv+MbJoM2S4533zk6OXfuPPfOvd8ZKdZHz3wvTldNWDo8JsYeEzPcECRBA2i4bMJ54Oka7J0WfPVJBneuPsk40ubMhp4UQGczaJ1Ps1p0GeCwTyhum0bf58K3XL1FwIW/2QD6ybqV3ACdryejw1DKzw24XfD7jIBidu+TXM3tpBgAffvx4VuPMA6/R7WMDbRQR0pHSJmBsT9+sR6vGiTqTIytisJIbq5lcqIBT1wnYAyCHxQy6dIsYQQg+0nJ6exU7qFJy3//NAcdnrQVsB7OCANJ99cdYBJyuYeA18RG2SkqzT204ih6Lw87oiUaR8l6E9nnotwxusNKdtoYL+Z0Oq00k4+LGevqjTJs9Ul0dwfDRp9TYFwqfcNEkjg35Z9FycDKBvx7zQHGSQOYWtxyhLEWWTHh3byWz0j3r4n3xfUHGQuOW45MWB4fRe/nY2uqGBR+7QHGQ3lrHeOn8V4rMwbuLG4+zDxwAAZwx3Hm/XX9xO89K44yqcr3TnBhcN7bj6P3I0xvgGtzuTx3RqBz8PPDfQjjn/OoiDn1PROu0/chp5yvn5IwdPilesYlo2WMWc/w358Y7VayxUIiQ8yKhRoHlcBPLQUJ1gwsvKijP8H4cYN7vttOxTHmd6+Mt8CxPuLvnzI/NvzzBATQGdrM691Rd8wfLXTJdLawwRHZcqT3mUM9H9cbDzSYV7+v2nS45+F96qteVNy1s5Wvtm4X65a9VLdDon/+mPaZg5o/bpYVg5sv2iDNDrv4mRyV2WHcmoufkf55i/x3EznOFz4t+dMW2UUbpJc9K7/6xbq/v6q86kUFe6LLn5Ov3dN+7wdty16qe+ZQD2jSNOSe11cIDg4qABWYDgUKAWgMw3w+3+jEZrVaTRMbdzE9giBGRkYkEklOBt3U1ORwOKbmmJExNWDKYTabVSoVcMCor683m83JZLIwzCVJ0ufzDQ4Ojo6OFqDPbIp0e3t7TU0Nn88XCoVyuVylUul0OpfLlUgkisG+NE2nUim/3282mzUaTUNDA4DmQqFQqVT29/c7HI5IJIJhGNcDF9B8kiQzKoEIwBfbYrGYzebh4eHBwUG3213MYDI0hLtQAagAVAAqABWACsycAimcXl+NPafAFUYIoBeYAiRJHjp0KB+AViqVGbeNOUC9WI+/3ohXSE9xrucUzCpzWic17GUWTHNFae8XwVAMpfvdVOMoCVare70RP9rHrKV2YGKxuNcbmd46rOT2VvyWI+gL9XhlN7M2HVhb7EEhk0T58MRibuursXsFeT2guePk+kGz+HU26XM6nZ4UQD8oW86OLWduMk5i3IAVSDlOlbz41RQA9D+OMxnQ7OsBPpNPeuuRU6bPW2rx9dWMMcW1Bxjn7qekjH/FrUcYQ+G7qxhLBLC63d8Pnlo47p8TngzA3/lfnzHJsGsn1qC76RDDgp+uYV4Pi7BVnzH2F09MLHX48MTChnvUxP4uZsHAt1vwbc3MioVgXcT9XYzt795O5tD7rfiudgZx7mxjcmmRIWb9wGN9zKtqgAHHIH9WZiC1TiqYpGMoTVC03ksN+6i2cVI1RlrDjHM9TdPWMDXkocwBKpxiqChwE2KJJ7i74hjTdizE/NaCEnQwyew6InQkRSdxZj1DtY3h8kIdk8PbNk6+3YJ/1k/s7WRWcdzfxdzzvEGGxnbZqFojqfNQo0Hm/RJIULYw5YxQliCTqgNOipHMEohDbvIVJb6vC0cGiQ/V+NY6bH8X88Z5Wcm8AVceZQyRpcNMvvCudtwcoIY85BMT+b/g8gHY/bCQodjAO+X1RmbBxv1dTL5wpYZJHFYYSYOPmbvaRoZS9LCPCiRoT4y2R6heJ6V1MpqYA5Q9cuoVQ2lnlBlk8vOVQkkqEwRz34zTXk5NKJ/drTdOv93CONTzh4iHhMzKdXBbKAqMeWPRJJ5AiS6TX2cLKwdcSez0/6QURfeNBYHhsrjLxngoG32RBD5kDZndUbM7avXFKYpuG/ZWtY0LO20f1AwLO23viHT7FMatx7VdJn+zzvPKyf77drdXfKpZ/0lXx4jvg5rh+3a3768zbj3ed+f2lp2S4dd5A88c1LxaNfDKyX6jK/p+tf6A0tQw4N4lHT7cNHpcZekY8fHV1poeRyCGtuq9nUa/2uALJzBvOOUJp1yhZBIjTa6oxhzwR9EkRgbjGLATAU+3J1CizxLsswTjKULey9hAH2w0bxfrAJhWG30L5WLBcUIFoAJTViAvgE6lUmNjY3q93u/3g0RmkInc29vr9Z62h8dxXK/X58yD5vF4UqlUr9fH4/GcaLXUQVMUFQwGtVqtTCbj8/kymWxoaCgej+dj0ARB+Hw+nU43Pj6eb5U/kPjs8XhAt8BAQ6FQaDQau92eSqXydT7p4AE0Hx0dBU7WIpGIz+eDBRWtVisw5WCzoaPRaCAQCIfDsVgskUikUqnYxEaSZCgU6u7uBunbOI47HI7Ozs5IJDLlgU06chgAFYAKQAWgAlABqEDxCoCFnjwx+ikJNuKjTk4kBhbffHFELugM6Pb29nz0ed++fdkZDL44/Wwtfh/CZH0CyLVRhrWOkwNuCicZJOeK0onPyVSp15ei6dEgZfJTrWNkCqclwwzLqzMxqxpGUVpuIF9pZtKKd3Y/P2nPbfZaLr19XHHL1HKf/Um3PTqa7xXFwvlGMimAfqz2Fu4I9f7ejK4ICucGrEDK41g0I2bS3SkAaOWoyRtnICM3I5WkGHQbSJy+uCkiN3ZkcaQ/kTtg0jEv9ABitoDsv9+MQG2KPpUOHMdog4/SOBi8XmdisHuXjaHtnTZyKVyOVxtOAejVJwul0y70G2zxjV/e63CHktM7L284ZfXFuX2CN0ssVfLPeNxOprE86ok9Udl17cv15RUSSbe9Z/TUSr/TeArYFVQAKjCvFMgNoAmCsFgsGo0mmfzC5yBFUU6ns7u7m/u3OEEQBoNBJpNlr0kIliXs7Oz0er35EHCpcqAoOjo6Wl9fz+fzJRJJf39/zjUPCYLweDw6nc5ut+dzAqFpOh6PG43GpqYmsVgMoHZ3dzfw9yh1YPnicRx3u929vb3AyZrP5ysUisHBQa/XG4vFgClHKBSyWq1ms9lkMpnN5rGxsc7Ozo6ODr/f39nZOTQ0xFWvv7/fbrfDJOh8gsN6qABUACoAFYAKzKYCO9pwg4/CSHqvmnBFmWXoZvPs8+RcCxdAB4PBXbt25QPQRqMxW+F+F/WIiEHPrzUyrGdZJYoMERhBg7TQ7PjprWkYExUJoA2BgduQ37EA99mme3ByKkmRr7Y+ynaSXRAaDuab4KQAel3NddwOzSFdRlcpIskNmLUMaFtkNGMkcBcqsCAUeGciA/pwL7Gmaipv9gUxx0U5yFgKt/kTzuAX2MuinCl3UgK1dcvR3rt2tpZXSD6qNYx6YtyjsAwVgAosPgVyAGiapqPRqEql8ng82RPGMKyvr8/pdHIPkSQ5Pj5eV1fH5/Oz7TgQBKmrqzObzaUuHsg9BbdMEITD4WhoaODz+dXV1QMDA6lUKiPA7XYPDw+7XK58oBbYbuh0utraWgRBxGKxSqUaGxvjsnVun2dYJknS6/X29vYqFAo+ny8SiVQqlcViiUQigEGDJ1MIgojH436/v6mpqbW11WQyyWQyt9vNTSHX6XRWqzXfvM5wnLA5VAAqABWACkAFoAIlKfCcAj/Rz0Bn6QjZ66TaoQc0efrB4ZKUnP1gmqarqqry0WeRSJRzSA1mcvmnjBHtC/UMgL75MLq3k7kBZifrs0gAzV11kGW4r7Q+MgUGPXMAelIP6DAaZAe/Aim/nX9xzitSuHIKGdAQQBeWFB6dNQXCKfrTHsa0pMgzCobIZZWo0kyuE2CpqT6HUeS5YNg0KoDipNYSXGopwBKN/ba3mi7ZyKymKOy0DVpD0ygp7AoqABWYhwrkANBgdUGVSpUTcYLk6JGRkYzJUBTl8XhaW1vFYnE2g+bxeGKxuKury+PxpFIpLk7N6KfIXYIgnE5nfX09MPoYHh5mzaYpivL7/SaTyefz5TsRRVGBQECr1QLHZ4lE0tPTEwwG88UXOapJwwA6b29vl0qlCIIoFIqRkZFAIJDhMU1RlMPhSCaTDodDIpHYbDb2WmAY1tvbGwgEZnqok84FBkAFoAJQAagAVAAqAJbh8k48Bq4wkkMe5kHvJSjLAs2A7u/vz0efd+/eHY3mdnvocVArj6EbJnx7l1UyNr5KMzk76c/pdLoYAM2lz08obpOYjq1ELgQkdwoMeuYA9JbGNVy+3DAuznjvGAL93IA11VdkBBSzCwF0MSrBmPmpwP4uAjxmsaeDiKKTO7psa8ZvOoQe0RKrPivWgiOUmrzb+SnOYhqV2ugzOCMJdGk9QcVXW29+sxGsZLj1uLa+37WYrimcC1QAKpCtQA4ADRCnRqPJjgbL5dntdr1en30UOFr09fUBj+ZsDI0giEwmGxgY8Pv9XE+J7K6KqcFx3Gq1ymQyHo9XW1trtVqBLTKO4z6fLxwO53NJpigqFApptVqpVCoQCGQymU6nSyQSxZx0WmKSyeTIyEh9fb1AIABc3m63R6NRHMczxuzz+WQyWUdHRzAYTKVSiURibGxsZGTkzNWblonATqACUAGoAFQAKgAVAEa9JEV/1Enci2AiPQTQC0OBRCLx4Ycf5gPQWq02372NkfRGGfZCHf6QkDHiuPYAenKA8MRmCeJMCqAz6DPwfW6xyabMoLd1PMWlwBnlM7Hg2NW9ldvbkcFdGZo3jIu5AZsb78oIKGYXAuhiVIIx81OBTfJTRvP7uohXGnBLkFn+scAGFiH8qJO45QizsmSBSHDIHaP/eQKVjiyMD+1Jp7NwAyIJvGnITZCTXN+FO8GcI6/VOq/YqgAA+uGP1KE49I3JqROshAosHgVyAGgURTs6Onp7M5cBAZMmCMJsNo+O5nVGI0nSZrM1NzeLRKJsBs3j8cBafAaDASDXM9ESw7CRkRGxWCwQCFpbWxOJxKT/0QJKrtfrgWl1bW2t0WicIduNAlOjadrtdre1tQHv6ZaWFrPZHAgEMsgyjuNarVahUKjVatPnW4bfSIGzwENQAagAVAAqABWACsy0ApYgdbyPyVp6ToGvr8b2dy2tDCYg70LMgJZIJPno8/Hjxws8aqY0kxtl2MMibEMNw4auO4DWm8h+9yyBg8IAOid9Btdoygw6jAZ63a35Xp64I99bbFIPaInpKJcvP6NcldHV+51buAH7et/ICChmFwLoYlSCMfNTAVuYuod3ikEvq0S3NeNg2dt8o1WayZsPo1026rXGzMSmjCZJnJYZyJXH0BsOoTrPLH18ZYwB7rIK1Pe79iuMOlveNV3ZyMVUeOVk/y3bGoEFx6FG82KaGpwLVAAqkFOBHAAawzCNRtPa2przL+9kMgksIGiaxjAsO2kXeBlHIpHe3t58qdA8Hg+YII+NjZ2hMXQ8Hu/s7EQQRCqVWq3WDICbPedkMmk2m5VKpUAgkMvlJpOJ9e7IDp7pmlgs1tfXV1NTgyBIfX29TqcLhUIZSyaiKGq1WnU63ejoaCgUynlRZnqcsH+oAFQAKgAVgApABfIpYPBRwz7m2/vqk+jbLfixCRidL3ix1i84AD06OpqPPu/cudPr9Ra4UpUa4gE+dncV+tKEB/Q1lahkmByYBwC6AH0G05kygy6gRoFDkwJoU1DH5csrkPJedyvboSM6xmZtg7AWa82piVhrFKM89mUKDrGtsgsQQGdrAmsWkAIkRT848bAF8OJYX41VDRD5HOcbR8lXGnC5gdwsx8ZDubEyRtJHtMRNh9AX6/GWMdIWzh22gCRaBENVG3zCTqvBEVkEcyl+ClVt4+UVkguflvzuacm6SAieAAAgAElEQVRSg+/FqwQjoQKLSYEcAJogCKPRKJfLA4FAxlQJgrDZbFqtlpjYPBNbOBxOJBLsSnpsE4IgxsfHm5ub87lCA2Pozs5Oj8czZQoMvKflcjmCIN3d3QWcN9LpNI7jFoulvr6ez+dLpdLh4eHZz31m9QEFkMStUCgQBJHL5SMjI6FQaFKMntEJ3IUKQAWgAlABqABUYK4UGPJQjaPM88tr+dgn3YQYWnDM+0UIcRz/5JNP8gHo1tbTDDTnTbWng7j5MJOKuLvjlD3rjjb8cO8sZb7ny4CelD6Ducwmg54UQKfT6fWKFVwGvV5xK0ipjqDB55vv4x76l+jPKHlq1fF1NddxD73VUZHzSoFKCKALiAMPLQgFvHH6juMoANDgX7GeTOZaY3DYS1UPk8M+6kkJliJyWHB0WMk1VdhmOdbrpCiaxskcMQtCk0U2yL6x4OGm0SQ2S/+PzBP11n/S9bunJXe+pyqvkBickUgCnycDg8OACkAFZkiBHACapulIJNLY2KhWq6PRKFj+jqIoFEU9Ho9WqwVgGnhZOJ1Ok8k0OjrqdDpDoVAikcAwjM3SpWk6Go329/fX1dXlc+RAEKS2ttZgMBRjoJFThVQqNTg4iCCIUqm02WwZGcRsE4qi3G63SqXi8/lisbivry8ej7NH57BAkiSLxWtra4eGhvx+P7vq4BwODJ4aKgAVgApABaACUIFJFXixHq/UMF8a11djd51E90ELjnkPoBsbG/PR5wMHDkyaBwCsn5+txT9UnwLQ+7sI1dgsmajmBNBF0mdwM88agy4GQMvNJ7koeQVS/g/+xQ/Klt8u+H1G/YH+d9g3YwaA3tbxFHsouwABdLYmsGbBKVDZTawTnPbiuPEQuk6AjYWoDAwt1pN7Ogidh6oaIEjqC3DZGqI212LXHkDfacFNfkppJgmKdka/ELPgZFk0A+6zBD9tMJvduVe+XTTTzJjI4abRdXs77t7ZevEGqbzXobcvLQeSDDXgLlRgKSiQA0CDlQZtNptSqezs7LTb7aFQKBAIACMIn8+XoQtN07FYzOl0ms1mk8lkt9uDwSBLokmSTCQSXq9Xo9EUcOQQi8W9vb2RSGRSE+eMswPHD6/XW1tbKxaLBwYG8oHsSCSi0WhEIpFAIGhrawsGg9ldzVUNTdNAcD6fL5fLdTpdNBqdghRzNX543jlRwGQyjUxsBZbQDAQCIGZkZKSAe3goFGLDwFzYhrFYrKTZWa1W0FXxDafQpKQhwWCoAFQAKjCjCrxQhz+nYNJ2Ntdie9XEm01LMYVnAVlwuN3unTt35gPQ4+Pjk94twHljLR97vREH2YivN+LVw3MJoD/tfxfg2icUt4FVBwvPgmXQtwt+b42YCgdP+WgxAJqiqU0Nd2Ww5uzddTXXJYnTC4ZDAD3liwIbLlAFEji9vRXf1nzqM2dZJXofgg15qDhGB5OnIbLCyJhvOKM0MkgEEqfqQyl6TwfxeiNeNUBcfxC97Si66jO0yULG0NMNF6gsi2bYArX1XZFOY858AH3RTDDnRI6rLFuO9q58u7m8QrJfYZRrnTnDYCVUACqwaBTIDaBZH2eLxWI0GsfGxlwuVzAYLJwSQtM0iqKhUMjtdttsNqvVarfbzWazRqPx+XwEQfh8vv7+foVCwefzs9cnFAgEzc3NLpdrCuAVJEHz+fyWlhav18umYLPXKRqN9vT0iEQiBEGampo8Hs8UzsL2NhMFmqb9fn97e7tAIJDJZENDQ7FYLHsiM3Fq2OdCVGB8fLzs8+3DDz/MN4XVq1d/HlX28ccf5wtbv349CPvWt74FYi6//HJQgyBIvlY56//85z+DhidPnswZkF156aWXgiY8Hi/7KKyBCkAFoALzXIFd7fjDQmbp9hP9xBtN+Ev1EEDPEoqdwo1BUdTRo0fz0efa2tpi+gyl6GWV6D087KZDpx6KX3kMBemExTQ/w5icGdAkTb6jfqZI+gwG0GKT3Sm8tMelOsPxFGheDIBOp9NRNPRa2+PZ0Jmt2diwOmOpQwigC8gODy1WBVRj5PE+xrsZ/O61rBK94zj6nALfrsI9sVMoucdByQ2kwU8lcJqkaJSgK7uJGw+hd1eheztPPbGxrBKtM5HmALR+nhd3yqgn1jTk7hsLynsdamNmqt+8GOKMDaK+33XpJtmq91S/e1qiNvqS2Pz942HGNIAdQwWWlgJ5ATQrAzmxsbvFFMD6hOFw2OFwqFQqkN0MlitMpVI2mw1kQ+dk0CqVagq5ySRJOhwOoVCoUCjGxsYyXDiAzzJY608ikRgMhsIkvZg5zlCM1+ttaWkRCAQKhcJisUzZGnuGhge7nVcK/OAHPwDc9s4778w3sO9///sgpqys7I477sgXVl5eDsJWrFgBYv7whz+AmukC0KtWrfr/Jrbm5uaMYUAAnSEI3IUKQAUWlgL7uhjunE6n/QlaaSZfUkIAPX+/Q3Z1deWjz3v37k0mk8Xcey0Wclklej+CPSI6/UR84yi5Vz0b9p05AXQ6naZoCqdKu/cwEi1mvlOOaRqXsBB5BVL+Rtv6fF3RNC02Hr5TeCk3fgVSfjv/4kMD75NUprBP1q3kRha24Mig1WNhQ75hpNPpxxW3rEDKbZHRAjHwEFRgThTACPo5BX5ygLjuwGkGDWD0dhWucVCRFD3gpiq7CYOPQglabiCfV+A3HMwMfqu5tA+KOZns0jlpIIbW97viKeJDuWGpLcT38sn+616pv+H1hmtfrq/rg+nPS+euhzNdugpMDqDPRBscx41Go0aj4T7+Dyw7TCZTY2MjgiAZGFokEmk0mgJeAfnGEw6HZTKZWCzu7+/nOhLQNO10OsG5+Hx+W1tbKBTK18mc19M07XK5Ghoa+Hx+c3NzzmzuOR8kHMA8UWDVqlWAEf/4xz/OOaTBwUGWPpeVlf33f/93zsT/cDh89tlng8i9e/eCrqYdQF900UXgFGKxOGO0EEBnCAJ3oQJQgYWlwHutOG+QAWSWIHW8jwALEi6sKZz5aBeEBUc4HN69e3c+AK3X64vU4f1W5in4tXxsffVpAN06Tu5omw2skw9AFzn42QyjaCqORdlXipiE71M0ZY9aWm1y/khls1U6HjFmo2cwfpRIst3GsShasOeMYIoulPgJAfRs3iHwXKUqMOyjXm3AH+d88lz7OYx+sR7fJMfqjMSudnxbE95gJrkfUGzS9N1VqFhP5vxGUOpgYPx0KcBXW4ftkdvfbV5qHhRNQ+67drZe/WLdHzfLJN12nCz04TxdasN+oAJQgTlUYPoBNEEQKIomk8lIJBIOh+PxeCKRSKVSGavqEQQB8qOz7ThkMpnFYin1/8V4PA4oc1tbG1gmEcgaj8eB9TOCIFKp1Gg0ZoxkDtXPeWqKosbGxiQSiUAg0Gg0sVisVClydgsrF58Cn3zyCcuXbTZb9gS3b9/OBoBCX19fdphEImHDzGYzCNixY8dTE9vAwEB2kwI1+Sw4IIAuIBo8BBWACixoBXa142I9GUjQDwuxQ71Er3MpfoNaEABaIBDko88lPe7zTsspG9bHxKcBdNUAcWBiLcqZvpkXEICeaSlmon8IoGdCVdjnNCqwq/20DTTAytyE6Aoptk6AyUbItz//mGLR87JK9ObDaNs4GZ1J62dbZFQxylvKrzhW2kKCKZys7rY3Dbkf/7irReeZxltl/ne15Wjv2j3t/9zeUl4heVs4hBNL8c+n+X+Z4AihAtOowPQAaJIkURSNx+PBYHB8fHxkZGRgYKBzYhsbG8vHT0mS9Hg8KpUqIw+az+e3trYW+RQkq0UqlWpvbwcWz263G5wUwNza2lo+n48gSGtr6xT8PdhTzFoBx3GtVisQCKqrqw0GA4rO7AOSszYveKLpVcBisbDg+OjRo9mdX3fddSDgq1/9Kii8887pFeTZ+A0bNoCjP/nJT9jKKRcggJ6ydLAhVAAqsBAVsIao1xrxPR2EJUhta8YP9xKCoflrQDFzCs9/AK3T6fLR5w8++KD4x+Nomr7r5KlH2u+uOv1s+y1H0KN9mU4RMyE4BNAzoSrbJwTQrBSwMD8VSOH0fcjpn76WVaIPCrEHhadqbjiIPijAln96+qOJC6C3t874Uxoy82dce5wlWC7VwGfcG1+zq6112Lv1eN9xlWV+3nUzNKq/PFd753uqW95sLK+QvHKy3+qLz9CJYLdQAajAPFHgjAA0QRDxeDwUCjkcDqPR2N/fr1ar6+vra2pqRCIRn88XCAQNDQ2hUKgAg3Y6nfX19RlGHHK53OFwlKQRhmHd3d08Hk+pVDocDrB8XzQa7erqEggECIKIxWK9Xp9hD13SKTKCSZJMpVKxWAzkekej0UQiAayuMyKnsBuLxVQqFZ/Pr6urc7lc8zxrewoThE2mRYH/9//+H2DHDz30UEaHGIadf/75ZWVl55133jvvvAPCrrnmmoywdDp9ySWXgKNr167NPlqghqIovV7f3d3tdrvZsGkB0KlUanh4uK2tzWAw5Pv0YM8IC1ABqABUYA4ViGM0MkTcfBi1BJmlnz7uJgz+pZjCM88BdCqV+uijj/IB6O7u7uJvIV+cvj7LUxUgnspuCKCLF3KeRkIAPU8vDBwWR4EuG3XjIfSaSvSWI+hdJ9GHhNhaPsb+MMYS5+WfMmsPsrvLKhnzDU43M1IEAPpxxS17el5eaq/V4sum4CAfTxFrdrUFYmit1ilQW2fkqszXTt8T6254veHy5+TlFZJ/bm/hL7Hpz9fLAscFFZhBBUoD0BRFkSSJ43gymfT5fGNjYzqdrru7u6mpSS6XV1dXC4VCBEGEQqFMJmtoaBCLxUKhUKvVRiKRfAgVx3GTySQWi7kMWiwWDw0NlTRvHMd7enp4PF5dXZ3dbqcntrGxMblcDtKf6+vrnc5p8LbHcTwUCtlstuHhYa1W29nZ2dHR0d7erlarNRrN4OCg2Wx2Op2xWOwMYbfL5QKD7+zsjMfjEMOVdD8skeB77rkHsOMLLrggY8qNjY3g0FVXXWUymUD5/PPPz1jZMh6Pf/nLXwZHT548yXayZs2aX05sKpWKrQQFkiS3bdv217/+9T//8z9Bw7Kysl/96le7d+8mSTIDQD/77LOgn/POOw8Ef/Ob3wQ1b7zxBuiQ6wFtNBpXrlzJpmyXlZX913/911133VV8blrGaOEuVAAqABWYaQVCSfqWI6gzSu9RE2824ZYgBNAzzjhKvaZyuTwffT58+HC+v1FznsUcoN5uYVLduVgHlLerZjy7MJ1OwwzonNdluiohgJ4uJWE/M6rAExIm5fnxauzaA6jSTN529AugOfvT6ebD6DMyjKDoGR3Vv/NaAID+qPe1mT7RPOx/ap8e4974rpphea9jn8K41BYhvHN7y1+eq132Ul15heTql+o+qBmeh5cVDgkqABWYRgVKANA0TaMoGg6Hx8fHBwcH29ra6urqpFIpSHbm8/kSiaShoUGtVg8NDVmtVpfL1dvby+fza2pq+vv7A4FAPiAbiUTa2tpYAI0giEAg6OrqKgm54jiu0WgAgLbZbBRFJZPJ3t5ekP7M4/G6urpisdiZaEeSZDAY1Ov1bW1ttbW1IpGIO2ZgJCIQCCQSiVKp7OrqMhgMXq8Xx6f4bYQkyaGhIaFQWF1dbbFYSvp2dCbThG0XkAKHDx8GVPfss8/OQLRbtmwBh95+++10Os3mSjc2NnInqFAo2B645un5FiH0+XxXXnklaJL97xVXXHHxxReDeoCz77vvvuwwUPPAAw+AkbAAev369Vz0zG34ox/9yGpdWkkB3MsEy1ABqMB8VkBpJjfKsEiKXl+NVUixUQigyfkFoK1Waz76vGPHDpfLVdLdhRH04V6C6/68rBLdJGdg0NstU/yTr6QBQABdklylBk8NIZV6FhgPFThDBTwx+prKU9D5hkPooJt6oQ5fU/UFaw4WQ996BO20keTM02cIoKeQAW1wRu7a2cprHxd2Wse8ZwQrzvCmmuXmkQT+py2y8grJxc9Iyysk5RWSZw71zPIY4OmgAlCBWVagNACdSCRGRkYaGhokEglIKxaJRAqFoq2tra+vz2w2u93uaDQKQDNN0+FwuLW1FTDo3t5en8+XkX0JZovjuNlsBqsRggRqPp+vVquBjUaRimAY1tnZiSCIUqm02+0URbnd7oaGBmRiE4vFIyMjZ8Jwk8nk2NhYe3s7lzuzAJrH44ETsf/yeLzq6uqWlha9Xu/3+6d26ng83tTUhCBIc3NzJBIpicgXqRsMW9AKOBwOltJKJBLuXFgQ3N/fn06nH3jgARD57LPPcsOee+45UH/hhRdy63MC6EQi8ZOf/IQ941e+8pVLL7309ttv/+Uvf3nWWWex9aAAAPTjjz/+zYntnHPOAfVf//rXQc2TTz4JzsgCaLaHX/ziF7feeusdd9zx/e9/n61ct24dd4SwDBWACkAF5okCu9rxbc04RdN3V6H38rDHq7F5MrDZHMa8teAgCOLTTz/NB6CbmpqmoJJ0hGTJzrJK9NYj6Iv1zLJgDebZIO8QQE/hkhXfBALo4rWCkXOrAHeZwY0yrNlC7mrH32rOXKLwmkr0UO9suAMBNWAGdKke0P9mJus/6eK1jz9zqGdgPDS3N9Vsnt0bSb0r0l20gaHPf9oiu/415VuC0p6An83RwnNBBaAC06JACQAax3Gfz9fS0sLj8fh8fkNDg0ajGRkZsdvtoVAIRdFsPEpRlNfrBRRYKpV2dXVZrdZEIpERSdO0z+eTSqUIgohEImDl0dvbW9IMU6lUW1sbn89vbGx0uVwEQYyMjIjFYkCEa2trbTZbSR2ywTRNR6PRoaGh2trajPUSuQA6m0GDU4vFYpVKNTo6mj1x9hQFCuPj40AQvV6fE98XaAsPLQUFfvnLXwJEu2nTJna+wWAQAN/vfe97oLKqqgqEXXLJJWxYOp2+7LLLQP3GjRu59TkB9LZt21gcfNNNNyUSCbaJwWBgRwJiuIYe6XT6oosuAvVisZhtBQpcAP2Nb3yjqqqKDYjH49dffz1o+JWvfKXUtUnZfmABKgAVgArMnALbW/FKDfP1/u4qxnBzW/NspMHO3HSm1vO8BdAqlSofff7444+n9pdVv5u69sDpB95vOoSuEzCJhwojBNBTu33mUSsIoOfRxYBDKahAFKW5zhtPSbE9auLWI6c/mpZVMj7Rs+D7zB0mBNClAuhoEl//SZdK7/n7q0ph5xR5BfcSLJQyRdEvnOgDuc+Xbqq57Fn5LmjBsVAuHhwnVGCqChQFoEmSdLlcAwMDbW1twKwZJBQnEolJk5QpinI4HC0tLUKhUCwWNzY2Dg0N+f3+VCpFEARLokOhkFKprKmpAdYWNTU1o6OjJU0qHo83NDQIhUKVSuXxeOLxeHd3N5uPrFKp/H5/SR2CYECf+/r6JBIJFzezPXMruWU2ADBrmUzW19cXDAZLTYXGMKyjowOsRujz+SYVfApzhE0WtAIPPvgg4LN//vOf2YnweDxQedddd4FKFkmfc8454XAYVKIoeu6554LIuro6tnk6nc4G0NFo9Nvf/jYIXr58efadHAwGf/7zn4OAf7tCTw1AKxQK7jDS6bTH42Gzp0dGRjKOwl2oAFQAKjDnCuxowz/owFGCXsvHHhVjRrgI4byx4PD7/bt27coHoE0m09RuHmuYursKvfnwadBz3QSPVsIM6KkJOp9aQQA9n64GHMskCjRZmKcxbjqE3nmC+Ti68dDpDyXwlEa/e7bXJIAAulQAHU8R9+1ul/c6/rZV0WmcCq+Y5C6Zx4f5aiswgAYYWmsJzuPBwqFBBaAC06BAUQAaRdG2tjaBQMACVqFQODAwwOLjwgMhCMLr9Wo0mpqaGmAV3draOjQ0ND4+7vf7Q6FQOBx2Op0qlQqYSgsEgtbW1pL8mmmaDgaDNTU11dXVvb29kUjE4/EA8wrAf7u7u+PxeOFx5jwaj8cHBgYAfUYQRCKRNDU1qdXqnp6evomtp6ens7OzpaWltrZWKBSyEoECF0OLRKL29naPx5PPCzvnAP5tnuByuYB0Op1uyo7S+TqH9Qtdgc8++www33PPPRdFUTCddevWgcojR46wE/z9738PKgUCAahsamoCNf/xH//BtgWHsgE0giAguKysrL29ne2WW9i3bx8bMwUA/be//Y3bG1v+2c9+Brqtr69nK2EBKgAVgArMEwX2dBAvK3F/gr7xELqmCuMPzd7DzvNEgXQ6PQ8zoGmaPnHiRD76nOFbVZKSQx5qowx7gP8Fu9U7jqOzY7EKLThKulilBkMAXapiMH5uFdg8YUDPNQViy7vacW98xlcdzJg+BNClAmiCpK7YqjiuspRXSFR6T4aei3t32B556CM1oM/lFZL9dcbFPV84O6gAVKAoAI1hGHeRQOA1UVdXVzwjpigqFouZTCaVSlVdXc3n88VicV1dnUqlam9vV6vVYFm/6upqgUDQ1NTkcDiKpNvgEhIEYbPZBAKBQqGwWCwYhlkslpqaGsB/BQLBwMDAFNAtjuMmk0kmkyEIIpPJOjs7jUaj1+uNRqOpVAqb2FKpVCwW8/v9NptNp9O1tbWB83JJNIuh+Xy+SqVyu90lMWiCINRqNXAXCYfDJSkDb/FFr4DX62X9l1UqFZjvT3/607KysrPOOsvr9bIKsHbPjzzyCKh8+eWXAdi96qqr2DBQyAbQrP/G//7v/2YEs7soip5//vmgzykA6K1bt7JdcQsXXngh6DPbvoMbBstQAagAVGBOFPikm3hUjEVRGnztB3YcczKSOTzpPATQvb29+ejznj17iv8jNltVtY1Ehohd7V/wWt0ow7TO2Ug2hAA6+4pMYw0E0NMoJuxqFhQgKfp+BLumEn2Aj3GtgR4RYUmcRgkIoGfhIpw6xZQ/Pf7yXO3jH3ctQQAt73U8f0zLAugP5YbZu1rwTFABqMBcKFAUgCYIwmQyZdgfC4VCvV5fEgwlSdLv9xsMBrVarVAoxGIxn7MJhUK5XN7d3e10OrOf7i8sTjKZ7O3tRRCkqanJ7XbjOK7T6YRCISC/YrHYYDCUNNR0Ok3TtNfrbWpqAuTXZDJFIpHCA8NxPBQKjY6OdnZ2AktrFkMjCAKWbeTz+S0tLV6vt3BXGfN1OBwSiUQoFJrN5pIaZvQDdxelAv/3f/8H+Owbb7yRTqdHR0fBbnl5OXe+zc3NoJ4lyFdeeSWo2bZtGzcypwXH2rVrQfBNN92UEczd/fWvfw3CpgCgDx06xO2KLbMAurq6mq2EBagAVAAqME8UONxLrDiKhlKnAHTVIMyAng0r5MJXPxaL7dmzJx+ABsvzFu6hwNF+F1VvIjMW+7qXh1UNzMalBwB6BVIOXzOnQKk5jAXuFngIKjDTChzREv88ge7uIO5HTj2WcdtRVOOgsFmnz+l0GmZAl/rpgeLklS8oNhzUlFdIltoqfE1D7o/rjQBAX/i0ZN3ejpl+s8D+oQJQgblVoCgATdN0KBSqqalhcSqbBM2ayRY/DYIgIpGIw+EYGRnRarUajaarq0uj0eh0OqvVGo1GSyXFYKlD4ICh0WgikUgikdBoNGzesVQqtVgspXaLoujAwIBIJJLL5WazufgEaoqiIpGI0Whsbm7m+pZwGbRarS4plxnDMJVKxefz29vb4Tpsxd9sSyTy8ccfB8x3+fLl6XR67969YDdjXUEcx7/+9a+DQ3a7HcdxNlu5p6cnQ6vsDOjrrrsOtGV9pTOagN2rr74ahE0BQPN4vJx9sgAaZkDn1AdWQgWgAnOrwNE+Ylkl+pLyVD7sif7ZoJCzNuVUKmUsYhvibPPhl/Lq6up89Pmzzz4r9W/CDLVlBlLrpJ6t/UIG9D+OobPjvgIB9MxxZ7bnUhFSxh0Cd6ECs6lAEqd3teP/Tn9ut5LAkePZWpygZjv3GUwZAuhSPz2CMfTJyu6jLZYrX1BsPd43m3fO3J4LI8jDTaOHGs3lFZJLN8mWvVT3tnBobocEzw4VgArMtAJFAeh0Oo1hWE9PDxdA83g8gUDQ29tbkpsEdz4URWEYlkgk4vF4MpnkrknIDZu0jKLo4OAgn8+vr6+3Wq0EQYRCIeAZAhKs5XK5zVbykrJerxcQ5M7OzkgkMukwMgKA83V3dzdYthFIBxg0n88XCoWDg4OpVCqjVYFdk8kkEokkEonb7YZLERYQagkeEggEgPl+4xvfoGl6xYoVYLehoSFDjeuvvx4cOnDgQEdHByh/5zvfyf4qng2g7733XhB/++23Z3TL3b3oootAGATQXFlgGSoAFVjEChzVEg/wMbGeWQxqWSUq1M19/u80qp1IJDhsuajinANoo9GYjz7v2rVraqtScyXttlPNFrJC+gUP6FuPoHWmWbr0NNxmWAHu5YblpawATWChmnfj3adWT5m3UrRbyX1dxGNibEcbfucJdMQ3G3ZAOdWAALpUAI3i5FUvKjpGfOUVkndFupyqLspKiyf2ysn+nZJhkAF92bPy/QroAb0oLzWcFFTgtALFAmiKojweT3V1dQaDlkql4+Pjp/ub9RJJki6XS6FQ8Pn83t7eRCKRTqeBdQaPxwMAuq6uzm63lzQ0iqJMJpNEIpHJZGazecqQPRKJ9Pf3gzUMuQwaQZCamhqAy4scWCwWUygUCIJMzc+6yLPAsIWoQCgUOvvsswH21Wq13/zmN8vKys4//3wMwzKms3PnThC2atWqN998E5T/8Y9/ZITltOB4/fXXQfyFF16YHQ9qaJr+9re/DcIggM6nEqyHCkAFFpkCB3uIGw+hMsMpAP2helFlQC84AI1h2Mcff5wPQOdbRLfUe/JwL/FOyxcyoFccRRdZ8nupmsB4qMDiU8C5/Sbrpgusmy6INOyf57Mb8lD/PIHedAitHibnKv0ZWnCsQMpLBdDpdHrl2817ZCPlFZIXTyyhDOh0Ot0x4rtzewvrAf3Kyf55/i6Dw4MKQAXOUIFiAXSZjzMAACAASURBVDRIgtZoNBkAGkEQpVJ55rkkU5sGTdPRaLSrqwssEuh0OkFqsMPhqKurYwF0fX290+ks6RSpVEqr1SII0tzc7PV6s/NDi+8tHo8PDg5mMGhgqN3a2hqJRIrsnKbprq4ugUDQ0NAQi8WKbFX8OGHkglaANalYs2YN4L/AjiNjUsPDw+Do9773PdZSY9++fRlhOQF0VVUVaHvWWWfp9frsJul0uqamBsSUlZVBAJ1TIlgJFYAKLD4F9nYS9yIYiyPvrkJnf92nmVN1wQFopVKZjz4fPHhwyikFXIUpmt5ah0uGT/3kADLfr6lE1wkyf/fltoJlqABUYMEp4D+2AQBo2/O/j7Ydm8/jJyk6gdP+BB1D58Z8A4gzVxnQ7ritw1F/Qvfhjq5njwzuarXJ7dHR6bpezti4OaQDL0t4JF+3U16EcPX7qreFQ+UVkqMtlnydL8p6Tzj14om+izZIAYOGAHpRXmU4KagAV4ESADRFUT6fTy6XZzBoPp/f1tY2BTNo7jimVsYwbHh4WCwWi0Sinp4eNt/TarWCcYIM6CkA6FAo1N7ezufzu7q6otHo1IbHtorH41qtluvFARYkFIlEJpOpeHfp8fFxMFmXywVdOFh5YSGdTj/99NMs+QWFHTt25FTmRz/6UUbk2NhYdmS2BYff72ctpFetWpXdhKKoK664gu0cAuhsiWANVAAqsCgV+Lib2CzH9F4KgMj7ESyBz+X3/+kVmaIotIhNr9ez9hxzaMHhdDrz0ecdO3ZMwZAtp5iuKH0vj7niNx1iTFeWVaK3HmH+3dGG54yHlVABqMACVYAIu32H1rveuwVgaP+JTanR7gU6l9kZ9uwDaJRI7tG8xBq4cwuvtz0eRUNnOHFTcOh2/sVst6vFl+XrcGoAGiepizZIt4t15RUScVfJrqH5BrMg6h2BxIdyA5sBfce7LQti2HCQUAGowJQVKAFAp9NpgiCGh4eFQmEGgxYIBF1dXVMwSp7yuMFgxsbG5HI5yMJ2u91sbxaLBSyZyFpwOBwO9mgxBY/H09jYKBKJBgcHURQtpknhmEgk0tHRwUoHzKB5PF5LS0vxusViMTBfnU5XPLYuPDB4dHEowE09Bgh4eHg459RYK2cQ9rOf/SxnWDaATqfTzz//PMuXH330Ue6vIBiG/eMf/2CPZmdAsx1+8MEHGWe89NJLQUO4CGGGMnAXKgAVWBAKyA3ki/V4i4V8rZHxZFh9chr+bFgQE+cOcj4AaJIkDx8+nA9A19XVcQc85XIco3sc1AENcaKfWXxyWSV6wyH0KQnjB32wZ1G5r0xZItgQKrCYFEj017p33QEAtPXZct/Rp8N1eyiUcX2EW7YCswygrRHzesWtLB3OLqyVLtP5NNnjLLImjkcfkl3P7XbaAXQ6nf77q8pdNYwV8sFGc5EDWxxh3Sb/ur0dLIB+6CP14pgXnAVUACqQT4HSADRN0/F4XK1WZwBosCBhd3d3MBjMd6bprScIwmq11tfX83g8qVSq1+vZ9Od0Oj06OgosLwCAVigUpXpA2+32uro6iUQyPDw8XajX4/EolUpgvgHsQRAEEYlENputyAdCKYpqa2vj8/mtra3A7Xp6VYW9LVwFYrHYl770JZb//vjHP843lxMnTrBhZWVlDz74YM5IlhcjCMIGhMNh1uL534j5V7/61SOPPLJz5861a9f+9Kc/5XabDaBvu+02EHDuuedefvnly5cvP3r0KOgZAmhWYViACkAFFqICR7TEWj5GUvSudgZArziK+hOLJwO6yCsyHwC0Wq3OR5/37dtX0srPBWZdZyKvPYBurcOP9Z0C0Msq0UfFDIBWmmdpEcICw4OHoAJQgWlXICR/37Vz5SkvjhcujbYe8R/fGFHuoyn4ls8UezYBNEqmHpbfwKXDOcurxZcFkt7MgRa3/456Q0afMwGg1+xqq+93lVdIXvpsCZkg2wOJqrbxV6r6//p8LWDQq99XJTH4niru1oRRUIGFqUBpAPrfKZDAdrmjoyObQSMIUldXZ7FYZvrRy1QqpdfrpVIpS58zkpRZAI1MbDKZLKfJQIFLZrPZamtrpVKpwWAokg4X6A0commaTc3m8XhsEnRXV1c8Hp+0OQgwGAwikUgqlfp8PmgDXaRoSySMxbhlZWX3339/vln7/X52xcKysrJ8Scc5AXQ6nTYYDL/61a8yWDO7++Mf//i73/0u2M2w4GDXP2SDH3jgATBIduT5BsM6XIvF4nzzmq76OBYdCxvgK46fqfXQdF0R2A9UYP4rcKKfuPYAGsfo248z+bCb5Vg4BQH0bF+3UCj0wQcf5APQIyN5XTtLHShN00ozyRskhLrTHtD38BgAPR6iSu0NxkMFoAILQoFo2zHnW8tP5UFv/o3v8BMR5Ueejx9ArUtr1bhJL9ZsAugTug8z6PCdwks3NvxrteiyjPr3O7dMOvLsADCXjK5mAkCveKvpWIulvELy2P7O7GEs1hqDI/L4x10XPi1hM6Ave1YeSUAnq8V6weG8oAKMAsUCaIqiWNxJ03QwGGxubs7JoGUyWV9fXywWmwmBSZIMBoM9PT0gwVkqlep0umQymXEui8UC8DQA0NXV1SaTKSOm8K7dblcoFNXV1dOYAZ1Op1EU7ejoEAgEQDrgBF1bW1t85rjH45FIJHw+32azzTToLywRPDrfFNiyZQvLdjPgb8ZQWZ57zjnnhEK5ndHyAeh0Oh2LxdasWfOd73yHPV1ZWdlXvvKV5cuX+3w+1gZaKBRyz0uS5BNPPPGNb3yDbcUC6L/85S+gMh9fZgl1vgDuic6w3DAmyvhDc2nutthkZ6gkbD5lBYzBwS5nE3wVVkDrbpuywtPeUGEk765CTf5THtAPi5hs6Gk/yzzvcM4zoHk8Xj76LBAIple9Thtp8lNbapmEd+5rXxe04JhepaentxgWKfx5Ao9yFZjGpdum5/rNj17IRMi9+85TAHrTBbatl9hfvsx36HHrs78LyXdQycj8GObcj2LWADRJk2uly7h/pW9sWJ3EmaQunMLfaFvPPXQ7/+IIWtqD2qOh4dsFv+d2AsozAaD/vEW+t5axQl5SGdDeSOqyZ+UsfS6vkNz8ZuPc38FwBFABqMBMKpAXQNM0nUgkvF6vzWaz2+2RSITr90pRlN/vb2pqymbQPB5PJBI1NzePjY1xbTHOcBZgPEajsaGhQSwW8/l8pVI5Ojqa84HKsbExrge0UCjU6/Ul4Vq3293Q0CASiQYGBnKeYsrTYcfGunAIhUK73V7k8OLxOFhfcXh4eLpSs6c8F9hwXimAYVjg863w7RSPx0FgPvqcTqej0WhwYitgQWOxWE6cOPHpp59qtVo2LJFIgM65nxhcoeLxeDAYDAQCrI1MMU1An+xZuB1ObxkA6NXiy56sW7k0XyBtBALo6b2vSuot41tT9pcfWLMCKb9PclVJqs5osNJMrjiKGj4H0A/wMVcUAugZlTyz88HBwXz0effu3cUvtpHZb559uYGsHibvQ5isZ+7rk24IoPNINqfVI4E++LFZvAJHBnfN6eWavyfHfWOej+5hGTS34N51R6yTNy1Dd7lcL7300lVXXfXzn//8u9/97q9//esrr7zyhRdesFqtGf13dHQ8PbEdOHAg4xDYValUIEAikbABn332GagE6VmNjY1bt2696qqrvve97/3lL3/ZsmVLW9up33dpmpZKpRs2bLjkkkv+53/+53e/+93KlSsnNdOfNQA94O3k3tUr+Rf5kx52mhiJrqm+ghsgN59kj05aSOLxR+Q3cpuz5ZkA0JdsrHlsf2d5hYTXPj7p2BZNgN4evumNRi6Afmx/J7X0fr9fNBcUTgQqUIwCmQAax/FAIGAymfr6+gYHB0dGRlwuVywWw3GczYAG/QIGrVKpcjJoBEFkMllHR4fNZjtDDE1RVCKRsFgsbW1tUqkUQRChUNja2up0OvPRKKvVCigtsLng8/larTbDpqOwOoFAQKVSCQQCjUYzvdnciUSiubkZOEGDBG0ej2cymfLNJWOcBEE0NjYiCNLb21tkk4we4C5UACpQQAEAoHd2P18gZnEf2q7euAIphwB6Dq8yANDPKFe93vY4fGUr8JLqofkGoBtHyduPox91EjcdYnDkQ0JsbOlZMcxhBnQikdi7d28+AN3T0zPtb2driHq1AX9GlgmgkSEIoKdd7GnoEADou8SXZ3+ewBquAo/V3rICKYcAusA9l9Q12F/5i3Xzb7j0mS27dq5ER6e+3l06nd65c+eXv/xl9mFBbuHss89+9913uWP78MMPQcCNN97IrWfLO3bsAAG33XYbW3nPPfeASgRBXnjhBe4pQPnss8/etWsXSZJ333139tGysrJVq1axvWUXigfQW5vX3im8FLzGI8bsrgrXIMOfsFB4BVL+ZvuTGfEH+t/hBuzq3poRUGD3vc7NbNuMPOiZANAXb5C+WjVQXiF55eQS8oDuMvm59Lm8QnLJxhqtpbRE9QIXER6CCkAF5qECpwA0yC82GAyaiU2v19vt9nA4nEgkstEzOw2KokKhUHd3N5/Pz4mhBQIBwNCjo6PRaLRwVibbLSjQNE0QRCAQGB4eVqlUNTU1wLACWHwEg8ECvTmdTrA+IQDQCIKo1epotARL00Qi0d3djSCISqWaXrdlmqb7+vpEIhGwgQYkemhoqPg8646ODj6f39nZWRJSz5AX7kIFoAI5FYAAGgLonDfGbFYCAN3phM8h5lY9mPLNNwCtcVB3nUSFOnItnyGSO9pw6AGd++LNTG1NTU0++nz06NF8j+Oc4VhCKXpbM77y2BcyoIU6uHrSGeo6I80BgN7UcNeM9L6IOuUN74cAuvD1pHEUcw6Hat5loTMouHevsr/0J6a8+TeBk89RqRK+dbJn/PTTT7nA92tf+9oPfvCDr3zlK2zlWWeddfz4cTb+DAH0j370I7bn888//5xzzmF3zzvvvL/97W/s7n/+539yh1FWVrZ//352GBmF4gH05sa7WMg7FjZk9DPp7tsdT7PNVyDlQsPBjCZqh5Ib8GTdyoyAfLsKC8JtKDUdv4eTTD0TAPoPG2se3Ku+7pX6JZUBbXBEsgG01Vfsylj5Lh+shwpABeazAqcANEmSNpttcHDQ6XRGIpFkMlmkvQNN07FYbHh4GFhe5MPQNTU1DQ0N3d3dRqPR4/HEYjEMwzK+EtA0TZIkiqKRSMThcOj1erVaXVdXByyPgbOHWq12Op3JZDKjbYbEXq+XtQcBWcZNTU1ebwmr35IkqdfrhUJhXV3d+Ph4kWpkDCPfLuvCwWZA9/X1ZTtZ52uu1WoFAkFLSwvrYJAvEtZDBaACpSoAATQE0KXeM9MeDwF0YUnnIYCu7CZuOIR22al/nmBw5P4laQQ8VxnQY2Nj+ejzzp07PZ7TT2QXvq9KPWrwUwd7iOsPfgFAv9oAV08qVcjZiIcAukiVIYAuRigiYCP8VvsrlzO4eUu5ddMFthcuPUWfN10AeLT91b8kh5TF9MaNYZc8+eUvf9nc3Ay+7WIYdvz48W9961sAB//hD39gm5whgAYd/utf/+rv76dpOpVKvfjiiyx0LisrO+uss9auXWu32xlXZRz/7LPPvva1r4GA5cuXs8PIKMwagN7YsJqLiXtcqoyROKJj3IAC4JjbcCxs+KfgD2zDbR1PpdPpGQXQBEn9cbNsza62ZS/VnWgd09nC3PEs4nLDgDsDQC9/teR3zSLWB04NKrAoFTidAZ1KpRKJRIG04gLzR1HU5XK1t7ezy+vlI9ESiaS2trahoUGlUnV1dfX29vZPbH19fT09PZ2dnS0tLfX19XK5vLq6mk2sRhBEoVAYjcZYLFbMCMPhcHt7OxgDyJuWy+XZzlkFZkTTtM1mUygUYrF4YGCgeDqc3SdI5SYIgvUwCQQCCoWCmwGt1WqLP4VOpxMKhfX19dPrDZI9clgDFViCCkAADQH0nN/2EEAXvgTzEEAf7iWWVaIKIwnsgPd0LEUfhjkB0DiOV1ZW5gPQLS0the+lMzkq1JHIIHPdua9HRNiZ9AnbzpACEEAXKSwE0EUKhbkMjjevAazZ8cbV1s2/DSAv+A4/AWqYfzf/1rb190HR65ir2MTeeDz+pS99CeBdHi/TTlqpVIJDX/rSl9gvgGcOoCsqKjKmfPnll7MM+qmnGPbK3bZu3QqO/vCHP+TWc8uzBqAfVzCOMezLEBjgDoNZNR2LsEdXIOUrkQszArJ3U0SS2+2DsuVxjElmn1EAPeqOlVdI/rCxprxC0jrsjaeWyp8QTUOZALq8QuKLoNnXBdZABaACi0aBTA/oKU+MJMloNGo2m5uamlhwnBNDg0oEQQQCgVAoFH2+CYVCAIu5rQQCgVKpHBwc9Hg82V7SFEVhGIbjeEZCdDKZ1Gg0XJ9lkUhU6jqEkUhErVYjCNLU1OR2u1l8PKlEYFSxWCwYDI6PjxuNRr1eb7FYWJONRCLR2NjI6sDj8fr7+4sH0EajUSQS1dbWhsPh4kc16bBhAFQAKpBOpyGAhgB6zt8IEEAXvgTzEEALdeStR9DG0VMA+v3WpZgGOycAurm5OR99rqysnLmlMuIY/Uk38aQk0wP67ir4zbnw23dujkIAXaTuEEAXKVQ6nWbMoF+7gkl/fu4i78HHHNuu9R15Kqo6ZHvhD9ZNFzjf/juA0e69d8V7xGQsMGnPkUiEJb+PPfZYRjxN0/fff//q1avXrFnj9/vB0TME0D/84Q+zv36+9tprYBjnnXde9rO2ra2t4OhXv/rVjBGyu7MGoNdKr+Hy5WwTD4LCuQErkHKUSLLjzFnY2f082+Qf/ItZqD2jANodSpZXSJ460F1eIWkbLuGJ7ZxTWECVrcPeP22RZSRBL50E8AV0peBQoQLTqMDkABqYbPh8vmL+jsdxPBwOm81mlUolFou5KLnUskgkUqlURqMxGAymUikuYqZpOplMWq1Wk8lksVhGR0dNJpPD4WBHSBDE0NAQSMcGNhcIgnR1dbG/GBejIEmSBoOhurpaJBJptdoCbWmaxnE8Eol4PJ7x8XG9Xt/d3a1SqRobG2UymWRiUygULpcLpG+jKNrS0sIOjMfjDQ8PF2/oPDY2JhKJampqQqEQBNDFXEoYAxUoXgEIoCGALv5umaFICKALCzsPAbR0hFx5DNV7KZAM+1ojBNCzYYXs9Xp37tyZD0BbLJbCN9KZHI1jtFhPAscVmAF9JkrOTlsIoIvUeT4DaJqiqFSsyInMQhhN4sHqbc7tN4F8Z9d7t1g3XRBp/CSpbwK+HNZNF/iOVjhev9K5/aaYuooIuycdFdeU+eqrrxaLxdmAmNvJGQLodevWcXsD5f379wPE/Nvf/jb7qMFgmD8AmpuqvAIp1/t7MwaMkxhLk0EhgRe6hcBXALaJyHCI7XBGAbQ9kLjwacl2sa68QvL8MS170kVfcIWSf9oi+9tWxfJXlSyGdocm+ZFg0csCJwgVWNwKFAWgAe0dGRmxWq3x+OTG8IDGOhyOgYGBxsbG4kk0giBisbixsbGvr89ut0ej0ewlECmK8vv9/f39Y2NjkUgkkUjE4/FAIGAymYxGIxgeTdOjo6NSqZTNMkYQpKGhwe2e/P9+7vUOBAIqlYrH49XX19vtdi4ET6fTGIaFw2Gfz2e324eGhlQqVX19vUwmq66u5mZzs4nY3d3dsVgM0GqVSgXSvcEyiWNjY8XbTI+Pj4tEIolEEggEIIDmXi9YhgqcuQIQQEMAfeZ30Rn2AAF0YQFLBdA0TcsNpDNKF+72TI7WGsmNMiyQoG8+zBgyLM002FnOgKYo6tixY/nos0wmO5MLWrgtTtKuKC3UkS8r8TuOf8GCo2pwqTw6XVii+XYUAugir8h8ANAUlmRMlgM2mqK4w6ZJnMG7w4yvDpWK4Z5R7tGMMpWKYs7hjMpp3433Vns+foC13bC/+lfXzn94Pl4baaoElY43rgpJ3wkKX7U9//tw7c5Jv7UdPXqUuxJgWVnZueee+8c//vHpp5+Wy+XZMPoMAfSrr76arcmBAwcAYr7mmmuyj5rNZnD0/PPPzz4KanJmQIfR4Ee9r2W87pVcydLed9TPZBwd9HblOwWof0R+A9t8BVJuCg5lxCfxODdgBVJO0V+4qbjx9qjlTuGlbPzrbY9zj84ogE6n07/7HEC/LcycBXcYi6ws6baXV0iufEGx8p1mAKCXvVS3yOYIpwMVgApkKDA5gGb+m6eoVCoVCoXGxsYGBwcNBkMgEMigsRn9sq0ikYjT6TQYDL29va2trUqlUi6XSySS6olNKpXK5XKlUtna2qrVao1Go8vlAqsg5vR6pmk6GAz29vaOj4+jKMr+R05RVDwe1+l0RqMROF243e6GhgYugK6urjYajZMOmzsRkiSNRqNUKhUKhWq1OhgMgqM4jrtcrv7+/tbW1sbGRrlcLhaLWf8QBEGEQmFtbW1LS4tWqx0ZGVEqlXw+v76+3u12A4MONgOax+NJpVKv18vOhTuAnGWQAS2VSv1+f/GtcnYFKxeBAjhBURRNUrTVF/dHUYJk/rQa88b09vC4N250RdtHvD2jAYsnpjb6dLawK5Rs1XsVfc5Oo5/XPl7T45BrncdVlkql6UTr2GetY4ebRvcpjLz2cb7aurfWcLTFItHY99YaXuMN7JIO75GNvCPSvVLV/8KJvuePabcc7d16XPvyyf43kMEdEv1+hfGpA91qg09vZxbQCMUxYadthkSmqBnBSRBAQwA9Q3ds8d1CAF1Yq1IBtCNC33gIveM4Gk7NyIdGOp1WGMkH+Iz5702HGBx565Gl6MMwywBao9Hko8979+7NfnK88E1V0lFrmPpQTWxrxvd1Ec8pcG4G9I42PJCYqduspEHCYK4CEEBz1ShQnk0ATSbC6Lg2ZWjDfaceVqDQREj2flD8RoC3NVy3O8Db6q18yHf06QBva1D4WlD0hvfAI64dtwVFb0QaP/Ef2xCSvR/gv+w/+WzK3Bnr+CyulUbbjoXrP4z3iMhYIGXuQsd6o6rDiT5ZTH0ywH8p0vhxvEeMjmqSwy0R5UfR1iPh+r2x9uO414K7TUTAlhiso9AElYyQiVBS14COanCPGfdZyEQI91qoVIxm/uDGydip719kLOA7/KRn370AN9uev9i6+TfRloMskmYKm38T10q9lQ96PrqHxif/r6Gtre1nP/sZgLwZ/37961/fvHkz+200nU7PIYAu1YLDGbOybLfIwqf97xa4V9PpdEX9HdyutJ72jHhvwskNuFN4aUYAd7feIuAGb1De+ZLqIfZ1O/9i7lFQ/476GW4P//7iA5KybZFCv45kNAG75RWS545pyysk74p0OQMWZaXa4CuvkFz/mvKG1xsAgL5/dztGzMYTVItSTzgpqMCCUKAoAA1mQtM0iqKRSMRut+smNpfLxbpeFJgtRVE4jieTyVgsFg6Hg8Ggz+fzer0ej8fn8wWDwXA4HIvFkslktptzRrfJZFKv1+t0uuzz0jTt9/t1Op3T6aRpGjg4cwE0n8/v7u4uJoObe9JoNNrV1cXn88Vi8eDgIPjxORgMqlQqkUjEZjELhUKZTNbc3NzT02MwGOx2eyAQiEajYFIDAwPiiW14eBjDsHg8zsJxHo/X2toaiUS4Jy1cHh0dBRYcMAO6sFBL4ejmI72XPSt/5WR/Vdv4a7yBm99s3CHRP7Cn4+F96n9ub7nsWflFG6RXv1j3x82ZBlvsg07TXrj+NeWj+ztNrmgSI0bdMa0l2DHiaxv2viUYYt6YCXzUE6MoOoWTvgg67o3r7eEhayiJEe5QMhBDQ3EshTN/edgDiUAMtfkTw/aIN5KKJnGSou2BRCyFe8KpYAztHw/NxCWGAHomAPSoJ2Z0Mau4wK0YBSCALqxSqQA6nU4Pe6m/H0SHvVQUpYPJ6eeDCiO5oQYLp2jAIu84PjllKDzHhXh0NgF0JBLZvXt3PgA9NDSzGWTmAPVeK/5JN3Hb0S+kP4Orr/PkzbBbiJd1cYwZAugir+OsAWgiYLNtveSUVcXm33grH/Kf2Ow/tsHz8QO+Q+ud229y77rDs/9+6+bfApjreu8W57s3Wjdd4Hj9SvfuVa73bmEKu+7wHXnK9d4tviNPeQ8+9kXsyzR0vHmN/dW/fqF+0wXcXdtzF7G79teucGy71n9ic7h+b1ixO6L8yHdoPTOYd2+IthyMdwuC1dti6qq4Vhqq2Y5aNLjPkuirCdd/6P7gTtuLf2T7yVlwvn19vFdCE0W5M2EYJpfLH3300V/84hcZDLqsrOy3v/0t+7VxUgD9/vvvgx5uu+029h645557QOWZZEDPBwD9QssDXChcYz7OzhEU+jwd3IC10hw53WyTDADNbZivfE/139jmoDBlAH3h05IWnae8QnJAacrocxHvWn3xvz5fe9EG6SUTCzCCbGhFn3MRTxlODSoAFSgBQLNi4TgejUZdLpder+/v77dYLKVSXZqzsd1OWgCIubu7m/1/N6MJSZIWi8VoNKIoiuP44OAgsIHm8XjAcLm+vt7pLO1DjaIol8vV0NCAIEhtba3RaCQIIhQKKZVKHo8nl8u7urqGh4dtNpvf7weWIBiGZaRvO51OuVyOIEhbW1ssFvP5fAqFAlhz8Pn8kZGR7PUVM6bG3R0ZGRGJRDKZjF2EkKIot9ttsVgCgUDxVh7cPmF5gSowZA0Brtc3FuwZDQxaQ7z28Q9qht8R6d5ABh/Y03HvB23r9nasek/10EfqizZIAW6+ZGPN7e823/ZW0w2vN7CV006iL39O/uctcm63f9uqALsXP3NqJGAXgHLuoRVvNV33Sv0Vn8eDQ2B5aFDmq61JbEaedIYAeiYA9Lq9HRdtkDYOlmaCtEDflWc+bAigC2s4BQCdTqcPaIgP1QRN0xRNJ/BpZtByA3n9QdTkP+UBff1BNDRj2daFxZnDo7MJoIVCYT76XFVVWsHMxQAAIABJREFUNdMPh42HqDuOo4+IMlcgBADa6IcAeg5vw9ynhgA6ty5ZtbMGoDG7DvdZwnW7rZt/43yHgbMB/kv2ly+zbrogwH85XLc7KHoj1nEirhGGFbtD0nf8xzZEVYcDyAuxbr5rx0rf0YqA4JWQ7H3vJ+v8n22Jtnwabfk01smLKPcFeFtDsvcCJ59zvHWd863lnv33+09s9nz8QKDq+WD1tojyo0DV86Gad90f3hWSvcfkJh98zPPRGs+++0Ly92Ptx8OKD2Idn0UaPyHC7mj78WjbsZRJTQRskcZPwnV7UobWeI84JH8ftfSkzJ2YXcekaR983MoB2RkA2v7yZZ7996EWTYajSJb2uSs8Hg+Px7v11lu51hxPPPEEiJ4UQG/cuHERA+jKvre5aHi/9o0MEaWm49yAV1ofyQjg7s4tgL5kY02r3nvPrrb3xEsrA/qRfZ1/2iL7/9l7E6g2rnvx301fX9vXt5y+paenfa89Peffd07f6/HrT06dNEmdpUkcJ07SxNjxGiex49hxNid432LHjh3v++4AXjBeEEggCRA7CBACtICEJBBC+wIItM8+/w6XjMfaECCxGM2ZY9+598693/u9l9HMZ77z/c77qgw8331wvqHLEctPN3PKUumUBlIamIoaGA2ABuPEMMzn8/X09Gi1WoVCodFoXC5XUm/6EQQxGAxyuTyGGw2Hw6HRaEB0PoPBUFxczDSC5nK5SqUy3Ho69syhKNrV1VVcXAzcaHR3d3d0dJSUlOTm5jY0NPT29gLiHGPsPp+vqqoKIOyenp7Ozk4+nw8AdGlp6Ug9abS1tXE4nNLSUo/HAzolCMLn8+n1erlcLpVKjUZjCAGPPcBU6cOnAZcXyhcb110Uv7K//NldJUuP14SwYPAzP3X/FWt7kjRrKQCdDADd74MXHak+yG4jSbLLnrqzHGbxpgB0bAWNDkDbPJQjjo5evKwTazLjpoFEUkK+BpubAfUHiNeuDZnEGhPafmyFTJLScQPQarU6Gn0+c+YM8/v0JGmmzz9k6s50vgHSb92ajsbvSdJzAptNAeg4lTluABrttxp3sACrHTJS3sEyffknJr01f/2caddjttNv9d7dQZkq73zUvP/ZnuufWg7Ns51407z3KdvJBdbDr1gOPG87tdB2epH1yKvmfc9QLWz7P2Y7gzl/MH81x3r8DWfmetvJNOOOWfZzy6zHXh+yoT610HpkvjPjQxf3YO/tbT03NgwS8AM9N7/wtXC9jblBrQg2R/iuAu01wqY2YJod2uOgqbXj8uqAuprA43IpYLVaxYOb2WwOn6+urq7f/e53gCazWCxQ4eLFiyDn1VdfDT+FJMk33nhjkgDoAOKrNBSG7EwnzlmK4yGlna5hUGyloZDJl1fxnoewIFMPm8qXMStkK88wS0PSEwigAzD25+3FxVJLelZzbr0hRLCH+LDV0L/mfP1jmwWvHxxywbHsRO1DPN7U0FIaSGmAJMnRA2igPhzHA4FAf3+/Xq9XKBQqlcrhcAAvE8AXcwK1HAgEVCpVe3t7jDZdLpdarXY4HCRJulwukUjEBNBsNrumpqanZ8ToCoIgtVrN5/Pz8vKKiooEAgGHw8nNzS0vLx8YoHzdxt4IgpBKpRwOh8vltre319XVcbnc3Nzc/Px8tVoNQSN7XGlqasrPz6+urmYGo6AdpNhsNrvdngLQsWdkqpcO632iQdMj6ezdd0+x757ialnHKV77mvP1752pe+9M3Yt7StddFN8Rde+9o3j16/LD+crN11s+vSqZPDB69neW2kCk53YLlxyree1AxUtflb15qBJkmvv8SZrEhw9AQ1hQ26cQ6tmVhsJOlyqIDhNdOhkAmiRJlWnglf3lwEc5NOhlJUkz+BA0mwLQsSdxdACaJMkjNcipOqTRhK28C7VYEgmgC9opAF3ZRf07NwN64waEEwk2so6tk/EsxaJs4wOgg8Hg5cuXowHoxsbGcVAFilMAevmdCP43pmf8yXHQ+Ri7SAHoOBU4bgCaJMme7HTnt+tspxb628ogoxzz9qJ9JtimRewdeNCD2DthmxYyKmCzCu23oi4L5XkZx2GrBjYr0T4TVWTToi4LtfdbKX/NvYbBQzNVapAHu5oC7ZXogB1zO6h/Pb2YfwAPevCAG+0z4UEvDvnRATvaa0QcOtRlRhxdlF22vQPz9ATaK2GLCvjZIEkS7TVCRkWIDvGA2yfjm79+LiJ6Nm6d2V98CocD8fh9Bi3T0f9+//vfh/QFDs+dOwdo8k9/+lOQk5eXB3IinmI0Gn/0ox9NEgAdcUTbKlfSgLh7QBuxTozMvoBzEftRuoU0Nqug4wZdv9FaySxKY7NUPc2g9JRkB+3ceW/th8B3h9VrzFIci7Yzm1qc/xioVmXg0d2BxOhccNj7A/P3l1cp7R9eEi87ToXZnCZbRav95X2U7TP9aez8/eUuHxVRI7WlNJDSwMOqgbECaKAXgiBgGKbdQysUCrFYHG5rjOO4x+OxWq3dg5vD4YiHvWIY5na7PR6P1+uVSqWxAXR/f79arbbbqQ+9gRcOQIppLxyFhYUajWakfJYgCOB+WiAQAKINvD8XFBRYrdYYFtn0uunu7ubz+fn5+RUVFTweD5g/19fX02406JqxEwRB1NbW5uXlSSSSiNrDMGykJt6xe0yVTkINGJw+kiSd7qBY26O1ussUNowRkQ9CMGlXn7HHx5WYTvHaMyt07AaD0thf3moTtTuLZdZmXZ/O7rla1nGUq8qq0H2R2XSuSHOQ3bbzluzTqxJBi+VWjf7Tq5KFh6vWXmzYcr0ls7xzQ4bkxb2le+8olh6veWJr0fZs6btn6pYdr3nntOiTK41lCtvaiw377imuCDs+z2jaf6/1KFeVXaM/nK/MKO+sUztvVHXl1OrZDQaFob9B0yPXu+o1ToPTx28285rMzbo+qysg1vZ0ObxuPxJEsD4vJO925YmNghZLu3ngSmlHeattz235jaouAKCtrmEo6qhnbfIA6JttZ97Km03v4b7thh1jjanoM2FayN15Gpt1sO4zi6c72ulJAtB/i435zmnR3bputZlasW3GpLjwjjaoqZU/yQF0f7BX5qjnaLOut54s6+Z0ulQwNrLXqK5gT1/AGefuCoa+Mx41gO4PEotuQZca0QU3oZczoRtStEiLoYyL56jXSb6SQs8nREPx6LaXxOXoc9TdTeCJKIoq49hGepcV/4iEQmE0+nz9+vXk9cuU0DhA+VoJCT8I3j2sGYxFyaycSk8GDUwJAI0RmMndVWsqvqU8e7f9UqOlwu4zx/i8MppiCYKI8+oa3sK4AWjE3mk58Ly7/LIzYx1sor6OmnIb0tNtv/A2oM+mPU8ynU2bv34uqJMgvSMzZe3q6gKweMaMGUVFReEKWbVqFagwd+5cUCqRSEDOI4880tDQwDwlEAi8+uqrdIMT7gOaKRudHiOAJklyv+hjJhpemv+nwo6bnS5VeTfnncJnmUUfFb9O97tW8DKz6FDDF3RRtMR7hc/Rp7xdMCdatdEBaJIkX9xTuv9e66dXJV9kNkVr/OHL19k9tGkRbQgl17sevpGmRpTSQEoDtAYSA6Dp5hAEcbvdSqWSw+Hw+XyaQeM4PjAw0NHRodPpLBaL1Wo1GAwqlUoul8cAuBiGeTweo9EoFotra2s1Gk1LS4tMJqO7C084nU7gDIQkSYIgzGazUCgMMYIWiUR9fX3h58bOIQgiGAx2dHQUFhYCnA3+jdODs9vtLi8vZ7PZXC4X0OeKigqHwzHSh6VgMAhGJJVKU6A59pQ9xKVXSjsSOzoExZXG/qbOXnyQxfT7YKc76HQH7f0B4IqLigAYh0EfsG9NrGx0awpD/6qzdS/sEc7ayOt2evXJ8RE2SQC01C6i73RBgtd5i1bFsAkIC15o2RfSAvNwUd4fc9VXIraTPABdpbTP+6qs2+l962j1HVG3L5gUL94RBzW1MictgPZA/V/XfcpcSCC9JP9xge52/EpexXs+vJFoOe8WPhfS8qgBNEmS+Urslaz7hqvrObAyESHjctvQuRnQqTpkXibV+AXxQ7u2JxZAm83maPT51KlTFoslZKkk6RA4+/6CF8EH9Jn6h/bdQ5KUOT7NTn4ArXCKV/NeDL8MfiZMM7hHdstn9nSFtxMxJ1z54wagCQyxHHi+98723pwtEb1bhMs22XJ6sjdG8PWxdaZp92OB9srRSfub3/wGIOMf/vCHmzdvbm5u7uvrA1/0rl69mqbJBw4cAO37/f7/+I//APk///nPb9y4YTKZ2tvbb9269T//8z90/RkzZjysAFrdK1/InhVxeYdkMq2VJxuAxnHiia1F+++1rjlf/3lGU/K+8hzdskzeWU538IvMphf2CB/bLAAAeu7e0pQP6OQpPNVySgOTQQMJBtAkSeI47nA4GhoaqqurRSJRb28viqI2m02hUFitVr/fD8MwgiAwDHs8HpPJJJPJDAYDzbZQFPV4PBaLRa1Wywa3trY2mUxWWVmp0WhUKlVtba3fH/nrexzHDQYDCEIIlOv1eiUSCQC+TCNotVo9umB9MAxrtdqSkhK6TbFYHE8MRgzDGhsb6aCI5eXlVqt1FDL09fXx+fzc3FyVSjWK0yfDmkvJMHYNtBr6XT4YwOKxtzZVWjhXpPnqruK1A5SbsLt13cYeygw84VtEAE0QxPnmvVsrVvqReP0XN9tq3i18Tvnd534jktMVdL5X+JeQW+cRAegQk5CQpujDBktZuGDJA9AkSX56VXKEo/zgfAMrnbcjW1qvcToGHnDYFy7PNMyZnABa2dO8hj+XXjzhiUP1X3hhdzzzNYEAGsOJtflwjpzixWBfcQfKaEZru+Py0RltdPdaqQYrdEMuOD4peGg/IJ1AAI1h2LVr16IB6IqKimizk/B87WC0yZe+W0L0WpqbAX1ZhuhdifTuknDhp2eD0QA0FUMF9oxIJ3Fe5eJvEyOwW8qzMSDa0vw/FXfdi79Bkak4/PocMSe8zXED0JjbYdw6s+fG5/bzK2DbiH0vhEs+zjlQV3Nkzxvb/59XPILJChFbLBb/5Cc/YYLj8PSjjz7K9HR/8ODB8Dp0zpw5c0D6YQXQJElebz0RcXkzMw83pDNVPdkANEmSL+8rO1HY/sIe4epz9U73NLox3pAhef1gBXDEARh06hNJ5lpNpVMaePg0kHgATbnKQlGfz+ce3CAIcjqdzc3Ndrs93GIXQRCbzdbS0uJ0OkmSDAQCHR0dcrm8vb1dr9fb7faBgQGfz+f1ent6evx+v8lkKikp6ezspIE1c0r6+/vb29ttNhtdiuN4V1cXILY0gGaz2dXV1aBH5ulxpmEYttvtYrG4oKAgNze3uLg4HntqgiDa29sLCgry8vJEIpHD4RgdPtbpdFwul8PhdHd3j9R6Os4BpqpNfg0M+OHyVtt0c5J1hq9efKx6zo5iVjpPpndpLHGhrpHOZkQAna08A25kt1S8HQ+DbrbVLM5/LI3NWsZ5wuzRj0gGjMB2Vb/PvG8G6fgBdKuzMfz0iDlvc+e4gtS1l7klFUCbev20mQMrnffq1+UZ5Z3M3lNpkiQnIYC2+0xLOU9EXEXMzH216+OZwQkE0CRJNlvw4yLkUPWQuwyaHp4Qjd52FQBothIFUHLZ7ZH5JIlHaZOkDoZh7VE2pmeOZNyf1NXVRaPPV65cieiULElKo51904uHTryUAfE1Y3qZkSSZp3mzEQE0QRCXpQfeKXy2q18dp35kjvol+Y+z1d/GWT+eaoD5Mi+kEdMiU3E8rZEkSd+xRGyHmRne4PgBaJ/LuO0PfnmR9fArmDv0PiRcsMmW47i6JhxA288uhQyxvtONZxRCofD3v/89TZCZiUceeeSVV14JCT70t8BL6enpjzzyCLPmjBkzHnnkkd27dxcXFz/0AJokyfJuzrIotyiL8v7IVn9LkwEwBZMNQPsh9JmdJReKNWmHq04Wxgp2Fc8Smlp1tt2Uzt7MpwH07M38AJz6DZ1ac5iSNqWBkWkgKQCaKQIEQS0tLTEsjmEY1uv1ra2tGIahKAqwNTCUZj7AAD/LHo+noaGhrKzMYrGEeF6GYVitVuv1+pCHkIGBgfr6euCFg2bQXC63tbV11GESMQzz+Xx6vb6ioqKmpibkVoA5fGa6v79fLBa3tLT09fUxh8asM2waRCAsKSlxOp0hGhj23FSFh0YDZQqbyjR89MuHZrxgIEc4ykVHq6lQFZv43+S1mXojfwkxxlFHBNBtzib61nZYBk3T5zQ2a2fVqmGD/oUIfFt1gfl8SKfjB9BbKt6mz0pjs5bm/0mgu2326DV98i+rP2AWpbFZzG8SgSRJBdAkSZ7mqQ/nK5/bLQSWDk9sFVwWdlS22RE0ZTY4tBYmIYAOt6lfnP9YRIPoeCjJiAD0at6LIX8jY3HBAZr6uhJ5916o/4QlOZC6Z5SLkD3oguOECHklC1pwE1qS89AC6JC5YB4mNQhhX1/fmTNnogHozs5xfY+ld1E+oKPtJ8fwJoOpz1Q6gRqICKB5nbfAD2KcDBrQZ3BKxO+HRiGw028Fr6uZP83vFj63gvtnZk4am/Ve4V/ivJ0AvyAhp4cfLmI/Gi7wuAFoAoGMW2c6rn5g3DozoJ5iUdf88qKB0vM91z8NYdB9ubvDVTq6nPLy8t27d69aterNN99csGDBRx99dPz4cZPJFK01iUSyf//+tLS0pUuXbtq0KT8/Hxha9ff3Zw5ulZX3vYI0NzeDTK02gu252WwGpTU1EebF6/WC0hs37of7C5GqSHcnjc26JP06JD/88Lbqwp6atXtq1u6tWTfGbwvMnq6Tku0bhAsX5f0xjc1ayJ71SckbR8WbNH3y8H6vyr4B/YJ/b6suhNcJybnQso8+5WD9hpBS+nB0PqB7PRArnXehWPv6wYr1l8QKQ783OPo34rQwUyKx9w71bSv4vJWVzntxT6kyFSRmSsxcSsiUBkargcQDaARBaLCL47jVao3hNAOIPTAwIJPJmN8TRRsOjuN9fX0ikUggEEil0p6enmAwGAgEbDZba2ur0WiE4dDvXoERNB08kGbQAoGgu7s75I1otH4j5mMYFhzc4gTBBEEgg9uoOw0EAiUlJbm5uRKJJJofkoiipjIfMg102DydtpF9NPoQaOBSifbP2ynzZ1Y6b3eOLEk3ZxEBNEmSbU4JbQEag0GPkT4rnOJo3+HGCaCtXmPIc6bYUk7PPoojn5cuYla4IjtIl4JEsgG0H0LfP1efUd45exMfzCb4d8XJ2j5v4rFdT0/P2bNnP/vsswULFixZsmTDhg0nT560Wq0hoyZJsri4OG9wi/ZjJBAI8vLyCgoK6Gs+BEHgFJFIBBpUq9VXr15dtWrVihUrzp07J5fL6Qs+QRByufzUqVOLFy9esWLFjh07BAJBuBiT0ALa7jMz10wam3W8cSuEUZ+Idg9oQ2jyjqpVEQfFzLwo3X+8cWu0PaSvb+o/Z55LkuTYAbTehUf0n7D8DlSuG43pTUE75XxjTxmy4Cb0MRc+UjNdHh2ZU5M8AE0QxN27d6PR54KCAqYY45A29EcF0C9lQDX60SyhcRB7OncREUC7gj2AFqWxWcMyaCZ93lb5TgBJjBOwW8pzzCveorw/Npgp11gYgeVrMplFaWxWeTcnnklcV/QKfeLemnUGd0fE3eY1hrc2bgAatmmNW2ea9z1DAWhNbbgkkzYHR4LW43/tLzpB02fz3j87v13nrrhM/9xPWuHHR7D4AXQy5EEw2OY1gluUZLQfu83RAWgUw5/dVbIhQ7LsRO2T24rKFLbp4wd53z3FgkNVK07WUgZGm6nnApF66n0SEXtVpEpTGkhpgKmBEQBogiACgUDvd9vAwIDH4/F6vT6fz+/3BwIBaHBzOp0ikairqysQCCAIolAompubY/8k+3w+lUoV470uU2KCINxud1tbW1lZWUlJSVVVlVgsbm9vdzqd0cyKPR5PY2Mj7bWZ/d1WW1vb09PDbHySpw0GA5fLzc/PV6vV4f5MJrnwKfESqIEbVV336gxBZHo95a692LDseA2AlfxmcwL1yWwqGoCOh0GPkT73B3tX816gnxtDEnECaLmjgXniBuFC5uhIkqRtvkC17ZXvhlRINoCmAsGJjZ9elczaSL1LYO5ZFboQYcZyiGHYRx999MMf/jDku9QZM2b83d/93bJly0JeWP7qV78CNcViccR+f/7zn4MKdCxcu90Ocn73u98Fg0FmxHm60wULFgSDwd7e3kcffZTOpBOzZs0Kj5w22Syg77ZfYi6qj4pfw/D7QfYUTjGzNI3NcvhGHwtO5qhntrau6BU3FBoPfewAmiTJQ9VDAQND7FjnZ0GNphFfWoUdFIDeX4G8lwtvL0FuKyj9IBgRcSE9rJnJA9DgzU1EAH3+/HmvN17X/InSfE33kLPvkMUzNwNaehvyI9Nr3hOl1aS2ExFAg7dZ8TDoJNFnkiSZsDiNzbqjusjUw8nG7czr4ZfVHzBLI6b9iJd5yi3luYjVomWOG4DGvH3m/RR9Nm6d6W3KiybPJMwfKD1v/mqO+as5QHjbyQWwTRv7OXcSjiKpIk0sgE7q0IZtfNQA+s1vKgskpkc38pafqO31QNPno8Cvc1tZ6bynthex0nlLjtU8s7MkqQHth53BVIWUBlIaSLYGRgCggfVxe3t7a2urVCoFEQLlcnlLS0tTU1Pj4NbU1FRbW5ufn19QUFBTU9Pb21tbW9vePowzo0AgoNFo9HrKUyqGYQiC0PZlEccPTIl9Pp9rcPP7/bFPIQjCYDAUFxeHOOLgcDgymWyqmBITBCEWi/Py8gQCgdFojEbbI2oslfmQaSCrQnerRg+jI6YkU1oP++4pgM3s0zuLez2JN5UFyokBoGMz6DHSZ5zA99aso58bV3D/nCE/Qh+msVlxAmihns0862bb6ZBJ53VmMyvsqVkbUmEcADSOEwsPVzHRM0i/8U3lQXZbQh7kCIJYvHgxzXkjJhYuXMj8rYkfQEulUqA0GkD/4he/ePrppyP2MmPGjM8+++x///d/o5XOmTMn5HoeJ4AOoP71xa+BfVvlypB5TODhPtFHzDWTr8kMaZwmOKBajakopEKch27ItZr3It3Xcs6T3QMRPhBOCIDu8xOfFd73wrHs9n2PCgtuQjYPYfMQGB4vSTxTT3mU3lIEz8uE3rkH7RRSFtB1hul1iU4SgPb5fBcuXIhIn0+dOiWXR/i8Os71Nupq5d9FmwwH0GvzYR8c77IZtQCpE0eqgWgAOh4GnTz6DC5l9BVvEfvR/mAvc2jqXjldCqJK4MQwboLUvTLmKXXmEmaDw6bHDUCj/Vbjtj9Q+9aZSK9hWMEmSQW032re94z1+BuAPvfl7xsoOUOgoV/fThJpJ0qMFIA2ubtGpHxpV9/HVxrzxcbHNgs+vtI4onOneuX99ygADXZgmDINnUxO9UlMyZ/SwIg0MAIATZIkjuMIgsBhG/BE4ff7fT6f3W4XCATFxcVarXZgYKC8vFyj0cSWye/3q9Vqs9lMEITH4+ns7JTL5VKpVKVSgVCEbrcbgiAmKQANEoNb7MZBaSAQkEqleXl5gEGz2ey8vDw2m83n8zs6OkYXDzCefhNYx+VyCQQCNpstEokGBgYSwmgSKF6qqfHUQJ7YWNFqH88eJ7wvGMXeO1M3d2/pC3uEf9zEH/DDSbIOiA2gozHoMdJnkiTvtV9hPjSKTMX8zhxmTpwAuqDjBvOsIt2dkLn7pv5zZoUsxfGQCuMAoEmSLFPYHg2zgAY3oEe5qhCRRnEolUpp4PvMM89wOJyuri6NRnPjxo3/+7//o4uqq6vpxscCoEGDjzzyyMcff8zj8RQKxeXLl//5n/+Z7mjGjBk/+MEPNm7cWFVV1d7ezmazf/vb39KlNNEGwsQJoJmWbu/zQx0l0+MaeyLEyYa2rzWkzYvS/bEXVUj9aIchi7PRUhGxJqA27xS8oOvDIZTQ9eGGftwHR+bFMErdKIB2YHQogRMEhuP3WtGVd4e481+v3wfQczOgeZkQuw3F8Mhthku1pYhi2WnZQ40cH/QCLOpOAehwVY04p7CwMBp9vn37Nj25I253DCfEsIB+OTNlAT0GzSbt1BgAOjaDTh59pgKi2mqYV87PhGkhCsAIbGn+n5h1hgVbxbq7zPqaPvnNttN7az/8QDDvA8G8b+o/v9d+xeyJSsfGDUB7xXdNux4z7/2zcQcroL7/Qxyigcl22HP9s4GS0wFVheXgi4H2KgLHCWw6OlyKPS8pAD3s32mIAhEUTztcdZDdtvZiw0eXpxeAPpDb+teDlSAI4btn6l7YI0ySi8UQnacOUxpIaWCiNDAyAB2PlCiKOp1Ot9uNomggEKioqGhra4t9osfjUSgU/f39NOP2er09PT0mk6mjo0OpVMpkMsngJpVK29vbu7u7HQ6H1+tFECTOZw+CIOx2e2VlZYgRNJvNLi0tBew7tpATXiqTyfLz8wsLC3U6Xcr/xoRPx8QKUCKzXqtMpLOCiR1OPL0HEWx7tnRjVvNzu0oWH6uu1zg1Fnc8J460zrAAOpxB1xgFdBChUUQdJElS2dO8iP0o/dB4UbqfJMnRAWiMwEzuLnr3Iw98nF5nFtK9gESVkReiovEB0ARBHM5X0gwafHwHAPSjG3n8ZjOC4bb+QIhs8R8eOXIE4N3/+q//CrEv9nq9dIj5PXv20G2OEUD/4Ac/4HK5dGskSd69e5dGzI888ggzBBBJkhaL5Qc/+AGokJWVxTxxUgFoCAuGrBkIDZ0Xge6BlyVHGjYyhxNnus5cwuzobPOX0U4cMhvMfX7pbWhvObKOA6/Khddz4LX58GeF8Hou/PZd6K1b0OIcaFUuvIoNL8mhogIuyYHmX4PevQevyYNXs+EVd6DPedAGHrwu/74ddIhB654yROkYxt4QCJnOH2rk5UyKQbM/EykJAAAgAElEQVTbKBccNs/0soRNhgW0TqeLRp9Pnz49UV7UKqJbQM/NgKTWuNZMtOWdyk+GBmID6GgMOqn0mSTJkCvnMfHm8LFvLFvKvDC22IZxl3xZeoBZP+T1IShaynkimjtpGkDbvYTZTb3Yo0UiCAL/7mUeSZK9fqI/eL+UJEldH+70EXYvUduN0TXdQcI4gLfaqabEJqw/SPQHqLNgsxJ4sTDve6alpVViRDCc8MFEr5/qF3SKYERp5yR6jQfpm837noatmv7ikwFVxRQy3KYncXwSKQA9UgBNkuRzu0o4jcandxavPlc/PtM0SXrhNZk/vCR+90wdK5336VXJk9uKPIHUS51JMjkpMVIaSIoGEg+gAUQGXBiG4YaGhvr6ejosYfggMAyz2+2tra1MRkDd5eA4hmEoiiIIAkGQ3+93uVxWq1Wv16tUKqlU2tTUJJFImpqaFApFR0eH0Wh0uVzBYJDZTn9/v8Vi8fmoUCEoimq1Wh6PF86gq6urHQ5HuGyTJ6e/v7+4uBjgcovFEm4MPnlETUkyDho4Udh+kN023X6hj3FVF4o1T20vemV/+TGuStL5wJeqiVJ7PAA6hEHTD3ujo89uyLWGP5du5IvSt2CMcjAyOgAdQw915pJlnCfojtLYrA8E80IINUmScQLo+L0TMEXq98H4d24NSuXWzzOaAHR+6asykKAZ9L67Cpdv9J+1btu2DbDdn/70p+E/QOfPn///BreNG++j0jEC6E8++YQ5UuBRivZA/e67ob62SZL8y1/+AoTcv5965UBvkwpA9wd7mWtmaf6faDnpRAg73lv7IV0UZwIncKYfj4XsWVZv1I+yAYB+897zTF786jXo00L4tgLdJICP1iAfc+HrUvSOAr3Xhl4Uo3lKNF+JbS6CdwoRvhrLbUOvS9EaPXa6DrneQnnPiLa/fRc6UoNY3A9wlvBBHaikGvmyDFmVS5FoiWk6IsiEA2gYhq9evRoNQNfV1YVPxPjkFKqj+oCemwEJOx5AZj6Y8ED3TentXsLYj9u9hB8hWiy4ugfv7KWwnbYHB7xP24tLzFR+gxGrM1B7kxkXdmAcFVbWiVXoMGEHxldjeUpqAVd2YWwlytdgYhOVea0FvSJBOSrsjgK91oJelqAXxOi5BvRMPXK2AbkopkqzWqi/C44KO1iFlHZiFjcxMIgR9S68bFxgn8VNGPof+ANx+ij9qJ24ByJghud0p4/CkeG+1CUmXGbFlQ68souS3+mjHObIrHizBedrsHYnxToVdlzvwkUGjN2GSkz4MVFLGpu1tSKWq6KQmIT5mswl+Y+Dq18Cow4yl2iu+irz6npZGhoTmCTJfbXrmXVqTcXMFsLTO6reY9aPkc5VXw0/HQDoTwQn37hBvbR75x61r7xLuRVaept6gbdRAKfz4Q086j3f3AyqNJ1PvfxLy4Y+H8ycnwXdVqA3pOjdVury+xGXuiS+cw/aWgx/xIU/yIM/LYR3lyIZEqhzz3PAkYXs3GffVAY/LYTP1CPpfOol4sVG9LiIWrTv3IMymtAvS5EbUvRgFbKeCx8XIfsqkFtyajGDtX2ugVrnlxqpS/2+CuRUHfJNFXKkBjleS9XcKUS6XA+st/BRx5nTl7fXXfktgcKYfwBzT+rHxjhHlKRqKQA9CgD91PaiLzKpW+IVJ4d5yZSkWZuoZu+Iuv+0RfDagQpWOu+ysGPOjuLpE4BxonSe6jelgYnVQFIAND0kFEU7OztLSkqAf2c6n5nw+XxKpdJutweDwdieJQCVBkgahuFgMOjxeHp7e81mc0dHR2trq0Qiqa+vF4vFwFBar9fLZDKhUCiTyUCMGp/P19zcTDviyM3NBY448vLy6uvr+/r6mIJNnjRBEM3Nzfn5+Vwut6Wlxev1xmn3PXmGkJIkURrosHm6nd4bVV1lCptjIJioZqdEO5dKtMtO1D69s/jRjbzD+cqMss5vyzovlmiPcJQH2W3bs6Wbr7fsvCU7nK/cc1su07sG/HCnzRP/0Cx9fpIkS7s4aWzW6aZdw57Y5pQsZM+in+62VKwIhlmGDtsIQRBMB7vLOU9aPN3grAQC6CAauCw9SItKJ6R2UbiEAEC/f+3chgzJh5fEi49Vv3umbtmJ2lVn69IOV6292PDBhYbN11uWnahddKT67ZO175+rX3CoatXZulVn617cUwrqfHS58dOrktXn6r/IbFp5SrTylGjFydpdt2Qbs5qXHa8pkJiyayin/xWt9uMFKiZ6ZqYXHKpq1vWNztdKXV0dbX3MYrHKy8uHfW83RgCtUkXwHPLrX/8aiJGZGeo3+W/2YitWrACl+/btY07EpALQVq+RXjBpbNZ7hc8xRQVpqV3ErBOb8oSfTpJklYHHbCGiJSB9IgDQC3OfX36H4ho0O37zJmX1nJYNLbgJLbtNhYObl0kdLsmBtpVQEGR+FvRKFlV/3qCd8v4KZGsRZT29/M79RujWmIk1eXBlF8ZEY7QwIAEA9PkG9M2bVFMlDyLIkMoP62HCAXRFRUU0+pyZmTmBztOKtdjinKhrhqfGToqQxTnQRgFc0E697fiqHFnFhrNaKI62uxT5nAcDujcvkyJ6Lz34/iPkkLkOE55+5x50oBJxeIkAMoiAe3BdH67tobjtdSkaHHRZ0+unWDlYtBBKGb3avYTehXshIohQdBhGKWoM7ks9EIWzAwjhClDVgiiBDr5x9MFDHNkVoIqEHVjwuzYtbuJiIyqz4jXd2BUJerERpV3llOuw8w1oowlT2HGLm1A68DwlBdZvK9BtJfDLmRDQ1fwsaHMR/F4u9XED+NMGHyIw1TXvWtOwADrEDpq+IiWJPpMkebPtNN1LGpt1vfVk+MXhqHgzs46wKze8DjPnbe4cZv0Y6aWcJ3oDoRQVAOhXs088oL1M6qLKzImdXnATCnFqFF5/8SWD6MsFxq0zDVtnrjvXGF6BzlkMvl8ZvHSDy/hqNnxCRJFlvmZozVxtQtdxqAUwN4MC4kdrkC1FFCvfXUp9IrM4Bxo7g4ZMraZdszFvL9LTTWD3w/AylZ9KAw2kAPQoAPT2m9J7dQZWOu/Nbyqn1ULae0fx8r6yNefrWem8m9Vdz+0qQbDEvDGaVmpMDTalgSmkgeQCaJIkfT5faWlpRUWF3R7BZW0wGOzo6NDr9RiGeb1elUrV3t7udsf7ZX24oTSITGiz2bq6ulQqVV1dXWFhIZfLbWho6OvrIwjC6XRWV1eHG0FzOByxWDwwMDAJJ89isQDD7bKyMpPJxDTxnoTSpkRKqgZauvqqlPZup/dckWZ0YC6p4iW18ffP1acdrvrzjmImo4yY/uMm/hGO0uWDRWpnTq1eZ/cYe3x+CO2yexWGfudA0NYfCMCYYyCoMg1YXYE+L+QYCDZ19rr9SL7qXpwAOsR74xelb/mQEfBuoKs8TSbz+ZDpECNRALq9V/ph0avMXtLYrIXsWVzt9YjzBQD0S8cPH8ht/eRK45brLS/vK1t6vOYguy2nVp9doz/GVWWWdx7Ka7si7LhYos2q0Im1PTequo5xVYuOVK84WfvJlcYTBap6jfOMQH2tUpdbb/jqrqLL7i1vtcn1rl4P5IdQlxfq80JXhB0tXX1PbqOCX0fcn9st3HStWWt1j/R+lCCI//zP/6QZ9IwZM/793/990aJFJ06ckEqlEd/hjRFARwTc//3f/w1kCPG/ATS/atUqUDpRFtBe2C3Us6Ptpfo8kiT7Ak7mi5aF7Fnhy6blQQC9sWxpeJ0YORiOflT8GnOJ6gdihY5gWkB/wadIxC05el6MZjSh5TrsUiNl7Kxy4DtKkGW3ofdy4S1F8LYSeF8FkiNHd5dSZnFfliHZMrSyCztWQ5nUAWgFeMehamT+d6QD5OwSIjtKkLfvQl4oqh30l6WUBTT/O8PYLUWjN96PoahJXpRYAG2z2aLR51OnThmNxgnUBowRmwQU6oq48zWY3IbXGTA/QjkTaDBiEhN1mC1DzzYgx2qR4yJkbxnyQR78BQ/eXERRs73lCBPYvXYdWs+FP+TA79wbHuRFlGEUme+z4dcf9IS+JIdyZQOaWpQ99NoGHL6cOfSCBxzOz6JK375L2cC+do16/cMU4K1bD5y7MBt68ya06Bb179p8eB2Hcomzmg0vugW9cYOquYpNWdfuLUP2DH5SsJ4LH6qmvmlYmA19wYPBOyTQ/kdcOKSvV69Rp4cMhHrnFB+ABgz6vcK/0JejT0reCCDUZ5Qj3Sye7miXVqGereppJkkS0F66r/PNe8N7OSreRFdIY7MEupzwOnSO029lVk5js/bUrJVYq6xeo9zRsK3ynZDS8B4jAmjmbMZIv5IFreNQfpCOi5ArEvS9XGoetxRRy3huBrUqPikYuti+z4azr93t2vYosIB+70JrjGZDipbkUC8avyxDNgqoFzlr8+HD1dSfD7iMz8uErjahh6upi/aSHOjVa9DXlchtBbr09pgYdLCjwbz3KcvBFyPePND6TyWABlIAeqQAGkHxNefrr5Z1PP+lcNXZOqd7GhkYXSjWvrindN7gd5BVSvuLe0trVKEvxlJ/WSkNpDTwMGkgKQCaIAifz9c5uFmtVp1OJxAISktLtVqt3+8HP94IgvT09Gi1WrPZDMxYcBwPBAIWi6W1tVWr1caPoUPmg2kobbFYysvLc3NzBQKBXq8HRQaDQSgU0gw6NzeXPbhxOJzGxsbJxqADgUBlZSWbzebxeG1tbeHfkocMP3X40GuA12SuUTle/bq8y/6Ae9+He+Aohn9b1rkxqzkipoyY+dhmAYinPHszn64we9NQ+sltRS/uLaXz6cQrpyhL4WEtoJlRB+knus3ly0fKoJnON9LYrBzVeXpnWkansVkfFb8OijpdyjjnGsPRHNV5pndpIOpyzpON1qgWFgBAP3fom/Ss5ie3Fb15qJKVzntqe9FT24te3lf24p7SOTuK/7y9ePYm/uzN/Gd3lXxwoWHRkWpageAmkj5kpfPmDL4zeG5Xyde5rWUK25e35Z99K7kj6j5fpLlUon3raPWma8NM6192C69V6lxeyjNJ/Jter58zZw6TQdPpn/3sZ59//rnNZmO2NkYAzWyKTtMAmhntkC6lAXQ8FtAdrrY7qovMnWk9t5z7FLMIpIddjUZ3J716wxOANYcQjRXcP9Py04lGSwXz9J1Vq+iieBLA7w3dwn7Rx7HPAgB6Oef5rBZUYcNhjLLQpK0m6XOBYwGmG1OmP1OSJJ0+4uPBz8MB4Hj1GrTiDnR+0GUBYBnzs6DVbFhixj8tpOwraZtNugs6ca4BnZsBibqxN25QqOWv10e2Vul2pnQigQAax/GbN29GA9BCoXBiFRVACBBwMi2bMnMOAWRN5mGstzp68YtidKeQekHyxg1oTd6Q5WZIO6nDBGogfgAtc9TTQR3S2Ky3C+bo+iN83TLsCsxSHKOvaeGJc81U+IHbqgvMogz5kfBmwQcxdLWK7gciDYTUdwWd2ypXppctBvuZpt0Ift+bKoaju6vX0E2lsVkfFr0a0gIA0GsKTh6oRMDrh5cyoB0lyBc8ih1fkaCvXac8chyqRg5VUwv4fTZ8pAZ59x71nu8LPmWWDmZtxR3qFcXSB19FMCf007PV8t1zAYC+d/7U+QZ0o4Dy7LGeA+8poxpP58OFauy4CPm6knr9sJpNvYf4shT5kAPvr6Be4VDuOGqRkyJklxCRWfFD1cjKu5T58xe8wZ0PbxJQpxRpsfVc+NsmikGHDDb+Q7TP1HtnO2LvjP+U6VwzBaBHCqB73BArnVcis753pm7/vVb7GCKgTLmFd6Oqa/W5+kN5bbM28jLKOxcdqT6UN0zwsCk3xpTAKQ2kNMDUQLIAdF9fX8HgVl1dHQgEDAZDZWVlYWFhSUlJbW1tY2NjW1ubwWBwu90h9rwYhvn9fqPRKJPJOjs7gftmpsQjSjudzvr6+sbGRqvVCkFDdx4Igmg0mhBn0MAXB4fDAbbSI+oleZUxDAPONwAcdzgcEY3skidAquXJpoEgglUp7VkVus8zmsYSom2yjWtYeVxe6IvMpi9vy2mCzESciUo/vkXw7OH9wwJoJn3eWbVKYq2i49SPlEGHAGjmk2G0dHHXvWHVRZKkB+rfXvlueCO7qt+3+0wxWgAAelXW2S8ym7bflBp7fDq7Z9O15tXn6l/eV/bE1qK3jlY/sVWw7HjNshO16y+Llxyr+fCSeNmJ2jXn67/Ja/vwkviDCw3Pfyn88JL4i8ymBYeqlp2oPcVr/yavLbtGf0ag3nNbfqlEW9hk5jWbi6WWNefrXx90/QYm8dWvywHypuf0sc2CbTelT2wtKm99gBfHGAJdhON4Tk7OsmXL/u3f/o2mz3TiJz/5CdON7CQH0CEW8eEzG54jdzTQqoiYiAdAe2E3s+VF7Ef/RjFCWqs0FDLrfF33aUiF2IdfVn/APL3ayI9dHwDo1bwXYlcDpU5fVLPl0k7sUPWQA2hgR7mvAinXYZ8VDiHFjQLKvHp+FoVd1E6cDqsV3m+OnALQ9cYhAD3/GhQCu8NPefhyEgigGxsbo9HnS5cuBQKhYTDHWZl3FCgwk/+IC18QU1NP74tuQcDpRDSRuvtx4Lv5q3KKsl1qpBxKpPPhr8opK/sNPMoQeE0efENKGfJv4MFv3aK8kG/gUV4FlkT3+0ELMAkTb9ygkOXawWifb9+F9lcgm4uo0KD7K5D9FciaPHh+FmVqvZoNv3adcvXwBQ/OlqEnRBRh3CSAdwkpW9eMZvRQNbKaTRnY0nbZczOgRdmUje06DuVf+GAV5fx3XwXl/2RNHuV+4bNCqvEtRXCcAJoZdZC+KK0seHoUDDpTcZRuITwBTI852mvMorNNu8OXza7q95l1Gixl4XXiz+l0KZmtLWTPAjEn6BbisYAGBuavXqOWfVo29OEgMt4lRDKaKavnTwvhpbcpx0dv3qTe550QITw1tjYffvceNU1biykovEuIXCxU6rfPAgDaWnGzSo+B2IMYTjn+rjdi+kHHzRhOfUbQZh/mpQ4tf3ii10/My4QOVlG+OMJLUznJ0EAKQI8UQPf74L/ZanAlpgWHqj650uicTi4Wr5R2vPlNZXpW82ObBd4g8vbJ2unmYTIZf4OpNlMamMwaSDyARhCku7u7vr6+rq5OIBDIZDKCIDAM8/l8FoulY3Cz2+2BQABF0WifMqEo6vP5DAaDXC7X6XSjfthAUTQQCEAQFMJtA4FAa2srl8ul7aCBETSbzc7PzxeJRE6nM5ps4zmdarW6oKCAzWZXVlaaTCYEuW/IMJ5ipPqaPBoob7Ud5aoyK3Qbs5pbuiap1/JkqKvXA83exP/ytvxPWwQ0mhxj4o/fWUPP31/+yv7yrTdalh6vWX6VslqKYQEdQp+B32eFUzw6Bp0kAN0bcHwmXMB8zkxjs5bkP87vzBn2ygYAdI2piDmPARg19vg8AQSEvmzW9fV6IIPTRxAEguJ0XEHgR5skSdALhDwQjIvZIEif4auf2Hp/Qv96sHJ7tnTTNcpPNJjcRzfy7tZ136rRP7W9qEhqCW8hzhwcx6VS6enTp19//fXvf//7NIP+13/9V49nyHFKbABNEMSPfvQjcKJUKgX92u12uqmIkiTQAnqiADRGYEwXHGlsVnh4wFvKs8zFdlKyPaI2ImYOQK4QI/0BaJgr24gAdMROSZJ0eIn9FUP0eT2X8gT91i2ozY5vKaLoMyBcL2dSn42fqUfqDMOs5GwZRSFpFxyfFMAxaHU0kaZ6fqIA9MDAwNmzZ6MBaLVaPeGKutc6BJ3fuDHkXpzGvq9eg8xuKkQeiImn7QkFZw4v0WrHtb34vTb0dB1yph5ht6HFWkxmxYu1WLkOK+nAeGpM6cDFJuxiI3q+gSLU5xvQjwvgi2IqDttFMfrOPehUHSLswLLllCX1yrvQZ4WU6SgINriliIoIt1OIANfn8zKhXULKbnRJDhWo8+1B81X2YHS4XUIqttuhaorw7i2j4rZly9GTIirBV2N8DeUJ+pacitjZaKLiHFbohv7V9VHS3pBS8f0qdJixHxd1Y40mzOGl6GGvn+gcDKXIUVF1Wiy4yoFflqACDZbZjDYYMYEGO1ZLibenjGKRHxdQsq3jDIHLLUXwSRHlJ2c9Fz5QScF38H5o5V1oYTYFPV/OpCD1W7cosnxejAo7sHttaLYc3VtOEe3rUirQYkE71mzBr7WgpZ2US+513OZhfUAz6fO2yncsnu5PSt4AV7ZRMOh4AHSpPo955dxR9V742n6f/yKzTquzMbxO/Dk4gb+VN5vZoMHdwTwdAOjTktM9PiospM1DeCFq7w9QwR6dPiqiJkmSEEp9d+KDifALHYZT9amI9ETUl38kScI2LaDPxq0zA+1VTBkSmw4gBADlq9lw7JdDie13OrcGAPRXtevrzaXTbV/DfymNzRopgPZDKCudd6Kw/c1vKj+8JJ5Wi4fXZH7tQMWzu0pmb+b3uKEPzjegKR/Q02oFpAY7/TSQSAANwzBAzxKJxOFwBAIBo9HocrloreI4jg5uITiYrsBMEASBoqjH49HpdFKpVK/X0ybMzGqjSxME4fV6W1pa8vPzaQZN++LIy8srLy83Go0TGOKGIIjOzk4+n5+bm1tWVqbVagOBAE2OEASBYTjEeHx0qkidNbU0oDD077wlMzh954s0Ym3P1BJ+LNIiGL7uonjR0SFXD/O/Lt99S7b4WPUXmU1Huar3z9X/9WDl+svi987U7ciWHs5XnhGoN19vuVrWcaFYUyq33qszyPSups5elWmgss3e5fB22DxBBHMOBAskJnFHz60aPVdi2ntH8VHOmRgAOiJ9BuMaHYNOBoD2wAPril5hPmGmsVkbhAtDnjOjTUdEAE09TA7GkgJnidROPxRqBhutwWj5/T74m7y2+fvLWem8x7cInthaNHsT/7ao+7Kwg37NkFmhW3ysesGhqtui7kQ5Pdfr9UuWLKHBcUlJCZAwNoA2GAz0KQ8NgO4LOJdzngxZKvQh7e75U+GbdGYam9VkDYUFIV5K2epvo016eH5xF+V1nd7Ty5aE1wnJGTuAdvru0+cFNyk/0dtKqHhxtB9eEHFr5V0oW47SEdhCxGAeAgDNUWEARL6XOx1N7RIFoNlsdjT6nJdH+SWf8K2sc2iigVMCmj7PzaA8crgCsbjbSIWHMSp8H2B5BEFIzJQ1aEfvENe2eQhjPxWgz+oh1D04MBpFMIoAYji1kySJ4UMRAqN17R+MQBitNKn5YFz9AQplkiTZ3U8RT6ePGi+EEpoePIBQwQzlNsqVthciVA7Km/ZNGdrRO1Szy4V3uag0IJ4XxCgIk0iL7UcIkQE7VNMSG0CH0Gfg99kVdI6aQccG0MAFh6ZPTl/6IoZ4DaB+ZoU0Niv2+7kaU1GVkUfvfiTUURuCIyEv/KzeB9ypAwB9s+0MrcAkJfyKEvPepwCDdld+Sz/gJLy7KxIUOAZZfIt6XWRxJ/LPM+HSPhwNAgAdsnSn1eFIAbQ3iDy+RXChWLvqbN3xgtH4/Jm6K4fXZGal88Btf4HE9MH5YT7dm7ojTUme0kBKA0ADiQHQMAx3dXXV1NTU1dWZTCba4hjDsHhYc4zJoMzrEGRgYECj0chkMoPBAMOJea4jCMLtdjc1NUVk0Gw2u6ioSKVS+f3+GOIlqQhFUY1GIxAIcnNzeTyeQqFwu91Ak319fSqVqrW1VaVSqdVqYB6evPu2JA0w1eyoNSDt6rtZ3VUgMZ0v0sDoMEZ5o+5lEp6I4cQzO0tWnKwFhrErT4luVHW5vJC5j/oLDf8TCM+Jc1DAHW1EC+gY9Bk0PgoGfbB+w/bKdyPubxc8EMv+w6L52yvf3VG1qntAS5JkjVFAe4vOUZ2vMBTQA7wsPRByo7+t8h1gqU3XiZGIBqBjnDKKIgwnKlrtj26kYg8+s5NyJM1K550RqDmNxie2Fj22WfDYZsEfN/Gf2Cr44HxDTq3e2DOyMFC//vWvv//97//4xz8uLi4OFw/H8Z/97GcAKB86dAhUmDlzJsjJz88PP+XEiRMTC6B1/ap8TSZzv9t+iTnRzCKQdvqt4QMJyUEwOIgGou2g8snG7cyOTjY+YODshd0ruH9mVpDaRSG9xDj8suYB/xs32k7FqAyKxgigfTARQIgNPMrSGYCJeZkUgw6PPRjbgo8p561BFxzstiHD2HfvJeZGhdnF5E8nBEArlcpo9Pns2bOTJEpHvXEIQK/KhXcKh+zoAYbeW4aM+tdn8k/x1JUQoN6tFSsjDiEifQY1R82gERyJdl0NogHgmhnCgiE4WOF8wPhRqGczL63v81+MKD+d+YFgHrN+rSn050/mqGdWeLtgTshyHT8A3Sq0HHgeAGhvYy6BjN5BMz38iIlzDciiW5Q36oXZVOhCXV/oRwkRz0pljkUDUrvocEP6dN57A/aRKvDZXSV7bsuXHKspHsPXfiPtdDLUF2t7WOm81efqZ23kXavULTtRO61cYE+GKUjJkNLAOGtgrACaIIiBgYH6+vqqqiq9Xh8IBJJhlgswtMvlUiqVzc3NZrM5Ic4oAIMGTpbD7aDZbHZBQUFDQ0NPT0/I/VnyJgnH8f7+fplMVlhYmJuby+VyW1paXC4XoM96vV4sFlsslkAggCAIBEFms1kmk3k8nnGTMHljT7UcjwbKFLbt2dJbNfqLJdoAPFYT1Hh6nCR1up3e2RSOLKLdbmRW6JIhWzQAPSx9BsKMgkFHG0WIywVe5y1mzYP1G5iPkXQoIf2AJuSBNo3NutZ64l77lYg7R3uN2SxJkuMDoHPrDXO/CwK55nz97E18TqNp5y0ZiBv55+3FYK5Xn6sXqZ0hEsZzuGjRIsCLly1bFl4/EAj8+Mc/BhW43KGYTq+88grIef/990NOsdvtTC/SE2IBHSISSZJ+xEuvgWHBRPjp8eeUdXPojtLYrEXsRy2ebvr0EEXSb/YAACAASURBVP8bSzlPAOPBAch1WrKTuYf7UQ2g/pDlGs8H5mME0Lo+yj3Colv3/fbOzaA8lq7JG3L9vCgbquwa2eu92woKPTu8BPAVsKUoBaBHpkCwnAKBwKVLl6IB6KamJnrVTWxC6cABbn7rFvTaoCdc2gh62W0oo2ka/TRP7ETE33sMAB2DPoP2R82g4xFvR9V7zKsrM4IriiNrBS8zS09LdoI2682lzEvrZelB8BQAfr7pU9LLljCDEEJoIL1sCV2axmbtrVkXIuS4AWhPfY797DLLwReMW2fiwSFHWCHCjP3QHSS+KoeX5kDnG5BF2ZSf8cR+oDB2CVMtpDRAeaRBMfB0s+Jk7XRTiFzvYqXzblR1PberZPmJ2k3XmuX6+1/PTzdtpMab0sB00MCYAHQgEFCr1Q0NDVqt1uv1JtthBUEQEAQ5nU65XN7S0mKz2cYOuwmC8Hg8UqmU6Q8a+OIAYQnz8vKEQqFarR5jOMR4FpPf79doNJWVlUCYwsJChULhcrnAMK1Wa21tbV9fH1PPGIYZjca2traEEPl4hEzVmVgNuHzw3juKswL1QXYb8MY7sfKMW+8dNs8nVxrB/dlrBypmbaRuVpLRe0QA3WKrXZz/GHhs21m1KrY1caIY9OgA9Lfyw8zHy2HTKwueDlHjOADoAIzli41gNkFUyfn7y1/eV0a/XWCl8x7bLKjXjAY9g+GcPXuWNlh+//33dbr7rys6OztffvllUPrII4/QNpXbtm0Dmd/73veOHz8OXvsFg0EOh/Pzn/+cbm3GjBnTDUAHUH+Ip47PSxepe+W9AbtAd3tJ/uPMZXZKsgNMgd1nYuansVkCXU7IYguJiJXGZvng4UnEWAB0f4D4tBB+L3eINdPc8JWsIR59tAYBTk5DRI19mCNHX8qACIJYzaZa3lIEI9i0+9B77BbQRUVF0ehzdnb2GL+oiz2DIyrt8xMgAtvcDOglRgRCKibeLeiEKBWuY0TqHI/K0QD0sPQZCJc8Bl2mzw+5Tn4rP2z3mUzurkP1X4QUtTklQJ5sJeUrjLlDWJAkSYEuh5mZxmZtr3xX2dPcG7C32Go/L10UUlrQcSNE++MDoHHIbz3+V+ux16zH3zBunYl5e0PESNSh1UNsKKT+SD/mwivuUCEuy3WjeTeWKHlS7aQ0EFEDwAf041sE756pi1jhIc70Q+jsTfysCt1zu0rWXxLvzpFpLe6HeLypoaU0kNLA6AE0QLcajcbtdjORaLJ1iuN4MBi02WwymUwul489WiBBEH6/X6lU8ni8EDtowKDZbDaHw6mpqTEYDAn0Q00rCri61mg0IpGIx+Ox2ezc3Fw+ny+XywcGBsATF4qiIpGos7MzXNUwDDc1NaWMoGl9PtwJebfreIHq27LOvx6srBuVZegU1Y/LC314SUwD6L8luBJTMsYSEUDfbb8MHtuGpc9AJIpBc55IY7Pe5s6xPehgMX6ZRweg99asC3nCjH04/gAaQjCFoX/bTSkTN7PSeStPi+ic9ZfFpt4xuT/yer2zZs2iqfH3vve9X/ziF7///e9/+ctf0pkzZsxYu3YtPSN2u502i54xY8Y//uM//uY3v6EjFv793//9P/3TP4FzpxuAJknyeuvJ2AsJlC7K+yNwEUOSZDwAusrAYza7jPMEPR0xEqMG0BhOsJUojQ5p+jw3A3r1GhXGzTroSTZG19GKsuXo/GvUJ+TL71Ag+24rOg0/9B4jgDYYDNHo86lTp+z2EX/RHG2yxp6vsFHR7cD6CXfBIRouZOXYBUi1MFINRATQbU4J/f5sW+U74NONaC2HMOg4YypEa43Oh9BAeMwG5lWRTm+rXEl/7BgNQPcGHO8VPkefEjuxrfIdjAilseMDoEmSNO9/xnpkvu3Em8atM1GXmVZIYhNOH7GhEP7rdejlLOj169TFmaMKHXJie0y1ltLAKDSAYPiT24ouFGveOloNfPePopEpekqHzcNK51Up7bM28j650rjoaHVF6yT6uZ+iWk2JndLAZNbA6AE08LuKIBPj7Q7H8UAgYLFYZDJZW1uby+Wib8tGoW5gW63T6UpKSpgMOsQUmsfj1dXVOZ3OcAo8ik5JkvR6vR0dHRKJpKKigsfj5eXlgd75fD6wuabtfVwuV0lJSURnIFRQGomkr69vLBoYnfyps8ZfAzK961Be22Vhx98CJTvdlMHLNNkgBDvKVc3ZUQwY5Z+2CJI0/IgAmiTJDPmRL6s/iG37zJwLhVO8VvCytq+VmTmi9OgA9Pv8F2M/c4aUjj+APlHY/uVtOc2a6cTTO6nJfWZniaDFMiJFRatst9v/8Ic/MHFzSHrdunUhl82srKyf/OQnIdVmzJjxD//wDzk5Oc8+++y0BdAQFgwJRRiykMDhbdUFejriAdA32x6w4/uk5A369BiJUQPo69IhaAjQ4UsZ0Np8ymB5FRuWWvH4PT6Hy3ZTRllAYzjxWSG8S4h8WgiDqGjhNadiDoZh3jg2lUql/G4b6QdqKIpmZmZGA9BVVaFxLydWjZVd2NUmai3Nv0Y5lmW+yUjnwypHysnsxM5PhN4jAmiZve6tvNlpbNaw9Bm0SDPo5dynuvrbI3QzqiyZvW5R3h8jXlHpzOWcJ5lhzaIBaJIkVT3NYFD0uRETy7lP2X0R3uKPD4DG/APGrTNNu2bbL6w0bp0Z1DWOSnPDn/S34Ja7hQ/4908B6OG1lqox7hogCOKJrUWidufszfwyhW3c+5/IDjUWd9rhqlK5lZXOe/NQ5VPbi6pVjokUKNV3SgMpDSRZA2MC0EmWbfjmMQzz+/1Go7GlpUWpVI4xYCCKojabraamhgbBAAezBzfaIwePx2toaDAYDIFAIAReDC/xgzXa2tr4fH5+fj6wegbdlZSU6HS6YDDIbNxut/P5fIfDQSNpuiUIgsRisdfrZdanS1OJh0wDarN7/SXx4Xzl3yI2gPh7D9kAow0HQXFBiwWEqmOl8x7dyEvSG/JoADqaYMnLrzMLl3OepPdi3V1mX5ekX9NFyzlPbhAuJEkSJ/DVvBeWcZ6If/+8dBGz2WT7gPZD6JuHKmnozEzM2sj7tqwz4Y5lysrKli9f/vjjj//yl7/8l3/5l9/+9rdz5szZvn17e3tkfKDVatesWcNisf75n//5V7/61eLFi0+dOgU8eJw7d27N4GYyDT23QxC0du3aNWvWfPLJJyFqBIf79+8POYVZLSsrC5TyeDxm/sG6z9LYrEZrJTMzPD1uPqBB137Ee1S8OSLLSGOzlnGeKO/mMIWMB0AfanjgG/Mvaz5gthAtPToAbXETH3Hve9544wZ0R4Hur0DONiBBdKzuMq5IKMNqBCPWc+A8JdVsNOGnYj74Suw7thzX/yMF0LW1tdHo87fffpuo6NOJUr7Chp+pp2IPvnoN2lv+QBDCj7gwPP28ryRKsclrJyKAJklSbCn/uu7T2LbPTKlcQefu6jXqXhkzc+xpda987YPunplX2o1lS61eA7OXGACaJMk6c8lq3gvMFkLSWytWRrPgHh8ATRAECD9o3PYH49aZ7sqrzNElNr0oGwIBZoG3nKyWlIv2xCo41VoCNOANIrM38xcdrWal87Jr9Aloceo0Ie92zdlRzGs2s9J57wx+Ctlq6J864qckTWkgpYERa2BqA2gwXAzDfD5fd3d3S0tLV1dXIBAA1tlMIIuiqNvt7unp8Xg8MZ6LcBx3u90KhSLEHQcwhQYkOjc3Ny8vr6CgoKysTCqVWiwWv9/P7Cv+SVCr1SEdVVVV2e32cIfOXq9XKBQqFIrwIo1Go1KpwvPjFyNVcwppQGf3LDlW8+Y3FMKz9VNLfZpsOE4IWiwrT9330vDQA+iJmtnk+YC29QdCHD0/sVXw5DYqsOSW6y0JR88TpcCx9xsngEZxZEvF2xuECzcIFx5uSB97v/G0INSzt1S8DTzMAKixhj/3YN1nZk/oI5Mf8aaXLQbigX9rjIKQLi5Jv/5MmEbvN9tOh1SIeDgKAN3Rix+puQ8Kj9UitxXoTiGi7kmMseqxWmRVLhxEiflZ0Jl65KbsoWIcyQbQTqfz9OnT0QB0V1dS3P1HXFpxZmp78CuSIWv6jYL7bzXmZkAfcadj/Mk49TaB1aIB6AkUKaRrH+w537z3o+LXF7JngUvrW3mzPy9ddLPtNDOQIDiryshjXlo3CBfCGOUCiN4gLFjQceNT4ZuLB028QYNL8h/fVL5MoMvBiajXvfEB0JjbCQC0aecfjVtn9guO05InPPFKFuUDel7m0JcKp+oeqreDCVdXqsEJ0UAQwRYdqV53UTx7Ez9JEW4mZFzxdCrW9rx1lBo7K5237HjN7E18tTnlAzoezaXqpDQwVTXwMABooHsURV0uV3t7u0wm6+joUKlUBoMBRVGCIJxOZ3t7e0dHR2dnJygFkDripBEEAcOw2WyuqanJz88P8chBk2iQyM/PLygoKCkpqa+vVyqVRqNxYGAgBuAO6dHpdAqFQtAFh8Npbm6mnT6H1MRxXKFQ8Pl8nU5HOwBBEKSzs1Mikbjd7tER8JBeUoeTXwNqs/uto9XLT9Sy0nn85mR5zZuceihT2DZfb2Gl82Zt5LHSeUe5qmTIOXksoJMxunjaTBKAJgjiXJEGhBwEhs/rL4tvVHW9dbRaNJ28mcczBXEC6HiaSlIdnMAtnm51r9wDDySpixjNjhRAuwLE9pL79Hk9Fz4uQmq7sbEbPtNCflmGrOfCA0FiWwl8W4EuyYG6XFERD33WVEkkFUATBJGTkxONPvP5/EmopYtilHbnAry40F44UgB6Es4XSZKTH0DTeguigQ5XW/eANpw703XiT+AE7vBZVD0tRrcu3ONzeDvjA6BhiwoAaPu5ZcatM/vyvgqXJCE5OEG8cQN6KXPICHpuBvR1ZQpAJ0S1qUYSqQEYxd74pvJuXfdzu4XTDUBjOLEjW/p5RhMrnbfmfP2iI9WFTdPr8TaRKynVVkoDU0ED4wegx4GQEgSBIIjD4aivr+dyuWVlZSaTyWKxtLa2ArNiBEH6+/uVSqVerw/3ZcGcLxzHPR6PRqMRCoVM/xg0jwbW0PS/eXl5HA4HwGir1Rq7cbojGIZra2tBI8NyZL/f39LSUlxcLBKJFIObVCpVq9Wp8IO0PqdDosvu3Z0j23tH8fgWwc3qSWcXlrwpwHHirEB9vVLHSue9+nX5rI28nNpQi8uE9J4C0EkC0Hfrul87UAHQ87O7SjLKO49xVd/ktfmCD5WtaEIW4eQH0AkZ5qgbGSmAPteAnhQNAeglOVBmMxpExupzI0T4b5vQ93LhQjX2OQ/eUkSZxD5MjoAhCOqOY2P65oj/TbxUKo1Gny9cuODz+UJUPRkO2Ur0k4IHDJ9pAL0kB+r1Ex4owQtsMox6SsswhQD0xOp5fAA0ZJAPWUDvmk1ZQPOPJmnUXhhPu/mAl/aHzD9SkvSWanacNRCA0ad3FpcpbGmHq6bVwx1Jkp4A5X7kNE/NSuedKFDN+6rsREFSDIzGeU5T3aU0kNJANA2MB4BGEMTtdsf/NBJN1jjzfT5fc3NzQUFBbW1ta2trc3OzwWCg8TdBEGazWavVxvNUg+O41+tVq9XRMDRtEE1752Cz2UqlEoIe+BQumuQEQSiVyoKCgry8PIlEMqwPawzD+vv79Xp9R0eH2Wz2+/3jptVoQ0jlj7MGOm2eVWfr+IOusm6Luse59wnsrlrl2HlLtjuHCl737K4SVjqvLjlmsykAnQwAzWk0Pr5FAOjzvK/KNl1r3p0jazdPgPHsBK7h+LtOAejYuhoRgOZrsHmZQ99fr+fATl9SyGBZJzY3AzpSg6y8CwFra7P74bGAjj0ddGl7ezvNoOO8OfF4POfPn48GoFtbRx/ElZYqGQm7l6CJc3iCo8Ls3qQss2SMZZq0mQLQcU70+ABoAoFsJ940bp1pOfC8cetM+7llcYo3imof5D0AoFMW0KPQYeqUZGsAwfCndxYfyG0FKDbZ3U2q9iWdvY9u5NW2O1jpPBCifLoh+Ek1HSlhUhoYBw0kHUCjKGoymTwezzgMBnSBYZjb7R4YGIBhWKvVNjU19fc/4MzeZrNptdo4RSIIAsdxn8+n0+mqq6s5HA5tBB2eALbS5eXlAwPxghWbzVZSUpKbm1tWVtbb20uD8mjqAvLgOD5szWgtpPKntAZ63NDS4zUHcltZ6ckyAZ60+ilvpUwD6LB1WRW6ZIiaAtAJB9AKQ/9ZgRo4TmGl81aeEsm7XcmYu4emzRSAjj2VIwLQp+uGbJ8/LYQxPFlYsKAde+06VKHDVtyBgHMGf6KNrGPrZDKUjgJAc7ncaPT57t27k/Y+x+Im3r0X2QJ6bgZU2YUlb6VNhomeijKkAHScszY+ABoPeqxH5hu3znRc/cC4deZA2cU4xRtFtcU5DwDolAX0KHSYOmUcNPDSV2WPbaYMNZp1fePQ3eTpot8Hs9J5GeWdrHTehWLNs7tKbk2zMIyTZy5SkqQ0MD4aSC6ARhBEq9U6HI5xfoogBjcEQVpbW5uampismYq8bDTqdLoRBVUH2BeCIIfDIZFIBAJBNL8cubm5HA5Hr9fHaf4TCASqq6vZbLZAIIjfd8f4LI5UL5NQA74g+u6ZulVn61jpvPJW2ySUMHkiidqd6y9RQSrAfq/ugaDwieo3BaATC6CdA8E3D1U+N2i0Pmsj72pZB4pNdstQfCBIQCiBYIlaVCNtJwWgY2tsRADa4ib2VyCbBLChP4kLL6sFnZcJ1XRjb9+FCtqxJTlxfQUVe5hTrnSkAFqr1Uajz2fOnOnrm7wP4UoHfks+FIQwxAJ6VS4sMSdxpU25VTFJBE4B6DgnYnwANIHC5r1PWQ6+YDn4gnHrTMz/gJ1QnKIOW03vwg0u7K1bDwDoz3mpMKHDai5VYbw1gOHEY5sFb5+sfXpn8XSLyE0QBCudV9hkZqXzPjjf8OyukgvFmvGegFR/KQ2kNDCOGkgigEYQRKlUdnR0jDN9prWH47hGo6murrZYLHSmy+XSaDQOh4POGVGCIAgMw/x+v9VqbW1tramp4fP5eXl5wBqadsTR1NQ0rD8Nul+5XM7lcjkcjlqtHhEWp1tIJaaPBroc3jk7io9wlKx03nTzYOAcCO66JaMB9O4ceTLmPQWgEwuguxzeRweDRrLSeY0dvcmYssS2iZoHPKeqe5ZcCwjaMevEROJOAejYczoiAB27qUSV3pCiC7Oh3aXI8jvQTiECHAF39E4vEDkiAA1B0JUrV6IB6IaGhkRNTTLa0fbg91opAL0wG3rjxgN4a1E2JP3/2TsTvyaO////R/3+Hqm1rW3t52P7Ea9SrYgHXlXrUWtrK4iIooKIgoqKB57hvgkECEmAcIb7PgPhDje5SALJ3vl1WIxrSEKABAlMHvvQ2dmZ98w8Z5NlX/ve94yur3l3BmGH24QCtJ1IV0aAnmkRyvw+G77zw2T0BZnfZ/jUuJ3dW1Sx9gmyaZQ0e0R0MQcK0IuiCAuvEIGdwYUX39Vuvibk1gytUJOro5kZBP/OX3g8opzlzfvxZj7LmydqWV/+VatjHmAvIIGVI+AsAZr2Pm5pabHTEdhJI1ar1dXV1SUlJf39/SqVamhoqK2tbWRkZPm9opVoHMdnZmYqKyszMzNNGnR6erpAIFAo7JVaZDKZQCBIT0+vr69nytYYhs3MzHwq+d5JMwLNLpPAiHLGPaSI1mGru+XLtOZa1YvbxvfcKzYJ0EGpLc7oPxSgHStAq6bR8OyOr67wI4VSFP9kPsV2nioUQU4nNsg9o2ZSGpW/JRvyu6hP4a8NBWjb87UKBei0VvwUB31SgR1NRS7lguAMkkmyfWJ9CZGLEqBFIpE19Tk2Nnb5f6TZPoWWeRQlqNRZAfqKAL3MN4/F8aYWLqy6TMCOrw4FaDuZrowAbeiuAgJ00GZdTfrQja8QWQtFOv7XckxLtY6Tu2M/ekR0PG09vp5i5+zDYp+QwM7gwqouuXtIUVP/+gpSJ5NPs7x5m/xA+JH/3QICdHqlU95w/YSTC5uGBCABJgGnCNAYhjU3N9fX12MYxmxs5dMURel0ut7e3sbGxtbW1sHBQZ1ORzr6rxypVMrj8ZgCNIfD6enpsXP409PTRUVF6enpxcXFKpXKpDiTJCmTycbHx1f5ndjKT+t6blGuQbyj65/xwWLB62qVBpl8Oqa4lx44rUGHZrQ540yAArRjBWh6jjDc8feWzph9vEcu3x+tOBKHNg6rr+Wqr/HQWpkzGrJtEwrQtvmsQgGa04b/xkF7leSRFORYKtA7oABtYxJHRkasqc9PnjwZHh62UXeVHEpvAx7Qv3HQQNFckHGTo2X9iGv83K0SkivTDShA28l5ZQRodLhd5vcZiAH96leZ32fy2IsU7izH5BPpHwnQJ9Od1ZCdhGExSMAigV9Ci5/wJCxvnpNWuLHYqGMzmRH2pmZQ0y5FURhBojiBYAROkKMqvUqHgG0arMyB4oRplfKf7xatt9tbx04BtAYJuAQBxwvQKIo2NzdXVVUhyGp5yEySJDH7cdLafWq1WiQSmQRoOjx0dXW1Tqez5ySgKKqhoYHL5WZlZfX39+P4B98ZFEUbGxvHx8cdLprb0zFYZhUSmJwyXHhTczu1heXNey5YR0GySjsmLkXVbfITmDygdwYXOmOCoADtDAHaGTPlcJuUAdNGlMn3ssHmwZ5JbpR7xU4F8EmtweFt2TYIBWjbfFahAP22Dj+ehkxOU17JyDku6p+HjeuoadRZax7a5vOpjtrpAU0QRGxsrDUBWiQSfar+L6pdbgfhxkZ2RCHboz6St9zYiHSdhV5ZFLdPVRgK0HaSXyEBekQiu/a5zJ81FuEp8/tMmRFkZ/cWW4wgqXOZH72jAENwLJYhLL8yBPbcKy7vnNzkx89rGrW/xRkEH1XpZfJp6aimZ0xb2TUpaBwpaQcxbXrHtY19yriSviRx/7+ruLfJ1H0Tup4xbXHbeHRR73NBV2hGW1RRb2hGW1BqS1Bqy11OW1hm+7WExr/ZtX5xDX+9rT0WUX4lFiR8outvJDWFpLf6JzSeiaz67XnlyWcVYZnt+8JK/huQ9/Pdol3Bhd/5Czf48H64kb8ruHBrYMG/KxVtvib85qpg4+Vc043b/MQ3VwWb/ASbrwm33gJV6O0uxykORvZThSUhAUjAqQQcLEDTgmlVVZXBsNJ37E7FZNs4SZK1tbWmKBx0SGg+n69QKEzuzDYsEATR2dlJ+1A3Njbq9XpmYbVaXV5ebqcpZkWYXpMExtX6ncGFYZkgBvTr/O41OUaLg6rsmvz6Cng/y7RdiqqzWHKZmbQA/aD6slI/uT63u5V/e3BYZUOCZZJ0reoUQaK1Mvmh2DkBei9beS5V9SdHvpeNVPSv8FigAG0b+CoUoIOLgBtsWCnmlYxcy8OCizAEX1/qs9FotFOArqqqsqY+v3nzZvX4Ltg+CYVSIEC7sZEL2R/JW7uiEeXMupt626xWw1EoQNs5CysjQFM4Nhq+e/z5YdnV/5P5fabKCbOze4stNqwhf+d++IZez8eiGz54+SzWGiwPCTiPwJaAPG7N0H8D8u5z2zuHNf0TOm6NjFszJJaAZavKOye5NTJO1WBB82hZx4SoZSyxrF/QOHLxXa3ZzRF9l/TL+4iFn79fhWVrYIF7CPAv3hYkosvQC7Rs8OF53i9lefO+9J27ydrom0uHwjDdcM1PfH9duCu4cH6+7Ry3wIILb2pMC8PQhT0flB4KL3Ob1azpnHvOecPVeXMHLUMCkMCiCDhSgEZRtKWlpba21kxCXVSHXLRwf38/n8+nnaAzZj8cDkcqlVpbVJAgCI1GMzg42NTUVFRUlJ2dTftNi8XiqakpJgSKovr7+8Vi8fT0NDMfptcngWHlzPfXhYcfiVnevOb1FCZM0DhC/4Vk+uPmQVaHM84BWoD24LDW+bauBGhSa8D7lcpzqSb1+aOEVyy2svHWaQE6o4stUTTCbT6B2tESDw7rFO9/zvgFWJrN+2VAgO6YIA8lIweTkF0xiGL9qZD2CNBKpfLp06fWBGipVLo0/itfq7gPCNC/xCOhpR+F4NgTh/SpSIyAGvTKz4mtFmkB+mK+x/zfE5jDJBDZcNuDw4pve2qL5rKPkeiM7Or/jT3ZRwfiUPPDl23SsgHFDLUv4cM7ClUyYkQDv5uWWcHcT0tgx23Rm/xu0z0OnaDl4x9ugMjIJimZPkQ7Du8NLfG8X7olIM+s4jdXBduDRNuCRF6PxF/68j/34W0NLNh9t3hfWMm5l9Wbrwn/elsbkNi0+27xDzfy9z8o3XxN+De79vvrQpY3b+utgtMvgI/z3tCS0y8qd9yeE6yZTWy+JvzW/8M7qcxDy0+/WE8v+H7asw62Dgl8EgIOE6ANBkNTU1N9ff0q8V4hCALH8RWLXKHT6eg4zunp6RwOJyMjg8PhVFZWMqNw4Diu0WgGBgZo0TknJyczM5MumZ6enpWVVVZW1t3drdFozLpNkmRDQ0NLS4udQaU/yZkEG10ZAoOTYK2Gu5w2ljcvuXxgZRpdDa0klw+Y/U2zK7hQPe34WH4Vw3m/5W6FW81I0WqY9xXrgyas8CPReS9b7hkl38tW/QWcoNW+2RS5cnettAC9zh+BLDj8VSVAv63Dd0YjWRLCI2FuEUKUoPTY+orCsaAATVFUWlqaNfU5Kytrxb7vy2+oYhAI0Gcz0bMfv+C/Jw7J7STWW/SV5fN0tgVagF7wVwUWoAk4W4DG1aOya5/TAaBlfp9N12U67wQIyP/gAf0aLhDqPNDQ8vIIeIWXHXxY9p0/kIA3+Ql2Bhd+YTN4xfYg0S/3ir+5KjA5O3veL6W9kg8+LDv1vPL768K7nLaQ9NZjT8oPPiwz06/NbqkWteseUkRr4nSt/1zPM3lMm/V5o2+uqd0NPrwvLoPdjfS/vlZDc7zMc5lH0cubc1gbElinCJq31wAAIABJREFUBBwjQNNr/fX3968ehVSn0ykUihVTwymKampqysrKMjlBczicnJyc0dFRtVo9MDDQ2NhYVFRkJjrThbOyskpLSzs7O5VKpV6vt7jkoF6vLy0tlclkFo+u05N3XQ6bXiz43Mvq/93KL+sAr2Wtkw+/YcTsz6Of7xb1jdsVZn2dIILDXBoBcsowdSffTH1W/ZM5k9Io95iNBz0bFVqftXIx6WJbH/sX/wo32wRCKv5a2ow7o1ZGO344BUlvAzJ0aCnmHoPUDpFPKkAkaGc0tzptLihAt7a2WlOfX7x4odVqV+e4LPaqdph0YyOX+WhQ4Uce0G5sJKYBH9Ouo3m3yGe1Zco0PbZ/T+BRJoG8vnSnzqChu1J2fQMIwTG7FKG2LMZ5zf3O/eABXdBDOK8haBkSWDIBgqRMsZLpFfm+vsL/+grftDofHSKDLvOf63n/uZ73zVWBmdrLvEvafE341RX+tiDR5mtA0V5wO/CwlLnKDsubty+sxMz3mfan3uTHP/pY/LkP7+srfNqrepOfgBagtweJtgYWfHWF7xFWcuJpxclnFYfCy86/rqbl75/uFF5PbDrwsDRSKA1KbTn7ssotsIAW3M26F5TasmSSsCIkAAmsfgKOEaDpcZr57X7awU9OTg4MDMzMzKxYN4aHhwUCgdlShDweLzs7m+npTBdg/puVlUV3lSAIGzGjR0dHYSCOFZvNVdvQmFrP8uade1ntHlLU3K/qGXOlO/blUGUX9pj9gfLX29rlGIR1IQGj0UhqDap/MplCs3wvW3Ek3pDfpXtdaSjuMQnTisNxxPh6+brBc2OxBF7X4m5s5FE50CID8rGd0UhcI14xSPSryMWact3ytgXo6enpyMhIawJ0Y2Ojaw28cRQI0P/w0PDZSafjQf8cC6Su3C4ocrnWZMLerjQBXS1H5vfZ6P2faAF64u1p5/Vg9+y3kv6GVsngd9N5pKHlZRGQyadruhWjKr1Kh8jk0/e57X3julGVXqlDkssHRC1jMvl0RrUstrjXgH04jcfV+qzaobSKwfvc9mqp/EZS883k5o6huWCeLYPqsMz2RzmS9MpB2kh9r5JbM3QjqUnYOFItlTf2KcWSibiSvoLmUWHTaHbtUGa17FGO5GFWR7VUHlXU+w+77k5669/s2kihNFIozaodquqSR/A6M6plgsaRxzmSC29qQtJbz7+q/odd5xNd/9fb2qvxjX+9rQ3P7mAX9txObSmXTN7ltD3I6ghKbbka3xie3VHRORld1PsqTxpf2vc0t7NcMplQ1l/dLX+U3REp7HqU3SFsHFkWSlgZEoAEVjcBRwrQq2qkQ0NDnZ2dKxk32WAwlJaW0qGcTVE4mEKzxTSXyy0vL9doNAvSoyiqr69PrVbbEKkXNAILuDqBwtYx00oRg5PTKifEoFidiKLmCdDbgkSrs6uwV65CgNQhuteVJomZmVD+lqz6O8OQ16l9Ljbl615WuMrQYD9XmIBsCsiRBT3E/kTkQBJQIbMkRGgptq70DtsCdG5urjX1OSkpyeX+sKE9oN3YyL2SDx7QoaXYrhi4COEKf/lgc65HQFuRKPP7TJkWQAvQmuK3zhvD61ps2+x6oW5sJL/7g3LnvBahZUgAEoAEIAFIABKwRmBtCtAURfX09LS0tKykAG00Gtva2rKzs2mhmTP7sSY65+fn19bW9vX1KZVKFEXtvPUiSdLOktbmG+a7OoGyjgmWN++P1zVfXeFPagyuPhz7+/8mv5v5JhrtDY3h68i70H5WsKQ9BDDppOJIvOJ4gklf/iixPxrsekZNx9Sqr/LkXrHKs6ny/dFoM/TLsIfuuivjw0dPZ6AoQV3Lm5MjG0bI5jFyXS1FaEOA7uvrs6Y+R0RETE5OutwZU9oPYkC7sRH3mA8v+HvnortjEfh3msvNJuzwChOYac2X+X02+e4cLUDrqlOd14Eb+eiOqLkvaXEfFKCdRxpahgQgAUgAEoAEFiawNgVoDMPa2tqam5v1ev3CDBxXYmJiIi8vz4boXFdX19fXp1KpUBQlCAIKyo5jv14slXVMbPDh3U5tYXnzksT962XYRqN0RLPBh+c2G1yMVp+/usInV3BduPWDej2MlCJI5fk0puJMLzbIzJHvi1Jf46m8uWqfLPnBGOXpZPletiZUBNWl9XCGLGqMFEUFF2GBImxymrqQNbfgFb7+fp2sCdAoir57986aAC0WixdFe5UUlqlJk6pFK9FubITOKR+EItcqmSXYjVVKQFeZBKRnfxYtQE83OHEB0icVqMkDuhKG4FilZwTsFiQACUACkMB6IbA2BWi9Xt/Y2Nja2oqi6ErOJIZh5eXlGRkZtAbN5XILCgrq6+uh6LySs7C22+oe035xOfdxjoTlzUspH1jbg2WOjh7y0cfi/wbk0QL0mRdVzAIwDQnYT4AY1yqOxH8kN8+uNCjfy1ZfzpLT7s972fJ9UZoHRaAYYzVCRNxnf0Ow5DohIJASPnw0p5PwTJhztdMY1t0ydNYE6JKSEmvqc1RU1OpZvHpR52r5wJwHtEl9dmMj22cdLWMb8UWZgoUhgfVGQFP8djjwW0XyVVqAnhK9dB6B0NK5h4JubKRHAV+bcx5paBkSgAQgAUgAEliYwNoUoDUaTW1tbXt7O46v9G3A6OhoTU1NfX19f3+/Wq2Gns4Ln4OwxGII9I5rWd6864lNLG9eRrVsMVVdu2xscS/Lm3fiaYVJgL4NV0l27Sn9ZL3HB1XT8fXz1WflqaQZTvNUSIHqAkf5+3v/6IMx8gMxzMKKI/GkauWWt/1kmGDDiyHQOQliQF/Lwy7moKGlIAqHSg8FaEBwfHw8IiLCmgA9ODi4GMyrqGzJbAgO91iEucRZUCHmHoPosXU39atoYmBXXIGApvityQN6NGynmvfAeb0OyP8gQMMQHM7jDC1DApAAJAAJQAL2EFibArRcLq+srJRKpSv/rjRFUcTsB4bXsOf8g2UWS6BvQrc1sIBWYwtbxxZb3XXLl3VMfO7D+/oKn3Z/ZnnzdtwWmRZ6duC4FPrx2tESuNlJQKEfdyD8FTBFjGqY6wp+UJZnwz3r+ZKpO/nEpE4TUgBEas+ouQL73if2smdSGjUPi1egq7AJFyJQMwT8YfO7iUu56PMq3I2NqNeoBzRJkpNWPh0dHe3vPwQBwlCQJJmQkGBNfRYKhS40xWZdrR0CjxzOZqJnMz/IW/fLsKOpSK8Selma0YK7kMBHBLRlMTK/z+Tx/8j8PhsO2qwtj/vosEN3LvE+RGmvHYbfTYfChcYgAUgAEoAEIIFFElibAvTY2Fh1dbXretYschJh8XVEoG9cd/BhWVxJ3093CgWN62g9tOpu+c7gQrfAgk1+cxp0WGZ714jG4XNfNJDlwWHBzU4CRYPZDp8CpxokJnXzg28oz6Vqn5Tiw2oKI/B+JTGpoygKbRjS57QrjplH6lD75UxH1yDl6ygCu1NnZG0YF0qBAN2vIs9nocFFwANai6xNN1gcx9+LzLb+pwXouro6a+rzq1evVniVDseeaY2jQIB+WonR000H4ggpxtxjEdmU00WuHlVHbOsjuPVPdTl2WqG1lSGgrUiQ+X02cncrHYJDLXzsvHb/zPogQJf1w/jsziMNLUMCkAAkAAlAAgsTWJsCtMFgUCgUMzPwLemFzwBYwrUIdAxNHQovixRKbyQ1t8vUrtX55fRWOqL58Wb+ofAykwd0QGIT4YRlvmgB+nTutpCKv+Bmg8Dp3G0eHJYLCdCUHsMHVFM3BbRTs+LXRN3rSvm+KOX5NKT2QzQbUocYCqX0uUqhuCGvcyqAr7rE/eArvZc9HV+neVhMEU6XmZbzlYF1V5JAehvweua04V7Jc2LHhG69C9BTU1PPnz+3JkB3dHSs5AQ5vC2ZmnSPATP+UAyeN9BbSgs4DbqdH2cWPiilH5GWDQkcPrPQ4AoQ0BS9pqXn9wL0E+c1yvyG8rtwxcza/GV2HkBoGRKABCABSAAScCCBtSlAG41GavbjQFLQFCSwGgiIJRN/vK5Jrxz8803NjaSm1dCllelDXEnfjzfzTe7PLG+eT3Q9ijvemYW+sY+oC1iZcbluKxG1111LgMaHp7RPShUnk+R72ZqwQh27WnMn35DfZaYjI9UDSOWH5T1JPUZOo8SkDqjV7xcqVBxLmI6vQxuHXXf6YM8dSyChCd8RhQTkY7ti5rTITvnafD5hvwd0RkaGNfWZw+E4lv8nsRZSjJ1IR68KP4TgyJYAR/iCHsdfmMwGSF+nLhd6ZXRFrc/tUsF+Dw4LCtBmJ4ar7Kqy7gIP6JAfaQFaHvePk3o+pqXuFINHRO6x4JdZKnf6d9NJA4FmIQFIABKABCCBtUFgzQrQa2N64CggATMC42r9jzfz/2bXnn5R+ShHYnZ0De9Wdcm/8xea3J/pGNDO8AGHArSdZ5ELCdCkFqFwEu9T6HM78OEpuWeU4mj8dHw9ZcDmDxatH6Iw83tUvFdhyOtUHIn7oEEfjpsKFBKK6fkWYM46JBDXiNPLD94omPOHlanXpgBNkuSElQ8zBnR7e7s19fnZs2dqtcu/vkNS1OkMID3ffD/jt4uwgh7CMwEZcP7Uw+tUePUVKEC77i/tVMELmd9niiRfIED7s5QZgRTplB9MOiyS6R0FbgexAi8ouO68wJ5DApAAJAAJQALOJgAFaGcThvYhAUcS6B3X7g0t+Ydddymq7oWga2LK4Ejrq9jWsHLml3vFm68JN/jwaBn6zIsqmdzx8h+8sbfzLHAhAZpCcAojyCm9oVCqPJuqCRUR41prw8Qk4/iAav5RCiOwbrnqYoZJg5YfjJlObJhfEuasQwKcdjyqHhdKib9y5vxhW8acoqesZrYSiYQOC93U1PTq1StrAnRtbe1qHoWdfWsYATGgPRIQz4Q5n/d/eGhJP/CAXoHw3/A6BQVoO0/U1VlMlRMq8/ts4tWvMr/Pxh79oilhO6+fZzPR7VHIttk4OYnN+FpdHtZ5AKFlSAASgAQgAUjAgQSgAO1AmNAUJOB0An0Tuh23RTeSmnbcFgUkNo2q9E5vctU04B5SdP519VdX5hYhdA8pkgxPObx38MbeTqSuIkBTFIX3Kw0iqepihupC+oJxM6Zj62bSrAa3wQdVmrsi+b6oORl6XxRaP2QnMVhsDRPIbCeyJUT5ABEy+7q3GxtpHF2/AnRKSoo19Tk+Pp5en9DVTwbObNTv37loYCG2Iwpo0FcEaMUgEKDHtJSzI4DD6xQUoF36G6RI8Zf5fTYavlvm99nw7e8n3p5x3nBOcZCfYkAIjm1spGGEhAK081BDy5AAJAAJQAKQwIIEoAC9ICJYABJYRQSkIxrP+6WPciRHH4vTKwdXUc+c3xXP+6U/3Mj//L0H9M7gQme0CW/s7aTqKgK07mWFfC9bfY2HtoyahXu2OFJ9TvtMSqPFQ3QmpcfQ+iH5oVhag1YcS7AhWNuwAw+tJQIxDfizKuxJBWZa8KpKZh7IZS2N1+JYaA/osrIya+rzkydPxsbGLNZ1ucwBNfCA3h2LSOUg4cZGnlVhjaMgLVOT4gHnzj68TkEB2uW+MswOq4WPgQf061N0DOhJ9jnmUQemcZLaN/uOwvYoZEcUUj9CTk7DRQgdCBiaggQgAUgAEoAEFkcACtCL4wVLQwKflkBl1+SO26LricAD+nGOpHNY82n7s5KtH4soP/2i0hSC44/XNb3WAyksuWPwxt5OdK4iQCt+TdQ+E1OUvfecMxktaOuobQgUQU5H1WgjSlV/z0bk8GBj3XLbVeDRtU3gTS3uxkaiG/BAEXYyHUThGFCT06i9Z93agCORSFpaWl6/fm1NgC4uLl4bIzUajWNaitadf3q/7OS7OlwyCQToO8VYORSgnTzTUIB2MmDnmldlg0UIh4P/QwvQow9/dlJ7CE4dSALPh+jXFF7X4gS5vn6WnQQWmoUEIAFIABKABJZGAArQS+MGa0ECn4ZA77j28CPxvrCSk88qvB6JU8oH9KhzPa0+zTgttXryWcW1hEZTCI4vLufCGNCWOK1QnqsI0KRqhkJw+6EYCqR2qsmG0l7VnxzgB+0VizshGoz9fYYlPzmBwEKw9mDTKHmZj76swffGIwacWm9hoCUSCZfLtaY+v337FkXRTz5TjurA4KwH9NNKjJ56NzZyPR+jM//IQtvGnRuABT4ohQK0o87kT2JHnfuAlp7pfxVJvk7qxpSB8ngfpf3ftxNOpKNprYv4e8BJvYJmIQFIABKABCCBdUsACtDrdurhwF2SwKTGsDe05C6n7Utf/uWY+naZmlw33hxHHou/uSr45qqA5c3zeiTe/6DUGVMIb+ztpOoqArSdwzEVm05s0Oe0m3ZtJ/BeBQjZwWmxXQweXfMEQksx91ggQPvw0Us89FgqYjQaB9TOVSFXG9WampqIiAhrAnRvb+9q6/By+qPWAw/oKwK0XzUXguNYKqKYAZnlg4RsyrlTD69TUIBeztn7yetOiV6aBOjhwG8VKf7O65JpmdBtbBAMWihdL04bzkMKLUMCkAAkAAlAAksmAAXoJaODFSGBT0Agv3nUO7o+rqSP5c17nCP5BD34dE3+/qqa5c2jty8u524JyNMZMId3B97Y24l07QnQdIRoHbtaG752AgXYOZuw2DIJPKvCjqYi1UPEtTwQBnp/IoLgVLfCuSrkMvvs2OoURUVHR1tTn3k8nmOb++TWCBJozWczUX4XWHjQjQ3Cy6IEyGx1svuz0WiE1ykoQH/yr8ByOqApemMSoMce/aIti16ONRt1VXrq1zTw9TRtaW3QA9oGMHgIEoAEIAFIABJwLgEoQDuXL7QOCTiWgFaPbb4mvJHUdPpF5cOsDscaX+XWTj6r8Lxf+qUvn+XNOzzrAe2MWH7wxt7O02DtCdAz6c3klGGG22rI67QTAiwGCdAE3tWBGNDZEuIcF/2di3okIGPa1SJAUxRFkiRBEBiGoSiKIIjBYNDr9dPT0zqdTqvVajSaqakplUqlVCoVCoVcLp+cnBwfHx8bGxsdHR0ZGRkeHpbJZIODgwMDA/39/X19fT09Pd3d3VKptHP209HRUVJSYk19joyM1Ol0a+xUmdABrflQMsJpA1PvxkZ0CNWnIrdHIV1ypz94gNcpKEC79BdKWxZjEqBl/ixteZzzhnMxBwTld2Mj26OQndFIcgsUoJ0HG1qGBCABSAASgAQWIAAF6AUAwcOQwKoiMDWDbr4mTK8cdAssCM1oW1V9c3Znbqe1PMzq2HqrgOXNO/+qem9oiTNahDf2dlJdewK0obCbUM6graNI6ZqKFWDnhMJiyyHwogqokOlt+MEk5BQH/SkG6VeRY9qPVruSSqVFRUWFhYUikaigoCA/P18oFAoEAj6fn5uby+PxsrOzs7KyuFxuZmZmRkZGenp6WlpaampqSkpKcnJyYmJiQkJCfHx8XFxcbGxsdHR0VFQUm81+9+7d27dvX79+/erVq5cvX0ZGRr548eLZs2dPnz61ERDDmljsjPyWljUYo2ZyGgjQPrMhv2l5SzFDdUyQHgnIlOGjeV/OeWWtLrxOQQHa2rnhEvlKzk1agB4J+XH8mZci8bKTum3AqJBiEKDftD0UO/7NOSd1HpqFBCABSAASgATWHgEoQK+9OYUjWssEBiZ1Gy/n/s2uZXnzbiU3r+WhzhtbpFB68GEZHYLjaW7nV1f4FOX4+3xXubGfQlRN4xUZXey4tieiAa5U2WLA9fOYLSKjU9GU35ee2P4ssf1Z0WC2VNlKkLYchdaeAE2MarCuSX1uh+5t1SLAwaKQgNFIr0TH7SC8c1HvXNQ9BhnWmLvBFhcXO0PeXeU2U1JSnPFD/clPOgSfE6APJs1pW9VDhNpAneOuxEKLrnKdct40QQHaeWxXwLIy/QYQoK/+39DNr4dufq2rSnZSo63jpOkbSmvQ3rko6YQ/HZ3Uf2gWEoAEIAFIABJYYwSgAL3GJhQOZ40T6JvQXXxX+ypPyvLm+UTXr/HRfjy8gw/LPMJKdgYXsrx5GdUyzwelztA1Vv+NfYe84Q/hzx4cltl2NHtzljQWIxft3dM4Xv53/j4zax4c1oW83VXDoo8n4cPe2hOgsfZxchrVsavVPlkfxglTkIAdBLIlIBBwRjt+NhMNLsLOZqKT0+aPx2wEqVjlIvKSu/f06VOFQmEHP5cs8msaeuC9+uzGRsLFmB6jtkchBtx86h0+vE97nZLPjFUNixLbn90p//Naycnn9beypLE9KnvXbjXRmEKU5UPCBbem8QpTFVMCCtAmFK6YUKYFDN38euzpAVqGVmXfddIoxAPEjqgP7s9ubOR8Fqqccfo31EnDgWYhAUgAEoAEIAFXJwAFaFefQdj/9UWgb0LnG9sQKZRu8uPfSGpSTa+Es9UqQewb2+AWWEAL0O0ytXtIkWR4yuF9s3Zjj5OYHp9ZVHM6VLOo8gsWpigqvfOtJ2fDfLHYlHMhb/cUolzQlKlA3VjpgYyNpurzE+zm+6bCzMTaE6D12W34kFr3tkrzoIg5UpiGBBYkUNYPBOjEZvx8FhCg7xRj8zWO0tLSJSu5LlqxsrJyQXSuW8AreU7Y2hUDEkGFWLeC/HdlwnGd0+Uta9cpZ8OcuwZlfDH/SuHBYT2ovjw+PWR/H0QDXIt2zDIvFeyfbxMK0POZuFCOtjxO5vfZUMBGmd9nIyE/jobvcVLn6UeDpvgbbmzEKxnBCKd/Q500HGgWEoAEIAFIABJwdQJQgHb1GYT9X18E6nuVX/ryuTVDv7+qflPQPTFlWD/jv5HUfCe99fSLSpY3TyyZ2OTHfyfqcfjwLd7YYwQaXH7hD6G7Qj9hZ4v5/Zz9GRvLh4R2lrenGFcaY3ZnbnH3ZtkZkjJ//d+i/fqxsgOZX1o0wswsGrDgEbz2BOjp6FqkrHc6sUF1gWMRF8yEBKwREEiBAH2/DLtfhl0RoL+moSq9ucZRVlbmojry0rodExNDEIQ1Yq6eT1GUybPyFAescsauwzsnyR1RSNOoXT+/yyFg8TplNBqV+sn+qS77LVMU1Thebmd5LToVJD7PvDTMTx/ibhqYktppkN18f76F+TlQgLaTpwsVkyf4mBYhHAndPvH2jJM6XzFIbJsNAL0nbu5x0fE0BIUCtJNwQ7OQACQACUACkMBCBKAAvRAheBwSWE0EansU+x+URhf1Hn4kfsKTjKmXFfZ3NY1s4b5cS2j0Ci/743XNnnvFCi2y517xtMFWkOKFLVoqYfHG/k3TXfqu2E4NOr+fQ5f35Gyw/27cUnc+5E1j2uM5/51/c24xJ7t74TXlJ2dGzdTng5lfhVZdett0z4u7iWn215wt8xXttSdAz6Q2IWW9aOuo8o/0D9xhChKwg0B0A1iE0CsZOZqKXBGgcY04QZoL0GKxeGlKrovWGhpahDOsHYxXXZHfZnXng0nIyXQgQJ9IR8sGCB8+mtbm+AuT2eAtXqcU+vHzQncv7qZ2uV3huSiKelZ/04PDsvaai1mjkQ23mdcFa+kLebv12LRZXYu7N8vOWDPCzIcCtEV6Lp05/uLInAB9fcNo+J7R+7ucNJzGUfBMyI2N7IqeE6B9Bej8AP1Oah2ahQQgAUgAEoAEIAEzAlCANgMCdyGBVU2gXab+3IcXltn+S2hxcFqrM4Igr9rx3+eCUe8MLnQPKdLqsWNP7PXbWtSILN7YyzQ9J3J+oG+JF9SgTeqzB4f1sNqXoBzjA5jQ/pR5T+7BYaVKXqkNCpRA8vrSD30sGQeKf19w1Intz5gGz/J3aBAVXatPLdnH+Zx5VKJoNDO49gTo6cQGfFBFqma0z8Rmg4W7kIBtAq9qgABNb9fysPnqs9ForKiocFEpeQndzsvLs01sDRz14QPdmdtBXM0DibOZaGEvcYqDZrR/GgH6RUMQ/aNtjwZtUp/pKr3qDtszMqId8JwXeeMPofvlQq/5UaES2p/atkYfPZGzxXSVOZCx8WjWZotbYNm5+dZgCI75TFwoZ+LNbyYP6KGbm8Yeezip87VD5E8xyDY2Ynpf4XSGhQD9TmodmoUEIAFIABKABCABMwJQgDYDAnchgVVNoHlAxfLmvcqTXo1vjBTa+6Lrqh6S3Z17xu/83If3xeXc7/yFjX3Kf9h1dlddREGLArTRaLRTg3aS+mw0Gv8p8DTdq3twWO+aw5ij4vUkMo8ey/7e9sMJnMRO8f5nquLJ2dCpaGYapPVlU4HE9mfMo0ajce0J0NqIMqxjXPtMPJ3YYDZYuAsJ2CbwovqDAH2zwPJCoJWVlUtQch1SJSIi4unTp8+fP3/x4kVkZOTLly9fvXr15s2bt2/fvnv3js1mR0VFxcTExMbGxsXFxcfHJyQkJCUlJScnp6SkpKampqWlcTicjIyMzMxMLpeblZWVk5PD4/Fyc3P5fL5AIMjLy8vPz09//+FwONPTdvnA2qa6yo9eEQDduWKQOJuJuscingnIy2r8TAYqlDrmoaON4Vu8Tk1j2itFR+gfbdsatJn6bM8bM49qrpouBx4c1iHupo73fta96o7TuW7MowGlp2x0nj6kNiiYVTK62AtWYRaAAjSThsulJ6MvfBCgA74cfejupCEoZijPBPBocPv7pQi9kpH5K8Q6qXVoFhKABCABSAASgATMCEAB2gwI3IUEVjUB1TTK8uY9zpH8/qo6p254VffV0Z2LLuplefP2hZVs9M0taR/fGVzo6BaAPYs39nRDC2rQzlOfjUbj4axvmbfrkzOjzOFr0SnmUQ8Oy6wAszBwxhzOZ5af72KGEeiwtq9P3UlvCv24mYW1J0BjkvHp6FpDoVTHrjYbLNyFBGwTiJwVoHfOvuV9u8iyAD02Ntbc3NzS0tLa2trW1tbe3i6RSDo7O7u6uqRSaXd3d29vb19fX39//8DAwODg4NDQ0PDw8MjIyOjo6NjY2MTExOTkpFwuVygUSqVSrVYHjS/7AAAgAElEQVRPTU1pNBqtVqvT6WZmZvR6vcFgQBAERVEcxwmCIEmSoswjgdgeyHKOSiSS9vefNRz92YTo8qwHdHILfiQFOZ6GHEtFSvuJSzy0uI9Acedit3adskeDXoL6bDQazwl2Mi8ZeX0fxSmqGhYxjx7mfjM/apOJG51omqhkVqkfKzMrYHsXCtC2+azyo2NPD5gE6LHHe8cjjzmvw6czwIOi3bMxoPclgAdF81eIdV7r0DIkAAlAApAAJAAJMAlAAZpJA6YhgdVOoGtEw/Lmsbx5N5KaVntfHd0/TtXgF5dz40v7tgeJfGMbjj4Wa/WWhZ7ltGztxp62aUODdqr6bKYv/5n3i9kYFfpx5s28B4dlOwrny4+jeQp6UzSIqmI4L7b18e3yP8Jr/Hg9CT2qdrNWmLsuKkCTJEXOC85Lj8tQ2qsXdqri66EAzZxomLaHwJta3D0GBGFwYyPBVgRoo9E4Ojo6aP3T19fX8/7T399vveASj/T29r4330Nr3Es0ZKXae/EZ/O9w+wMDA6bO9/b2WunC0rP7+/tN9vv6+iwaMlPzsyVg5cnaYdI9FrzjfyAJmcGovfFIcR+hmPk0ArTRaLStQS9NfSZInBl/41Dm12bXFx2qMbsALbhgr9mauvKZMaPRSJD4qE42hSiNC32gAL0QoVV9fCR0u0mAll3fMBq203ndpX+WaQ/o37moRwKix5z79XTeWKBlSAASgAQgAUjA1QlAAdrVZxD2f30RaBlUs7xBGIqg1Jb1NXKjsXlAtfmaMCyzfeutAr+4hpPPKnCCdDgE2wK0tVgcTlWfjUajUj/JXBjwZpn5kvF5fenM+/8/hAu80BpcfoFZvmSQ91vuVmYOnb5X+Y8WUVuEbFuAxnASw4H/pcW6FjNl8ummfhVYu42i5BqEWyNLrxwcVs7INUhZxwSvfrigeVSlQ4YUM6pp9FWeVDI8pUfBq+4dQ1PcmqGWQTW3Zqi+V9k7rq3onIwp7q3pVih1SGrFwLha3zMGMttl6uZ+1TtRz7En5aKWscY+5eSUYVytbwV1ZZyn5RxO66OQwpi/uVkVAzl1w7n1w2GZ7Rfe1PjHNz7K7rj4rvZ2Wgu7sOdhVsddTptvbMNvzyt/f1V9OabeP6HxwpuaYxHll6Lqbqe2PMqR3EpujhRKNTOOf0ZikR7M/LQE4hpxz0QkrhE/mooEFlqd9J6eHqZKC9OuRYAkP7ripLaCuCtdcjK0FKPDf3fKSTc2UthL1A1/VNLhJ6ft65Q1DXpp6vO/7s8T0yPMq8OVoiNmI+pTS5gFDmV+veDiBxF1AaYqR7M3V48UXirYfyBjI515hr89tOqSjdUUoQBtNgWutcv0gB5/dmjirfmfNA4cDv2mwv5EEIgjv5s4kIQ0jTr36+nAzkNTkAAkAAlAApDAGiMABeg1NqFwOGucgGR4anuQyCe6/nriuvOAFrWMbfTNLe2YYHnzIoVd314VvBB0JZcPTBtwkqRquhVFreNJ4n65BmnuV9HpSKH05qwO6BVedjut5dzL6oDEpvOvqs++rLr4rvZOeuufb2o8H5R63i/9803NDzfy94WV/Pz0ngeHFVEXYONMMvODTu6INN1IO3DVQbMOYCSGEAZ6w8iPFK4R7cDRrM2mPnhwWPerfMyqm+2aRZRm1jVLn851G5iyEG2cKUBPagy949rWQbV0VBNV1HtlVpn9+W7R5Zj6f9h1/IaRW8nN1xIa/3hd85/reSeeVtzltB2PKD/1vPK355X/DchjefOOPBZvDSygvfs3+fG9wsvo9JaAvM99gMu/adsSkLc9SLTBh7c9SPSdv3CTn4AusOHjYnT57UGiLy7n/jcg75d7xb/cK/Z8UOr1SHzyWcX519VX4xtvp7X89bb2Prf9UlTdjaSmZ+Gld19X379d8MdF7k/BhSxv3s7gwk1+/L/e1no9Ev90p/DHm/nHIsp/vlvE8uZ96y/YciP/W3+BqWMWEx5hJUodYgYf7q49AtwO4AzL7SBe1uCX+ai1AUIB2rUUZ7PemgnQj8qB7pzRjud0gtl3YyNPK0FOfjdRPujcMNC2BWiLftBLVp+NRqMGUV0vOekjOkRv7Ob7Zmd4dMtD5oXDt/CwWYH5u96ig8wqFtOenA3pnW/NHM9pU59cgNZjlAGnLPbNgFEG6GM7f8oZOROvT5k8oMcjj6m4wYyDDk7+zUN3RSN/ZKHbo5B+FXk+C0WJRTwad3BvoDlIABKABCABSGB9E4AC9Pqefzh6VyMwopxhefOqpfJv/QWDk2t/lSfm/IhaxvbcK04S99N6Jcub53m/JDy7I0nc75/QGJDY9Oebml+fVhx5LP7OX0irgRt9c7/05bO8eT/ezP/OX2gmZTIVwx9v5rsFFuy5V/zD/TsLCtBmftCmO2fnqc9MDmbpLmXz6dxtpj54cFienA3dqjazYma7ZoI1s/r89LWSk2bVTYsQ+me9iirsCUxpecrvPPak/Ksr/E1+QJP93Id3+kXljtsiJmSWN+/760KPsJLN1+YmyOyoY3e/vsJ3mxW1v77C33Ij/5d7xccjyh9ld9xOa4kq6r2T3hrB6xxWzrQOqiOFXW/yu3ddE+y6Ljztne3py/vSl+/1SLwvrGT33WL3kKITTyt8Yxv+Ydf5xzdeiqrbfbeY1s23zQrctrsNNej5J8/ay6EF6JQWPK0Vd48FsYAtjhEK0GaSrmvtmgnQ1/OB3JzWhtMJNzZyLQ/k5HY5Pga0mdaZ35e14HXKzA86oPSU6bfdnlUHLZ7AFjOrRwpNlunEm6a7FkuaMgmKOJD5pVkta7uZXVGmiqbEfAEam6cqGjAKI6h+Fdk0SmoRIAoX9xExDfiIhpIqSH4XkS0hOiZI2RTYkltAPkGC8ikteO0wmdaK14+QtUNkfBNe1k90TpLZEqJXSdYMERWDRPMYGS7GAvKx8kFCMkkOqkF+WiueJSESmvGEZjyznchsJ1Jbcf887GIO+qQC8+GjoaXYi2o8rBS7JcJ+56IXslE/Ieqfh53OQC/moIGFWLgYCyzEuB1EdAN4sBFVj/sJ0WwJcT0fy2jH09rwoEKMrvW8Cg8pxnK7iBsFWEQFdq8E885FT3LQKwL0Nw76ZzZ6NhP9nYtezUPPZKDh5ZhQSjyvwkNLsfxuIr0Nv1+GPa3ELvPRP7JQXwEakI8lNOOVMss/XCbsjkpMvD5pEqBHQrfLY/9ylOX5di7mAOl5fyJYhzBbQvyRhWoRKEDP5wRzIAFIABKABCCBlSAABeiVoAzbgAQcRaBzGMSAPv2ikuXNq+tROMqsS9jJbx794Ua+oHGE5c07FlHO8ubpUXx+z/UoMW3AtXpMq8d6xrTxpX1PeJKzL6t+e14ZlNryJr/7xNOKjZdzTaLhRt/c7UEij7ASWqrefO/2gjf2dKMyTY8nZ4PpnvlW2dkFXzqe31uj0dg4Xp7fz7G2WfQ+pu0QJJ7e+Xb/+3eWTT2Ja3tisSFTJkmRpsKmxD7O568b75bKcjO6ok7yfjTl04mqYZGpOp2gPaA337ttIrkGEp9781iXcljevA0+PPcQ4On8nb+QPjHMRvcF4xQyOzR/1yOsxBnxys1mBO5+QgJZs+GA39bhKS0gLENMg4WfJqPRODMzo7X+kclkJkF2eHjYesElHmHK35OTk0u0Yr1aR0eHqf9TU1PWCy7liEqlMhnv7OxcigmbdcbHx032+/r6LJY1c3e9no/9xkHrR0hagPZIQPyEIAh4toRoGSOj6vHiPmIGo3oUZF43we0A2mX5IND+XlYDGTGsFDuZjt4SAV3yEg/ogH5C9EYBdoqDHkhCLuYAt82DSYhHAvjXjQ3CTLvHID/FgMTOOI491ymmBm36SXes+syVxjDDQ3twWMdz/qs2LPDHyZCmz9QfU8KTs2H+pceDwzqatXl+JChagD6bnZM++wDgZgH2SzxyIh29XQQm5UI2SkM7mASUR9o//UASsmd2JTo6HDCd6cYGSN1jgTq5K2aupOkQM3E0FZA/yQF67iUe0HlvFmChpdjLGvxBGRZVDyTd6AY8vgmPbsAfl2MnOeiOKOQ3DnoiHSjLF3PQk+lADt6XgOyKRg6nfOgYsxVmensUciQFlLwpwp5VYY/KgZGQYuxoKujnTzHILRH2Nw89lAzOlku5oKFtbOR0Bro3HhQ4m4m6x4IOeyUjO6JAzqFk5DwXnKJnM8E5xmzLMwE5mQ5McTtWQoMefehuEqDHI49qKxKc9+v9rg78Jt8SgekIyMcOpyC9ShiCw3m8oWVIABKABCABSMAWAShA26IDj0ECq41Am0zteb/0yGMxy5tX2TW52rrn1P5EFfacf119fFZ6PvmsguXNw3BbdxGpFQMp5QPPBV3HnpTvDC70fFC6K7jwqyvAIfqbqx9FTvjmquD0i8pLUXXuIUVb7gfbc2NvNBqZcZ89OKzfBbvoZZQWC8EsHLPpbpxOcKUxFg2OaAd8Cw+bFfbgsJ7X38I/DtBhsfqRrO/M6lYM55lKjk8PHc/5L7PA4xp/01E6QQvQJ2Ie30hqvhRVtz1IdPiReMdt0UbfD+L+V1f4/w3I+9KXv/Fy7heXczf5Afj0BkJYBOTRcTO+9ReYYm6YCsxPbPDhBaa0HH0sPv+6+jt/4fYg0Y7bokPhZVtu5NOFP/fh/fa80iOs5H+38vc/KD39otInuv4/10GIjw0+PK9H4ktRdYdng2mcf1V9/nW11yMxp2rwPrf9UHjZv9Fdtvjx917hPz2VEvZXZpK4X9A4ElXY0zeheyfqCUlvPRNZdSu5OaV8QNg0yqsf5tbIcuqGvcLL/npbazqdDjwsPf+q+uDDsl/uFZv1P0ncbwYQ7q4lAnQU4F0xQC50YyNPKj4KkmPnSJkaqFwut7OW/cUGBgZMGqtOp7O/op0lJRKJyT5BOFjGQlHUZFwqtRAUyM5OWis2NTVlsj80NGStGDM/uQX/KQbpVpCR1UDhOsVBz82qe5ntRLgYuLhyO4C/bVgpFlKMXc/HjqfNSZy7YubEx5Pp6P5EoH4ypUA6fTQVOZYKNMFts8E9zArYKUAbjUYdqmEKxPN/yZkjWlRaPjMWJD7PvEzQ6bIhwYJ2xENCZkXPjC8K+jMMuN5oNE4hytDKS8yjHhxWQvtTM5u0AL0zLttEZmc0mAJaezVlOirxU8yceL0nDqG12rBS8AiBXQf83+tHgJP1y2rgknwwCajGf80+PzjPBTr4njigjF8RoJf56PV87KpwrpO06u2oHs63sz0KPLFg5p9IR3+2dLIxy/wcuxIa9PCdH0wC9OS7s8rM22bz68Dd+Cb851gktAQo79656E8xSMu4rT8dHdg0NAUJQAKQACQACUACZgSgAG0GBO5CAquawMSUYf+D0riSvg0+vIrO9SVAS0c1T3iSvaElLG/e+VfVX/vxKzonKYoamNQhmLnYQZBUc79qcHI6UijdG1py8lnFxXe1z/idEbzO+9z23PrhMy+qHmR1/Pmm5kxk1VtR978wbyQ1bbyc+1PEwjGg56vP9N3y74KflqBBL0GAzu/nMNckpFv3zPiCK4228/S9kLebeYc/P8gGM7C1B4d1udDLzDItQP83LNg9pGijb+5G31w6+MbXV/imyMg/3sy/ntj0IKsjLLP9CU8SVdhzn9ueUNb/19va3XdBNBXe7Cp/ZyKrzr+u/v46iMvx/XUQ1tlMvTXt0s8PbIRSMQVa2eTH/9+tfGasj6+u8I9HlO+5V7zBB/g1s7x5W28VbL1V8LkPiPW8Pcg8Wsiee8Xf+gu+usLfGgiK7b5bfCi87NishR9vAsl7o2/uzuBCj7CSX0KL6dgjhx+J/3cr36xduvMxxb1mAOHuWiLwtBLbGY3cKJhzTgyyvg6hjVFDAdoGnFUoQEc3AAGa04a/qQUCtBsbiW0ECV6n+fXIbFzKGYrbQbyuxc9kAFGSVqhpH1Xazr4E4PfKlAXN0nYK0GZxnz04rEPcTa2TNWb9WcJuiYw3/ynmgcwvSwZ59liTz4y9bbr3pukuvTWMiZm1KIq6UnSUeYUKFP/OLGA0GucL0GaIPuHurmgwd7uigffxrmiEdlg26w9dxizTSbs7opAL2cAber79ndHIr2lAHD+eBuR72m18fyKSs9A5bDYdi90di/A0CdCyq/9PnrDAqhWLtc8sH12PHUsFjuFubOROMeYeg+R1L/ANZVaHaUgAEoAEIAFIABJwIAEoQDsQJjQFCTidQNeI5usr/OZ+1cbLuTXdC7zl6vTerGwD7TL17rvFf7NrWd68B1kdO4ML2YU9Q4qZdpmaJM0j+qE4wQx6gGCEYZ5IbdZ9iqIwgszqTF/QA5rp+/yw2rdPLfk1Z8uSNehFCdAEiT+pvca8M6fTf+fv61F1mI3Ixu61kpNMI0kdL8wKd8gbmAWOZm02K0AL0L/FPvGOrufVDd/ltP35puY7f2FQakukUJpQ1l/ROdnQp+wd1+Y3j0pHNI19Sm6N7K+3tS2D6roehWYGI0iqd1xbLpmUDE/dy2g78li8yU+wPUi0ZXZZQlrhNUnP3/oLjkeU0yI1nXkovMw7ut4vruFWcrN7SNHXV/h/s2uvJzY9ypE8F3S9KeiOLe5NEvcnifujCnuyaoeiCnuSxP0l7eOaGSyrdihS2JXfPCpoHKnonCxpHy9pH29La27mtNSeSOz1jFLJVHoU3KPqUVyuQRCMkMmne8e1JggqHTI182GtuRkErIRpNBrpf2XyaWbgjm/9BSXt46a6MLH2CCQ0A0fX3zjosdm346EAvR48oA+nIMfTgOh8NhNoW25s5GoeSNiWt1rGSE47/rYOqM9/5aDns9AjKSC2w75Z33nazi/xiH8ecLA9kgLib5zNBGUCZkNO0wXsEaDN1Oej2XML1S5Tg57BdI9r/JlXBzp9lr+jU+GwtZFrR0uYTZzl7zD70aAFaK+0bM9EZG88iEexLwE4/G5jA2JHU0FIje1RIDbFfNWVmROQj/0zG09jVwyIUHE2E4ShoAvsiQOxL9xjgXp7owALLgIPmdzYwHhIMQi4fDAJeVOL74lDCnoIdh3+Rxa6Jw60fr8Mi2/CE5tBEOfUVrxhhHxRhdORmnO7iNJ+EI+lsJcImPWGph88/BwLHl+dzwKnBLN7dJoO30HHD5l/dMGcbWzE830cEtuFz2fNtX6ei844cx3F0fDdHwTo6xvGIjzN5teBu/dKsF0xSFYHeDh0MQe8UlA7DD2gHQgYmoIEIAFIABKABBZBAArQi4AFi0ICn5wAvQhhasXAvxpcVq1drwl/8j47qgOZ1TL3kKK4kj6WN+9mcjPLm+cMUa9oYIHFnczUZzru88CUdMka9MtGEPTD2sZ0akYIw53yP+eXjG19hNkRdoM5EQ+qLzPtpHS8ZB41Go1SZSuzwOlcN7MCtABdNJjNzKcoCies3tphBKnSIczypjSKE3RFgqQQjJBrkBkEn5pBByZ1I8qZvgld3wSIGCAd0XQMTY0oZ7R6bAbBR1X6UZW+XaZu7leRJKVHCRRfumeTPqddn9uhjSiT72UTYxpT35aWYGrlP97Mv5XcvDQ7sJZLEMhsJ85mos+qsPtlYBm6QOgBvQ5CcHglI08rQagNr/eSJR0MOrIak0ySo1pqTEtN6Mwfjg6qyU45md6GX8gGoYSDCrGUFpxdB8TKB2XY8yr8ZgH2pAJrGiXvlmA/xyI3C7A3tSCmsFcy4pUM3FRPpKPu8QvEgDZTn7O746ZR7eVCL/pXfckatEI/cTF/L/PSQKdfNATNYI4M6jKqGzRrhSA/iqtOC9CXhDnPq/BwMcauB37oUfUgfSEbTWvDuR1EYCF2c3Z2tkcBdGahn21LsfRRU/yTXbPStqnK8TSgVrvHAr3bjY3Q8ZS9koEObirjNhuO2TMBFDvFAbo2vULg2UwQd2V7FPDJvZgDwlXvjEbAgoRZ6NFUoG7vmo30vWM2JrVXMjDumQC2/YlA3aYfe5zkgDUG3WNB+Ys5qHcuWHXwRDoI93w2E8SDviIABbxzQczolBb8bgkIVx1aClY45HcR7HoQqPp1Lf6kAixg+LwKpz3uTV7SpzPQadT81HXgT/Fo2E6TAK1I9pPH/+NA42am7pdhO6KQM7Me0LSIn9r60blkVh7uQgKQACQACUACkIDzCEAB2nlsoWVIwPEE9CjB8ubRIQhGlDOOb2AVWyzvnNwaWPAgq4PlzUss62d58+p7lQ7vr20B2qL6TPdhyRo0SZEGXG9tYwZ0nq8+n+JtbZmoXgIEYW8q8/b+tvi8mRFBb4rtAhYFaDMjrrVrEEl1ryun7uTL90Vhyw6w/p2/0BQO++e7RQGJDvMNdC2q66S3dcOkGxt5V4dntAM/u0ARjAG99EdBFs+ZVRiC4zIfBFi4XYR5zjovb48CwTd2RCG+AtSAU/JpSqYm56t4ZisZWhysKZOiqEE1KVWQtcPkgJqsGCS65OS9EiyhjWvjTZ356jNtcJka9KhOdk6wk3ld8OCwTuT8YBZAw9R5a4kpRPWyMdi0vW4Mmb9+b6eimdnQrzlbzKzRAnSGJLdikJBPU23j5J1irHGUbB0nDRhFUlSvkhzTUtEN+F85QJYFenEMkH2ZfsR/ZKGnOHM+v7tigA9yoAh7WomdzgB68b0SIP0ntwAtWyAlRD0Ev4so6SeyJURBD9E2Tk4ZqNxOkFM7RLZPkC1jZMcEqZyhhjUkzngriyApnKS0CDU5PSfpUhQ1/8QwDZB4X3dMS9k+W2wfNRm0J5HaOhdGhhbQ75ZgCO5EAXrknptJgJ54dUJT9NqeTi6tzOtabHsU8svs+pP06KAAvTSSsBYkAAlAApAAJLB8AlCAXj5DaAESWDkCfeM6ljfv6GOx1yOxDVfTlevQCrbUPab90pefWS1jefNC0lv/XVkup27Y4e3bEKBtqM90N5asQdsziqphEfOG3IPD+i136/j0Al7w/N6kiNrrpi1V8opuS4dqDmR+yTTYNlln6oYenzETGqJbwk1H6cTaE6CR0t7pmFrVXxz5wRiCEW3DbOB27m7yE1x4U0NHCwlMaXHGuWpnT2CxFSCQ3gbkm/By8Oo9FKDb29vXQwiOtDac30XkdhG0a+2vaejrWtxXAOROZ59yNq5T1tRnuktL1qAxAj0vdGdeMjw4rBulp9WGRYcCQwjDgYyNTFMd8gYzYu+aw5gFgssvmBWgBWjmgocGO0JGGHAKJSi1fk4ORnFKpadkU+A5AUVRKE5pDMBpvVdp9T0es26smd3iPsKNjZgCkS9tGVX7aYyE/Dgc+B2tQau4wZrCub9M7Ldgf8lnVdg29tyyn7QAXT7g4Mdj9ncGloQEIAFIABKABNY5AShAr/MTAA7fxQjoUZzlzTv3snrLjfx1twjhiGZncOH+B6Usb96WG2AVuIFJR77zS58K1m7sF1Sf6epO0qBRAjnL38G8IffgsK4WH39RH2htG9L0GY1Gs1Abp3O3mc74B9W+TIOHuJuEfWn/vvjcNlnrLTrIPOTBYbVMmvtZr0EBunJAE1aoPJMi3x+NdctNoJaW2OQn+CW0mBagn/AkPtH1S7MDa7kEgZxOIN+8q8ObRoEr9J3i1egBPT09rXn/wXHHv4QukUja338cLkCTJPm+7xqt9kM0dkedHlNTU+/73j40tMCDPbrR4j7ibx6a2IzTst1vHLS4j/g5FoRccFSvrNmxdp2yrT7T1pamQadJ3phdFAJKTyGEwVoP6fyXDbd/F/xk2kKrLtH5fkXHmNYuF3qhxAdorZM1+z9WqJM7Is0ami9AmxWAu4siQAvQNwtABKEdUUhExVJ+wexvcfjOlolXJ2gBWs17oMwItL/uYks+LgeDordd0WBxyPmBcRZrE5aHBCABSAASgAQggaURgAL00rjBWpDApyFgwAi3wAJRy9jWwIJpg+MVhE8zKvtazWsa/dZfsMmPz/LmbQsSsbx5zf0q+6ouopTFG3s6k75hfljtO/99YWYDZhr0EhzEmNbodNtkHfN23Z5080SVbQG6bbJ2H+dze0w9qPad36W1J0DPZLZq7uSrr+fKvWKJZce3+eaqYOutAlqAfpQjSa8cnM8Q5qwZArldQIAuHyA65UCADi1dinwzPj5u0kDl8uU+All5tk4VoJ09nCUI0JzZcCuSSZIOBPxrGsrtAKfB0dQPWqqTum3xOmWP+kz3Z7EatNqgOMTdZHaxOJ3r9mfeL9a2HlW70Wi8W/k3s9bvgp/oDkS3hDPzPTis80L33J6kkkHe68YQz4wvmEcPZH5JP09lwoQCNJPG8tP53eDUpZdAPMdFo+qd++cl0wN67LGHKuvu8odgzUJOJ749as4D+tc0sHCoGHpAW4MF8yEBSAASgAQgAScTgAK0kwFD85CAQwlMG3D3kKIbSU3/irBVXa6nUCwKhtmCdf0TIPwIve25B3xLq6WOJ2Dxxl7Yl0bfDy+oPtMDNGnQp3O3KfWTixq1xcL83mTmDbk96QUFaKPRWCLjeXI22LZ2NGuzxSGsPQHakN+lDS9WnkpS/JpocRYWlfmdv9B0up59WcWrd3y4mEX1BxZ2KgFaeQwtxRJmQ3CczUSX0NzU1NTQ+49Gs9xlMJfQgWVWcWkBemZm5j37IYXCrrAScY0g3ErjKHksFfhXeiUj9BKUIUvyf18UfIvXqfi2p6Yf8+zuONsGzTToYW2/jfI1I0Umy3Ym2uXgnQ9rAvTkzOiJnB/sNGVxLFCAtjFfSzjEn32EtjsWnMlg6cslRbG3v92R0O2mGNAjIT8q02/YX3exJZObwfd0ZzQY2rFUEKK9fmTdhVhZLDRYHhKABCABSAAScBIBKEA7CSw0Cwk4hYBShxx5LE4SgyX4Ooam7G9jNr4hgREkghEIRgwrZzqGpoaVMzhBGjBCMjxVLZVXdcn7JnSqadSAESgOMkUtY/yGkfTKwZL28SRxf2xxb1xJX9WKFEsAACAASURBVHL5QEr5QKSw64Wg6xm/Mzy7Iyi15bmg61F2R6Sw662om1sje8KThKS3Bqe13k5tSS4f+Idd9+vTiktRdWciqw4+LPMIKzn9ovKP1zUnn1X8NyDvWES5V3jZvrCS3XeLf7pTuDO4cMdt0c93i/53K/+HG/lbAvK23Mg/+lj8053CrbcKvvQFHtD0llEts5+AnSUt3tgbjcbs7rhn9Tdt+z4zmxiYkl4vOTmmc0wPXzfetfNe3VTMHgHaaDSWynJtaNBXio6O6iy77q5BAbq4W5/VBgRor1jmVC4t/Z/reaYT9fzr6vDsjqXZgbVcgkDDCHB8dmMjtDPs6YylCNAuMVIbnXRpAdrGuKwdCi0Fr/aPaamLOWAhu+NpSGEvcCO9WbAU/3drrVjMt3idapus85r1U7ao2M63Y9KgA0p/Q3D9/AKmnPTOt6Yri50J2wK00WjsVDSZRYK2aDm4/ILFpfagAG2aHYck+F1g/cxXNUCrdWMjL6qd6AFNaOXDgd+aBOih61/oqtMcMgqLRpjrK+6IQk6mgzcVLJaEmZAAJAAJQAKQACTgbAJQgHY2YWgfEnAkAYUW2RYkogXokvbxiSmDHiVquhWFrWMjs0EDGvqUwqbRotZxmXxaJp8WtYxxa4Y4VYOeD0r/dyt/gw9vo2+uSRf75ipYJ+1bf8HXVz6ountDS766wv/ch7f52gcXTpY374vLucxiJiO2E1/68jf4zOnFtkuajn7uw9t9t/jU80pTDsub97kPzyu87PSLSmavUsoHHAl31pbFG3uHt7JYg4ntzy/meyxqG9ECOGmSN3/n7zNtN8vOzG+6XV4fWnWJ+dbzocyv/YqOcTrfEaTVu9A1KEAXdesFkqkAvnwvmzIsV0L6YTZMOX0OByQ23Upunk8e5qwZAkIpUB5NW7h4ueePK5JZbwL0r2lAd1bpqYNJYOrPZqLlg+A0WJr/+6Jm3Np1ql1eLxrg2m9qGtXGtz21rT4bjcbHNf4W1WEbmQsK0EajsXWyxrfwsDUjh7nf5HTHk5RlZ1UoQNs/y/aUpGNA027CbmwkrdXqpd8eawuWGQr40iRAy/w+0xS9WbDKkgvQoXLoH+eDSeDrWdwHBegl44QVIQFIABKABCCBZRGAAvSy8MHKkMAKE9DqsS99+dFFvbSwtfVWwcbLQFDeGljw/XXhyWcVX1/h7wwupNfo+9yHtz1IdCi87PAj8bGI8k1+fLowU9j9N5DF9iDR1sAC2mFzgw/v4MOy4xHlh8LL/mHXbb4m9I1tuJbQuPVWwb6wkuMR5Ttuiy5F1dEqtuf90iuxDb8+rfAIKzn1vPLHm2BhQLNtb2jJ1sC5SLhmh5a/K2gccTh/azf2Dm9otRnESWxieqRT0SzT9Njj6L0GBehC6UxGi/J8mnwvGx9cbnhxN8ZpvyUgzyu8bLXNOOyPAwnQ0RjoCKpubETUsx4FjvUmQD8UAw/olrE55/fzXLRo1gP6pxgEJykHnl3zTa3wdap4MOdlw+1FbI3BWkRtNBrLh4QvG4NNW2L7s/ljqRsteVzr71d07ETOFg8O67fcrbfL/4hvi5icGZ1f2JQDBWgTCockOifBaXyOC56puLGRhGYnCtAURQ3d+IopQKt5DxwyCotG2sbnvqH00M5nodmS9fj7bBEOzIQEIAFIABKABFaYABSgVxg4bA4SWC6BTX6CP9/U0Ort5mtCZkgKi5Lu7rvFP98t8nxQeiayapMfcG0+8lj8403gDX3sSfnvr6q3B4leCLqe8CSnX1T+Mhtb2aKdxWZ+cTnXPaSI6f7MdL5erDWL5UUtY8ulOa/+Ct/Yz2vfZTLWoABd0KV9Llb7ZAEBul+5zJnYGVzIPGmvxDYs0yCsvpoJZEuA62twEeaZgOyJQzQG5+qPqxPFehOgk2Zjy9aPkFfzgGx3joveKwGS9I1PFIJjdZ4Vi+qVNX/n+UagAD2fyXJyygbAL9iDMnACr4AAPRz8n9GwnSYNWp7gvZzO264r7ifoyEhubPDjvDPaufK67c7Ao5AAJAAJQAKQwDonAAXodX4CwOG7GIHByWmmqsXy5u24LVq+sLvJ70MIDjP7Zrte4WVMyXuDD8/zQSnT2ZPlzdtzr3jrrYLN14THIsq/mg3usT1ItOde8Y7bIveQon+jV3veL918Tfitv+DAw9Jjs97Whx+Jz7+u/v46CPpx8GGZb0z9gYel70Q9AYlNhx+Jd9wW0XbMOpMktrVu0tKmFgrQdnJbewK0Xtg5dSdfcThOvpeNVFuOfG0nHKPR+PNdcKrT27f+gvvcdvvrwpIuR6B6CMg352f9Bw8lIxaj1rrcoBbb4fUmQNNPHcoHCB8+EKC3sZGjs6sRvq1zovcoPSnwOgUF6MV+PW2Xr5+NYn+neE6A9hU4N4r9WMT+scceKyNA8zpxkwB9MAnZFYOkOjnAiG3U8CgkAAlAApAAJLCeCUABej3PPhy76xHQo4SgcSSjWtbUr6rvVZZ2TPzNrq2Wyut7lSXt4+HZHVFFvWLJRHh2xwtBl3oaVeqQcbV+YFJX3AaO3k5r8U9ofJUnPfJY/OvTivpepUKLDClmClvHLsfU+0TXP8zquMtpiynuzayW3UlvPfiwLEncnyTuz6yWRRf13kpujirqfcbvfMrvvM9t/+tt7bWExtjiXv/4xj33io8+Fu9/UHo9sck3pj6xrD+qqPdSVF2kUBoplJ6JrHIPKTr5rGLHbdHe0BLm5p/QeCOp+dzL6riSvsCUljMvqk6/qDweUX4toTGupM8/oTE8u8MvruFqfGN8aV94dsdbUfdfb2v94hr+eF1T2Ao9oD/ZObwGBWi+RHkmRXUxQ76XTU4ZlkMWJ8gtAR8WIfzzTc3DLLgI4XKIrva6tUPgLe/nVfjxNGRXNHAkXO09dkL/1psALZgN/B0uxo6nzYX/pgXo0FKnzz4UoKEA7dhvcFk/eIS2N37uTP6H51wBevz5YXnsRZMAPf7My7HDYVrrUZB74hA6ULt7LOIei5QPwhAcTEIwDQlAApAAJAAJrBwBKECvHGvYEiTgcAIIRpCWYk2iOKFHF/EXth7FMdzyUj/W+kySFEVRGLG4WtasrZ58eGNv51ysQQFaIFF5c9U+WYpjCdQivw5m0HCCZL5V4B1dn165XJdqsybg7qoiUDPrAV3QQ/yZjf4ci6yABLmqhk93xsD4rAcfcKGU+DkWuSWacxp1YyMXc4ArNAzBsQInJxSgHQu5R0HuikHoYDJubCSq3rle/GMRnsx1CEcf/uzY4TCtYQTllTwnrHslI56JiGRyrf3hyhwvTEMCkAAkAAlAAquZABSgV/PswL5BApDAShOAArSdxNeeAG0olCoOx6m8ufJ9UfgwWEFrOR9mOPV9YSWRwq7lWIN1VzmBKhnwH5wyUKIeYnsUWJhulXcYdm/5BJJbcDc2Qq8/SUfOPZkOBOirQud6jxqNRnidggL08k9gpoVhDXkkBZy69Jkc3+RcAXok5EeT+7PM77OJt6eZnXFsekxLHU6ZE6Dd2Mj+RKRuGP4+O5YxtAYJQAKQACQACdhLAArQ9pKC5SABSGA9EIA39nbO8toToGcyWuT7ojQPipTnUknVjJ0crBXzeiQ2xYB2Dym6kdRkrSTMXwMEKgbBOleva/FXNUCU5HX+f/bOAy6qM+v/GNN23yS7m7z5b0ny7m52N2/ebJYkZJNsyiZxk11sMVFULFljr7GDioodu2LBgm3oRXoZkN6kI00pogIOnWF6u33++3DJZTIUgZkLw3D4zAefufc8557zfYYRfnPueQZxA4oVpD82U3DpVOu49rL2AmxlJNLvtsSDAM37KwIEaLMjnu6HfdfZxNxegHnm8ytAt11e0np+PqdBt174t9nT4Rym3KdmBiDdeWYAkqEne2Fhd/jNjrs0DIAAEAACQAAIAAEjAiBAGwGBp0AACIxpAiBAD3D5rU+AVnpkiR0E0g0Rsi3RTG+dbQZIhjX71kCAXumZd0ZYNajpYDy6CNysp+YFY+fyCLaEUMD/NnSji49VRns2p7v5Bls3uisJHVkbDQI07wsOArTZEU/zwbhNCA+l89vHvPXc/Jazs0Uutg27Pmh0+7zZfbrZ0+Ec3u+g5wej9jhf+SAB2jEQq2iDCmgODwyAABAAAkAACAwrARCghxU3XAwIAAELJwAC9AAXyPoEaLVXgXiWl9jRW+zordfrqWbFAFH0ajb7RCZXAb3iQt7+kPJezeCgdRDIqqO+8cVkWmZG5y5efG/hZR3QRnsWwmrUd6XnY6IA4zs1+H8KBGjzvsZohlkbgy8L71Jpj2cRlMmfwvYVIUNgDbs/UBfHiFz/KnKxbTr8z/ZrK/syNsvxhaHYFG+0PSz70zp2ekBTNKPGGZYhNzALUnACBIAAEAACQGBoBECAHho3mAUEgIB1EoA/7Ae4rtYnQKuu5Ek3RUo3Rkg3R+n1erJOMkAUvZpNdUvlBOjZJzLXXy3s1QwOWgeBjDp0l7cSYzbHoSYMfNcPWgc0C88Cp5g6Kd2PDJf9kJraWVPZU4Pmew9G+H8KBGjz/viI5LS9AJsowBZ0duHgu49509FJqvxQ0fa3Gt0+F7n+tSNoq3nTMfK2KBRbFIo5dH466OCPNSm6NFkjs4E/pRmGZhgtwZCdCq8aZ3CSaVIwzUqmWkxXtNEPJHSrimlXowspdGa4nBpn2PcisvODAS3B1HTQYjUTV01l11PZD6maDvp+B518n4qpoiIqyJyHVHotOnUhnyxsoENuk97FpF8J6RyPuyYRhzOIVVH4hlh8RQR+MJ0IuU2evElcLiSPZxGNCigPH/gLASyBABAAAkBg0ARAgB40MpgABICAFRNg/7A/kP19VUcJPPohcODmmpnhdmkPY6zmxaCJKJfvS5CsCZVtiTY9qU93JnAC9Ifb4ueczDTdJ3iwWAKpD1AxbMp9an8qasLgXWyhPUYNhdFW1aNlER2JVA+CQlILJ8WSNCPTMmI1klc6NIxcx2gIpL8QFKMj0amqdvpWE92iZCQaprSZrhbT5S10Zh2V+oASq5mKNrqqnS5vpWvEtEhOt3XKNKXNdIeGEcno+LtUUSOd85D6T1vt/2ztmCuiMuqoZiWjxJDUEl5BXikkz+QQviVkeAWZdI86l0d45BJnclDzE7c0NLhSSPqWkAGlSG25WoQklZWR+CYhfj4PTTx5kziaSRxKJ/anEntSCNckYnsivj0B33YDPbbewF0SkECzJ5lwjscXhGCbhPjiMHxVFL6xc7D1BrqKoIjcegPJN3ODulQtQw16ijdUQPP+kwoCtHkRNymYKZ0Fwux+fVtv4DKTZdN+Imy7tEhdIhS52LYLVrWcdpDGHO7H2PRTW+LxOUHYnKCuCmgt8ei3Pr1eH1FB1knphBoq7i51NJNYG43k2o1C9FM/OxDjPnxiB5O9erkZYlcSwb4lygcAs16G3gMlGia9FmnHNMNk11MqDAnNAWXkknD8eBbxfTS+MBRbHIZP9cGm+WDTfLsuOrHzwwPuXWiGP7Y+Ft+TQlzIR++B7FvfghBsTzLKwsEfY7uRsPZTfbCFodjhDGKzEHcMxFqUA4Jj+qKAByAABIAAEBibBECAHpvrDlkDASDQOwFWgJ4ZbgePgRCwJgFaG1sh33NDtkModhDQCl3vr48BH512KI0ToD/dmbDhGlRAD5jdKDTMqEMC9IV8MqoSDUJv9y5A6wik1Q4qPyXWfQ+1Xq+vldLhFWTqA6qshY67S/mVkNfLkQ4bWUF53SJPZxNuaUhUdUnAtyfiOQ8phmHuddA+xWRJMx1bTc3wx5aF45vj0MM5Hr+QhwriPPNJkZyOqECKbfgdkq2G2xyHr41G9+NP9e7ammxi5yZ7szs38uKUjv4HrKTVv02XCOKNrYtB+g5bpWg0xcEfmx2ATepN4jGyNP3pdL9ehKS+3M7wR42/jc7ODhwmAdo5ZV7EXcHYfGxOdpwZbpfVcGNQP01g3BeBBxJUAT3dD929YS/A7nfQ/AnQNKZu9/pemRskcrFt81zYdnVFq+d3fQVmluNb4vFFoUixZau8k+9TDyR0s5KpEdM4yeBU93sySXd9loZTzNkc4loR+mRrhh82KwD79npXE49vfLF/Xx/Qu8TyCPxQOrEoFH2UdTCdOJZJ7EgktsTj+1KIg+noo7JdScj/f+6Y2Z2M3rqvFpEeuejTr8MZRHQVdT6PPJtDzA5EV2clY05DN3rPMXw6yQvFuSAEO5pJCKupU9nErABsbhBa3DWdVc+TvFCpu+EUduzgjzpltw3gg0mzLAo4AQJAAAgAgbFJAATosbnukDUQAAK9EyhuubkjfRE8BkiguDW7d46j8Kg2tkK2QyjdGCF2EBB3203MwFCAXuyR891Z6wFlIhmrnH6zHunO2fVUQClpL8COZxE1YlqqZdpUqHaYYZjbrXTaAyqrjgooI4ubaB3ZJXmoceZUNlIirpeTQWVk/F3qrphWYehu7gcSJBkHlJGe+WRwOTLYnYy0DMPitZ4igtGRJeE41/nU6JThU6PyvblB3fV9hmbceGKnVsU95XUwxbtLOeL1KvYCpM4sCccDy0jXJIIrb+z1ok5xqEp6Szy+P5XYKERNVwwfC0OHSYAeyGeE1m0DArS53k5rxEiAnheMrYhAL+ZKPrfpo7WKRrcJ4gAnJEBfWdZyemZH8HZzJdKrn5gqak00zn0etiYanxeMzQ9G+Tr4I3l3SRj+XQiqa14Q0iX1TvVBivPCUPS2MM0H+9p3mD4AM3wnMX08UYBN9kJJfd1ZK80R6NXzwlDsP587SjTdcnyvMOEgEAACQAAIAAFTCIAAbQo9mAsEgAAQAAJWQkArrJDvvSFZFYIqoKUaE7Nacymfq4B+b0vcYo8cEx3CdEsmUNSI5JuEGtQJ2l7QJVXMCsBcEtD92vOCuwTKTUJ8eQS6h3pJOH46m/ArIVdGIoOVkagIbpMQXxnZrWZO98O2xOObhbhTHH65kLyQR57IQlVyW+LxWYMpQ7YXYItCkecl4fiiUHxdDNJTOAFiqg+6oftKIRlYhtpKrI1B1XmBZaRPMekYiOrmPHKJ8DtIGQ+5TbqlEV/5oOw8comKNnphKPKzOxkZeOaTbPdY1vPsAOx0NhF2B/lxv0nsTUH3dzvH4+7ZqAPGmigkAHEx9DOYGYCudTiDMIy5H3tLOLU8Auf7tfpAVul7+zQ86uR3+UY9Rvw3KZip3ticwK6WMnVSHhsBMzTdcmqGLP6kyMW2+eS0jqBtbZcW88rZM5+c5IUtj8DZnhWcDjvVB8nNG4V4bDV1IY/cl0KczkZtfBaGojZK8XepK4WodbL7TWJJGLY0rOtjuel+iNK3wb3XEQ/tLWiGP+r2w3p2isO/j0YdgfamEA7+6P12YSgSx2cHYjMD0IO7xPxglNTCUKQyLwpF7YNmB2LO8ehWkjM56LOxRaF4QBmZXktdKkC3tviVkN/4YisiUEMSewFKx/BNe4o3ct4g53HpeV1lcA4EgAAQAAKjggAI0KNimSBIIAAEgAAQ4JeANrZCJchXHE4ROwiodpWJF1t4NpsToN91Fi47n2uiQ5huyQTqpEiAdk1CIjKnDphxMMUbcwxEMsT30fiRDNT1eH8q6ubJ9QCd4o16a3zXuYEYe5v5/GB0zzUrZEz3Q2005gQhDwc6GyWvj0UdNnrtd2HGsMemq5WRvAvQlvyzALGNUgJzArFvfLElYUiafCDhV4Vs2Pux7l5e09FJDXs+bDnt0C5YxSu0q0XkzAD0SdvsAKS6Gt1EMskL3WMxOxC9YX7lgyTdtTHo47qpPugTuLlBqFb62+voHZh9QzP6MGyiAM1y8MemeCMheLI3crUsHFscht5yZwdia6LxJWHog70Daajv/P5UpHGH3kbdNrbdQEqxRy6x9QZ6957khXoNuSYR34V03fYxzQdbFYXvSSaiKqnDGUgfXxKO99pAg3uznd0Z52QvlOm/r6OPP+cHowZHKyPRx58bOxs9z+783+S7EJQyN5F1Wy/jd+l5XWhwDgSAABAAApZPAARoy18jiBAIAAEgAAR4J6CJuq32KZQfTOpYFGh6BfQ3h9NZAfqDrfFzT2Z9dwZacPC+giN4AfYGdrZclyuvY4VgtoSN+yN/CIOJArSj1IbYrsLniQKkIy/oVCs4b/PRvfP46ijUbJTVEWYHIiFjTTSaaN8pkexNIdJr0U6Au5KIecHY2mika2yIRToL58dCBvOCUVX4knBe1Hy+c1wQwnsLjhF8qcOlrZIAQTFsMxn21oQNsfx+iNJ8/CtF6iWR61+bjk1uPvm1MsubV6qtKua7H94Yp/thngWorvlaEZknoq6Xk7HVVMp9qqSZDi5HTfx1BBN6h9yXSiwNRzXFy8JRvx3XJCK4HEnGqQ8o/1LycAZxtnPj07M5xMV84nQOEVNF+peiXkmZdVRGLXWrkWpSoG1aH5kXzaC9Wxvk9H/acOeKqOyHKJK4air0DrrjJFeE2lVn1FHV7bQSYzwLyNkBSJv+xhcp4wtCUM/u7Ql4dBXatzC9Fu3dWtlG3xXTTYqu/QYomsE695I1jAT7oQeUbwnqGcU+2DYdzbAJoSEpGAMBIAAEgIC5CYAAbW6i4A8IAAEgAARGIQG1b5Hav0h1KUfmEks+lJqYwXz3LFaAnrAr8dOdCd+eummiQ5huyQR8irv/jOf+nrcXoM6bMwNQSd2GWNRqw/CUdYyn+aLSP6OKQtNT23YD97pFbk/sbnjt4I+tjkJi0I5EJAwtCsXP5aGyQW5nQraWkNVQZnc2dTWMaoo3ujPdLY04kYUqEL812ENsijfq2X0xnzyQhjZvnBOE+ZWQMVVo8y6PXIK9HX5BCPoMwHBWPzlO9sIo+tHCkyW/niG2sUaApBm2wpdtGc/3hyhNh/+lLo1rdv+m6dCXDXs/VmQK+AYuVjNZ9VRUJZJolRhD0eih1+vJ3n5UKZrp+KEVckUbLdd1/zjLtN1jvmPm/NNM90VpBm2TqCMZhY6hGcbEeLwN/udaGYnuiRnsNrlckDAAAkAACAABIDAQAiBAD4QS2AABIAAEgICVE1D739LGVcr3JSjPZpregmPFhTyuBcdXB1O3+5dYOb6xnV7oHXJa553d7O3Y3/ii9s1LwlAB71QfVMy7IRbdN70wFOnR3/hiM/xRT4xVUajp5/xgbGk4aoixWdglcU7yQneL70hErZNdk1CB29Yb+OY41L55RQQ+v0fvUcPbqA2F0YWhKIztCaiOj20/fTST8MxHd6OzZjMDTG1juiuJWBnZX0/qab7Y/lSCvQGcBWIYITdeFIpuRXdLI9j21pysPMkLVWpzN79z9o8cOPhj227ghzOIY5moVnFnIjHVG+02tj0BXxWF705GN7NzTlZGIsIrI9FyuGejKaujUA9WpzjEjTWbF4wWjpvSz2CiACOobsFobP9kQPajg0CLkmFf0ux+pHtTcMZA9DR7DqLtb8niTohcbJsOfdkRtE2R6cWQhNmvYrpDxmSF1/QYePUQVYm2z2Uf0/1QpxFDsZvXS4NzIAAEgAAQGJsEQIAem+sOWQMBIAAEgMCPCOgy7ssPJKou5yrc02mNqTcgX0u5zwnQU91SoQXHj1hb6ZPsenSjdLuaYavq1Dgj0aAiNZGMXhyGX8gnGQadYpUdimYu5JEX89Et22dyiEYFXdZCZ9VRCTVU8n0qugrdwd0XpxYlU9RIB5SSGXWUTzHJ3h6uxBi/EtI5HondW28g/bqnhxYl43WL3JtCXMhH93dHVKBbziMq0J3jAaVkk4IpbKBblExNB329nGR3C7yQR7apmKp2urqdrpXSDXL0PfshFVlBXS1C21uVNtPlrXRsNZV0j8qoozLrqJgqdOp4FnEkA92xfq+DvlmPjpzPI6d4o3vGj2YS0/1Qa9Q9KYSgiAwoQ/e2Xykkb9ZTt5pQAIIikt0NLOkeuic9vIIMKkNpLghBLU33JBN7kgm2PevCUKTvr4lCcv/MALSR164kYnYAati6IRZt7ehdTEZUoFvm2Qro6nbav5ScH4xdKUQcXJO6VO/5wdiOROQ27i5KpLyV9iwgl0fgweVkq4o5mol29DqeRWTXo3UJuU1eKiAxkiltpj1ykYdzeaiv65kc1OZ1f6olSml9vZbgOBDQ6/Vtqi4Bmi3zP5dH8CdAk/JWkYutNOqgaOe7LadmyJMvyBM9aK0CFmL4CQSUdt+7syoKNb8e/hjgikAACAABIDCmCIAAPaaWG5IFAkAACACB3gloo++oPHMky4KlGyJ06fd6Nxrw0f0h5RN2JX7ummjnJPzX3uR1VwoGPBUMrY2ASEZLNF268yNzk+uYGjEtktEDrKLFSdTi85Fu9Xo9zTBtKuZeBwqGtR/IxCHoUBJNl/Kuwhg13h0bSaM7x7lQcYMxd3B4BhTd9SHB8FwOrgIELJyAGu8SoNlbEPalEgN5cxhaUpRGJnKxbTzwuWj7W40HPlekX1Nm+QzNFcwykUBcNaqAXhTaebOON7YkHDexp4eJ8cB0IAAEgAAQsHoCIEBb/RJDgkAACAABIPBoAlphhWx7rHxXvOJoKlbw8NET+rVw9r715Z6k2Scy2Troiwk1/ZrDSSAABIAAEAACI0Zgsnd3h5mjGTxWwmKisoa9Hzce/ELkYiuJ2CeLdwcBeqRWvbyF5lpwsAPpSDS5Hqn04bpAAAgAASAw/ARAgB5+5nBFIAAEgAAQsDgC2vgq+cEk6dpw+YFE8kGHifFt8bll5yR8b0scK0BnV7Wb6BCmAwEgAASAABDggwDDMGyL8ymdMvSlAh7byOCNlQ27P+i4vkPkYqvM9pclnMFqb/GRFPh8JIGixh8J0P/phm94k8ojp4MBEAACQAAIAIHBEgABerDEwB4IAAEgAASskIDat1AdWCzfc0O6KRIvbmAw0pQknb2RAG3naR74EAAAIABJREFUJJx7MuvLPUlnhFWmeIO5QAAIAAEgAAR4IsAwDLvzJ7ujaa6I4ulCer1e96CgYdf76hKhyMUWE5VJIvbhLXCHEH+8+/P8QEJP88Gm/bC96roYXKbr7pLU30w4BwSAABAAAkBgSARAgB4SNpgEBIAAEAAC1kVAHVgsXRcu3x3fsTAAy3pAimSm5McJ0J+7Jq64mHcgtNwUbzAXCAABIAAEgAB/BBwDscneGCtDV7XT/F1IezerwfW9ZvdvRC62Yv9NsoQzmtuJ/F0OPPdDoE6KKqDXRKEe0PYCbGk4j61X+gkDTgEBIAAEgMDYIQAC9NhZa8gUCAABIAAE+iSgjatUHEmR74qX74qnpRpaoevTdAAn3GMq2QpoOyfh+1viogpEA5gEJkAACAABIAAEhpsAwzDT/TAH/y4B+oGERwEa1T5vf0sac0TkYisTHpeE7mr3XsvQPNZcDzfN0XO9GjESoLfd6NqEcG00CNADXbyqqqqNP3zduXPnkdO0Wu2mTZvYGZGRkY+059sgLS2NDSY+Pp7va/Xq383NjQ1ALpf3agAHgQAQsFYCIEBb68pCXkAACAABIDAIArr0+7KdQsmK65KVIfithkHM7M30enY9J0B/7pqYUNLUmxUcAwJAAAgAASAw8gQ2C/EVEdjUzh7QeXy24GBIomHPR80np3VWQG8W+25QpF2m1NKRRzD2IihtRgI02/57khdSoscegyFmXFZWZvPD1/r16x/pJSws7Adzm7CwsEfa822wZs0aNp6dO3fyfa1e/b/wwgtsAAOR73v1AAeBABAYpQRAgB6lCwdhAwEgAASAgDkJqK7kyd2SJKtC5PsSTBegD4ff4QTo1ZfyLybcNWes4AsIAAEgAASAgPkIeOQSC0JQHwZ7AZZynyIovnoBa+4kNx//qiPYReRi2+61pu3qCqy+hKF43PbQfJCszdMDCRKg18Z0teBYEoarcb7W3drY6fVvvvkmK6G+/PLLDPMIbo6Ojqzxz372MwzDRpwGCNAjvgQQABAYswRAgB6zSw+JAwEgAASAQDcBbXyVLrFa5ZnTsTBA7V2gS7vXfW7wI8MWHH/bFn8k4tF3aA7+IjADCAABIAAEgIAZCFwqIBz8uwToC/lEk+IRgtqQL6kuimzY9UHb5SUiF9umw/9q9ZirLokdsjeYaAqBDg1jKEB/Dy04BkPz4MGDrKZsY2OTk5PTz1StVvvMM8+wxkuWLOnHcthOgQA9bKjhQkAACBgRAAHaCAg8BQJAAAgAgbFIAC9rku+5Id97Q+wg0ETe1oSVmULBsALazkl4KrbKFG8wFwgAASAABIAAfwROZxNf+3YJ0KdvEjhvFdDayjSRiy37aNj9t5bTDljDbf7yAs/9EGhWIgF6a2cPaHsBtjISV+j4+uChnzBG6ana2tpx48axsvKmTZv6ycKw/0Zqamo/lsN2qr29/V7nl0QiGbaLGl4IWnAY0oAxEBhTBECAHlPLDckCASAABIBA7wR0Gffl+xJkW6I75vsSFS14eXPvdgM7ujuolN1+kG3E4ex9a2DzwAoIAAEgAASAwHATCLtDsv037AWYsJrHLQHVxdEiF9uG3R90ydA73lHlXR/ubOF6nQQ0BDPJC1sW3tWCY2EoVi/jcf9J66P+0UcfsQL0b3/7236ymzNnDmv20ksv0TQQRqhAgO7nBQOngIB1EwAB2rrXF7IDAkAACACBARHQxlXK9ycq3dPle27gJY0DmtO30a5AJEBP2p/CCtCzT2T2bQtngAAQAAJAAAiMJIG46m4B2reYx47MmrJ4kYutJGKfyMW2cd/fm45MxJvgDqGRWXoVxnzlgznF4ew+hEFlJH+9v0cmQ56v6uHhwSrLNjY2+fn5vV7NsP+Gk5OTkY1MJktKSjp06NCiRYucnZ3PnTvX2tpqZKPX61tbW9M6vxoaurbIrqysPHLkyOrVq728vDh7giAiIiIOHDiwbNmy5cuX79q1y9PTs6WlhTPgBiKRiHXY3Nx7sYVYLL5x44abm9uiRYtcXFw8PT1LS0u56b0OdDpdfn7+xYsXV65cuXnzZn9//8rKyr4E90cK0A8fPoyIiHB1dV2yZMmJEyfS0tJkMlmv162pqWFzUSgUrEF6evq+ffuWLl168+bNXqfAQSAABEaQAAjQIwgfLg0EgAAQAAKWQkArrJCuD0ePtWF4aZOJYZ2MrrRzEq64mMcK0LuDTGroYWIwMB0IAAEgAASAQD8EBLfI2YFdLTgOpeP9WJp4Sl0UKXKxbbuyjGvEocgQmOgTpg+ZwIZYfFk4vicFNWAR3CJ1JLTgGATLtra2xx9/nNWgnZ2de50ZHh7OidQlJSWcDUVRu3fvfuyxx7iz7OCJJ55wcXHhzNjBvn372LPu7u44jv/73//mun+sXr2atTl37tyvfvUrI282NjaPP/74rFmzlEqloc/vv/+etXR1dTU8rtfrFQrFzJkze/qxsbGxt7cvKioystfr9QzDuLu7P/XUUz1n/eY3v+m160g/AvS9e/f++te/9nRlY2OzYsUKrVZrFMCUKVNY49zc3JaWlr/97W/cXB8fHyNjeAoEgMCIEwABesSXAAIAAkAACACBkSegTahWexco3dPFDgK8uKvGZMhhbbhWaOcknHsyCzXi2Bo3/xRUYQyZJUwEAkAACAABfglcKiBncpsQ5pH8XUyZ7Y+2Hzw6iROg1cXR/F0OPPdPYHsiPs0HWxeDunDMD8aalSBA9w/M+OzEiRNZufPVV181Ptf5nOu/8cYbb3AGzc3Nn3zyCaeT9hxs2LCBM9br9ZwAfeLEiUmTJhnaswL0kSNHDA/2HH/xxRc43v3BUl+bEN6+ffu1117rOZ078txzz5WV/aiioqOjg5OAOTPDwWOPPbZz506jUui+BGg/P79nn33WcLrR+M0336ysrDSEM3nyZNYmNjb21VdfNbQHAdoQFIyBgIUQAAHaQhYCwgACQAAIAIGRJKCNvqONr1J6ZIkdBFjmAxNDcfErtnMSzj6eaecknHwg5WT0j35dNtE5TAcCQAAIAAEgYEYC+1LwSV5dFdBRlTwK0PLkCyIX23avNZwAravJMWMi4GrgBHCKWRCCzQ7A1sciAXpdDN6kAAF64PyQpY+PD6d49qwO1ul0zzzzDGvg5ubGueYU23Hjxi1evDgkJCQrK+vixYtvvfUW52379u2cPSdAv/7665zBs88++9577125ckWpVHKF2H/4wx8uXLhQ1Pnl5eVlWEpsqMb2KkATBGEo4E6cONHd3T0rKyshIWHFihXcJV5++WWNRsPFxinsNjY2r7zyytGjR1NSUqKiopydnQ1roq9du8ZN6asHdGlpqWFJ+IIFCwICAjIzM8+dO/fee+9xib/++usk2f0exQnQhnBefPHFTz/9NCsry/CiMAYCQMASCIAAbQmrADEAASAABIDACBNQCfI7FgaovQvEDgJd6j0To9kbXGbnJFx6PtfOSeh4IjOqQGSiQ5gOBIAAEAACQIAnArFV5HS/LgE6o7Zb3DH75TpCdqLuzwc+4wRo5U0/s18FHA6EAM0wrkmEvQBbEIKWfk8KwTAgQA+EXLeNUqn8yU9+wmqj27Zt6z7ROeL6b4wbN66uro49GxMTw9o/8cQT8fHxhlMIglixYgV79ic/+QnX9ZgToNlTv/rVr+Li4riJsbGx7PHHH39cLBZzx/V6PYZhn332GXt20aJF3KleBeiLFy+yljY2Nrt37+aM2cHBgwe5s5GRkezBvLw8rhnIpEmTJBKJ4aySkpLf//737Kzf/OY3hrJ1rxXQX3zxBWv8zDPPcJdgHRIEsWHDBi6Ac+fOcRfiBGj27DvvvHPnzh3uLAyAABCwNAIgQFvaikA8QAAIAAEgMAIE1IHFiqMpqovZYkdvbUK1iRHsDyl/f2uck/ctOyfhpzsT/DJqTXQI04EAEAACQAAI8EQg7i5lL+gSoLfE4RqCFyGSoelGtwmc9MwONHdSeEoK3D6SwL5UJECzxe9BZTx+8PDISEavwaxZs1jp849//KNRFnPnzmVPffzxx9wprlC3Z/9lvV6P4/ibb77JzvLw8GBnGQrQv//9741U5suXL7P248eP77nlYHh4+H93fk2ePJmLoacATRDEyy+/zPqZOXMmZ8kNtFrtK6+8whosWbKEPT5hwgT2yAsvvMDJ5dwUvV6fnJzMGtjY2Bw6dIg71VOATkpK4iwPHz7MWXIDhmE++OAD1ubFF1/EMIw9ZShAT5kyhSB43EOVCwYGQAAIDJkACNBDRgcTgQAQAAJAwHoIaMLLFYeRAC3fewPL7SpUGXJ6Z4RV7zoL114pYDchdPErHrIrmAgEgAAQAAJAgFcCRzOREGkvwCZ6YSn3STXOiwBNtN5r914rcrFt2PUBJ0NDBTSvK9u/85WRqPnGthvoe0wVdVdM928PZ3sSiIiI4JRTw20GDftvnD9/np0olUo5446Ojp7e9Ho9V4n87rvvsgaGAvTly5eNZjU2NnJlyH/5y19SU1MfWcneU4CuqqriAut120C9Xp+dnX268yspKUmv19M0/fTTT7OzTp48aRQV95Rrkz116lTuYE8Bes+ePayrl19+mROXOXt2kJmZyQVZXl7OHuQE6HHjxhn1pzaaDk+BABCwBAIgQFvCKkAMQAAIAAEgMMIE1D6F0g0RikPJ8gOJxD0x1a4yJaAd/iV2TsKPXG6wAvS+612/KJviE+YCASAABIAAEOCDwJ5kfCIrQAuw5PvUAwkvQiStVUhCXEUuti0eczgBmsa1fGQEPgdCYE8yMS+4qwWHWxpBULx88DCQSEavDYZhP//5z1lhdMeOHVwiXP+NJ554gtOab968yVo++eST6/v44rYZ/K//+i/WGydA//znP++1wvdvf/sbp8za2Nj86le/WrBgwcWLFysqKrh4DAc9BWiuj8dzzz1naNnPuL6+nrtoP8rvsWPHWLPXXnuN89ZTgJ43bx5r5ujoyJkZDWia5vpKh4aGsmc5Afof//iHkT08BQJAwAIJgABtgYsCIQEBIAAEgMBwE9Cl35euDVccT5OsDiXutlMdalMicI+pZKVn9vvVFFObSpsSDMwFAkAACAABINAPgZM3f6iAFmC3mmgtTy04SELsv1nkYtt8fGqXAL39LVLe2k9gcIpXAoFl5J6UrqXflUTIdSBAD4X3kiVLWPH0f//3f7n5XP8Nw8pfT09PTrQdyIDtm8wJ0HZ2dpx/w0FjY+M///nPXh2+9NJLGzdubG5uNrTvKUCfPn2anf7GG28YWvYzTkhIYKeMGzdOq+3zY6SoqCjW7PHHH+c2D+wpQL/77rusWa+dSbgw/vznP7Nm3KaOnAC9evVqzgwGQAAIWCwBEKAtdmkgMCAABIAAEBg+ArrUGsmaUKV7unRTJJZXT7UoTLn25aR7hgJ0YJapPT1MCQbmAgEgAASAABDoh0BEBTnZu6sHdGw1j72AG/Z8+KMWHNvfVmb59BMYnOKVQLWY3pHYJUB7FpBKDAToofBOSUlhVVEbG5vbt2/r9XqdTvfss8+yB4OCgjinJ0+e5CwHMmC3LuQE6K+//ppzZTRgGCYwMHDWrFk/+9nPenp++umnDfct7ClA79ixg5310UcfGXnu6ylXNG1jY9NP04+0tDQuHoWi61frngK0ra0ta7Zv376+rqjX6z/88EPWbOvWrawZJ0Ab9pjuxwOcAgJAYGQJgAA9svzh6kAACAABIGARBDThZR3zfZXnbirPZGL5D2mtSduYsAL0Yo8cVob2Sr1vEUlCEEAACAABIAAEehAILie/8ukSoM/nmfTfXw/f3QdoTM0WPrOdoDuV6PcppbjbAkbDS4CiGZcE1ADaXoAdySAUUAE9JP40Tf/mN79hhdFdu3bp9XquMfQzzzxjWB3Miba//vWvCwbwpdPp9Ho9J0AvW7bskQGSJJmbm3vs2LEpU6aMHz+eE39/+tOf1tZ2bYjdU4DmGk//7ne/e+QlWIOSkhLOuUgk6mvWlStXWLMXX3yRs+kpQHONR1auXMmZ9Rz8v//3/1hvXC9sToC+evVqT3s4AgSAgKURAAHa0lYE4gECQAAIAIERIKAJKRU7CDqWBClOpOHFDSZGcDHhrp2TcGcA6gQ9YVei8FajiQ5hOhAAAkAACAABnggElpH2Aowtgo64w1cFNNH2oGE32n6QbcTBitGEGO4Q4mlVH+22Rkwfz0IV0DMDsHO8ffDw6DhGv8XGjRtZYZRtYcF1NF6wYIFhcg8ePGDNnnrqKZoeaKd1ToBevny5obdHjuvq6rj2IDY2Np6enuyUngJ0amoqG9jjjz/O1Skb+RcKhZ92fs2fP1+v16vVam7zw/j4eCNj7ilH5uOPP+YO9hSgN2zYwAbw97//nTMzGojFYtbGxsYmIyODPcsJ0NeuXTOyh6dAAAhYIAEQoC1wUSAkIAAEgAAQGG4CmvAysYNA7CBQCfKJe6YWZJ0VVts5CT/ejjYhXOSRE5xdP9z5wPWAABAAAkAACAyMQFAZOdkLcwxElbAht/kSoPV6fdvV5SIX20a3z7lNCFUFYQOLEazMT0BHMgfTkQA9xRtzS+Or8t38cVuex8LCQk4bvXXrFtd/IyEhwTBYmqZ/+tOfspYBAQGGp7hxaGjof3V+/fOf/2QP9i9Af/XVVy+88MJ///d/+/n5cU4MB1x75RUrVrDHewrQDQ0NXPzu7u6G07nxggULWJtFixaxB//nf/6HPTJhwgTOzHAgFou5liBLly7lTvUUoLkSbBsbm5ycHM7ScODs7MwF2dbWxp4CAdoQEYyBgOUTAAHa8tcIIgQCQAAIAAHeCWjjKmVbosUOAuxm1y2KplzyVEzlx9tvTNqfwrbgOBVTaYo3mAsEgAAQAAJAgD8CgiLya19sSTg+zRdLe0DxdCFK2SHaacdJz+xAmdO7DMdTDODWkECHhtkoxB38sak+2NUiHj94MLyotY7/9Kc/sfLoO++8ww5++ctfUpTxTxNXEfzqq6+KxcblDiRJfvzxx+z0nTt3sqz6F6C3bNnC2v/jH//otRfz66+/zhocPXqUddhTgNbr9Z988glr9vLLLzc0GN8IWFZW9tRTT7EGoaGhrJ8TJ06wR2xsbHrK3wzDLFy4kDV47LHHSktLuaXvKUArFIoXX3yRNX7vvffUauOdwA0DmDNnDucKBGgOBQyAwKggAAL0qFgmCBIIAAEgAAT4JaBLvivdFClzicVyzXA78OnYqkn7U1z8ilkBOiz3Ib/Rg3cgAASAABAAAkMlEFWJWnAsCcNn+mMZtcaS2VC9Gs+jMY2R+ixyscVEZcZ28HwYCWyIxTcLcY9c4kohCNAmcd+9ezenxrKD9evX9/TY0dHBFQW/9NJL8fHxBIFqzzEMS0hImDZtGjt33Lhx1dXV7PT+BWihUMhdd/78+fX13bfcKZVKJycn7mxBQQHrsFcBOjc3l7N85ZVXsrKyOPU8Njb2t7/9LXv25ZdfVqlUrB8cx//whz+wx8eNG+fs7KxUKtlTtbW1X375Jedw8eLF7HH2e08BWq/Xnz9/nrN//fXX8/LyWD0dw7BLly5xleNPP/20YY4gQBuChTEQsHwCIEBb/hpBhEAACAABIMA7AU1wiXRtmCbyNpb5wPSLsZsQvr8ljhWgMypaTfcJHoAAEAACQAAI8EEg/A451Rv7xhebFYBdLuSrFQOlkYl2/LgCevtbeGMFHxmBzwES2HoDXxmJ+xSTIEAPkFhfZtXV1Zx+yg44wddoyvnz57nuyTY2Nk8++eQbb7zBCazs3MOHD3Oz+hegCYL44osvuEuPGzfutdde++STT95+++0nnniCO/7RRx9xgnKvArRer+cKltlZzzzzzDvvvMMVJtvY2IwfPz4rK4sLTK/X37hxwzDyxx577LXXXnvppZe469rY2Lz66qvNzc2Gs3oVoCmKmjBhguHEX/ziF2+++eaTTz7JHRw3btyJEycMXYEAbUgDxkDA8gmAAG35awQRAgEgAASAAO8ENBHl4rk+ygvZqqt5pl8surDBzkk41S2VFaBTyltM9wkegAAQAAJAAAjwQSD8DjnDH/vaF1sYgoXxtgmhXq9v2PuxURG0PNGDj4zA5wAJnMomlobjOxMJ2IRwgMT6MeO6LdvY2PzpT3/qxzIxMfGXv/wlp6saDh5//PFt27YZzu1fgNbr9QqF4oMPPjB0YjT+9NNPubJlvV7flwDNMIy7uzvXasPIyYsvvujv728YGDuuqqp6++23jYy5p3Pnzu25q2GvArRer6coau/evePHj+emGw5++ctfGvXU1uv1IED3XBE4AgQsmQAI0Ja8OhAbEAACQAAIDBMBXdJd2fZY2Xah5Pswhhro1uR9BRd0s87OSci14IgvburLEo4DASAABIAAEBhZAqeziane2KJQ7Csf7HIB0aFh+IiHIQmjCuimI/akxLjbLB+XBp99EfDIJWYGYAtCMBCg+0I08OPBwcGzfvjy9vbuf2Jra+vhw4fnzp37f//3f+PHj3/hhRfef//9VatW1dYa70QSGho6u/PL09OzH5/JycmzZ8/+85//zLb4eP755994440FCxYkJiZytc/s9KtXr7IOg4KCejq8ffv29u3bp0yZ8sorrzz22GP/8z//88UXX+zYsUMul/c0Zo9gGObp6bls2bL33nvv6aeffv755ydMmLBp06bo6OhepyxZsoQNoGez6f9oygUFBTt37pw6depLL700fvz4N954Y/78+ceOHeM2HjT0eejQIdZVWlqa4XEYAwEgYJkEQIC2zHWBqIAAEAACQGBYCehS78m2xUrXhYsdvRna1L+9LybU2DkJ910vZyugk8p+dO/hsCYGFwMCQAAIAAEg0C+BiApyYSg2ww+bGYDFVlE8CdB6vb7piH3T4X91F0Fvf4tSdfQbGpzkl8CqKPx8Hnk4gziVzVfrFX4TsArvNG1q3YMRBnM5HIKfXjdCNApv4E/N623g1wVLIAAEeCIAAjRPYMEtEAACQAAIjCYCWOaDjm/9tLEVYgeB6XGH5z20cxKu8sxnBehl53NN9wkegAAQAAJAAAjwQSDuLvm1LzbJC5vshQWW8bgZXfPxqSLXv3YL0C62uvv5fGQEPgdIYG0MvigUXxuNu6WBAD1AZmAGBIAAEAACQyQAAvQQwcE0IAAEgAAQsCYC2htVklUhusRqswjQfhm1dk7C97d2bUJ4NOKONbGCXIAAEAACQMCaCJy6SUwUoE0IJwqwU9lERZuZ6zE5Vu0+61o85nCdoJuOTCSljdxZGAw/gdQH1LJw3CUB35cKAvTw44crAgEgAATGFgEQoMfWekO2QAAIAAEg0CsBLL9esuI6Xt5sFgE6pbzl050Jay51VUAnlEAP6F6pw0EgAASAABAYeQK5Dyl7AcY+DqcTQbwVQWvKEzsCtzSfnMYWQTe4vkdj6pHPfwxHUCulHfxR65XjWSBAj+HXAaQOBIAAEBgWAiBADwtmuAgQAAJAAAhYNgFtzB2xg0C6IULs+Ih9YwaSx+2Hso9cbqy5DAL0QGiBDRAAAkAACIwkAWE1aS/AVkbi9gLM+xYh05q6EUJfyRCt92UJp0Xb3+rqwrHDjqFA9+yLFu/HFTpmVxIxPxg7kkHsToaF4B04XAAIAAEgMMYJgAA9xl8AkD4QAAJAAAggAlhOnXiuT8d8X7GDgFboTITSocTsnIRfH05je0DH3YJbjE0kCtOBABAAAkCALwJhd5AAvTQcm+KNed3iUYhkSEKZE9h84itWgG4568hXSuD3UQSUGCPXMZuF+Joo/GoRuT0Rf9QMOA8EgAAQAAJAwCQCIECbhA8mAwEgAASAgHUQwApFHUuCJKtCOpYEUR2m3hHcLNV+ujNh9olMVoA+F19tHZQgCyAABIAAELA+AhEVSID+PhpVQF8p5FGApgldu2BV05GJrADdfHKa9cEcLRnhFPNAQk/ywtZG4+EVpPtNHtd9tDCBOIEAEAACQIBXAiBA84oXnAMBIAAEgMDoIIDlP5RtiZasuK50T2cYU+8+1mDkrGMZ89yzWAH6YsLd0UEBogQCQAAIAIGxR+BaEWEvwGYFoDbQHrk8CpFYXbE8xVO0812Ri23jgc/bBavHHmwLyliiYeYHY/ODsWOZhGcBaUGRQShAAAgAASBgjQRAgLbGVYWcgAAQAAJAYJAEsNx61eVcmWucOrB4kFN7MW/o0Pxjd9JHLvFT3VLtnIS+6Q96MYJDQAAIAAEgAAQsgIDXLXKaD+YYiE3y4nEzOoYiFelXpTFHGvZ8JHKxbTo2uXH/pwzJo95tAWgtOgSFjvnaF5sXjAmrqb0psBAWvVhGwTEUxdA0d5ChaXREp6WVcgbTMRRFa9RUaxOtkNEqBS2TUG1NtFzCYDqqpYHqaGNIkmprJu5VkPX3yGYRWVdDVJfjFcX47SK8vAB9rywlau6Q9fep1ka8NI9qa2Ivx9A0WX+P0Wm4S8MACAABIDBwAiBAD5wVWAIBIAAEgIDVEsBu1iqOpGiul3R860eJTW3BkVPdztY+r/TMs3MS7gkus1pwkBgQAAJAAAiMcgI+xeS3wdiqSHySF3Y6m9AQpt4G1CsPhqbUpXHylIuNB//R1QPaY46hiNbrLDjIE4Gb9dStJnpFBD7NBzuaSexMBAGaJ9KDc0vU3FH5nddl3qBlHVhhljrgInG/SnczSSMMVnmdVpx0VZzaJXVZKj+6VX50q3TrYtnu1fITO6QuSyXrHGUHNkjWOUo2zkPfez7Wz+nlYE+znkfWz1F6HsFvF+n1elqrocQt7J2CRM2dweX2KGuqo+1RJnAeCACB0U0ABOjRvX4QPRAAAkAACJiFAHazVu1/S7ZTKN8Vz+Cm3oiaXyNmBejvzmbbOQk3CgpNb+thljTBCRAAAkAACAABIwLxdynHQGxZODbZC/PMJ9sNtwGOAAAgAElEQVRUvAjQer2eUoqlkQcaD3zGCtDt11YaRQJPh40AwzCNCnqjEJ8dgF0tIg+lgwA9bOz7u5AuJ0UT4YNXlmhvhGnCfTTRAcqLh+SHNiOh+dBm+WFn2e7VipOu8oObpa6rJAaaMjI4tk22b51k87dDFJp7Ss+dR6Q7V0icFsgPOysvHVNeOSHdsVzivJCVvFU+Z5WXjsoObFBePaH0PKI4tVt+ZIts3zrZgY3Ky8fkx10Up/cozh1QnnfTRPmrfD2UV0/Ij26V7V0rP7FDcWavysdDfmybwmO/4tRuLDeNuFfZHxo4BwSAwOgnAAL06F9DyAAIAAEgAARMJoDl1ikvZMv3JUjWhJrsTJ9Y2mznJPxid9KV5HtT3FLza8Sm+wQPQAAIAAEgAAT4ICCsphz8sSne2Dd+2PlcokXJlwCtu58nizvRdOhLVoBWpF/jIx3wORACBMXItMzmOHxNFO5dTLqlgQA9EGwjaUO1NakCLio89ktdVyI5+OoJyYYfip03zpNsnG9e3XmYvWligkYSLlwbCACBYSEAAvSwYIaLAAEgAASAgGUTwG81yFzjFCfSxA4CWmvqn2Ep5S12TsKpbqmC1Pt/dRZ2KDHLzh6iAwJAAAgAgbFLQFBE2gvQDoRTvLEzOab+D9gPR7ylpt17bfOxKUiA3mHXevG7fozhFN8E1Diz9Qa+K4nIrKP2p/K47nwnYgX+GRxjdNp+EsHvFGO5aergy4rTe1Q+ZxVn9sr2rpO6rpJuXSTZOE/mtkkd6KkO85LuWK5wd5UfclJeOS5x/m6YRWRTLse2+OiHAJwCAkDACgiAAG0FiwgpAAEgAASAgKkEiJp2+a54TeTtjkUBpvrS68NyH9o5Cf+1N/nbUzftnIQYQZnuEzwAASAABIAAEOCDwLFMghWg7QXY5UIehUi8pYaVnkUutq3nv205NYPWKvjICHwOhABOMisj8Wm+0IJjILT4taEk7UiDxnREzR2qvYWoucPg3bULDE0TtXfJ+nvq61cUHvuVV09qU6K1iRHalBhdmlB9/Yo6zAuvLFGc3ac4tUuXnawO80Ldok+6Ks+7SbctUXjsZ3tlyA9tlm5djNpfnN0ndV2JWkjvXSc/uFmyzlG6Y7l0y0KJ0wLUQGPvOk2Ej3Rbp+W5A/IjW2X71iFp+/Qe2Z7vkdgdck3h7ooud2avOtxbHXxFHXxZHXJNmxSp8j6jOOemDvPSJkZoInw14T5YbipWmIVai8QGKS8eUl48pE2MUIcKNMLr8hM7sPwMtnYbL8njFzF4BwJAwAIIgABtAYsAIQABIAAEgMBIE9DGV4lnClALjhXXTY+FpOgPt8VPPpDy6c4EOychSXXvVG66c/AABIAAEAACQMBcBEiaOZVNOAai8md7ARZ2x9RdEPoJTF0axzbfQN93vtt6/lsQoPvBxfcpmmHmBGFTvbGzOcS2GzjflwP//RDA8jO4LfgYnZbWDHE3bFrWQYoeEA+qaY0Ky8/Q5aSQjfWo/bq4BctJ0WXEE7V3tSkxDE3Tcgl+u4iWS4maO3hlKS2TUB1tZEMtWVdD1tXQKgWtkFEtDbRGTYpqaY2qn+CHfIrWqJVXTrBNq9FF1cohu4KJQAAIjAoCIECPimWCIIEAEAACQIBfArrUGrGDQLYlWjzLizG5BUeLTGvnJPxga7yT9y07J2FtKy+/uPNLBLwDASAABIDAGCDQrGTc0oip3tiaaHy6H5Z8n8dbdpQ5gU1HJ3EatCRi/xgAbKEp0gyjxplD6cR0P2x+MLYlHgTokVwpsukhJRUzJI8f/4xken1cGyvOUfmcle1fL1nnqBEG4xXFfRjCYSAABKyEAAjQVrKQkAYQAAJAAAiYQkAdWCx2EKDHXB/G5IJlkqLXXM63cxIuPZ9r5yTc7FVkSmwwFwgAASAABIAATwTa1czpbGKiAPv2OvaVD5ZVz6MA3ew+XeRi23TEntWgdffzGYavDQ95wmU1bimawUlmRQT+7XVsTzJxPIvH1itWA42/RBiaplobyboa/i5hgZ6xnBTFyZ3yI1sl6xx1mQlUe4sFBgkhAQEgYEYCIECbESa4AgJAAAgAgdFKQBNZzgrQUqcoRmfqn2FanPrcNdHOSfjx9ht2TsLVl/JHKxeIGwgAASAABKyaQIeG8bpFOvhjM/yxiQLM+5ap/wP2Q0sSsU/kYtvmuRD1gL74Hd5U1Y8xnOKbAM0wi0LxiQLsdDbhns3juvOdiBX4Jxvr8cpSqrXJCnIZeAq67GTFSVd260JtSgxRWz3wuWAJBIDAaCQAAvRoXDWIGQgAASAABMxMACsUsQJ0x5IgxuQ9A7Or2+2chHZOwned0Xe30NtmDhfcAQEgAASAABAwE4ETWagCekMsbi/Awu/wKERqyhORAH11hcjFVhKxD28ZW/WeZlqu/txItYxMxyixAdWV4xQzzQeb5IUVNtBncnhc9/4ihnOdBChxKyl6MNZg4KV5EqcFrACtvHSUqLkz1ghAvkBgrBEAAXqsrTjkCwSAABAAAr0QwLLrOr4LYDVooqa9F4vBHMr5QYD++nCanZMw9TbcVDgYfGALBIAAEAACw0jgeBZhL8D2pqDvfiU8CpHSKLeG3R/IhMdFLrayuBPQf8Psi3w8i5jmiznH462qAWnQLgn4NF/sWhF58iaP6272NK3PIdXWhJfk0XKJ9aXWT0ba+BCZ2yZWgFYJTvVjCaeAABCwDgIgQFvHOkIWQAAIAAEgYBIBXWK1ZMV1sYNAujYcv9Vgki+9vrhWwlZALzybbeck3O5fYqJDmA4EgAAQAAJAgCcChzOQ9PztdcxegAWU8bgNmjzpfMPej1sv/FvkYqu86cuQsPGdOZe0Q8PYC9AiLgzFPAvI0ma6f+9KDLXgmOaLRVVS7gMToNvVzP5UQqYdkLrd/9XhrCEBLC9NEx0w1npAa+KuS7ctlmycJ1nnCOXPhq8HGAMBayUAArS1rizkBQSAABAAAgMlwGAkXiRiK6Aly4JpmXagM/uwq21VsQL0h9vi7ZyE11Lu92EIh4EAEAACQAAIjDCBC3lIgGa7MQTzKUDjLTWt5+Y1n5wmcrGVRh/WlCeMcOZWd/lD6Wgp7QXYdD+0oHmi/raUxEhmThA2OxALryDd0h5dAV0jppeE4VO9sQ4NCNBmfukQtXexwixKIjazX8t2p0uNlaxzlB/cjATo+5WWHSxEBwSAgBkIgABtBojgAggAASAABEY1AapdJV0b1rUJ4aZI03ORqXFWgGa/X0m+Z7pP8AAEgAAQAAJAgA8CXrdQD+gp3tg3flj8XR4roLWVaQ27P2j1mCtyse0I2qYujuYjnbHsU40z0VUUq0HbC7B1MXh4Bakj+tSLWcE69Da5L7U/ATpXRDnH4/ODsaOZRGHDIwqrxzL/IedOtbdoU2NolWLIHkbjRKXnEenOlbL96yUb5lLtLWRD3WjMAmIGAkBg4ARAgB44K7AEAkAACAABqyWA/7AJofJspulJKrXEf1o/f7oz4f2tcXZOwoTSZtN9ggcgAASAABAAAnwQuFJIzAtCfRsc/LHoKh4FaLzhTuuFf7ecmiFysdXV5DB0f/W5fGQ6Rnwezeyqg2YL2zcKcZrpXYM+lE5siMXb1czhjN4F6CYF45pEzA/GYqspiu7dyRihymuaWEGmOsyLFNXyehVLc67LTlIHX1Gc2iVZ56iJCcTvFFtahBAPEAAC5iUAArR5eYI3IAAEgAAQGJUEdOn32QpoyZpQ03tAN0o0dk7CCbsS57tn2TkJ69pUoxIKBA0EgAAQAALWTkAkowVFxDQf1IrhG19+K6B1NTmKtMti/80iF1t58gVrRzti+cl0zPIIfLof6sXBPrbE4xEVZE8Z2q+EDL9DlrfQ7tkETv5IX9YSzNUicqo35l1MPpTRDXJU+PxQBuXPZl5WBtMxmA7LTcPy0seaAosX58rcNskPbZasn4OX5lMtpm7BYua1AXdAAAiYmwAI0OYmCv6AABAAAkBgFBLAi0RdLTjWhmH59SZmQJD0e1viZh3LmOqWaucklKlhnyUTicJ0IAAEgAAQ4IWAbwnJFszOCkBdOG638FiVrCmLbzk1o+3SYiRAJ3rQmJqXlMCpXp/6gHJLIyZ5dWvQPsVIaDaqYt6XQqQ9oFpVzI7E7gpommFu1FAbhTi7O6VbGrE+Fi9sMJ4LmM1CgGyo08QEMjiO5aSQogdm8TlanGgTwiUb5smPbZPuXIkV54yWsCFOIAAEhkwABOgho4OJQAAIAAEgYD0EFIeTWQFatl1IVLWamJhMjX9zOH3aobQpnQK0FufxjmYTQ4XpQAAIAAEgMJYJpNdSe1Lwyd7Y6ihsogCL4bMFhzzpvMjFVrTjHZGLbdulRcqcwLFMntfcaYbZk0J4FpBcEfRkL+xKIZlVT2U/7P6M4UgGcSKLICiG267wZj21PAI/kUV43SLnByP9epIXllBD3euA2mdeVoxhGPxOMdXRpvDYj1eW8nINS3WqS49TuLtKty+TbPoWL82z1DAhLiAABMxGAARos6EER0AACAABIDB6Caiu5Xe14FgVQtwzdRdyDUauuJA3cX/K3JOoBQdBwp9to/elAZEDASAABKycwKUCVCr7tS821RsLLufxE1Oi9Z7Ixbb55DSRi23LmdnKm35WTnZE08uso0Jvk8sjcE6DZgfLwvHqdlrbuTNh0j0q/A6JU0ziPSq7nvLI7Woe/bUv+jSCtT+fR6qwH3XnGNG0rPDieHkBcfe28rwbfrvICtPrOyVtYoT8sLNs7zrJ5m+18SEMpuvbFs4AASBgDQRAgLaGVYQcgAAQAAJAwEQC2tgKVoAWO3qb6IqdHpBVN+MIKoK2cxIyfWz+Y5YLgRMgAASAABAAAqYQuNxZJzu5s11DbDWPArSuJlu0453Gg/9gW3CQshZTwoa5/RNgGGZXEhF2p7sImlOip/thngVkTBWV+oC6Ukgk3iMLG+htN3DDlh2s8fIIvFo8iA/RU+ujFsd+MZYfTcrBtXGjOtrUIdfw20WKc25YYVb/a2plZ+VHtigvHFK4u3ZuQhhEq2HHFCtbYUgHCBgTAAHamAg8BwJAAAgAgTFIQBNe1iVAOwhoJWY6gdTbLZMPpNg5Cd91Ft5vUZruEDwAASAABIAAEDA7gRYlczyrq+71Kx8sooJHARqrL2nY9QHqwuFi2xG0TZkTYPZ0wKEhgWYlsyrqR7Iy+zGDvQBbGYlP88HWxuCro/CyZsr9ZtdrgBOp7QXYDH/Mr4SU6QZR/nzjwfWZ4XZj+dGgqDVcgkeOaZVCfsiJrL+nTYzQpcY+0t6aDJQXDsn2fC/dukiyzlFxes9Y60BiTUsJuQCBARIAAXqAoMAMCAABIAAErJYAoyPU3oWsAC3dFInl1pmeaurtlve3xtk5Ce2chFeS75nuEDwAASAABIAAEDA7gRYlwzVemOyFXS3q3ozO7NeiVB0tZ2c37v9U5GKrSL3EkLBDr9kZGzuMqDCugN52A5/qg9prTEWNv/FdSfjMgO69Cg0F6Li73d2ijf328ZwVoD2KdssxyVh7rE38Zma43aAFaLVS5Xee6mjDirKJ+1V9cLXOw8qrJ2QHNkp3LJesc5Qf26bLSrTOPCErIAAEfiAAAvQPJOBfIAAEgAAQGKsEyHqp5noJK0DLnKOx/IemkxDeauQE6NAcMzg0PSTwAASAABAAAkCgJ4GrhSRbGDvZCzubw6MATbTebz7+lSR8L2rBkXS+ZyRwxOwEGIZZHdXdBvrf11Gz7y3x3Uc4xXlJGM71fWYPVrUPovkGGzkrQF8qOWj2RCzf4fqkGUMQoIn7lSq/87o0oTYlhqy/b/lpmitChqZle9dK1jmiTQjXOUrWz1EHXTKXc/ADBICAZRIAAdoy1wWiAgJAAAgAgeEjQKsw/HYzK0ArDiebRYDOrxGz5c92TsKUcmhzOXyrCVcCAkAACACBgRPASeZKIcGWxE7hexNCcX2rx9ymI/YiF1tZ/MmBBwmWphB4IKHtBdiCEGxZOL4iAr9eTk7ywqb59l71zOnRzvE4PfgdLECAHmwFNEPginNuupwUbVwILZeYstCjay7V0aY4s1eyYS5Sn9c5SpwXqq65j64UIFogAAQGSwAE6MESA3sgAASAABCwQgLkgw6xg0C6PlxxIk0TVmZ6hvdblJwAXd2oMN0heAACQAAIAAEgYHYCCh2zKrKrHtYxEIupGnTXhYGHRCnaZHEnmg7/S+RiK/bbpK1IHfhcsDSFANfm216ACYrIg+mo4/PisF7qoO0F2Joo3K+EVGKDaP3MxQYC9KAFaJJQeOzHirJRD4qMeI6k1Q8YAlf5nWPVZ+mO5bLdazQxQVafNSQIBMY4ARCgx/gLANIHAkAACAABRICoaUcC9IYI+b4E6dpw06Hk3m3nWnCE5AxuS3TTrw4egAAQAAJAAAgMkEBUZVeb4Bl+WMQdHjchpAmd+lZU44HPRC62kvC9RNvgtmsbYDpg1pNAg5ye5NVV8vy1L1bQQPkUk/tSCQf/XuqgrxUN/TUAAvRgBWhao1J6HiGqSmV715KNY+vXRW18qGTjvK4K6PVzsKLsni9dOAIEgIA1EQAB2ppWE3IBAkAACACBIRIgKlvFDgLZ1hjJiuuyLdFD9GIw7dYDyd93JLBF0Kdjx9auMgYYYAgEgAAQAAKWTiD6BwHaMRBzS+dxY0Ca0In9N4lcbFEFtO8GS+diXfH5FHfvRjg/GAsoI09kEd+F/EiAnuSF6qNNyRsE6MEK0AyBy9w26bKTJesc8ZJcU+CPurl4ZYni5M4uAXqdI1aQOepSgICBABAYFAEQoAeFC4yBABAAAkDAOgngJY1iB4HiRJrYQSBZFWJ6khkVrR9ui2cFaJFYbbpD8AAEgAAQAAJAgA8CrkldrRhmB2Jn+NyEUK/Xi/03swJ0x/UdfOQCPvsigJPM0nC00Gy/77lB2CqDzQnZ4xl1pjZgAQF6sAK0Xq+XbJyn8jqNBOiK4r6WzyqPk/X3lBcOcQK0NsEMNyBaJShICghYDQEQoK1mKSERIAAEgAAQGDoBrbACVUBviRY7CDq+9Ru6ox9mnoiu5HpA17aqfjgM/wIBIAAEgAAQsCwCnvldtbETBVh4hUkFsP0nxlCk7MZpVoBu917bvzGcNTuB0ma0G+HcIGyq948Kn9mNB68UkhQ9lL7PhnGCAD1YAZqhaen2ZeqAi5J1jrqsBEOYVj/Gim5qIv04ARo2IbT6FYcEgQAI0PAaAAJAAAgAASCgV13OFTsIxDMFqAJ6dajpRCiamXUsw85J+OG2+DsimekOwQMQAAJAAAgAAT4InMtFW9LZC7BJXph/KY8CtF6vl8WfZAVoWdwJPnIxu09K2cGQPLYlMXvA/TuMrKDYtTb6viEW79AwHRoQoPvn19/Z9UkzZobbDVaApjUq+TEXdfBlyaZv1cFX+ruA1Z3TZSXoshKRAL3pW4nTApWvh9WlCAkBASDwIwIgQP8IBzwBAkAACACBsUmAbb6BNGgHQce//c0C4V/7ktkiaOGtRrM4BCdAAAgAASAABMxLoEnBnMruEqCn+WCnswnz+jfy1uz+TVcP6ABno1MW+FSRIWjY82Hz8amYqMwCwxtCSDjFLAjB5gRhXre6W0LPC8ZqOugheOs5BSqghyBAK87sJe5VSLcsVPmd64nUWo+QjfUq//PqMC8kQG+YK9u9RpcmtNZkIS8gAARYAiBAwysBCFghAblcXlpaWl5erlQqrTA9SAkImJsArcIUh5NR7fOaUFaDZghT2yC2yXV/dRbaOQnfdRbuDyknKfP8aWfu1MEfEAACQAAIjGkCapwRVndpkdP9eBeg2zwXdgnQvustn3u799quhiGCVbTOSn6pTrpHrY7CdyURVwq71v1UNkEzptY+s6sJAvRgBWiGYWS7Vusy4iXrHDXhPpb/Q2HGCImqMpX/ha4WHBvmqgIumtE5uAICQMACCYAAbYGLAiEBgSESSExMnDhx4vPPP29j8PXCCy/885//TElJGaLTEZ2mUChmzJgxffr0hQsXjmggcHErJ8AQlPL8TdQDemsMK0DTCp2JORfc6/hkx433t8T9a29ym9xUbyYGA9OBABAAAkAACPRFoLodtWWY5oPNCsDWRPHbbkIafYiVdNs8R8Gvdor0q01HJ4l22IlcbJuOTcYbKxmS3wrxvtbIjMcJirleTs4MwAobaOd4fH4w1qQwj/qs1+utTIBWYrJmlYigB7ToQ2vBgfrSuG1SB12SrHNUh1wz40Jbviuiulx+ZAvXA1oTMbb0d8tfIIgQCJidAAjQZkcKDoHACBC4f//+22+/bSA79zL85JNPHj58OALBmXDJuro6NpOnn37aBDcwFQg8ggASoD2ykPQ816dLgJZqHjHnUaevpdz/cFs824Uj/574UeZwHggAASAABIDACBBoVTEVbWhvuqne6DErAOM1CEX6VVaAlka58XohszhnGEYSsV/sv4mNuXH/p9LYo7RWYRbnI+jkrpj2ukXODsS+9sWiqyjGTOXPliBAXys7diD7e/aRJYofGuTU+qj9N9csFf5rZrjdzHC72eF/XZMw7WLxgTZ1Uz8OhyZAMzQt27tWmxAmWeeIFWX349/6TjE4rk2JkWyYy2rQCo/91pcjZAQEgIAhARCgDWnAGAiMSgJtbW1//OMfDSXnP/zhDx9//LGtre2zzz5rePzdd9/V6UZTJSYI0KPyFTkKg2ZoRrI0CEnPs7xQI46VIQxm6i5MKeUtdk7Cj7ffsHMSKjQDqp0ZheQgZCAABIAAEBjdBOqkdE49qoCe7IX2IZzmw7cAfY0VczuCXUYFOBrTtJyawcYscrFtvbigI3i7PMWTUklGRfx9BanGmYgKMu0BpcTMVv484gJ0u6aZlYzZ7yFVl/pKv6/j7ZrmfTdXGzoxHDtGvC8oO96XXj9EAZphJM4L1SHXJOscddnJfQVmlceJexUqv3NcBbTMbZNVpglJAQEgwBEAAZpDAQMgMFoJfPbZZ5zKvHz58nv37nGZMAwTFhb2l7/8hTNYunQpd9byByBAW/4aWU2EkuXBqAXHtlixg0DtXWh6Xiodwe5AaOckrG4c9dVSpgMBD0AACAABIGCZBC4VoE0IJwo6BWhfngXo1EusmKvKu26ZNHpGRbQ9kMYe4zTo9murVHnX266u0NxO7Gk8xo+MbAsOz+IDhnrxYAVoHalddWOKoYdex97lJ3td5aEJ0Hq9Xn7cRZeViFpwhHn16tkqDzI4RtRWq7xOSZwWsBq0OugSQ8OOKVa52pAUEOgiAAI0vBSAwOgmIJVKx40bx+rLa9eu7TUZuVz++uuvszZPPfUUjvPb3a/XGIZ2EATooXGDWUMgoIm8LXYQKA4li2cKJMuCGZP3DOxQYp/uTGA16IyK1iGEBFOAABAAAkAACAwDgV1JSIBmH1O9+RWg273WsEruqGjBwcHHam+1nJnFadCN+/4ujTooCXFt91lHaWScGQxGSoDGKcyzxM1ILx6sAC0oO27koa+neY29bK4zZAFacXInlpcmWec4pnbhIxvqNNEB8uMuko3zuoqg18+hFfDTBO8iQMCaCYAAbc2rC7mNBQIxMTFcdbNh7bNR7jk5OZxZXl6e0VmLfQoCtMUujfUFRt4Xix0EHUuCJCuuy7bGmJ5ghUhm5yR8f0ucnZMwu6rddIfgAQgAASAABICA2QmoccY5HrcXYN/4dmnQKrP2ZDAKWBZ/kpVxJeF7jE5Z+FPUvbpzN0JOhhZtf1vkYtuw50N1cTStU1p4/MMT3nAK0BpCVdSckVwXcbH4wILoT3uKxYMSoFtUolnh7xo62Z7+XUFzen5T6unCHfMiPzQ8dbZoV0+eQxagpdsWsxXQinMHerq11iOUuIWrfWYFaNne3kuprJUA5AUExiABEKDH4KJDylZFYO/evZyyrNVq+8qNpunnn3+etXR3d+/VrLi42NPTc+nSpRMmTJg9e/a2bdvKy8t7WtbW1go6vzIyMvR6fWtra1hY2Pbt2ydPnuzg4HDkyJG0tDS1Wt1zIndErVZfuXJl/fr1Dg4On3322dSpU7/77rtLly61txuLdCBAc9BgwDcB4m672EEgdYpim0GT903dNpAVoL87m23nJKxqlPMdP/gHAkAACAABIDAEAiTNuGejCuhJnT2g7QVYh8acTYGNQhIHOLMCrth/9PV7VeVd71afXWwNx83u07WVaX11BzaC0P9ThUKRkZHh7e199uzZoKCg9PR0haKXRl4EQSg6v/r6/R/HcdaAJLu3tdDpdOxB+odeB1qtNiMj49y5c8nJySqVyig2uVweExPj4eERERHR698FRvbDKUDXSMoNReGe40EJ0OkPYw09bEmdT9LdG3jkNCYZnl0ZP9kocb1eP2QBWuK0QHn1hGSdozY5qqdbaz1CiVvkBzdzDaAl6xwVJ12tNVnICwgAAZYACNDwSgACo5uAj48PJ0AHBAT0k0xaWtq1zq+CggIjM7lcPnv2bM6P4WDJkiXcb6jsrMDAQNZgwoQJ8fHxP/vZzwzt2fGvf/3rnJwco6uwT93c3H7+85/3nGJjY/P444/7+fkZzgIB2pAGjHklgN9uFjsINBHlklUhYgcB1dLLH3uDCkCpRT2g11zKt3MSltSO7q2KBpU4GAMBIAAEgMDoIjArANU+sz2gl4bjJM2nAO2/+QcBevPooqTX6/HGSkXa5aZjkw2lZ5GLbdPRSaLtb4lcbNuuriDaaoecV0tLy8qVK5955hmj35N/+tOfLlq0qKGhwdDzxYsXWbOvv/7a8Dg3PnPmDGuwePFi7uDixYvZg0KhsL6+/u9///sTTzzBXW78+PFffvllc3OzXq8vKiqys7N77LHHuLM2NjZ/+9vf+voNn73EwAXo9Iex4dXX2Icck3IRDnxgXgH6WtkxQ4k5pzHJMJTmD3YAACAASURBVBKGYeZEfsAZzI54j2aMuxUPXYDeOE/lf0GyzlETN2oaoxvCGdqYrL9vVAEtP7SZVpn66/fQgoFZQAAIDA8BEKCHhzNcBQjwRYCTaG1sbJ577rnz588PtviirKzsd7/7neEvl0bjBQsWGGrQnABtY2Mzfvx4I2Pu6ZNPPnn16lWjtA8fPswZ9Dp47LHHkpO7N4Dmsnv66aeNXMFTIGBGAlSzgqhqEzsItNF3xLO8xLO8yPqh/C1kGFK7XGfnJEy93fKvvck4SRmegjEQAAJAAAgAAcshsCOxswWHH5KhF4ZiFJ8CNNdJWRK+13IIDDwSrPaW7kFBw+4PDDXoRrfPG/Z+zB5pcH1PkXaFIQe94Uprayu3ZUuvvyS//vrrHR0dXKgDF6BnzZrFzeIEaDc3t5dffrnXC7377ruZmZnPPfdcr2d/8Ytf1NfXcw6NBv+fvfMAi+rM/v/E9La72cQt2c3/+W3JZlvMhphkYzbZJJoYW9RoxN57wQJKFVFBsSuKiqJDF6QJOFTpRRCpFhClDZ2ZO73cPv9cLnuZzCACw9DmzDMPz3vfe97znvdzbzJ3vp45b+8FaKeMZZyeWyerMvDTm8OBFaD3ZK3l4pkbZdWk+Mka29XN+medM1YYR2iKAK24cBixW6qODjR2O1p78OpK/fRnto3dKx6t64V1AQEgoNPpQICG2wAIjHgCEyZM0H9A/H//7/9t2LAhNjZW/yH1cYskSfK9995jh7/00kuenp5FRUVCoTA+Pn7ixImc261bt3Ie9AVoHo/31FNPbdmyRSAQ1NfXJycn79y5k1Oln3766QcPHnADKysrOYdWVlaenp5ZWVkSiaSystLV1ZXLsLCxseGGgADNoYCGWQlQUo3U4bpoDl/qyPwVLwkixT2VkelNMEXViJWd4FzigxkH0kRy8+7p1Jt4wAYIAAEgAASAQLcE0qrJyXx0qh86MxBdEIqihBkzoMVhjqxQ287f2G0ww7yTpkhSiTR6fMGsoqMkdMOef7f6LDMoD93mu4ZUdonFvVnUokWLuOfkb7755vjx43w+393dfdy4cVz/kiVLOFcmCtCsz1deeWXevHnHjh1zdXV96623uInYxksvvbR+/XovLy93d/fx48dzZ1etWsWFYdAYTAFahStO3XL2vLmdey+J/UxfJu5TCQ4ZiojULdxbP8FZom13zVqj7/nqfR+DhZtSgkNiv0Lhc0h2wBYtzLacXfjwqrsGArTEZR39v8owxnihBwgAgVFAAAToUXARYQmWTkAqlX7wwQfcQ6F+4y9/+cuqVavCw8Ol0u73FD5z5gxr/9prr1VWVuqjpGna3t6ePfviiy9yHvQF6Geffda47odAIHj55ZfZgQsWLOB8njt3ju3829/+ZlxjzsHBgT07fvx4bggI0BwKaJibACs9S3fHi+bymRIc7YZlEPsaAFuCwz2ifNnpXKHIVDm7r7ODPRAAAkAACACBXhLIqGEE6IWh6OyOJOgqsWFtgV766Y0ZJ0C3nLbujf0wtMFFteJQe1ZGbz42o+Xk9+JQe3mWX/OJWWwnU5HDcZzQ6V/SpFME8pO6GT0s5ze/+Q37JOzi4qJvRtP0unXr2FO/+c1vuFOmC9B/+MMf7t69yzlsbW19/fXX2Yl4PN5f//rX2tpa7iyGYV988QV79oMPPuD6DRqDKUAbTK3T6S6UHNCXifskQBt7u9l44+QtJ4f0pdbRH+m7XRgzQSivNrbvXwY0pZAhNtYS57XItoVofjrZ2mjseVT2YHeLDQVo+xW0Xr3yUblqWBQQsHACIEBb+A0Ayx8lBORy+cGDB998803uqdGg8cwzzyxdulQ/H1mn0+nvTOjr62vMgiAIKysr1tXp06dZA30BesuW7ncr5rZGHDNmTFVV56/qFi5cyLpycnIynuvq1avs2T/+8Y/cWRCgORTQMCsBGiUU3tlM7vOKK8i6q1InAU2Y+vWbpulPnRKPxtyz9btdZ7Kcbdblg3MgAASAABCwWAKtSvqmkBGg511Bp/mj3/qhD80qQIc6sCpti1dXXYgRB5+Qtbb7b+nUoE/MajoytdH9v9qa26IQO6bTxYopDH1wUuO+zySxnuo7KTTZtQ1gt4tta2vjHt0NNkTR6XRisZj7fWF9fT3rwUQB+qmnnioqKjIIxsbGhgvDuNZzZGQke/bVV181GMgdjiYB+lzxfn3dmW0vjf28vK2AW69+o38CNNnaiNhYyzx3IjbWhLD/BcT1IxkRbbQ4D9k630CDJpqEIyJ4CBIIAIH+EQABun/cYBQQGI4EcBy/fv36tm3b3n333aeeeop7guQaTz/99JEjR7jQq6ur2VPPP/88inZfIuD06dOszUcffcQO5AToMWPGPHr0iPOm30AQhEuCDg4OZk81NjZWdbyM9/KWSCRTp05lJwIBWp8ktAeNgNwzVTSHyX1WnMpE1oSZPu+deul/nBNPXq9YdjoXBGjTeYIHIAAEgAAQMAcBlKC3XmdqQM8IYGpAT/FDFagZS3C0+21iddtWn2XmWI7pPmkC740TedoFSYwHu5YGV6YktChohzztQpvvGrZTFLJTcs29wfUjcZgjWvuEyrYURT333HPsk/Cf/vSnrKwsgxiampqEQmFTUxPXb6IAPXXqVM4V1+Ae+3/3u99xnVyjrKyMjfCll17iOg0ao16A/iHqA+8iN5zspsZ3PwVoRITYWCsDzyA21prESAOeo/iQkkmYvG8ba/030dCVdD+K1w5LAwIWSwAEaIu99LDwUU5AKpUmJia6uLi8++677MMi99ff359dfGxsLNv5wgsvzHzM6x//+Adr88Ybb7CjOAH6z3/+cw8Q//Of/7AD3dzcjM20Wm1+fj6fz9+1a9e333776quvcuGBAG2MC3oGgYD84A1WgJZsixYvDzF9RrECXXc+3y/t0YozeVCCw3Se4AEIAAEgAATMQQAnadcUfDIfne7PZEBbX0GV5hSgxWFOnfrsFXusqcIcK+qHT1ItpbRKmiJpmiZVzC7EFMrUzqIJnFSKu5WkCaSB2XvQ7RN2OU1Hpja4TZBn+XEKu9BxXPPxmXjro7ZL69ourKDJJ+ja8+bN4x6GeTzee++95+jomJCQwBXBM1iXiQL07t27DRzqdDo/Pz82hi+//NL4LJe50lcBmqRJRNNu8N6VtojLLy5vKzA4i5HdZ8YYR6XfM7AlOLrNgGZj3pu9Xn9ett0/AZrSqJGt8zXx4YwMHXTW2O1o7cHKbzGp3wdt5cddWA1a4rj6ib8VGK00YF1AwEIIgABtIRcalmnRBB48eDBp0iTuofall14iOgpseXp6cp1PbIwZM4YkSZ1OxwnQX331VQ9YucfoxYsXc2Y4jvP5/E8//ZTL8jCeFwRoDhc0BpOA6kpxpwBtG4OsD6cU/fnmYxDwFt9bDoHFU91TGxG1wSk4BAJAAAgAASAwTAjsTGAyoCfz0fmh6PdBA/Dx18O6Ws8v5RKEFXlXerActFOaiowWr3ntATZNnt+0ei9sv7y+yfObhr2fNrr/t+3CiibPb5oOTRYF7RCF2MmSz4gCt4qCtquKYxW5wUj0vhbvhexy2L8tp+bqHwodx7Wctha6fCCJOUBhT3gSEIlE3333nfGD8ZgxYz788EM3N7f29nZ9JiYK0B4eHvre2DYnQH/77bfGZ/stQDcrhZzW3MtG2P3zxgE8sWdgBWgNoUY07Y8k9xOqw1YLvjaI/GbjDYN4+idA63Q6xMZaFXIesbFWRwUY+BzFh1h5IVP82n6F7JgzK0BL3beP4vXC0oAAENDpdCBAw20ABEYwARzHQ0NDgzteON5TYgVN02vWrOEeam/fvq3T6Tw8PLie3jTa2tr0Beivv/66B3ZLlixhfc6dO5c1QxDk73//u8FEb7zxxoQJE9asWWNnZ8eeAgG6B6pwynwE1FHlrACtvHgTWXeVqEVMnEusQD/YKVh4IvuDnYJmicZEbzAcCAABIAAEgICZCBzJYjKgJ/PROcHMGyPMWIKj+diMTq32zHxSaepHrelAKI1ckRfS6rNMFLKTkY+d3290/6Lp4CSh8/tCF6sG148aXD9qPDCxQ0qeJ0/3Vd+9IQ5zVOQGS5O8Ws8uag/Y2ujxpYHo/JNDlw8k1w/jot4WFvD39//ss8+4is/6j80vv/yyj48Pt+TRLUD7lx/nVtr7hikCNEHh+P/eJM3k3Oi/JFrRyusT9TXo4wX2+gY6nc4UAVqTFMWU4IgPN/A5ig+J+keMAO20hqsELXXbTNR2bh00ihcOSwMClkwABGhLvvqw9hFPgNujj8fj5efn97wernAbj8djdxTk9hJ555132nvxoihmWzYuA/qdd97pYcaJEyeyD807d+5kzbgeHo+3YMGCuLg4/R8V5uXlgQDdA084ZW4C8qPprACNrAkTzeETdcwvcE155VS0WdkJFp3MsbIDAdoUkDAWCAABIAAEzEvgZG6nAL0qEvs+GK1GTN2Gt4dwm45MZfXZNv4GmuimkG4PY81xisZRVYmg3W+zJPZg89EZ7fwNTZ5ft11cJQ61V99JkaWcladdUN4MlSaeIpAGTUUGIW2mMA2No7i4QZF3RRzm+BO52XEcd9iw5+P2ABttVW63FTx6XotEIrl69eqWLVvef/99/W1dnnrqqWvXrrFjnyhAHzp0iH20/uGHrv0eV65cyXYO8wzoQRaga6QV86I/5PRl76Ju6geeuOXIGcyNsrJLXWBwEfsvQO9YjD+4wwjQCZYkQDfWyU/sRrbOl7puZDOg5cd344/uG1CFQyAABEYTARCgR9PVhLVYIoGxY8eyz5EnTpzoef1KpZK15PF47ENnRUUF2/Pqq6+y4rKxB4IgRB0vtbrzl4OcAP3ss8+2trYaD9HpdFqt9pe//CXrnE3WQBCEm/3QoUPGo1JSUlgDyIA2hgM9g0AA2RTRKUBvjhTN4WOlXfv89G/2B01yKzvB+J0CKztBeb20f05gFBAAAkAACAABcxPYHNtZguO7QCYPurzFjAJ0u99mVqJtPv6d6nanlmruBfbgX3krErnm3uA2gUlzdvpXO39D69nFSIQrEr1PEueJRLhKE46Lw5zEoQ6iwG1SwTFRsK0s5awiJ5BQiGTJZ4S7x3OKs36jyfNrdXkypVX2MHUvT92/f3/NmjWcDD1z5kx24BMF6NWrV7OP1kMuQLerm7ckzzJ4L7j2b07PXRQzweBs9AN+L/nom/U7A7pBXsMFMzfKamfqQn23bNuv/Ji+za60RQY2/ROgaYpCti3Eym6prl7S5qQY+BzFh4SwRn56n8R+pWT3BlaAlh1zpjRPqFQzioHA0oCAJRAAAdoSrjKscTQTmDp1Kvtw+c477+gnFBuvOTExkZOAAwMDdTodjuMvvvgi28ntTGgw0MvLizWYPHkye4oToHk8nouLi4E9exgYGMjNlZ2drdPpkpKSuB4E6eYXly4uLqwBCNDdIoVOsxKgaVrumcoK0AqvLEaALm82ccaHLQorO4F3QqWVneCuEARoE3HCcCAABIAAEDAXAfvETgF6URgjQJc2m1GAbjr0badQ6/KBInvoK97SFKW8Fdl8/DtxmGPz0RmayqweKHMp26RCLAqxY9Vnplq0xxf66nPbxVV466Me/BifioqK+rrj1e3e3TqdztbWln1O/vWvf80O9/f3Z3u++OILY4c0TXMbiQ+5AG0c3o9fQ5wylnF6bp1sYAov9EaArkLu3BcVcW+RukWn0xEUbh39ERfP3Cir+6Ii/bBJirC9Ya1vcKHkgL5Bv0twUHKp1HUjXlGmuHRM4XvUwOcoPkQLs+Wn3JgqHM5rOwXow4ZVTUbx8mFpQMAyCYAAbZnXHVY9eggcPnyYE3a/+uorjab7UrNtbW3vvfcea/nss882N3eKa7t27WI733rrrdpaw/p0Uqn07bffZg3OnDnDUtMXoH/2s5+x+rI+0Lq6uj/84Q/sqPHjx7Onrl27xvbweDy2lrT+kJKSkhdeeIGLhDvF1Rh54YUXuE5oAAFzEFAF3+4UoE9nMwJ0cYOJs1Q2MhnQ7XLtJw4JbTKtid5gOBAAAkAACAABMxHgFxFsDejlER0Z0K1mFKCZ2soddSoaPb7sfWVkMy2cdSvP5Asdx0kTTrQH2KjLEnozl6o0nqkTrVdwg2uLw5wYQVPW/W8EH+c8IyODfQx+9dVXu32YP3LkCGvw17/+lXWSmprK9vzyl780HhIQEMCe5fF4IEDrY1+fMFVfR+ZKObP5y9yp9QlTa6QV7EAtoTlbtJc7xTbS6+P03fZbgKa1GonzWnV0gOywvdxrr4HPUXxINAuRbQtY6bnz747FeM2DUbxkWBoQAAIgQMM9AARGNgGCIPRrK48dO3b//v3V1dUEQbALa2pqOnny5B//+EfuMZQryvzjo5JUKn3ttdfYU7/4xS8uXbrU0MDobjRNp6enf/DBB+ypF198kdt6W1+A5vF4zz///IkTJx48YB4X2tvbIyMjf//733NzxcfHs2EIhUKu86uvvnr0iEkMoSjqxw213dzcuERsHo/34osvSiSd5XdBgB7Zd+eIil4VXMQK0BK7GKYGdL2pNaDZEhzRBUIrO0FpraneRhRLCBYIAAEgAARGEoGgkk4Beoqf2TOguU0Imw5OUhUbSniDT40mMHnGpeYTs6RJp1pOz1MWRj0xBkqrbNz3H05x1m+0nl1MaRVP9GBsoNVqn3/+efZR+euvvxaLxfo2VVVVf/rTn9iz69evZ09xD8k8Hm/t2rX6u5H7+vq+/PLL3IM3CND6MA0E6MP5tuzZpOpwA4l5XvSHdqkL9uVsXHn9K4NTi2M+FWuYvdn1X/0swUHTEqc1muRoZcBpZch5WmspNSiIJqHi4hF9AVqyaznZZmoFPP0rAm0gAASGGwEQoIfbFYF4gECfCSAIwj2Vcs+azzzzzG9/+9uXXnqJ62EbGzZsMJggMDDwueee0zf7xS9+wT0E83i8MWPGREV1PY4bCNDcQP0nXbZz+fLl+nNZWVlxxk899dTYsWO5rGcej/e73/2OO8vj8RwcHHQ6HfdsDRnQ+iShbQ4C6vBSVoBm/2JFpmZAV3XUgA7KrPlwV3xFo8wcMYNPIAAEgAAQAAKmEzhf0ClA28QxtTjSq0nTfXbrgSZwocsHrGLbeGCiJP44gZj6advtRL3vJCRNyluRLafmSOIOCZ2tNA9ynjhWluKtLzqz7aaDk0RBO0h1/z/uN23axD0JP/fcc1OmTNmwYcPGjRu//PJL7kF9zJgxN27c4CKcNm0aN+Ttt99etmzZnDlz/vznP3OdbAMEaI6YTqd7nABN0/SerLUGQvPjDvMbU/V9su3+C9COqxU+h2QHbWVHHCxHgaVJQnHhiOywvdRtc6cMvXMZ/hA2ITS+s6AHCIweAiBAj55rCSuxZALNzc1bt27VzyM2ePTk8Xivv/763r17f3y6MgZ1+/Zt46dV1sPYsWP9/Pz0h3AC9Jdffnn48GF9qZqb9LnnnvP29tYfpdPp6urq3nzzTc5GvzF9+nSxWDx9+nSuc9u2bSBAGwCEQ7MSUF7KZ6VnpU+eaA4fza42cboHTfJPHBJmHEhbdz6/rn0AtiEyMR4YDgSAABAAAkCgWwJ7bmBs7vOMACYD2nwCNNZc2Xx0OqvYtgfYKPJDabLzF3vdBjY4neqyRCRyD1ucWlXa+dO9x01Nytvb/Ta3nLY20KBbzyygcfRxo3rTT5LkjBkzuCdh48bTTz8dHBys76qkpITb9NvA/re//e2ZM2fYThCg9aE9ToD+UZtuVTUaFOLoVoAOr7ig75Br90+AZn6QuncLejtXumeTKtKP/t9vWDm3o7ihuHQcsV3CvG2s2TellI/i9cLSgAAQAAEa7gEgMHoI/Fhbec+ePd99990///lPNh/5Zz/72T//+c/p06f7+/trtT1VoVUoFCEhIbt27Zo8ebKVldX48eOtra2PHz+uUqkMAOkL0DqdrqamxtXV9fPPP3+/47VixQpvb+/KykqDUeyhRqM5e/bsjBkzxo0bN378+GnTpjk5OV271rkHellZ2dKlS//4xz9Onz49NjZWp9NJJJJdHS8nJ6agHryAgPkIyNyT9UtwaDP7tn2QcWBSFfaxfcKy07nzjmUVVXez8abxEOgBAkAACAABIDD4BLzz8Wn+jPS8pSMDOrPWXBnQaH1p06HJrHTbcsZaW5U3+IvtdkZ5Jr/df0vzkWma++ndGnCd4nAX2Y1zTZ7f6AvQjR5fosIyzqbfDZIko6Ojv/rqq2effVZfUH7jjTc2bNhQWFho7LmpqWn27NnczxCfeeaZ8ePHb9u2ra2traio6M8dry1btnAD9+7dy3by+Xyuk2vEx8ezZzdt2sR1cg2hUMiefffdd7lOg0Zi9dW5UVbGG/QZmP1Y7s81azUn7zYqDPehMbbvTc/FkoOcz7lRVt0qxZuTZurbcCU4WP8EhcdU+S+O+VTfhmu7526ukXb/HaffNaApGYLYWKsi/SQu65SXT9AkMRz+VaY3tE23UQadlTislHrsYNVnieNqSg0ZG6ZzBQ9AYPgSAAF6+F4biAwImEjAeEMSEx2yww0E6AHxCU6AwJATUF7Ik+6KFc3hixcHMRnQOTUmhkRR9LbLhT7JVVZ2gtyKdhO9wXAgAASAABAAAmYicCgTn8xnBOjZQczf3HpzCdA0jjafmM1Ktw2uH7Vf7ixnbKZ19dItpVU0H5/Zfnl989EZmsqsHkahwvKmQ9+Kr+zi1Gep4ChaX0ppBjhtk6KolpaW4uLiyspKmezJZT0oiqqsrCwqKlKrh7iCcO8F6HZ18wOk7AFSVoXc6YF5n05JtCLWJ/vXuEyzTqdrVtbr2zQp6oynUGGK+6KilJpIftlR79t7wisu5jUmN8if8GTYvwxoGsMku5YrQ87LT+2R7t+KlRdScqlxSKOyRxXmKzvmLHXf3pkBbbsEK8kflSuFRQEBIMASAAEa7gQgAAT6RgAE6L7xAusRQkDld0u8LFg0h684lcUI0AXdfCHp61JOXa/IvNdqZSfIuNva17FgDwSAABAAAkBgEAigBH0su1OAZmXolIfmEqA7SnDM6BSg9/y7wW0ChWkGYY09T0EgDULHcaqS6w2uH2uru8kyZofTNN16dhEnPTe4fYJEuJJqS9EKe2bIne29AM0NGTWNfgrQBCFxWKn0OyVxXC1xXI3duU0ilpK1oAw+i9gukR20Q2yspe7bkO0LSYlo1NwPsBAgAASMCYAAbcwEeoAAEOiJAAjQPdGBcyOWgPxEhn4JDqxQaPpSvBMq7QOLv3RNvieEL6im4wQPQAAIAAEgMPAE5FraPpHZe3AyH10UxvyNumeuusx468OGff/hNFyh4zi0rmTgl9RHj7ioTug4rs13tdBxnLb61uNGK29Ht55drLp9TejyQev5ZXh7LVpb/Dhji+0HAfqJidIG9wbZ0iA/vpuoe4jYWCt8DhmcHd2H6ugArvqzxGElYreU1g5xCv/oBg6rAwJDTgAE6CG/BBAAEBhhBECAHmEXDMLtHQGFdw4rQLN/0YL63o3ryeq0oPITh4RFJ7JLayU92cE5IAAEgAAQAAJDRECLMxnQ3/ox0vMOAaNExz8wVwY0Lq5HovfpC9ADXryiHxQpXNvqvajt0tqmI1OxpvvdeqC0ikb3/2qrciWxB5HIPQTS0K0ZdIIA3VcBmpJJ5Gf2q0IvSD12KM4esKhbSBlyHrFbyrxtrKV7NiHbF5GtjRZFABYLBCyNAAjQlnbFYb1AwFQCIECbShDGDz8ClAJVeDGVN7i39sYDE8Msr5e6hJRY2QmgBrSJJGE4EAACQAAImJXAoUx8escmhEvDGRk68q65MqDVd1KaDk/VF6AJabNZl9Yb56QSaXT/ryTWUxS0A23ovh6x4mZoO38jIWnUVuViTRUU3tPO3r2ZdLTagADdVwH6x90LpXu3oDfTZYftFec9R+uN0e261NEBivOesmPOiI21/NQeidMa2ISwW1DQCQRGDQEQoEfNpYSFAIFBIiAQCP7a8Vq2bNkgTQnTAAEzE6BkWtn+ZFZ9RtZdFc3ha2LvmjhnYEa1je+tj+zjrewEmfegBrSJOGE4EAACQAAImIUARtDLI9ApHRnQKyIYATqg2FwCNFpb1Lj/c30BGm+rNsuq+uKUVIqFTv+SJpxoPjYDb681HkoTePOxGWhtEXuKpsyVIW489YjrAQG6HwI0YrtEGXAasbGWHXUacVfclICJ2irJ7vWyg7aIjbUy6CyyYzGJQA1oU4jCWCAw3AmAAD3crxDEBwSAABAAAuYmQCm0MtcEVoBmi0Gj+SZtQogTlG/KQ/eI8oORd6zsBFn328y9BPAPBIAAEAACQKB/BFZEdNaA3hjDNOIqzCWwah/eFLp8oC9AY82V/Yt5AEcR0mahs1XT4SlCx3Hq8mQDzzSBIRGuDXv+TZM4LqqjSXOp8wbzjtBDEKD7KkDTNC3z3KmODWEEaM+dI/S69y9sZcBpif1Kif1KxMZam50kcVlHqZT9cwWjgAAQGBEEQIAeEZcJggQCQAAIAAHzElCHl7K5z/IDKaZnQDeI1WcSKpeeyjl1vcLKTlBSg5g3evAOBIAAEAACQKBfBHCSXnyVSXyezEfZQhxRZivBgTXea9j7qb4A/biSF/1aSj8HMZsQunzAKuPGmyKqy5OFjuMksZZVG6GfKHU6EKD7LECThCrSD72VyQjQB2xpiuo3/BE3UB1/VWK/UunvhdhYo4XZEsfVpAQyoEfcZYSAgUAfCIAA3QdYYAoEgAAQAAKjlYD8aDqyIVw0hy91iGME6Ov3TFlps0QTmFE9zSPNL+2RlZ2gtg0SOkzBCWOBABAAAkDAjASck3FWgGb/mm8TQqy50jADusHUglemc0GF5Yws7vx+g9snirwrBjnONI4SkibTZ7EQDyBAbYbeUQAAIABJREFU91mAxlBk+yJtRrzsmLPS7xQparGQW0Wn02kSI+Un98hP7GYFaOneLapIP8tZPqwUCFggARCgLfCiw5KBABAAAkDgJwRoDS7ZcU28IkQ0hy/ZEiWaw1ddKf6JRR8PmhB1XGHDKu+8Ax0lOLKhBEcfAYI5EAACQAAIDBqBk7n490GdSdCT+WjCA3OV4FAVxeinPwsdx2FN9wdtmY+bCGuqaDrSuTWitrrwcWbQ3xsCIED3VYCmpAiycxlWki8/7qL097KoFGBNapzsgK2SfxLZvhArvyU75oxXlPXmNgMbIAAERigBEKBH6IWDsIEAEAACQGDACNAUzaY/i+bwZW6JTAZ0kklVKTUYGZRZs/bczQvJVVPdU9PuWFA+y4BdFXAEBIAAEAACg0IgrJzQz4AubzVXEQD13RstXj/oa9BYS9WgLLGnSbTVhY0eX7BRKXICezKFc08iAAJ0XwVoGkORrfPVcaHSPZvkZ/bTGPYkxqPnvDbtuuygnfz0PmT7Qpokpe7baa169CwPVgIEgIARARCgjZBABxAAAkAACFgYAUaAXh3KbkIo2cpkQJtYgkOn03lG3V10IvtMQuWmiwWQAW1hNxQsFwgAASAwkgjsSsBWRqJT/TqToINLzbXPHtZ4r+ngJH0BmkAahpwU2nBH6GzFRqUqjhvyeEZ0AKwAvTTuc5vk7y3tPT/6o7lRVn0VoCmFDLGx1iRFyY/vVgafHdFXv6/BY6UFiN1SxMYa2bYQr7qrDDzTVw9gDwSAwMgiAAL0yLpeEC0QAAJAAAgMPAEaI5A1YawALVoYOFACtJWdICiz5pu9NxJLoHzkwF818AgEgAAQAAIDQuBkLr4orEuADioxlwCtuZ8u3D1eX4AmVZIBWYIpTtRlCc3HZ7KBaavyaBI3xZuFj2UF6LlRVhb77qsArdPpJE5rNImRsiMOqih/i7p/0OI8xMZa4rgasbHGSm5K99nQBPzXZ1G3ACzW4giAAG1xlxwWDASAABAAAsYEpM6CTgF6Dp8RoBMrjG361HPqeoWVneB8UtVMz/Tk0uY+jQVjIAAEgAAQAAKDRuBIVucmhJtiscl81HwCNCEWNh6Y+BMBWt4+aMvsdiKaJJqPf9d8/LuWk98LHccRstZuzaCzlwRUmKJRUWPJb5zqm4RKUxSybaFk9wbZEQca1faS8+gwwx9VMNnfCeGI3VLFhSNK/kmi/tHoWBqsAggAgW4JgADdLRboBALDnYBIJJo7d+7sjldeXt7jwvXz82NtZs+eXVj42G1VwsPDWbO5c+fSNK3T6Q4fPsz25OfnP855t/3Ozs7swB6iMhjo6OjYv7kM/MAhEDCFgGxfkr4Arc14aIo3nU53Mu6+lZ3gYsrDM/GVBQ9FJnqD4UAACAABIAAEzETghxB0ZiBTf8P6CvM3rdpcmxASstYWr3n6AjTWVmOmRfXSLY2jTDzOVk2Hpwgdx6lKrvdyIJgBgQEhQKNapgaFjbX8uMuAOBxBTkhRC7JtgTo2RLpno9R9m/LyCaKhdgTFD6ECASDQVwIgQPeVGNgDgWFBQK1WP/fcc7yOl4ODw+Ni+uSTT1gbHo/n6Oj4OLOZM2eyZuPHj2dtuIFRUVGPG9Vt/2effca6Cg8P1zdISUkJ63g1Nxumgk6YMIEdEhkZqT8E2kBgMAkoffKQTRGcBq29Yeq2SIEZ1VZ2gt1XStf75N8TSgdzLTAXEAACQAAIAIHeE1gRgS0K6ywAPZmPBhSbqwSHJO6QgQBNokO85xghFrKCeNOhyULHcZI4z95zA0sgYDoBZhPCHYtlnjstUICm5FKm+EZ5IWJjrQw5rzh/kKg19fHb9CsCHoAAEDAfARCgzccWPAMB8xLgpN5PP/2025lkMtnTTz/NCdAffvhht2Y0Tf/yl79kzTiResAF6A8//JCdIi7OcHcXEKC7vS7QOcgE1NHlonl+nACN3zP1R7h+6dVLTuU4BhV/bJ9QVI0M8nJgOiAABIAAEAACvSQwIwBdf40pvsG+D2b0rYZAL2fR6XSq0viGPR93ZUA7W1FaZe+Hm8OSkLWy+yI2enwhdBwnCtxmjlnAJxB4HAGaphHbxdj9UonjaqJJ+DizUdmPV1dKHFaieanI1vlSjx0Sl/XozfRRuVJYFBAAAiwBEKDhTgACI5XAnj17WEn3+eefR1HUeBnR0dGc+szj8caMGSORdLPTS3l5OWeWmprK+gEB2pgn9IxuAspL+SJrf06A1maYWoTOL7167bmbl1IfTvNIK63t5j+90c0TVgcEgAAQAAIjhcCcYHRGQFcG9PEccwnQshvnWs8v6xKgHcdRQ50BTSqRxv2fN7hNaPH6Qeg4Tltze6RcNYhzdBBgakDbLVVF8JGt89F8y5JfSaRd4rIef3gfsbGWHXNGts4n6kytgDc67gpYBRAYrQRAgB6tVxbWNfoJZGZmcsJxdna28YI3btzIGbCNiIgIY7MzZ86wZ1988UVOyCZJkuh4sSWhjUc9rofLyzYowQEZ0I8jBv3DhIDU4brcM1W0MJDVoNURpf0OjKbptDstwVk1H9snuISUfOmaXN2q6Lc3GAgEgAAQAAJAwKwEpgd01oBmM6C98swlQKvLElt99ARop/cofIh3XdNUZAodxzXu/1wqOCZ0ttJW36JJc1UgMetFBOcjlAClkEkcVsqOOiE21tp0wQhdRf/CRovzZMec1deCmBLYJ3Yj2xfCJoT9IwmjgMBIIQAC9Ei5UhAnEDAkgKLoiy++yGrHBw4cMDyt0/3lL39hz86dO5dtrF+/3tjshx9+YM9+8803xmf72gMCdF+Jgf0wISA/mi6xjekSoMP7L0BTFO2fXu0QWGxlJzgee3/K/lSpChsmy4QwgAAQAAJAAAgYEFh8FV0e0ZUBvS/VXAI0TRJtvmu6MqCd/kVTlEEwg3xIIA0NbhOEu8e3nPxe6DgOidzT19yLQQ4YphtlBGiCkB2y1yRFIjuXadMsaw9MSi6VHXNWnPfszIDevhB/dH+UXV9YDhAAAvoEQIDWpwFtIDDCCEyaNInVjqdOnWoQel1dHXvqz3/+c0pKCtc2MNPpdL/+9a/Zs0eOHOHOpqWl8Tte7e3tXCfXkMlkSUlJ7u7uM2fOnDRp0vLlywMDA1UqlU6nMxCgc3NzWT9/+MMf2FnWrVvH9pSUlLAODWpAFxUVOTk5zZo16/PPP//+++89PDzKy8u5qaEBBMxEQBVa3Fl/oyMJWh1RZspE0QXC9T75X7omR96sPxh5pwxKcJhCE8YCASAABICAOQnMCEDnBHcJ0DsTzPWPpqRa1nRkapcA7TiOVA7xHgkUpm7Y/WHr2UVsVLLkM+YkDb6BgCEBGkOlrhs1qbFSt83azATD06P6mMYx2SF7ZcBpZhPCyyfkp9w0SVGjesWwOCBg6QRAgLb0OwDWP6IJeHh4sKruL37xC+qnKSS+vr7sqU2bNmm1Wi5Xuq6uTn/JlZWVrBmPx+MUYZ1O10MN6ISEBG7TQm4sj8d78803Y2JiDATo1atX69vot9etW8dGwgnQAQEBS5Ys0bdh288+++yBAwcMFqi/CmgDAdMJyPYmin5gNiGUH7whmsNXX+38B5J+e76QXLXxQsHy07mrvPNCc2r77QcGAgEgAASAABAwK4Gt1zGbuK5NCA+YbRNCafyxpsNT9AVoCu9mFxOzLtbAueZBjtDlg5bT1p0CdKqPgQEcAgGzEqBJUmK/Aq8sl7puVMeGmHWu4eacFLUwhUdyUhAba6YK9vaF6pjg4RYkxAMEgMAAEgABegBhgisgMNgEbt68ycm1ZWU/Sdi0trZmT8XExOh0um+++YY99PX11Y/ywoULbP/YsWP1f3L4OAHaw8NjzJgx3KQGjWefffaFF15gO9ka0H0SoF9//XUDh/qHgYGB+pFDGwgMIAGapsWLg5C1YaI5fPGSYNEcPpprqmR8OfXRTM/0mZ7p849nCUXM7wPgBQSAABAAAkBguBEgKPpcAbEgtCsD+li2uUpwYI33W87M1xegh5yGqjhW6DhOFGLHRiVNODHkIUEAFkWApijJ7vWI3VLExhq9mWZRayeENczWiwWZiI21OjoQsV1iadswWtTlhsUCAZ1OBwI03AZAYAQTIAji1VdfZVVab29vbiU0Tb/xxhs8Hu/ZZ59VKJjdz44ePcqazZ8/nzPT6XSLFi3qtr9bAVpf737llVfc3d2zsrLq6uqio6ONhWZWgM7KyrrQ8fq///s/dqLNmzezPdzGiVwGNGvw73//Oyoq6uHDh/X19efOnfv5z3/O9r/zzjv6Ern+KqANBEwnIF4VKrGJ6qzCMYevTa40xadCg2fdb1t8MmfrpcI1Z28WVQ/xT4xNWQuMBQJAAAgAgdFNYIcAW3K1S4A+aLYMaO2jfCYD2uk9ToMecrDKggihs1XzidlsSMr8q0MeEgRgUQRomkZsF0s9diA7FlNKuWWtnSBY2Z3JgA6/zOSAQwa0Rd0BsFjLIwACtOVdc1jx6CIwdepUVp9dsGABt7KioiK28/PPP2c7y8rK2J5f/epX+jLuW2+9xfYbZEZ3K0BzJadfe+21/Px8bjq2cenSpWeeeYb1xuPxWAGas/nwww/ZU3FxcVwn29AXoFetWkUQP9l8PDo6mvPZ3NxsMBYOgcBAEUDWhomXMrnP7Fvpa3iH92mimjalb8rD6R5pzsElk/fdyLzX2qfhYAwEgAAQAAJAYHAI4CR9MAPfl4pP5ndq0BtizFUDGq0va/Ve2Oj+X06ApnDt4CzzcbPIs/hCp/daTs0ROo5rPDBRltKVz/G4IdAPBAaQAE3TEue1ssP2iO1irLxwAD2PCFfIjsVKv1OIjbXEeS0jRt/OHRFhQ5BAAAj0jwAI0P3jBqOAwHAhcOTIEVaffeutt7iYPD092U53d3e2k6bp3/zmN2xnaWkp21lbW8tpu/X19dzwbmtAFxYWcsZnz57VN+ba+nnQ/RCgx44dK5d38y//r732Gjv1rVu3uLmgAQQGloDoBz+ZawInQMuPpZviv12uPRl3f6Zn+sm4+4tO5ly/3WiKNxgLBIAAEAACQMBMBGiaPpmLzwvpyoDem2quEhyosFyeflHo+L8MaKf3acJcc/USlyInqEN6/orVxGXJp3s5EMyAwEARYLYfTBfIPHfiNQ8GyueI8EO2NSHbF8kO7UJsrKVumxkBOj9jREQOQQIBINA/AiBA948bjAICw4UAl+zM4/G4DQYnTpxorNguXryY7Tx69CgbvZ+fH9vz9ttvG6zHOAP64sWLrPErr7zClvUwGKLT6SoqKp566inWrB8C9JYtW4x96nQ6Kysr1qdAIOjWADqBgOkExIuDxMtDOAFacSbbRJ+JJU3LTuc6h5QsO51b+EhsojcYDgSAABAAAkDAHARoml4a3qU+T+aju1PMJQpjTfelCSeELh90ZkC7fICLf5IAYY4F9uxTmuQldBzHbUIovrJL/5eCPY+Fs0BgQAhI99qgeanI9oXorcwBcThSnNCoFtk6H7GxZgTofTbMhoRZSSMleIgTCACBfhAAAbof0GAIEBhGBCiK4hKEg4KCdDqdRqN5/vnneTze66+/TlEUF2tAQAAr43777bds58qVK9mejRs3cmZsw1iAtre3Z40nTpxoYKx/yNX06IcAffp091kn48ePZ6e+fv26/lzQBgIDSEC//oZoDl8VaOqvIAMyqt3CylaeyfvuYHpprWQAQwVXQAAIAAEgAAQGigBB0TsE2MYYjCvB4ZBorhIcNEkw9Tec/sUK0A17PiYkQ/wLIck1d06Abjo8BbnW+dvBgcILfoDAEwnIDthqc1MY+TUz4YnGvTSgKYqmaRrV0j+tbUgTBK3VUEo5TVGUUk4iIhIRUXIp025rIuofkS0NRN1D7G4x0SwkaquIxjpS1MJ0Cmvwqrt4ZTleUUopZGhRrjZdgBZkojfTNDdi1HGh2swE9GaaNjtJdfWSJjlak3JNkxCujgtVxwSpowPV0QHqmGBlwGlV6AX2rUmK0sSHs7svMhr0jsXMVoQCKMLeyysMZkBgRBIAAXpEXjYIGgjoE5g1axarz65fv/7H6hlJSUnsobW1tb5Zc3Mz2//SSy9hGPPV4k9/+hPbExUVpW/ZbQmOuXPnssbLli0zMNY//M9//sOa9UOAjoyM1HfFtUGA5lBAw0wEaJoW/eCHbAjvyoA+aWoSysm4+wtPZG+7XLj23M2CKpGZIge3QGDkEqBpiia0NEWO3CVA5EBgdBA4lInvTOgSoO3izSVA63Q6JHpfo8eXnRnQzu8PebqxNP6Y0HEctwlh69lFo+OawipGEAHJ7g1oXqrEcTV25zYXNtFQSyLM0yONarH7JWR7C00SNEXhFWVEbRXZ0qCOu6IM8lb6nVRcOKy4eER21Em610bmuRO9laXwPSY/sx+xWyrZvUF2yF7hc0hx6Rhjc9AO2bkM2b6IE3zZ7OMn/pXsWo7YLuky+1/acldPRxZzD4cSl3VMSD8dKPPcKT/pKjvqyA1UhflyBKABBIDA6CMAAvTou6awIosj4OXlxWq+//jHP3Q6nZ2dHXt4+fJlAxbvvvsueyojI6OxsZFtP/3001Kp1MDSOAP6+++/Z+2XLFliYKx/+NVXX7Fm5hCgjTcw1J8a2kDAFALIpgjJ1ihOgJYfSTPFm06nC8+rW3Emz9bv9jSPtHtCw//ETHQOw0cWAZrq2luVFFcxb5mQ0iA0ruYWQimaiYYCvPoG0XYXr8umlC00ocUqYtGSAOxRMl6ThtekMQNFFVhFLF59A6/PIZpLaFROtJTh1anaEj9tMR8tv0K0lGiL/dSZB7QFZ9HyK5q8E0x/ib/mppdKYKNK2qlO36/JPqTJOaLJPqzJPKhO36dO3a1K2qlKtNNkH9bmn9HeOqe+4aK6vlmVsF2dukd76zzrUBW/TRm5THFlriJktjJukyphhzJuozJ6pSJ8kSJsnjx4ljxwujxgitz/G7nf18ybP4n56z+Z6Qz+TnHle0WYtTJymfLaGpVgiyrJXh48S+bzsUqwlWi7w66do0FKarD70cq4jZRWxnUO/waI6cP/GkGE3RK4cIs4ntO5CeHMQHS7wIwCtKYis2HvhIY9HzMatItVt/EMZqcsxbtTDXcc17DnY3Go/WDODnMBAZ1OJ3FeixbnITsWS5zXdojFxyUu6xlZ2feoNjNBfnqf6ooPI9R67pQdcVRF8BW+R5UBp+Xe7mzWMKfecg2Jy3rm7bia6dk6X+a5U3H+oOygrTL4rMR+heLCYWXwOen+bRKXdcqA05Jdy5X8kxL7lUwdjD2blH6n5KfcpB475F57pXs2cj65htRts8xzJ3fYh8a2hU80VscEwy0BBIDAKCYAAvQovriwNEshcOfOHVbzfeqppxAEee+999jDxkbDXzXu2LGDPeXi4hISEsK2P/74Y2NSxgL0rl27WPuvv/7a2J7refvtt1kzEKA5JtAY/gTYDGjRD36cAC3bY+qvIGVqbFdA0eXUR1svFd6pBwF6+N8FAxwhKRNqco4qQn+Q8ycpIpfi1alESxlNEURLKXo3XHPTS3bpv0RTES7M0+QeZ7TgLE9tgbcm+5AydgMz5MpceeA0mc/Hcv4k5bU1ivBFMp+PR+H7wgSZz7/VmQfwmnQaU3HXgCZQ47xIouk2eieUprtKS3H2w6RBiiqHSSQQBhDoE4G9qfjBjE4Beksctu26GQVo8ZVdQqf3OqtwOL/fpzjNYSzP5HMCdKPHF4psf3PMMjx9anCaC6xFQeNk1yHXD41BICA7aKu64oPYMjUoevOWum6UeuyQHXFUXj7Bqsyyg3bSvVsQG2vZoV2K854Sx9WqkPPqmCC5117ZYXuDvOPeTDFUNprE7n8OOwhXAaYAAkBgEAiAAD0IkGEKIGBeAjRN/+pXv2JlX19fX3YbwL///e/GsyYmJrJm//73v9evX8+2nZ2djS2NBWhuE8KxY8eiKGo8RKfTNTc3P/PMMyBAdwsHOoc5AfGqUMmWrgxo2YEUEwNOKG7yiLhzNOae65XSmFsNJnqD4SOOAHY/WnF1vtzva1WSvbbgLHY/WlvgzajJkcvk/pNVgq3KmLWd+cIBU8yiLF/8j+zCJ2bxPHBSuDJuE0tJETZPnemhTnFES/zx+hzt7Ytyv6+VMevkwd8x2dNX5yuuzpddnMBkTCfZ43VZLE9l3AaVYIsm+zB6L0Jb7Mco+DlH1Rn7mQzuRDuVYIsyZq3y2mpVsgNaFsTkcac4qtP3MYp/1kH1DRe0LFiTc1Rb6IPeiySldURDgbbAW5W0i2gqYixvuChj1injNqnT9jA+Mz00OUfQu+HovQh1ipM6xUmTe0xz8xQzY6oreieMUrWjd8NH3I0KAQMBnU53NBtff62zBMeiMNR8ArQCpXPC/XwPH7qxb1ni/lXxnjZBJYRXHl7YSAWVEJdvE5duE9cryStlhKCSzKwlc+vIdtVPVNGsWqZoD07Sci0t09IiFS3V0Ln1pFRLkxTdJKebFTRK0Fqic5SWoBUo0zb+Ny320iNRexkB2tmqcd9nTZ5fS5NO6XQ6kmI8yLWMQ5qm66VUjYQqaqLKW6iSZqpKTOXWkzl1ZGwFGVdBBpUQV8uJsHLCr4i4do9k/57KxX0KmKUdzMD3p+Hu6fjhLPxcPuGZiWfXkSRFZ9WSCi1FUl2xtSiY6fRF4W5vziY5TXSMalUyi0XUjAeMpKsRilt1QQN5U0imVZPNCrqkmYq8S9xro24KydAyIq6CdEjEIu4Sq6Mwj3Tmum+Jw3xuEWnVJAYCdLfEzdxJU5TUtSPReNsCRva1Wyrda9NVGbl3knQ3erHt4s4M6Cd5kNivMNS+f1ooo8u57WKlv5fEZR1iYy1xWS/dv03qulF2aBebOs2kS+9YLNm9nrHfOl922F5+Zr/EoTOxWn5mv9RtsyrkvOKsh+yALWO2c3mX5/8FqY4ONDNvcA8EgMBQEgABeijpw9xAYKAIzJs3j5V9f//737ON7du3GztXq9Xs/oRPP/30m2++yVpmZGQYWxoL0Ldu3WLteTyej4+P8RCdTufs7MzZQAZ0t4igc9gSkLrESx2ucxnQilOm1oAuqUG+3Z96JqFy3bn8tDstw3bhEJj5CNA0RanFXP0NJquX0HLTkcgjSivFazPx2kzsUTJWldD5fiBgNM0UJ1WSvTrVVZNzVJPlqUp2UMauxx4mqeK3y/2/MZaV5f7fKkLnqtP3MrJp1ApF5FJFxGIZf6KxJfSYg4A6bQ/2QEAij7jrCw0gMIIIrIrCpgeg3CaEG2Ow3HrygYiKryTvtVF3WqmY+2TKQ/JOK9Nz6TaRUcMIrwUN5LV7jPx6Og8/noO73WDejknYsnDUr4jYlYCticI2xTB/N8RgKyKw+aGo9RX0ez/ZlMuqGZeks33bvr2s5iad4tcVwLd8dHVHSG6peFwFo0S3KumwDpH3UCYeXEqkPiKza8nzBcSeG/iujurV0/wZ3XyqH2qfiF0sJLZdx3wLiRO5+MYYbLsAc7uB28Vj5wuYSiPnC4jEKkaczaplVnHnun/2vgWCYw6FrtNq3Se1XVxF0bRHOrY1DvUtxG3iGLebY9DZQei3fPQ7PUpc5H1qTPVD10VjsRXE1uvMxo8Lw9AjWXhyFRF5l9gYw8R8Lp9wT8NDSonAEkbUfiSmsmsZ1Fm1ZGEDWdJM8W8T0feIa/eJiDvEhVvMX51Od+MRmVFD3m4kz+bjbqkYV9F7eQT6Q0gX2B5CTawiG+XD9/clI+i/pn6Eqgw+y9bZUMcEq0IvKM4eYDbrC7+sivSTn9wj99qrivRTnPVQhV/WZicx73SBJjlaFXpBdtRJdmiX7IiD4sIRye4NiI210u+kNitRkxqnzU2RHXNG7JYqzh+U7F7PyMHe7oy0bWMtO+ok99qrOHtAfmK3xHE1Uxvac6d0/1apxw6p22aJ0xpVmK/soC2XNy2xXyF126z0O8kU/dg6nynBccSRVZaNFWSJ/Qr5yT3q2BBk53Ll5RPMENslyPaF8lN7pPu3KgPPyI45d5Sr3iJ12yz39pA4rpZ77WUU7Y6CIarQC/0ACEOAABAYKQRAgB4pVwriBAI9ETh//jyn/LKNhITuCwhMnDhR3/Lll19mNyQ08G4sQOt0ui+++IId++abb967d89gSE5Ozs9+9jPO+eME6IiICIOBEyZMYEc9cRNCqAFtgA4OB4oAjRKq4CLxqtAuAfpsjonO79RLrewE55MebLpYcOuh2ERvMNxCCFBqESmu0hZdYqozp7rKg7+T8b+SB89UJdopYzeoknaZQzwFn6YT6BCg4y3kLoVljj4Cp/Nwff13egCj/y6PYITLuSHo0nB0fii6sUNE9i8mdqfgS66ia6KYjOn5oeh3gYzZdwHophjMPhFzSGR01cVXUa883DWFKevxXSCjse5MwOYEo3tu4JP52sl8dN7FhqU+D2b7ijbGoFvisFWRXVsg6ouktgJscyzj1jkZXxSGembi3vlMKvGmWMw2vks0XxTGONlzg0k63pnAxLAhBvMvJg5m4NZXGAWWXcvaaMw9HV8bjR3MwH0LiUVh6OZYbMPlymmX5Oyk0y4r515qnxmITvNnFsUx4Rr6sZm7PcUPnerXFYP+dFP9mAhnBjKa+KxAZhXrr2G7EjDrK+iSq0zk80LQeVeYxmQ+uvhq53L0PRi3D2bgEk1n2vjou8NH0IpoAue2IqQpihS1Uho1jWOkuA0tzKY7tpHnlkOplJRKgT+8R2vVRN1DSiahic49J4iGWqL+EaVWEU31NNX1TwuUFKGx7n/JyszS1szufPhjXhHRJKRUSqJJSKOd/3ZOUxRNdu4bTClkREMNY1D/iGgWkq1NRGMdKW4jGutoDCOENaRExJyte0SplZRChlfdpaTMwzCNY5RaSWs1pLiNi4QmcKaTwLm5uDXTMMljAAAgAElEQVRCAwgAgdFEAATo0XQ1YS2WS6CqqopTfnk83vPPP6/RaLrF4enpqW85ZcqUbs26FaBzcnK4sT//+c/9/f3ZMtM1NTXe3t4vvvgid5bH4xkI0N988w17dtKkSQkJCdnZ2SIRs7OzTqcDAbrbSwCdg0xA5pYoXhrcJUB7mypAp99ptbITnLpesco7r6gaGeTlwHQjjgBNaJn9BitjVQk7NLnH1ZkH5EEzmBrQgVNlvp/3SiG9MEEROrdjV8CFjP2lL2Q+HzM7BEYulV2YIA+cpoxazngbuAIa4IojoE7fTyLVg3PXVUvvB945Be9a2YPBAW4Js5zNJwwUydlB6Iz/ZfvOCkT9i4mz+UxOLpu065qCZ9SQ1yvJqHuEbyHhmITNCmTEaMckbFUU82bVWy6rmtVzDaaYzEfZDOjvg3ulkBoPf1zP7CBGt53eIdFyMUzmo9MDGH22lxnBj3M+5P3fdsjKpodhoKofycLZeiCWcMPDGoEAEAACQGBICIAAPSTYYVIgMPAEfve733H676RJkx43QXFxMWfG4/GOHTvWrWW3ArROp7O3t9cfzuPxXn75ZYMe9tBAgOZKTnPGGzduZKcGAbrbSwCdg0xAcSJDsi2aE6Dlx9JNDCCnos3KTrCDf/tzlyQQoE2EOVKGmyJB0pgKr8uiNBISeajJPa4Is1bFb8frsvDaDHaDPuxRiipppyphO9FSqrg6X5N9SJ3iKA+epQizVkavUqe6kqJKoqUUq4jRZB9SXF0g9/savRepLfRRxW/T5B7XFvspr62W+33NaabQ6CJwcYKM2Q6x+20e5f7fdBSD3qhK2qUSbGX+VSBgikpgo7y2mhuiye3+w9Qct256XezcKCt4ZzckmgOvZfr8UXnsyE3uzJntk7g5JxhdEMqovbOD0C2xTE2JPg3vvfE0f3RlJKavZW+IwWYHdU63MIzJwl4ege5MwNjU5oVh6JzgzrOzgxiNe3oAE2fPM06/rJgX0pnWzVkOlObLOexTQ18pnhWIzgpiMqOn+zNpzluvYysj0VWR6KFMfMd1podNf7aJQ0/k4G6p+NJwJut8TRTzLwT6ky6+irrdwLks6cl89GQublBu2zL/W4BVAwEgAASAgPkIgABtPrbgGQgMKoElS5Zw2u7hw4cfNzdN02PHjuUsy8vLu7V8nACt0+lCQkJeeuklzgPXeOaZZ7y8vD777DO2x0CArqqqeuWVVzhjHo+3bt06duphJUDnN6ZuTJwO79vNplZA7va+GradNEkpTmTIj2dwArTELsbEaCPy6q3sBK5XSj91Six8BCU4TMQ5AobTmEp76zwbKKVq1xb7EU1F2P1omsSJllJmkzpF0+OWQdMU0XYHLQshRQ+I1jvYwyT1DRdFxBJF6A+Kq/NVSTuZffDS92KVcdjDJLwmXZPliZYFMxnTVQnqjP3MNnplQSTykGi8pb19UXltjTJ6lSrZQVt0GXuYhN65qk7do7q+RZVgqxJsZbxlemhueikiFsv9v5UHz9IW+miL+czfAm9N3gl16m6VwEZ24RNGBGftU3drsg6yWwIqQn9gilDzv1LGrFUlO6iSHTpF2EtfMNFemcuUDfH5WHbxU2ajxajlzF6C11Zrco8TjbfUaW4yn4+VcYySq85w1+QeV0avZLYKjF6lEmyVB82QB05VxqxVpzirEu0UV76XB05XRCzW5B7HqhI0N71UCTvUqbs79xhMsEXLQrBHyXh1Klp+BS0LQu9cxRvymf0eH8ST0jqsKl5bdJlZeLIDVhGLV6dqi3zJ9goSqSYaC9VpbnhNGqVqozQIKa6iSYxSiyitDG/IJ1rvaAvOavJOqtPcmI0K71wlmorw+lymCkrMWm3RZW0xXxG+SJ3mRiLVitAf2OVrC7wfd3EHvJ8VoHemLox+wLfMt+0N67lRViBAD+ythRG0SzJTMcP4PT8UXRjGvL3zmfrLFwuJw1n4ljim5sO6aCziDrE/janUfLeVUmF0jYR6IGL26IutID3ScbYu89ro7itsGM/Vm54pfky2NWdpF4955eEnc5mk7LIW6n4bFVzKbKlH0bQKo9mdAAsamHztJjmtxpk9CROrmArXVSKqVkIVXHAt2z0x2+2HxP2r0s7uLQ092aKgs2rIzBqysp18JKbqpFTKQ8K/mKlzHXGXyKwhr1eQ1yuInDpihwDbGoe5pDBFQkLLiGPZ+LJwpiYGF5uZGqwgPsUP/T6ImW6aP5PxPcUPXRXJVNyeHYQ6JWHHshkguXWkfzGx/hojyhsHs0AP4/40fGDvKPAGBIAAEAACQMCAAAjQBkDgEAiMVALZ2dk7//eqru7ph8CXLl1iDZ2cnB63Wm9v710dr7t37xrb1NbW+vr6rlu37v333//b3/42f/78Q4cOlZSU6HQ6Pp/PDnz48KHBQARBfHx8XFxcdu3atXPnTq7i8+XLl9khjx51v33TxYsXWYP79+8b+BzwQ8gsY7PqLO2LPY2TinO5Uvs4ToCW7Usy8e4qfCS2shN4Rt2duCcFBGgTYY6U4dx+g1zApKSGJrSkpIZStdN0VxFGzsBMDUb1br+P16Th9Tm48CZ6JxSvzaQpQlvip07fS8qEytgNyqgVTFRkp+hAtJajpUHqGy7qFGdGeC0LwoU3GdE5aDpNMPUiSWkdpZUyam+JP159g9JIOsXf8itoaRBWEUOpxaS4imgpxYU38epU7IEAr8vCKmOxyjgmuVvVRmMqoqmIlNTgtRmUvJGR3ZuKmCCFN0l5A42rzURjwN3SNI09iEdL/OUBU1gBWpPlOeCzPM4h+zl1+rbr4wxGff+JAgcQoM1xlTGS9kjvXoM20C7ZNOfpAYzo+X0ws03fmihsaTjKVGeOwX4IYZRQWwG2IJTJR54fymwMOD0A3ZeKr4vGtl8qXX+u2OVi9uHjfsfOXLGNxzwz8VVR2IwAppaxWyo+Jxj1KSCOZuMbYhhV91QufrWcuPGILGqiUh6SIWXE7UZGOC5vpeIfMLsIxlWQle1d/3eVa+kqMdUg6+zREnS9lGqSM5042VnjuFlBc9m+zUenCx3Hse/W80slMR59ZduuotOriSoxo7/n15MhpcR2AXYqFz+YwVTBdkpilHqHRMwpialSfSgTP5XL7NZ4NBsPLSPOFxBnbuJh5YRXHlPAml9E8G8zmzqGlBFXyphNCOMqmJ0ekx8y+n5WLZldR6Y+YuT1wgbyXhujkpc2kxINfeMRmfKQaJRTD0XM2u+0Umw9DRVGZ9eRUXeJy7eZiY7n4NcryTM3cYOiK1P8mKvT14WDPRAAAkAACACBPhEAAbpPuMAYCACBUU6A/WJ/ON+2VdVome8DeVst84u91KFLfRbN4csPp5l4rys0+FeuybZ+tyfvu3HzQbuJ3mD4iCCgLfEbEXEyuwBhqpES6vCME69OZRO6OwXo3OODFicI0CBAm+9mo2m6UkQJpVRpM5VURRY2UIWNVFo1eauBrEYosZoubGAygvOFTAYxG0aLgharf7J5XZOcTnlIqvHOTlb2VeN0nZRRRUsybxR6WFcG7Klz/FfW/kVtDfX6yyGoLmlYv9987ZbT8zgBWuhiJQrabr65ho/njBpyMh/dFNuZmb40nCnBMXzCg0iAABAAAkBgVBIAAXpUXlZYFBAAAv0kAF/sLfOLPU3TyLqrXPozI0AfSOnnPdQxrLpVQZDUJw4JG3wKJu5Jicr/yRdsUzzD2GFLgFK1qxLthm14ENjAElAJtqrT9yrC5rECNF5j6j9Z9T48+JyyzM+p3t8hw9wSFZY3HZkiS78odBzXfGI2Lh7iz8fmI9M4AbqdvxGJ3j/MAQ5IeIezmFR3rjTK5limZIdQ2pVIPiCzgBMgAASAABAAAvoEQIDWpwFtIAAELJ0AfLG3zC/2NEpIbGOQNWGcBi3bn2zKfwxVzfLaNqWVneBzl6SPdsULihpN8QZjRwQBmsQ0g5gGOyKYjOIgFRGL1TdclDHrWAEaLQtmKkqr2gZhyfA5ZZmfU4Nwaw3OFJRW2XZ5gzjcReg4rsnza5r+Sfb04MSgP0vTwUnNx2awGrQk9qDk+mO3UdEfNdLbZS3UZD5TMoUtruKVh9vGYzUSEKBH+oWF+IEAEAACw5oACNDD+vJAcEAACAwyAfhib7Ff7GX7kuSeN7oEaLdEE++9Vqnm670pk9xSrOwEwVk1JnqD4SOCAPaQKR1uXAl6RAQPQfaJALNDY7KDKsmeFaDVqbs7Cl7H9clJ/4zhc8piP6f6d8MMt1EUpmnx+kGa5CV0HNdy2prSKrhK9EMSatOhbxtcP2YF6OZjM5Br7kMSxiBPqsLoyXx0dhCzM+HsIDStmtkxcpBjgOmAABAAAkDA0giAAG1pVxzWCwSAQE8E4Iu9xX6xV17IkzoJugRo14SebpRenKtolM07mrWDf9vKTpBU0tSLEWAy4gkQTUU6nQ4X3hzxK4EFPImA3O9rZeQytMSfFaC1xX6qRDtS9OBJ4wbgPHxOWezn1ADcPcPDhTjMCW99JHR6X+hspbmXpqnMHqq4KEzdsPdTrgSH0OlfitygoQpmkOedzEfXRDE1oOddQe+0UpdvE4McAEwHBIAAEAAClkYABGhLu+KwXiAABHoiAF/sLfaLvSr4tuJkZqcAPc9P6iLo6Ubpxbmk0uYJjokrz+RZ2QmqmuW9GAEmI54ApWylNBLsQfyIXwks4EkElLEbFBFLZJc+ZwVozU0vouk2TWifNG4AzsPnlMV+Tg3A3TM8XIjDHEVB24XO7wtdPkBri9R3U4cqLpqmGz2+aHT/L6dBi686D1UwgzkvRtKzAtFzBcRkProlFqsSUbYCjKSGuBzKYBKAuYAAEAACQGDwCYAAPfjMYUYgAASGLwH4Ym+xX+xlexKUF2+yAjSyMULqbKoAXV4vtbIT2AcWW9kJyuokw/emh8gGjgClaMarb2CVsQPnEjwNRwJES6niyhzV9S2s+izz+VidvpemCLw2cxDChc8pi/2cGoS7axCmoGm6zXeNsiCiwfWjlpNzBmHGnqdoPbu4zWc5J0C3+izr2X50nCUoeoof6pSMzQhAHRKxeim1KwFrlEMN6NFxeWEVQAAIAIFhSgAE6GF6YSAsIDCYBGiKpvWyHmiSonGSqWRKdD6J0jhJilSUBqcxgpJryTYF2SwnGqWEUEo0yshWBSlWUWqMpmj8oUjfFSlSDeZCTJ8Lvthb7Bd7VeBt+ZE0VoCWH0iROl038XaqblVY2Qn2XS3/1CmxpAYx0RsMH/4EaFShLbpENBaS4qrhHy1EaCIBeeA0rgC0zOdjrDKOaCwkGm+Z6LY3w+FzymI/p3pzewxzG0Lagrc+aruwQhxqL3R6v/nE7CEPuPn4d5z6LHQc13puyZCHNDgB2MVjR7PxBaFMCY4rZcS269jgzAuzAAEgAASAgMUSAAHaYi89LHw0EMAftKuvljCaL0pgJY3qqHKyVYGVNmlTHqiCbiu8s+WHUmUHUmT7k+WeqVL7ONm+JMWJDIltDJPg6RAnXhaMrLuKbAgXLw4S/eAnXhQoXhIkmh8gmsMXrwoVrwhhxLgFAciasM66BHP4vWkoTmdhd5p1Oh2lQLGyztK3ZKtiYIlTMs3AOmS9wRd7i/1iLz+cJrGJYu9w8bIQ0zOgw/PqrOwEk9xSprqnltVCBrQ5/nsdXj4prRSrSqBRBWxCOLwujHmiUYTM5tKfZT4fK658j5YGkdJa88z2E6/wOWWxn1M/uQ9G5gGpllIaORK+W333htBlvNBlPIWZ5XGu93havRcx9UAcxwmd329w+6Tl1Nzejx25llqc/i4QdUzCvgtAF4SiZ27im2NBgB651xMiBwJAAAiMDAIgQI+M6wRRAoFuCShOZSlOZGiSKhXncuWHUuWHUyV2MZ0K8qJAkbW/eHmIeOUVkbW/gXAsXhyEbIxANkWIfvAzOGXiIbIhHNkYoTiZqbpSrPDKkrrES3fFMlEtCNDE3lX65Mk9b6hCipSX8hWns+SH02T7kuRH0pT8AsWpTMWZbOXFm8pL+dqMR6qAQlVgofxYumx/suJ0ltInT3WlWH4sXXkhT3EqCytrIsxT0wC+2FvsF3vJ1ij9f2uRmbwJ4eXUR1Z2Alu/24tOZN8VSrv9Txg6RxkBtPwKpWobZYuC5RgToGla7j9ZHjClS4O+MEFbeIFoLjE2HvAe+Jyy2M+pAb+XBt8hhaqwxvtMCY6bocLdHwp3j6c0Q7lHAk1RTZ7fqIpihE7vNx2c1LD3U3Go/eBjGZIZl1xFl4Yz+xBO90fXX2N2I2xXQQ3oIbkUMCkQAAJAwFIIgABtKVca1mkhBJhiGiRFExT+UKQOK5G5J8tcExSns+VH07u05vkByIZwVqc2UW4equHa5EozXVD4Ym+xX+xV/oXI+nDulpbuNLWMb1JpMytArzl7836DzEx3LLgdVgTw6htESylNQh7ZsLos/QmmsbGxvr7+cSPRshB5wBRl7HpOgNZkH1JnuNP4YORyDu3nFE7hmfUCnxIPj9wtLpkrTxU6R1T4VopLH8eq536MRG81Z0RU+B4rsHfOWHGiwCH0/rnilpyeR1ns51TPWEbEWZqmSYWo+eh0ebpv48FJQsdxpHooPx8pTNN6dpE8ky90HNd2YWWbz3JR4NYRQdL0IFdEYJtiMZdkfDIf9czEvwtEtTgI0KZzBQ9AAAgAASDwWAIgQD8WDZwAAsOWAK3Be44NzarWJFbIPVMlO65Jd8UyxTQWBHTlQS8KlLkzRTnES4KlDteR1aEy92ROdxsRDbLFXPkyQ/vFnrusEq0II1Hu0MQGQeGIpp2kmbreT3xZ7Bd75flc/Ztfsj2aUpp0CVgBen94+YHIO5WN5rpjn3hBwWAwCWgLvInWcqL9/mBOCnMNOAGCIPz9/b28vJKSkjSabjRlvC5L7ve1InyRPHgWq0HLQ2ahd8MHPJJuHQ7h51R5e8EqwaS5UVbG7wN5WxsVNd0G/LjO+6LiLcmzjF3NjbKyS51f2PzYHR0t9nPqcSRHXH/LmfnqssTmI9NaTs2lUPUQxk+TeNPhKdIkL6HL+MZDk9sDbNourR3CeAZz6p0JmH0idq6AmMxHj+fgswJRjAQBejCvAMwFBIAAELA4AiBAW9wlhwWPAgJEjZipsCzTEDViZkvAZjlNdu1bzaQ/V7Vj5c3S3fFSx+sK7xx1RJn62h3lxZuq4CKZe7L6agmaU4NsCJfYxqiCixTeOeJVocia/8/eeQe3caR5W94979WFvd2ruttQd3/sVV1dXX1bK+/SgZZky9lax7VNKkcrWbKiZSqQyjknBkkUKYEUs0iCEcw555wzEQgiD+Jk4LvR0KMRCIAgCZAA0SyU3ejp8PavR2z2M++8nUAFwF0XpTqSTgfNUOxKlG+NUx7gKn9IoYJE+3IUe5IU3ydNQLrVkRTRXvtE8X0SxbLXRyl2Jih2JFBxpXclUhGlt8VTsaQ3xUCnsuVb4xQ7EuiS0Ols9aV86HS2JrhceTBFeYALnc/ThlZBZ3I0gWW6qHp9Yov2ca36coFiT5LyUKr2UQ10MV8bVq06lmnI7KR7x4XO8peZx429FlVHtt06WbptU8ZyX67XKu5r+/O+uVV7tEFcNrObtkfecrfu+KGCVatT3vDleq1OeWN/3jfBDadtMwKP3dhrgspeANAHuDOTnanVL6YOITwd33Ihqa1PBAA0I8yCTRDQqDZjt77kPNqXtWAH6RkDq6ioCPzp5+HDh11d5k8UCNUoFOqtjvpMHfUpDaC16btI2FkLk5nq1tYpJSwdgaZxAKbRaGyRVJs1buNru7RuXdpSi7yYztya+YFML7bRAvtSRn+0jaboSwXDKewqTNpj1ylGAXdPjN34Qpl2SXjpfXncEUI9z2GLxm58rmtIFV76QHjhPdHlD6HCUHeX1077A6sw/1w0pIbygI5rxT+NmNVDdzs7BcWAAkABoABQwJMVAADak2cfjN1dFaADUBgJktQgpFKPj75wvhkdhYMem9Foy5eBGFPjg3K0gU+qDFTY5bgmrFtixAh8SK5PadNFNxhyuvVp7YRch3WOwwW9WK/EkNNt4HUSMh3aKkLq+WiTAKkdIeQ6tH0MH1aQahjrkeDDCiOCm0wmI4obSVsG2DMBVEQRA0bqELR9jPLUXhkhWxlBahAjSnXh8B9rG3uHd2TWYI+8dVf2p9Z2449armHTeakfwQ2PW6+v5L5qscGV3Ffv1h+35mHtsRt7XUTdCwD6xzSzOZru1zGlwcuPd/Bx/cHH9b0AQE9XPjcsT8i64doQpPkJNljohubP1uT+/v6en34Iwq73LWbbpXPqy+Xy4ODgn/jzxP9TUlIg6AW+zKBnGkAbqu86xxwLrVpcp+QGyd7cLzekLeuSNVqoMynLaDTebzzny/WKbLs16aKFjA5pg236TC83hwvXYeQUL2mZTCaBemhNqrfFFYqduYr7WvN45WRrPHadmiyFm+bIog+pcu4IziwZD1lPqCVGfN7CFpGogR/wClRwj++/WHDuLQX3jLro4fw6Zc/ZnIbX435Z6Oo4ZAUHCcilYkCL1LP9o33OjAcdAQWAAkABoIA7KgAAtDvOGrDZ0xVAKoc9UAJDbg90Po86ONGHA5f0o+1jzhDB4sbeZDLViopSejn296iEpfcbz2nQF4CFteoVgtxVKa+zd92T00eLNtjPoC9V7p/cglnOtZofSeNzx3nGNo/d2Ct/SHkBQO+frQe0XIN4+fF+4NR/ebm4bRQcQsjcYgs2QRoUSEsULu3ChfULdpDWB9bd3d3504/7Amij0ZiQkGBGn+mvISEhg4ODtACkWjgReSP6czqBC+usa+PgKxbXqftN5+lf8vYwaIY+01UGVeYu3mYWEyS+nfcxexHZzvs4su12jbDweo0fO9+X62URGZs1eKJ0q1mtM+Xf3aw9ujnjHbP8i5X7zOqaTCaPXacmS+GmOZKHW5XplwWn3hgP3YwrBPM4Clwh4B//i/D8cn7An8VBq6GCe+rSafyxN4+Wz77rsHr8fg2+JYkC0BufUv+V6wGAnr2uoAWgAFAAKAAUsKoAANBWpQEXgAIuqwAh1eIDMtrL2GWNdLhhuog69ZVCOgYI2ioi5DqHd2EymSxu7GtFRXQUi5iOIHs6VcJSOq7ljwWrtegUsRdUsHxLxrtmW26LX2M6gu3pvZyfbbH65MzknvDJDXrsxh46lc0AaNXRDOhU9mRxppVT2jnu5ce7kNj2zbWSyh7ptOqCwu6oAKmTGEovE/I+QjGBKd1xFDO2eWEA6ObmZov0OTAw8P79+1qtltZHl33oJ8fnQDoB18/da/sW1ykdqjlatIH+PW+bQZvR5/S+qCknvVpYwF5BNmUsl+qfPwM+WbqNfTWs+YrtBuWGcXZ5X65XlTCfroKRWFJ3OPvqhvS3Jh9g4LHrlG1h3eiqOHDl2K0vRZc/VKZfnl+zEX6r4OTrqpw7fP/F6vJIZeZ1ZHSGJ2rO70Bm0PuZAiyyCT+aQ/k+fxNDAWjgAT0DGUEVoABQACgAFLBfAQCg7dcKlAQKuIoC+IAMLh0wwlO/5eoqFjvCDl10g+pYBoUIV0fCJQOEyC7n4un2bHFjn9IbweyHp2TQDH325XptyXxPohPZtiGmI5hpnE4E1p+oEuZn9EebeZytS12iQzW2WyNIfGvmB+wGd2R9nDeUXC0sCG44vTH9bfalI0XrJ7fmsRt71dFnd5cPR+bDUR5KVd8qmSzOtHKym0RefrxVN8q236seU1o4x2xarYHCrq+AkUC1Gd/jY82ub6ozLFwAAFqr1d6/f98agG5vb2d0QwfyqBjQsV+pYycOIUTa4pirzk5YXKdMJpM9DHoG9NlkMp0t38VeO8oFOewxdsubd2atWJe6hP5YXFnY5etExezWbtYeZV81mUxmJxOOqvvNCnjsOmWmg/t+HQ9ey/dfzPdfrMqZu9g1FuUydBbxT7wqjdzH9188/mCTMuMqlB9iJC28H2axultnpnYSl0uwY88A9AoOBaClOuAB7dZTCowHCgAFgAKurgAA0K4+Q8A+oMBkBbBOMSFziv/v5L5cJ0cX1yTfHEP7qKqvFxHjU6DYmVlubWMf2/kcE9tg0Gb0eRjqtW0GYSR2Zq1gb8UfNF1gqvDVgxvS32JfzR5MYK5aTIxAfezymzKWK2EZU3JA2Um7ctNlVnFf02HmMnrsxl7x3VPGAxo6nQ1dyGN0m1miulfq5cc7+qTxB0790PiE4+TMmgK13EIBI4GhA/nYcCkh7XYLgx1r5AIA0JmZmdbo89OnT9lnKuCCWn3RGV3uEX3pJdoDmj6BEJd0OFZVi61ZW6emZNAzo89iLZ+9rGzJfG+yS7JFO61lxnfdZzdYNGIecH9/3tdMAWqdmvTk1RnrlBFHCT1kkTwSGhl79q2NyxXyLdo/pWEkBk9ZhilgrfC04jhLwrbRDNpIOOU8D8baKRPoWK/o8ofjYdv5/otF1z+TRuzVNfNIxCP+xr5bie1Kpdyf6c/X0QiMAQA95S0DCgAFgAJAAaDAzBUAAHrm2oGaQIH5UgDrFGPd4+6yHXKUSpqQcjoAtMyHo4tyVohVGxv7KRn0dOmzyWQahnqZbbYv12t1yhsqWM5WLLzlCrvA5aoD7KuT00Ujaezyk1n5kaL17AIjUJ9ZI87Y2Jt14ZpfZasjnwPoU9nasOpZ2plSy/fy4wVn9WwJquwWOsVhf5YWguqOVcBI4prkTUhnEiaocWzLbtGauwPovr4+a/Q5ODhYLn/hNzPSngDX3jPUBMEN4TSAxkYrMH41NmrhxDz7p4+9rJOonmFzRpIgDWoSg40kScKaouFUX65XUMMpiy1b84OeGX02mUyVglz2qhHccFpukCR0PbhUdWA77+Mtme+dr9iT0PVApBmxaM/kzIax0oSuB8xnTMtnl2mV1LC78y/ezL5Kp8puzkwAACAASURBVOl1qrDyGq4UkgY1Mtyoyr6FirqR0VZtdbymKhYVdeFKkaYiGh6sJ2ENieqhwgf6jkJ1KcfQW67vKITyguChBm1tItxfDQ/UaOu5VCM5dyVh2/Tt+Qi/DRV26hrT1GUR6jKOKjdQUxmtKY9Ul3GknN3jIesUyafH729UpJxXJJ+WxR4ev7dBfNdH8vBbyaPvxm5/JQ5eI4s6IH96XBZ1UNeQqkg5r21IkT7eBeUFy2L9oPx76uIwaeQ+8Z1vpJzdqtxAefxRZcZVWexheYK/JHz72PXPJKFbxm58Lg5aPXbrb+Mh68XBa8bvb6TCExeFyeOOqMsiNJUx8gR/RdIpcdBqycNvxXd9FNyz2tpEWcwhWcyPUF4QlBesLuNAhaEq3k1tbaKuMU1bl0xZG3VQUxWnbUhR5dxRpl9Rpl2Sxx9TZd/CZCOETkloFdRwQtapeDcVKeeV6Zeh/Hv6tjxMNkyopYQeItRSdVGYujjc0FOmqYhW8W6iwi5kuFFbz5U/PY6MtiDDTchIs6Y6Hu6vNnSX4tA4Nj6ACrtQYScq6kbFfai4D+6voUYXvIbvv5iEzZ+CT55up+boW3P4x/8iuvwhdQjh6TfFd30MvRVO7dF1Gud24l9GTdDnFRxkXQLC/hXkOnYCS4ACQAGgAFBgwSgAAPSCmUowEA9SQBdRp4usI/Xzdmj4vGgNnctV7E6kESExNkVg5RlbaANAm0wmGwx6BvTZZDIVPuMIzGb7bPkuM8u7ZI3MVV+u146sj80KmH3ltN5gl68SvuDGSxrJrZnvMwU2pr9NkObORx4LoBn/euoe8+VAp2cbA7qwTfz6kaz4iuGzCa2NgwqzmQJfF54CRhLXcr/Vl17EhooW3uimHJFbA2gURR89emQNQNfUmD9RwPhVhuq7hspbuhy/iWDQVbeR1hhksBwquK+pjCYNalTUramM1rfnUXyzIYWCjzE/KtMvj1FelnvGg9eO398oDlwlfbxbErZddOUj0bVPRJc/FJxZKji7THjxPX7An6kYBcf/Qn38F/MDXhGee1twypvvvzj51l9sAGiLftAzps8mkymtL5JZNXy5Xg+aLnyX/Qk7h06vS1uaP5Q85X1isYAB07VL60pHeSENp1dxX2M3ntD1YHIVep1Kvf4KBQ1PvSG8+C4dz4H9X0qrgFf4J15lZ7LTgjNLBGeXCc4sFd/1HX+wSfLoO1nUQXniCVX2bQX3DFRwT554gmKs2beh/BBJ+A7+iVfHbnwxduNzWcyP4/fWi4OouaPm5eK7wovvCU6/yW7cLC08v1x0+UNx8BoV74aCe3b8/kZ53BHhBcps4aUPZNGHqJZv/W08dLP4rg//hNfYjc+F597iB7wivusrOLOU+nrhHXqw4yHr+QF/pnIufcDuRXTl47EbX7BzBKe8zXLYV19In3yNf9zrhZxn8TGml3P8L5Mnghp14EpZzCFpxB4p53vzAse9CJ1y8vzOZY6uJYvvv1jyzAOaf8JLcHaZvqNgLg2Yx76eNOHbuM89oL9L8axtxTwqD7oGCgAFgAIeqwAA0B479WDgbqwAXNCL1I56mp+CllMr3xgj3xgt3xhDKvVOmj/bANoag54ZfTaZTGa8OLLtttm4DJiOvRX35XppUFu+tEpYJlAPMR8Efx56GCPQsObL7NauVh8y685kMnksgFbsTWY8oGU+HNWxzMniTCunsE3s5cfbfq86kNfdwVdNqy4o7I4KkLBKm7oDbghDOmeI4dxx1IzNbg2gCwsLrdHnyMhIgiCYYdIJUi3UZf+oyzqoTdtJA2ht2k64/qGm6I40Yq+m/AlUGCqPP6pIOiUJ20Y5Vz7jyBSmPPm66PKHoisfC84uo/AoC/MJTnmL73wzdv0zmjKzL5mlk2+8YhtAT2bQp8t2Mr/87Tl1kD3eRy3XmLpTJh63XmfXtTOdNRBvseUTpdvYqxjTGhtAm4lj/9eJKTjxquC0t+jaJ7Kog7KYQyreTWnEHnigxtBVTPkXB64SXnp/PGQdRZ+vfya68hFV+PqnkrDtktAtUs5uyo33GbqdctbsN+yFkse9Jh5FPLtVhBfepUn0C2VYd9F080XXPpGEblFwz6qLHoqufSIOXCUJ2yY47S04+fp4yDrBmSVUYIrLH44/2ET5LAeumoJTH/eiuDlt6rm3JWHbtLWJ8vhjisST8qfHlelXKFfxoNX8E178E17y+GPyp8c1ldHMtM5LQluTwPdfLL7zDSOdtjZpXiyZ+05TO4kDmc8B9K5UFMSAnvtZAD0CBYACQAGPUgAAaI+abjDYBaIA2iSAi8zP5FkgY7MyDFKHKHYnKvdz5ZtiFDsTSB0yl4cQmhll5gc9Y/psMpmCGk6xd928AQvHWG3JeJddRvzi28pmtk3+OqTqDm2+eLnqgFk7vlyvCkHu5PJzCaCNRiOpQSbbYDKZSDWM9UkJORWHkdSh+ICMkGhwvspooM7exHqlFisaSSM+JIcL+iyGCCe1CNYtMRIThwtRhfkqrENshDFiXCP/NpYB0PJv4zRB5RYNsz9Trce8/HhfXy3ZElRZ0jFuf0VQ0u0UwEYrjJiB1Mt0WT+QahHcxHG7IczeYPcF0GNjY9boc2BgoEAgmCwOoRZoU7ZBj97R5R6mAbS+9BIB8W3EgDaShKG3QpVzR/Jw63jwWln0D/IE/wnvZsrT2Ut46QM7IaY9ANqMQTOLyHTps8lkulp9iKnOTqxJ9V6b+iY7x5frtZL76uTITpMFNMuxBqAtLlLMg1LaA5rhhs5K/ORDPXb7a/5xL9H1T807Ovmaec4siLC1pkRXPhq78fnkq4KTr4sDV1Ee2Xd9JI++k8cdocC6/2Lh+eWy2MOCs8skYdsod+mL78oT/OUJ/sLzy6n4y6Gbx25+IXm4VXDqDarNgFcoH/zLHwrPL5/cBf/ka8IL71JPR25/PR6yjvLEP0154tO1BGeWCM8vFweuolzRn7lpU17hz5y7n5WhHPnpS5JHO8fvrWfap0NwQAX3zG6GOf6qSDrF919MTe5Ps6ZrSp9jG+aru9gW/OvoiRAc6xOQnSkoiAE9X3MB+gUKAAWAAh6iAADQHjLRYJgLSgFdXJMuqsGIe8Qh3fTMGY1GXUyjPrFFvjVOuY+ri6jDB+VGgqRFIPUoIYIIhd4IU3TSiBH4sALrl+FDclKPIrUjWNc42iwkxtRo+xjWNY4LVFS6WYiUD6KtIrhsEC7ohUsHkLLBvNzwKT3LzPygmfeFt2S+N+Wpg2Y34rXqH9m79+LRDLMCJpNpb+6X7DJDqumdb2ZtY28RdjMb+3JBjslkwoUQIVZTwr54sxkJEs7rQRv4lHr5vViPBOuVGmEMbRSg7WNI2aAhpxttHyMUekr87nG4ZED/tNmQ2QkX9asCMrWcWl1cE1zQp/g+SXmAq31UowkqUx5MUexOVB1J1z6s0nNbofN5uif1howOPbdNF9cEncvVBJerLxdAZ3PUVwu1oVWKHQnQhTz1lULFd081QeXqS/nKgyma2yXqS/mKPUnK/VzVCZ7mTqk2tAo6n6c8wFX+kKI6maXcz1XsTlTsSFDsSqSJs3zjxMmWDH2m3J8DeLMH0AhGePnx/nal+OiTxtr+50dBTp5ikOPuCmgzdqM91D9epC0OFzejAy+EvnH30dlpv5sCaIIgoqOjrQHowsJCi8PHhks0sV9Dod76/AAaQCPNkdTTMv0LoaLZdbU1T9VlEbKoA1Skhfsbx25+QUFnhvcFvDJ262/yxBPjDzYLzi4bD1knuvyhNHIfA8XYCTsBtMlk0qLqVSmvMyvInboAtkl2ps9X7GFaoBMrua/Gd90XaoZH1f0Pmy+ZXb1QudfOlpli1tYpX66XRZfqKT2g5QkBkrDtYze/EF54Z+z6Z2O3/kb7mwtOvymN2Cs4s3T8wSb50+OUNy6FR72lkfukkftEV1coUy8Iz72la8lS8W6Irn0iPPfW2M0v1CWPVbybuqZ0dVGYoadcmX5F+mQ/lH+Piq3ckkXNbHG4+K6P6MrH1DSd8JJG7BEHrWIzTXr6RFc+Gg9ey/gIs+d0yjRFimcUJUNwZunz5xzPGKvg5Ot0U6KrK14wJuDPgtPeFGKeHNLkWZRkacQefWuOrjlT15JFRXMWdcN9VbqWLEMnFXSIUEv0HYXahhRCD+HQODrWQyJ6EtZg0mHqzwk5n9ApjSSBiroxyRCuEuMKAa4QkOjz97SY+2HOEoRaKgmnjh/kPwtuQ8+Cvs3Cs/k5M2kuO7pbiTEnEB7iof65KEGCQwjncgZAX0ABoABQwOMUAADa46YcDNitFTDiFHLVPqox8DoJmUcc0s3Mly6uSX27RLb2iXxLLFwxpPLPlK19ojqcbsjoMOT2aEIqFLsTdRF10KV8VQAPupCnOpIu3xAt3xAt8+UovnsqW/uETRitpdP9jtgDoM0YtC/Xawb02WQy3ao9yt66Zw3EM+NlEvvzvmGX6ZI1MpfsSVjb2F+v8dOiFkJpT3hAj1IRkJHqEW1YNY3p8UE5PqpEygb1Cc00QVad4LFlVB5MUe7jKnYkyDc/dyVmF3B4Wr45RnkoleLFh9NVAZma4HJ9Shuc14P1SvBBOdY9jg8rSAimnjr0SvVJLZp7FXBRv/Z+pWJvsupYBnQmh+LdoVX6pFZNUJnMh6PYkaD0S5Ovj1L+kKK+NtswvihOAeh1t8vX3ipvGLCKpeyZRFDGxRUwlF1Ge7NMJhPak0GohrHhUhc32BnmuSmArqmpsUafw8LCYBi2qBXakwGFemsSVul4+6hEnA/cHGFENAi/DRvvJ7RyTPbCiXxGDIEHapChRlnMofF7G6SPd1FMMzdQUxFFHwQniz6krUnQ1iZSMXODVkN5wcqMq1RU6Kt/FQeuEl39q/DCu5Lw7eOhm8fvb+SGvG3POmUW99mX67U+bWmHtMHiiGxk3q0/zl6DfLleGf0vhE2433iOXWB92tLphggbVHUldYdHtN08VbadeabLtFk3VmJmHr1Opd16XXjhXTpMxJQA10IBOrj2RLyIt0TXPqEce5/FRaGdiCeAMu0YG/DKs+lYITjtPXbrS+HFd8XBayThO6jQDSdfo4NUSEK3CM+9Jb7rQz9gEF39q+CUt+DUG3SwaYr2Xnr/2ecDOuT32M0vxHe+Ed/5hoq+EryGCutBHSfoK7q6Qhy0ShK2Xfp4lzh4DX1QoTLzmiLpFBXLIsFfXfJYXRQGFT5QZd9Wpl+m4konn1aknFOmXYIKHyjTLqqLHk6cmlgcri4OV5dyKFBem6StS9ZUxcH91RT5RXQkasBkI9j4gL6jEO6rNPRWGAmcOrMR1iAjzaigA1cKjThGGtRGAiMRnZE0j0VjNi9u99WIY1Qgb//FwmufTNwhAa/gCgsvPbjd0Owx+A4LQB/Pww7x0HEtAND2KAfKAAWAAkABoMAMFQAAeobCgWpAgXlRAKkYgksHKJfSgj7yWSyCeTFjXjrVPqhU7ExQbI9X7ElCO8RYvxTrHDdihNGATfg181Vw2aA+pU0XVa+LqNM+qlHfKlGd4EGnsqFzuaoj6eqbxcr9XDYGlW+IVh3LUB1OV+xJkn8bJ/Ph2A+glbCU7Vl2rebHGchyqXI/s8f25XpZ9IDe86IHdJ+ibVodWQPQvlyvg/m+MCtINN0svbHPPnoCOpervlKo/IFyTNaGVlEeyt89pRDtM+bLyKg6lmEWPZkiuc+myU7ozzTlgMTqSKqRVRHUZ2WE+lohdCFPsSOBem6xOVa+LZ56FOHDsfahfaIVe5N1MY2KXYnT0nlyYbkGefNYdkBM8+n4lppe4AE9WaGFk0PqJCQMGXEE6Ug0VN7CRisXztjsHok7AmiVShUSEmINQPf19VkbPamTarlbdDl+moTVUKi3OuozbLCQUAuMOEZoZLhKTBosPN6z1ppZPqGWooIOeKAGHevVdxSg4j55/FFCLTWSJCJoVxeF8TL2TgmgzejzpvTl9FozAwYd2XaLvU5tyXwPI144rGxcJ2QX8OV6yfRis0HZ/7VdWrcl8z12gydLt5lVp9ep9JB3KDT/7MBG+sg+iiEGvCJ5+C0Vd/sZOBbf+UYW/YMi5bzk4VY6DAXF/cufUM7LTRkUlq1L1rfn65rSDd2lJGrQNWfqOwrg/mpU1AUPNWCyERwaJ/QvHL1gJAkS1hLaiceKRhwzEtTbV5N/aGJLonpCD44BmCzP/OeQBvXEfRK0agJAH/eCB+vn37I5seBGObaNi34SQUXhOJKNfpsEAPSc6A46AQoABYACHqwAANAePPlg6G6oAGnAsE4xPihXBfBI1Xy+tzjH4hkJUnO7BLqYL1sZodiThHVOsbk1whjWK9U+qFQd51H8cc0TpV+a0i/NGnlk8u0E0Oy4z8w++Un7nenKQu+imRbyhiycXbYzawVTwJfrJVAPTasXA6Yb0472KdqyBxP25X3FbsqX65XUHW7WGm1S1iF/RhP3S6x9otidKFv7hAq7cSyTfrQg/zaWiv4RWqW+UUzFA0nv0MU1GbK7VQGZlNf2t7FUMJCwavXNYl1kHXQhT3OvwkyZ6X7FcHL7veobaZ33c3rLuiTTrQ7Ku5ECpFasLz5nMpkMZZc1T9fAtSFuZLyjTHVHAJ2cnGyNPqemptpQhtRJdbx9Ot4+bep2OgQH3PiYUMzR2QxTHpZrRp/T+6K0qPpw4Tr69/90GXRqbwR74ThRunWyMpsyJgA3XbJL1jS5DJ2Dkdjj1ut3647Tn8Tuh5NLPm69zu5xc8Y7ZmXodYoOFfUs7hZiJElCpyQRHaGWGEkCVwqpxDMuTCJ6QqtAx3qn65dt1in4uvAUIGENFZ7Ff7GI8YD2X6xrnu0RxO4i1OMGfFXcRAzoTyOQb5PQMQ3wgHaX2QN2AgWAAkABt1QAAGi3nDZgtCcrgJQPwvm9qhNZxNjMHazcTkAjgusi69RXCuk4CYacKeIgY53jWIcYqR1V3yqhkGJMgyGzU3OvQnkoVXO7ROWfqdibLN8WrzyUqk9tM2R3Q+fz5BujtWHVWfevTulZxqbPWzLfu1FzmNkqT5dBP2i6wNT15XrFdgabTQ1OYmbvI8sNMz/OTo9p/QrXsns8mO9j1iO9sS/K4mjvV6oOp0MX89XXi1QnsrQPKnUxDSr/TNXJLEq9zc9DJ8s3xkCnslXHMpT7uOqbxdqwaioW8+UCiuoeTFHfKFZfypetjlRfK5Rvi7eNs5X7kjV3SqFT2cqDKbJVEYpdiZR/+q5EphYV0PlQqmJnAhWmObhcfaOYcnb24VDHBoZU6J82Ux7ZOxLUN4rlG6MNOd2qk1nQqWzFniS6BcX3SfJt8aoT1GMJxXdPqVAth9PV1wrVt0sMmZ2qAB7l9H0oVXO3zDjrSIjVvdKvrpTczeyOKx8uaB0z0xl8XUgKEIoBXFhnMpk0T9fqsn6A6x4spNHZORa3A9Dt7e3W6PO9e/fUalsrLNwQrk3doYn9Wsc7QAHo8LexwUJcOEeOk7YB9GT6TM/gjBl0GT+LvWocLlw3+Zb4P6jNLjOusxrEwIDr2SW38z6e3FrxaAa7jC/XCydfcDE2A9CTWwA5QAF7FCBh7YTjMx1o5dl/kdFWe+ougDLh9TgTA3prMno0B9UgAEAvgIkFQwAKAAWAAq6rAADQrjs3wDKgwGQFsH4ZnNdDHdF2Lhfne9AbnSQEK/Yk6SLr5BupsM66qAbqXME2KrYv2iqa7NaED8mpQwhHlXBRvy62kQLQvE44vxcfkNGn5FEnEFYOI9UjhFiND8j03FZdXJOWU5ub9sA2gDajz/Spg1Htd5nd8rQYdFI3deYh87lRc9hs0oWaIeaqL9drTcobZvtwdnk9pt3O+3h1yhv0J6BkC/sqnTbrcU2qN2l84TRLemNfEBWsvllMxS25XqS+UUxF3F4ZQZ0AeShVtoaKpi3fFKM6kaU8wFVfL9I9qUeqR+C8HrhkQBteo4uoU53Igov7dRF1aKOAir+c1o5UDFFg+m6pbFUEhf5fjIXC8GV7E74cJqqG/NtYxe5E+foo+eZYxfZ4Kg74qWzZ6kjq4MEDXFUAj4qyciyDehRxpVBzt4wKYB3TSJ2LmNxKJfJ7Kbfom8WGnG6kbhTO7zXkdM+ePlPhgHHiYlL7jbTOkOwe4AE9+VZcSDmEvI+Gj5o4H0N1INJuIZj7QhqvxbG4F4DW6/WhoaHWAHRzc7PFMTKZcEO4OvYrbcpWfeFp2gPaUBNEH0TJlHFewgaAtkafaWNmxqA1KLQm1ZtZidakvCHVv/BErUfeylz15XptSFs2eVFmq7Er+1N2+R65Oe9L7A5jF9iX9xW7utlhuWaXwFeggP0KGHGUCvzNos+C096e4wH9qOE5gN6Zgh7PwwTQC38Q2q8kKAkUAAoABYACQAF7FAAA2h6VQBmggKsogLaK1LdKKJb3oBJtEbmKWc63g9Qgih0JFAb15cg3RGvulGL9Tgmqa2NjbzKZLNJnevQzY9CN4nL2NntX9qeE8YVDfgpH0tgFjhSttyE2QeJrUt5gym9IW0aQuFl5M8+yNaneZj0ynmVGgiTGNaQeJSEDPihH28ZIlYGQ63ChCqkchgv6CLmOkGioHL4K56sI0USUTKxTjFQOGzGC1D+PE2okSKxbYuB1Ui7nGR26mEbtoxpdZL0uql4TWKYJqVDfLtHFNyH1fPWVAvXtEu1D6mxArHMcqedj3eO6qAb902a0fYwQQUZ86g2SkZi6jJkyzvganNUTXzF8MaldAlk+yswZnYI2514BpD0e6aCChmuSNup4+5HWF45om3t75qVH9wLQWVlZ1uhzbGwsSU7xC0TH2w89XKovvQTXBE+E4GgIRzq5c6O8tXXKNn2mbZsZg2a/6OPL9bpafYh5FIrghoCSLcy648v1Ola8ie4rtPni3twvmc/1Gj86/3zFHrPyOkzDSDeuEzARq+liQfUnmat0glmnzPLBV6DAdBUQXf+Uf+LV5ww64BVMMjjdRty0fEzLcwD9Vw6yNx0VgxAcbjqXwGygAFAAKOAmCgAA7SYTBcwECjxTAOuR6OKaCLnOkNVFjD/fsHmCPCr/TMqz9dkJcpq7ZXBejzNGbW1jb5s+05bMgEFDiGIl91X2Vrx0lMeMizAS+/O+Zl992HyJvvp/W/QhVTfzkegmnkb8kL+SXT5/UlDpoIZT7AIBJZuZ7ugE2NibCTLjrwhG3M7o4hQNnIpraRiYOK5qxq2Biq6sgDbtO33pRZPJpM3YrePtM5RedmVrnWSbGwHokZERa/Q5KChIIpk6YruWuwUK9dambDNU3KABtL7kPDZc6iRtzZq1uE7ZQ5/pdmbAoBvGStkLhy/XK6Bkc87g0+zBBLOwTr5cr+zBiTcArlT/wK71fc4XtAFpfU/Y+b5cr725X6b0RlQJ8+K77m9If8vsau5QkpkCYJ0yEwR8nbECqpy7wovvCS+9TzNo4bm3cWjmgc5mbMa8VGQDaN9Y5JMIBMSAnpeJAJ0CBYACQAHPUQAAaM+ZazDShaAAWs/XP23WPanXxTSy3UsXwthsjsGI4FRE4B0JNICWr48yZHTYrDHDixY39vbQZ7q/GTDoc+W72Zvtvbl/gxAF3drkXXqXrJG+ZLaxP5D/DZ1/s/YIu7UtGe+2SmroS0ajMXswgX3Vl+vFab1BX2X+Czb2jBSzTCAY8bhwIIjXk1Ev4NaMzrI1UN2VFdCXXtSmUCez6fP94fqH+nx/V7bWSba5C4DGMIzD4VgD0BUVdp0+ivakQ6HemoRVmsR1NIDWpn2HNEc6SVuzZi2uU7Gdwcyv9/S+KLMqZl/NGLRQM2xWwOwrQeLHijcx7dtIHClaz4R1MlunGABNkDhzIqKNpuhLASWbsRcDQIMQHGazA77ORgEcEo+HrBOcWUoDaNHlD43kCy+izaZxF6/7pOm5B/TGp9RphHzVFC9/uPiIgHlAAaAAUAAo4OIKAADt4hMEzAMKvKAAIYLUVwoMWV26mIYXLiz0L1iHmDlHTrY6UubD0cVOoFjHDt3ixt5G5I3JvU+XQVcJ88124Fsz379W82NAyWazfPaBgdY29m2SWrNaK7mvHilaf6Pm8MF8H7NLvlwvBk8zAwEAmpFilokeoTo4qwfGiKSq0aJ28SxbA9VdWQFD5S1d5l6TyYSLGvTF53W5R13ZWifZ5i4AurS01Bp95nA4GPbCYXfWtCIgPhTqrY75Sh31GQ2godA3MUENPt5mrYoD8y2uUx3S+nXPTgKckj7TlmhR9ZGi9b5cr5Ol22DcMKV5ekzrX2y+KpmtKRvS3xpUdTFNWVunTCbTCNTHjitt1g7zdTvvYyUsZRpkEmCdYqQAiVkqgMlHJZzdE5Ggj3uNh1g4Y3OWXbhsdV4PwRxC+GkEBaAHFQBAu+x0AcOAAkABoMBCUAAA6IUwi2AMnqMALlBpw6p1MQ3Q+Ty01ZNiQEMwdC6Xdn9WHcuQrYxAKoacMe8WN/b3G8/R++Etme/Rpw7a7prNoNm7cWu1zpR/x+y3bSQ6f3J/NplMNjb2D5ou2GiEfSmq/e5kk8DGfrImM8vpG1P7RzfltozdSOsEhxDOTEN3qWUov2aovGkymYwkgfbnGKruuIvlDrTTLQC0VCoNCgqyBqCHh6dwBGbkQlpjqBAcGbu1qdt/AtDeaH/O3Dx7sLhOmUymDml9wXAKY+SUCS2qju4ItIc+003pMe3kJ6PMmnKidBsTDIoub2OdMplMQs3w2fJdTPXJiZu1R8VavsVRgHXKoiwgc7oKGElCW5csDlwlOLOE8oA+7jV260sjYX54xnSbdZfy7BAcO1PQFRxkXGt0F+OBnUABoABQACjgjgoAAO2OswZs9lwFsK5xXUyDIbNTeSiVVHvQsWakFtEElctWRlAMes0TmQ8H63RKkD6LG3sNCvkVrrWTPtN3J82gU3oj7LlZlbD0ROnWEfmQyQAAIABJREFUydtvJmdd6pL84ReOt7KxsddjWnvelb5UdYB5UZptJNjYs9WYTVqhRTberXiQ23s/pzetTjCbpkBdF1fAUHUH7U4zkgRcHwo3hOMiz3pDhZ4d1wfQJEnGxcVZo885OTn232b6otMUdw57S5uylQ2g4cZH9jcy45IW16kZtzatihiJVQpyL1Tu/T7n8zWp3mtS3jhcuO5e49mikbTJC0q5IOdB0wXmE9MRPLmvWlFRaNOFU2Xbt2Z+4Mv12pH18emynQ+bL9l+dgvWqclKgpyZKYCK+8Zu/U148T06BIc8+fTM2nHHWgltz0NwbE5EfGMRHQoAtDvOJLAZKAAUAAq4jQIAQLvNVAFDgQImkwnrl2nulGo5tbLVkThf5TmaGDFCn9qm9EujnaBl66PwQaec6mZtY69F1Wa+XVOKP6TqnrIMU4AwEnGdIWYHEtIA+mC+L189wJSkE9dr/Bg87cv1YmJr0ldJI5k/lLwl8z12GSa9P++bamGBWYPMV7CxZ6SYZQLDyeOxzbczugrbxO2jHvSvdZa6uV11I6rTl5yHmyMI5ZAmcR3cGI4O5LndKGZvsOsD6IaGBmv0OTQ0VK/X2y+CLvcwzZ01yZsYAK3PD4BrLDBW+5u1s6S1dcrO6g4sNhk6z6Zx+1sD69RsdAZ12Qqgoi7+qdf5p97g+y8WnH5TfNeHRKbxq4DdlNul8/ufh+D4/AmyMwV1uyEAg4ECQAGgAFDAvRQAANq95gtY6+kK4KNK5Q8p0KlsmQ+HkGo9Rw4jTqLNQir4hg+H/iA1I84Y/vxu7CU6UY2wML7rfkxH8MPmS7mDiT3yFoywsCUY1wlbJTXMp0feMlkNPaZtk9ZmDyaEt1y5XuPHab2RO5jYIa0njLYO2AEb+8lKzixHoUVWXi99UjLYMCDXGOwKLDuzjkCt+VWAUA7p8/11mfsIeR/SHAk3hGHDJfNr0rz07uIAWq1W37t3zxqA7uzstF80Iw5DYW9NcGfO+wyAhkK94Sa73nqxvy+LJed3nbJo0hxngnVqjgVfwN1BBff4J17lB/yZ9oBWJJ82Ep6yXmd0UwB6fQIV/XlfBrotGSVI4AG9gG92MDSgAFAAKDD/CgAAPf9zACwACtivAD6qVAVkqk5myXw4+LDC/ooLoCRc3M+EgZb5cPRp7c4YFNjYg429o+4rjCAPPKqv7pVmN4lwAhzs4yhdXbEdQtYLhXoTqhGkM9lQcZ2QTuPtB1ccz4xscnEAnZaWZo0+JyUlGY3TwC6EaljL/VYTv5KNnum0p3lAz+hOcUAlsE45QETQxDMFFEmnKN/ns8uo/55Zgoo86Lf3sJJcwUFWx1EAelUs8gPPgrsDuE2AAkABoABQACjgQAUAgHagmKApoIDTFcD6pNDZHNoD2pDR4fT+XKkDfWKLPrmVcn9eFyXz4ejim5xhHQDQYGPvqPuKJI2ZDcKWYWWXAGoe8qzHRY7S0F3aIbUSTcJqUivR5R7R5fgR0Ki7WO5AO10ZQPf09Fijz8HBwUqlclo6EGqBofwa0hzJBtDqiI+gUG8db/+0mppZYbBOgXVqZncOqDVZAagwlH/8L+K7Pnz/xaLLH3mO+7PJZGoUUQCa+WxORGBsGo/iJosJcoACQAGgAFAAKGBbAQCgbesDrgIFXEsBQqxW3y6B83pkqyP13DbXMs6Z1mCd49qwas29CpkPR7EnSbYyAq3nO6NDsLEHG3tH3VcaA5bXMpZQOdLBV8WVDzuqWdCOCypgqA7U5R424rDm6VpN8iakLc4FjXS2SS4LoGEYDgsLswag6+rqZqAM0hIFhS9/DqDD3tIXn4dCvZH2pzNobbpVwDoF1qnp3jOgvDUFkOFGwdllwssfUB7Qp7z1nYXWSi68/FYx+UnEcwC9goNIdQBAL7x5BiMCCgAFgAIupAAA0C40GcAUoMCUChDjGuV+ri6uSebDgYv6pyy/YAqQOgQu6lNfKaA8oFdHynw4hmynvCYJNvZgY++ofzVGo/FUXMuNNCq2rAHFHdUsaMcFFTCUXTFU3TaZTJrYr6lP0gYXNNLZJrksgM7Pz7dGn6OiogjCVkx8a6JhQ0XP6XOotzpyhTZ1OxTqjfbnWqviwHywToF1yoG3k4c3BQ/WiW58PnbrKyoG9MnXUKkHPS3mQ+Tfop4D6M8iEYUeAGgP/wcBhg8UAAoABZyrAADQztUXtA4UcKwCpBpWHedBZ3IoApvuWSE4DBkdlO/zT4cQwoV9jtWWbg1s7MHG3oH3VXh+/52MLgc2CJpyTQUMpZcN1YEUgI7z1SSsRlpjXdNOp1rlmgBaKBRao8+BgYEikWhmmhCqYYjzART65gSGfrhEHf0F5QHdkTizBqdVC6xTYJ2a1g0DCttQQFubSHlAX3iHAtABfzZ0edARsqMqKgTHhqcTDPpCMQbjAEDbuFnAJaAAUAAoABSYrQIAQM9WQVAfKDCXCpAQrDzA1YZWeeAhhEYY04SUMwBaF1XvDOXBxh5s7G3cV2H5/TnNIrUes1GGfam8S5LfOsbOAekFqYCh/Jq+5AJpUGjifbVp3xGqkQU5TNuDckEATRDEkydPrAHo4uJi2yOycZVQ9GuSNtLQ+bkr9MMlcxP+G6xTYJ2ycXOCS9NSABlqpIJvnHuL+u9pb21D6rSqu3XhLgkFoPeko3QY6G3JqFgDALRbTykwHigAFAAKuLoCAEC7+gwB+4ACbAVwgUq+IVoTQoVCxnol7EsLPo11jdOnL9IMWn29yBlDBht7sLG3dl81DMhfO8zz8uPtvF/dI1RbK8bObxiQc4oG2Dm20xoDhhOk7TLgqgsqYKi+q+PtIw1KikWGv20ov+qCRjrbJBcE0FVVVdboc3h4OIIgM9YEF9Qayi7rcvye0+dQb23qDtIwF8eNgnUKrFMzvnVBRTMFMMmg4OxSfsCf6RjQusYMswIL+GvHOAWgj2RPAOjtXHQBDxYMDSgAFAAKAAVcQQEAoF1hFoANQAF7FSDkOuhcrvYh5QENF3tQDGgjiqP1fOhCHuMBbcikQus6/Ads7MHG3tpNFV8x7OVHAejDkY1HnzTmtkzt2pzTLEqrs/e0TII07gmr9YtstGYAyHdZBeD6UE28rxFR0zgSHEI4s8DKjp1fhUIRHBxsDUD3989qAcVGK9HudEPZ5RcANHcL2pvl2FFYbA2sU2CdsnhjgMwZKIDJRoTnlwsvvksB6DNLCL1qBo24aZXOFz2gd6cBAO2mMwnMBgoABYACbqMAANBuM1XAUKCAyWQilXr1tSJdTCMVA9o5BNY1dcY6xzUhFeqrhQyAVuxIcIapYGMPNvbW7iuCNB54VP/qMydoLz/el5eLhyRaa4Xp/OMxzddTp35SghNk46Bic2Cllx8vvGBWXMy2PeCqkxSAGx9DYUux0YoJAN38xEkdzUuzBEFo7Pjp6urq/Oln3gG00WhMTEy0Rp8zMzNnqSQ+1owNFevz/dkAWh3zJdwQNsuW7alOr1NHitan9EZ45ufHgtW+XK9yQY49coEyQAEbCpAGtSR8J//k6xSAPrsMGWm2UXiBXRpWUh7Qn0RQMaC/jkb2pQMAvcBmGAwHKAAUAAq4nAIAQLvclACDgAI2FCDkOuWhVO2jGpkPRxtWbaPkAruE1IzIt8Uz9Fnmw4HO5TpjjABAAwBt+74K4vXQftBefrwV5wqupnSodFb3bLX9Ml6j0HaDJR3jX14uXnWjLLFqpGVYabswuOqaCsBNHIjzvi77xwkA3RLtmnbOzCq9Xv8TWLb3//MOoFtbW63R5/v372u1Uzw6mlIouP4hIevWZux5AUBHfoz2zwUSpdcpX66Xh38AgJ7yRgUFplTASOBjt7+mTiCkYkC/OWX5hVRArDGu4CABuRMhOI7mWP1jZiGNGowFKAAUAAoABeZRAQCg51F80DVQYNoKEFKtYkcCdDpb5sNBqoanXd9tK6CNAsWeJDaA1twtc8Zo6I39lsz3jhSt98zP5ox3gGeZjVuLII37wusYBu3lxzse2zymNFisMirVdQkgi5dMJhNfpjvwqP6LS0VpdXwdjGM4iP5sTSpXz4cbH2liv37uAd0a6+oWT8c+twPQOp3uwYMH1gB0a2vrdEZvuawRh+HmCB1v/wsAmvMh2pViuYJDcweUXVHtd8BnGOp1qK6gMQ9VYPzBZhpA8497GQncc1SQ6ykAvTttAkAfy0GNRnAIoefMPxgpUAAoABSYBwUAgJ4H0UGXQIEZK0CI1bKVEeqbxRSArrc3tuyMu3OdinBJv3xzzIsAutToBGAHPMtolzrgWWbj5q/skW4LqWIz6I/PFlT3SqUQbFZrXGUo77JwWKgOxu9kdi85lv3X84VyDZJeLxhTGsZVBhQnzFoAX91CAbj2njryr4bquzSO1GX/uJC28W4HoHk8njX6nJCQ4KipMVQHwrX32AAaevSuvui0W9yxwEigAFCAUUB07ZMJAO2/mIQ1TP6CT4jUFIDemjwBoP8WhWgQAKAX/LSDAQIFgAJAgflUAADo+VQf9A0UmK4CxJha5sNR3y6RrY405PZMt7r7ljfkdLPps8yHI98QjY84Pl6BBlENKDvBR4uq3fducbblRqMxvKA/OOt5LI43j2VnN4kkEKzQIkzvGEEmV4+2vhhVAyfIxKqRHzj1wVk9W4KooM9fXSm5k9ElVln2oWZaAwlXVsBQcUObshXp5NI4Uh39hRE3fxrhyvbbtg1BkFE7ftjhOeYxBMfAwIA1+hwUFCSTyWwP1s6rRlSreboWF7dA4csnGPSjd6FQb23GbjtbAMWAAkABF1FAEradAdC4aurjhV3E7NmboUGMn0Qgl0uwFRwqDLRfFgjBMXtRQQtAAaAAUAAoYEsBAKBtqQOuAQVcTQFCrqPCH1/IUx7g4sMKUu8pfyxOBtCqk1lGxIPelHS1W9HD7ZGq4fOJbbtCa9h+0HvCao9FNdUPyBlxKnukbCSd0yz68nLxG0ez4sqHmYqn41s6+SqMAPE3GNncL4G0x+tyj2KCGnXMl1CotyZx3UIC0HbOR3d3N8Og5wtAoyj66NEjawC6qqrKzrFMWYzUSXS8fWgvD3q45BmAflP95BMo1BuuCZ6yLigAFAAKuJQC4/c3MQAaFfe5lG1ONUb7DEAzHtA7U0AIDqfqDRoHCgAFgAJAARMA0OAmAAq4kwJYn1Tmw1HsSpStfYJ1jeODz1GXOw1j+rbqU9vMPKBVJ3jTbwbUAAo4TIEbaZ1PK0c+PlvAoGQ6seluRVG7eERKnXKm0qFdAoggjSUd4zfSOicX/vRCoQ4Gz1EcNinz1RDSFqfN+J6QdcO1IRSOfPSukfS4aCquAKCLi4ut0eeIiAgcd8y/NVzSrsvxg2uC4cbHE+7P4W/TR1DCzRHzdROCfoECQIGZKSAOXDUBoE++NrMW3LQWjBv/FoWcKZjwgD6YiYo1IASHm04mMBsoABQACriHAgBAu8c8ASuBArQCSMUQBaB3J8pWRniO+7PJZNI/bTYD0LKVEUYS/KEM/mXMmwIwRnwbXHU7o4sB0K8d5tHpTy8UnnvaFlk8KIXgfeF1vEbhmYRWphiTeONo1p2MLo0Bm7cxgI4dpADcHKF+8onJZNKm76biMHC/JaBRB7XtNs3MO4AWi8XW6HNgYCCf77BTE3Bpl453QJf9A9IaPQGgQ701cT5QqDcu7XKbCQOGAgWAAs8UEF37Kw2gBadeN+Ke8mYhPfl70tGDmeiXT6gQHGvjkW4peBkL/KsACgAFgAJAAScqAAC0E8UFTQMFHK4A2iyciAG9KgJtFjq8fZdtEG0fk62LMmPQRszjfAxddoI807DKbumrP0FnGiu/cSSL4cvrb5d/frHo3NPWR4X975zMZfKZRELlSCdf5ZnSLbBRI+0J0KN3CEU/FLaUAtDpu4ykY5xt3Uio+QXQJEnGxMRYA9D5+fmOVRIbraAc3ps4DICmQ3Bgw6WO7Qi0BhQACjhbgece0P6vkIje2d25VPtXSrH1Cci+DPSTCCSnj3DUGa0uNUZgDFAAKAAUAAq4jgIAQLvOXABLgAJTK4B1j8tWR+piGmQ+HH1y69QVFkoJA6+TCn59Pk++OYbG0Eq/tIUyODAON1bgCreDAcpefrzlJ3IPcRronNePZK04V7D6Zhm7AJP+6kqJFrbs+xzVfvd4ybce+7lW86Pb3RBoX7Ym9mtSJ6VxpObpGiOqc7tRzNLg+QXQdXV11ujzw4cPDQYHH/KJjZRTIb+jPmUANJ0wlF+dpYygOlAAKDDHCogufzjhAX3a29MI7Pdp6AoOwmnAv4pC0rqAV8cc33qgO6AAUAAo4HEKAADtcVMOBuzWCuB8lcyHo71fKfPhwEUedFIKHYJDeYCr2JFAA2joooM92tz6xgDGz5cCCi3y9dUSLz/euyfzPjlf+OmFQt/rpZuDKhnQzCR8rpUyaS8/3t6wOms2X6k66Mv18tjPruxPrSnjsvlof6464iOkPX4CQCeuJ1TDLmutkwybRwANQVBISIg1AN3T0+PwIaM9GYbKm7rMfWYAGm585PC+QIOzV4CvHvDYR3rsgReOgCf3Fu4m4cV3JwD02aVG3PKDYQvV3D8Lxo2bE5H1CcimRCoEx/oEBMSAdv9ZBSMACgAFgAIurQAA0C49PcA4oICZArhAJVvzRPuoRubDQSqGzK4u4K9wfi8V/HpPEhOFAzqVTWqQBTxkMDR3UeBx4YCXH2/j3QovP96djK69YXVs0Dw5vfxE7vun8vgyqx6yNIBO6eV0y5s96lMjLPTlerkjgMaGitUxX8KNj9Qxf6NCcGTsIZQe9PuZ/qc6jwCay+Vao88pKSnO+E1iNJJIe4I2gwr5zf6gPRnO6A60OUsFehWtHvtIjz3whK4Hs1RyQVYXnH7zJwC9jNDKcaWnBLgjSOO3Seg3McjhbMoPen8GKtGCs1UW5D0OBgUUAAoABVxFAQCgXWUmgB1AAXsUwIUq5cEUQ3Y3BaBrPeiQK6xXKt8cI98cK1v7hGbQ6iuFWPe4PaJNq0yHtOFGzWHw6ZY3T0s3Dy+89lY5A5qfVo4E8Xo+vVD44Zl8JpOdiCgeVOlsHXNEA+i6sRJPU1WqH3NTAI32Zamjv0B7szRP10Kh3nDdfaPR445ymi8A3dnZaY0+h4SEQBDkpH9HRkRjqAmiHzkwDNpQHeik7kCzs1GABtAH83096pEee7AhDad9uV4AQFu8i4Tn3p4A0OfewrVyEtZYLLYgMx834Cs4CH0I4Z50VKQGAHpBzjMYFFAAKAAUcBUFAIB2lZkAdgAF7FEAH1UqD6bouW2akAq0UWBPlYVRBuuWKL57qtzPZTygNfcqSAh2+OiKR9LZ7kIemy4X5Dhc2wXcYGGbmEHMS/1zGgbk5xPbOEUDr714ROGrh3nfBlfBUx2eCQC0290qcG0IFOqNC+ug8LehUG9D9V23G8LsDZ4XAG0wGB4+fGgNQDc2Ns5+XNZawEbK4OYIBj3TCV3mXmvlQf48KkADaP/izfNow/x2ndD1AABoa1PAP/UGDaD5J161Vmah5h955vu8nUt5QB/ORhEcAOiFOtVgXEABoABQwCUUAADaJaYBGAEUsFMBrFMMnc3Rc9vU14oMmZ121loAxZCKIcXOBMXOiQDQMh+OJrDMGeOiAfSpsu1VwnzP/Bwv+daX6wUA9HTvLubsQS8/3vun8uIrhj8+V8BQaTrhH92kg/EpWwYAekqJXK0A0hINhS1jYkAbKq67moVzYM+8AOicnBxr9Dk2NpYkneWHbjSScH0oXHffDEBrnq6ZA6lBF9NVAABoAKCt3TO4auw5gPZfjAq7CL2zXpuwZsM85m9NptAz/Qmvn/rvk3k0FXQNFAAKAAWAAgtAAQCgF8AkgiF4kAJYr0SxN1kXUac6nK4NrfKckcNlg7KVEYz7s8yHo/RLw4UqhytAA+ighlMOb9ldGrxdewwA6BlMllQNLz+R6+XHow8bXBaQY0af72R02dksANB2CuU6xZDOZHXkx7i4hcaR+pLzrmPbnFky9wB6dHTUGn0ODAwcH3d8jCZGTFInQVqi1REfmQFodcxXTBmQcB0FAIAGANra3YirxgTn3prwgPZ/Rd9RaK3kgsw/XYCt4CD+uRSG5nYAAL0gJxkMCigAFAAKuJACAEC70GQAU4ACUypAyHTKH1I0IeWaoDJ9Sptxqnf5p2zQXQpg/TL2CYQUgP4xjRCrHW4/ANAAQM/4poqvGDaDzszXdbfLhyRaFCfsaRwAaHtUcqkyaHe6NnkzLumAwpZCod463gGXMm9ujJljAI3jeEREhDUAXVbmlFdkGCWNJIF0JmtTt0MPl7AZtL7oNFMGJFxHAQCgAYC2djdismHB2WU/AejFfP9XMNmItcILL/9MIeYTg/yYRQHojG6iU+Kst0YWnnRgREABoABQACgwAwUAgJ6BaKAKUGDeFMBHlYrvnqqO85SHUjUh5c5wAZ63sdns2Ijgij1JqhM85hBC1bFMfEBms9JMLgIADQD0TO6bn+rczujy8uN9c61kqX82Q5+Xn8htH1VNGfr5pzZMAEAzUrhLAu3lablbTCbThEvs4/fcxXIH2jnHALq8vNwafX78+DGK2jrnc5ajJg1KtD/HUH1XX3JBm/E9G0CjvZmzbBxUd4YCAEADAG3tvoL7a4SX3mcB6MW4asxa4YWXf6cSu1KKfR5JReG4WIxpEBADeuFNMhgRUAAoABRwIQUAgHahyQCmAAWmVIAQQaqjGfqkFsXOBH1qmxHGpqyyYAoo9yUrdiTIfDl0IA7FzgRShzh8dABAAwA9m5uqaUjxzdWSVTfKrnA7GAAdXtBvQKfxZisA0LOZgnmpi/ZmatN2Gkmc9oBWP/lkXsyY307nEkBLpdKgoCBrAHpoaMipUhDyPkPpZUPVbX1+gDr2KzaAVsd8SSid27tTh7ZQGwcAGgBoa/c2PFjPP+7FBtCoyN54WdbadKN8AUSeeRaFgwbQOhQAaAfMHkEQip9+7DmKwGg0/lRcAcPU+epKpVKhUKjVjn/R02x4Go2G7tosfwZfIQhSKBQqleOjI87AGFAFKAAUcFkFAIB22akBhgEFLCiAto/Jv43VBJUrf0jRxTQYSQ/6S1F1JF11OF22OpIG0KpjGUbC8a8KAgANALSFf3jTyUqp5b9zMjeI1xOa1+flx/vobL5IoZ9OA8AD+tNpyeUKhdHeTE38SkI5RLNIAKAJwq5oMzObO6PRGB8fb40+Z2dnz6xZ+2sR8j5d7mF98Xk2embS2HCp/U2BknOjAADQAEBbu9OQ4SZ+wJ/ZABrht1krvPDyu6Xk4eyJcwjPFwEPaMfMcERExKKffrhc7pSNlpSU/FR8UVhYWG5uLv116dKlU9adTQGVSvXyyy/TfRmNs9pR9vb2vvTSS4sWLfrd7343G5NAXaAAUGDBKwAA9IKfYjDABaUA1itR/pgGncpWBWSqbxTDJf0Lang2B6M6wVPfKmHOIVTuS0bbHf+aJADQzgDQ+qQWze0SD3HYF6sM0aVDywJyEqtGXjvMS6yadjRJ4AFt8zfBtC+SqEESvkNb83TaNe2ugHanQaHepFYMPVpOg0hCMWh37QVScM48oJuamqzR5wcPHuh0OmcLSqqF1CxzPmCg8/PEo+VGnPJfAz8upQAA0ABAW7sh4YFawVnmEMLFfP/FqLjPWuGFl0+QxgOZEwD6Qe00XtVaeFI4cERisfjnP/85DXbXrl07Zct79uyhC7/88styuTw5OXluALREIqE7WrRo0SwBdHNzM90UANBTTjcoABTwcAUAgPbwGwAM380UwPkqxZ4k5cEUKhJ0AM+Q2Wk0eEoUDtWxTKVfmnxLrMyHo9iZIF8fZUQc/7cyANBOAdCJLTIfji66wWQyecLJmT1C9YnYZi8/3o20zjGlYbq/ZQCAnq5itssTasn4g018/8W4QmAkCSPh+N8baFcKFOpNKAah0DdpFknCHvcW6twAaI1Gc//+fWsAuqOjw/bN4JCrRkRDzfKzAyefo+dQbyjUWx3zpUO6AI04VgEAoAGAtnZHwQO1ZiE4CK3cWuGFl98vJ88VYSs4VAzok/lYv9zxbxYuPNHsGdGHH35IA9lf/vKXCGIrYCBJkr/73e/owl988YXJZAIA2h6FQRmgAFDATRUAANpNJw6Y7aEK4INy6HweUjFE4byIOo9SATqfx7g/K3YkqI5mOGP4AEA7A0CbTCZ9QjN0Kd9kMhHjGmdMnKu1qUdwuQaRqW3tOqzZDAC0NWVmnE9i8NiNzw1dxSSsIfTQjNuxVhHpSIRCveHGcBpHahJWWSvp7vkkSUqs/HR1dXX+9OO8EBzp6enW6HNiYuIsfbjsnB0jqoNCvbUpW83oMxTqrYnzsbMRUGwuFQAAGgBoa/eboadMePFddggOjzqEUKE3htfjKzjI19HIvRrHP521JvuCz3/8+DHjXJyWlmZjvOz4G/Hx8SaTqaGhYfOznwsXLtioOPtLarWa7mjz5s2zbG10dJRuav/+/bNsClQHCgAFFrYCAEAv7PkFo1toCuBDctWRdO39SsV3Tz0NQKuOZsg3RNMMWv5trHxDNKmdCd2zfU8AAO0kAG1EccX2eJyvIjUIIdWSEHhL3eqdOL8AGiWQRy3XHrVcpT9S/TQC3US132UqTpmI6wwxk0CqH/Pleu3KdkoMaH1rjuTRThLV40ohrhQ5llQibXFQqLcu7xhNJPXF58yGtmC+4jj+E2S29X8nAeje3l5r9Dk4OFihUMyNzoSsl5ru3COTAbQu64e5sQH0Mi0FXAdAE0ZHhke3vzUAoK3dMNrqeMHZZc8B9InXjISnvFloMpl0qPFyCeUBvSoWCa8HANrabTLtfAiC/v7v/55m0Bs2bLBRn4m/8ctf/tJgmPY7czZaBpeAAkABoIALKgAAtAtOCjAJKGBVASNGyDdMZfbwAAAgAElEQVTG6JNaVCd4uif1VsstxAvQqWzN3TL51jiZD0d1Ikt1JN0ZowQA2kkA2mQyacOqNXdLsa5x6r/d46THRI+Z7o06vwC6UpDry/ViPv3KacQ02JzxDlNxysSOrI/NlHEqgCYRnfD8ckNXsaYqVl30EBV1mfU+m69IawwU6k35QT8Ly2CovDWb1ly57jwCaARBwsPDrQHo2traOdONkPdR0TaiP58MoA3lV40YIAhzNhX2djS/ALpVUhPTEXShYs/WzA98uV67cz67WLkvoeuBDp3J+0AaRJXQ9eBK9Q+7cz7z5Xpt5318vmJPVPudMS3fhhwAQFsTBxV0CC++xwLQrxL6mcyLtfZdPF+kNm5LnogBfa7Ig8j7HMzLN998QwPoX/3qVyiKWuyRHX9j06ZNFsvYyDQajWNjY2Kx2KyM0WiUSqUjI9M+g8SsHfZXhUIhEonYOTNLC4XC8fFx++uiKDoyMjI6OqrVau2vBUoCBYACLqsAANAuOzXAMKCABQUIqVbmw9GGVsl8OJqQCgslFm4WXNCrvlYoW/OEGvvdUvk26j01h/8AAO08AE2qYfmWWHxIrrlTqjqSjgtVpM7xPuwOvyXmvsF5BNAEiZ8o3cZmxwsGQFOPQGoTx0PW4UqR6MpHysxrRhwlDWqHzC/SGg2FeqN92TSRVEd85JBmXbCReQTQBQUF1uhzVFSUk3yuLU4BLmqYjJ7pHE2cLyaosVgLZM6jAvMFoFECCW2+yP6Nyk5vyXyPNxA3rbcxOmWNO7P+ym6ESW9If6uUz7MmMgDQ1pQx9JQLzix9DqAD/owIpvHY1VqzbpR/rhBbFYt8GoEEVgEA7ch5S0pKYqJwZGZmWmy6tLSUKZObm0uXqa2tXfbs54cfnr9Sk5SURGfGxMSYTKa2trZVq1bRTtbbt29nGs/Pz//8889/8Ytf0M3+5je/8fHxoWOAfPnll8uWLfv000+Z5VKv1y9fvnzZsmUffvgh04JAIKA7ooNpVFdXf/fdd3/84x9feumlRYsW/epXv1qyZElqaipTnk4wtVavXm12ifrrS6s9c+bMX//613//93+nDfuHf/iHxYsXBwcHw7DlFyKbmpo2b978m9/8hu6XrvXb3/52165dc3PYw+RRgBygAFDAIQoAAO0QGUEjQIE5UgAfVSq+T9KG19AQdo56dY1uVAGZit2JdAgOuKBPsdsp4T5dBEC3Smq4PY/pT62oaGYzgBFojbAwrjPkYuW+77I/2Zv75ZWqg9EdgUOqbhsNOg9Am0wmQ26PYkfCRCzv1ZHaRzVwkQcdN29Ddval+QLQKIFcrjrA4Aw6sZAAtNFoHA9ZJ7r8Ic0axm5/rcq+hUmH2eLPLE17QMO196Dwt6GHS9VRTokiMjPbHFuLJEmplR+nxoAWiUTW6HNgYKBQKHTsMG23ho1WWgPQUKi3oeqO7erg6twrYA1ACzVDqb0R9tuDk1hC1wMlLLOnihpR/liw2uw36uSvyT2P7GnNZDLlDiau4r42uQV2TnjLFYutAQBtURaTyYTwW4Xnl/MD/swwaCPuWRz2YCa6PwO9XobFtoIQHNZuk5nkwzD8L//yLzQ53bJli8Um9u7dy6BVhgtbPITwypUrdMmrV6/m5ub+0z/9E/110aJFDIC+ffv2z372MyafSfzsZz+Ljo7+/e9/T+cwhyJKJBKmDPMkrK+vj8584403SktL//Ef/5Epw078+OOP7BE1NzfTV3/3u9+x800mU2dn5//+7/+y67LTv//977u6zN9IO3nyJLuMWfrXv/51TQ140GsmM/gKFHAbBQCAdpupAoYCBagD3MRqLafWkNkp8+Gor82QS7qpkuorharD6dCpbJkPB6kZUexNdob/rIsA6AP53zBbyhs1h2cwZWPaUb/CNUwjZonghtMKg9Ris04F0EbSqPwxTXUsU7Y6ksbQ6tslpAq8sf7CVMwlgNahmhGor3m88nHr9a2Z75vdJ75cL+cB6EMF5if1OTUEBy0xwm8VnPIeD15LswbBaW99azYJz/a9TqQ9ngkKrI79Sps82/N8Xrgh3ORLd3c3Exaa2Ug7xHaCIKKioqwB6KKiuV4K6RAc1hg0XB/qkFGDRhyogEUALdQMb+d95Mv1Cmu2DG3NDMBJ7Gr1IV+u1/68r5Ww5QWUXeVRy7XJv1En5/wfU+6QNrArWkyLNCNrU9+cXH1yTt1YyeQWAICerAmdg4w0j9/fKDj95gSAPv4XErPskmmtBXfPP5pDAejoZjwMxIB29Fxu2bKFhqf/+q//imHmDzZIkmSg8IEDB5jObQPo77//nk2fGQDt5+fHBrV/+MMfPvroo9/+9rd05s9//nPmqp0AetGiRf/8z/+8aNGil1566b//+78/++yz119/nfFHfumll1paWhibrQHo6upqtrUvv/zy66+//sknn/znf/4nY88f/vAHdlCO0NBQ5tKiRYt+/etfr1ix4osvvvi3f/s3Jv+Pf/wj0zVIAAWAAu6lAADQ7jVfwFpPVwAflMu/jdNz21T+mbqoBkLsmPfH3UJW9Y1i6EwO7T9L6bA1zpDZ6XDLrQHoEaivSTyNmCcogeQMPiXImbiTdEjr2VvKGQDoOlHxhvS32I1MTn+f84XFAJROBdAmkwnrFKtvFiu+T5rwg/bhKHYmqA6nI7WOjFXHvjFgGO7p6cnPzy8tLe3t7XV2FDkcx+vr6ysrK5k/8dnG6PX6kpKSyspKoVBIkiT7EpOeSwBNU4nJtweTMy0AzVcPjEB9Fj/d8mYz373i0QxmyHRiDgC0yWSSJwSocu4yzm58/8XiO9/Iog4Q6qmJkpnBzFe0Ox0K9dYXntQkrNJl7oObOMwlz0k4D0BXV1dbo8/h4eEW/6E5VXZCMWCNPkOP3iEgW6F4nWoYaNyaAhYBdPFoBvOLbkoGzdBnX67XSu6rrZIp/O8kOtGalDeY9n25XhvT375VezSy7dbBfB92vi/X63TZTmuWM/l364+b1bpbdzxn8GlY85VVKa+zLx3M92FqMQkAoBkpzBKEViE4u4xygvZfzD/+F/5pb0/zgL5ZjvnnovdqcHAIodm9MfuveXl5DDPNzs42a5Adf6Ouro65ahtAMw0uWbLk9u3bOTk54+PjTU1NTP7/+3//r6/v+cuFRUVFv/71r5mrixYtYhZN2x7QdJU//elP7JAXJSUlDFDeunUrY7M1AP3WW2/R7bz00ks3b95kAm7gOH7+/HnGKnawkf/5n/+h85cuXdrR0cG4ZhMEsW/fPqY1pVLJ9A4SQAGggBspAAC0G00WMBUoYEKbhYq9yYbMTlVApj6plZDpPEcUTUgFdC4XOpcr3xiDtork2+KxHonDh28RQP8fUNuS+d4q7mvlghx7ekQJ5HzFHl+u1/Uav+ky6B55y6aM5ezN5HQBtA7TbMl8j92CtfTV6kOTh+NsAG0ymTR3y9AWER3Om8HQMh8OWu9gcNPY2Lh+/XomFh79Z+vf/d3fffPNNyUl5j5ir7766m+f/TQ1NU2WxWQy/elPf/rtb3/7H//xH6Ojo3QBqVRKV/noIyrmb2pq6rvvvsu8rviLX/xiyZIlzJbj4cOHS5Ysefnll5k/uP/rv/7r4cOHzN/WTKd2AmiCxKuE+fSnYayUqT6thGMBtI2ugxtOs+/DyLbbkwvPDYAm1BJ53BEoL5jNoPn+i/8/e+cBHMWV538czuvduqtan3dr97xVe1e7+9/y7VU5yEGO62wMBoONSMY2BmwwYDBgGxshgkFgRAYJxEjAKGeNcgTlnFBCGaXRaIIm9aSezvPfVsutVmtmNJJG0oz0prrs169f+L3vexp6Pv3r3xs8vYTCphiUnAnBYcz9URfyjiFlq6nopMViIXWzGhdivJ6znDNDAFqtVgcEBNgC0F1dXbM8TIvFgran2QLQ+ti1pFk7+yaBHu0rYBVAWyyWpA4h+71kh0Hz6HNhv/VwrlwbrjecYlv2Enl8lvrPXqiDKYCT2LmqH7hXP0l9haSsP49kqhgx/cfJL3KrRLUEsN2Vjt051kvk0aFuZK8yCQCgeYJwT4dCd8n81w5H4Xhy4OhLhmoR9+q8TwdW4utikKN5mLB2Kj4T816f6QyQIAjWB3nLli28ptj4G3//+9+5lyYE0Pfff7+vry/3TaMNGzYw95Z/+9vftFr+v0F37tyZmgf0Y489ZjTyf2n6+voyfb388sus2VYBdHZ2NnvHe/PmTbYwk6Ao6rnnnmPNZjKlUimTc99993HdopmrKIo+/PDDTIHZf/mJZz84BQoABaamAADQU9MN1AIKzI0CWOeQ6rNIY3itemeCIaicNFnfVXlujJvhXvX+xZrvUqCj2ZpvUygEV+9MmIkOrQJo9kVaRxg0S5+9RB5rkp7rg0bdEGwZbMZhuVFSKy06V/XDumRP7o9ML5HHZAF0VEsAr4UvMt49V/XDsZLtvPx/nd4dquFZNQsAmpDrlRvCueiZSRuCK4hBiGfPlE8zMjJ46Jm9D160aNEDDzwgEo35kfnnP/+ZKVBVVWW10z/+8Y9Mgfr6eqaAXC5nch5//PGbN29y7+/Zvu6///5/ObkcPXqUzeElTp3iv/3tIIA2YQZ2Qr/MfNeqzRNmzg6ALpfksqZ6iTxOlu22SltmB0BbLBbo1lXxQQ8egJacfFNfHk0RU/kFbso7BAk89fEbaC5543XTrQM0puzkuztNOB1uXWAmADRFUQkJCbboc2pq6pwohnXftgWgdRHLKJKYE6tAp3YUsAWgHWHQU6DPFovlcPGX3C+9tK4Irnl6RLta9Ay3gFh3j1uAl66Q3OYW/jz9DYwYc/vnXfg5t0Dk3VE8zTQFADRPUu6pIvhL9p8D6dll2qzz3KvzPn22BFsSgmyIRS6U8mNEzPuxz8IAd+/ezdz1Pfroozg+eoPBjb9x9OhRriUTAuh169Zxyw8NDT344INMLwKB9RhQXl5e7M2n4x7QQUFB3I6YNOu4/d///d/sVasAesWKFUynjz/+OFuSmygsLPz98Oexxx5juHlFRcU/hz+8MTK1YBhmnTxyc3O5TYE0UAAo4C4KAADtLjMF7AQK0AqgzVLlKqEpoRE6lmO4McEboPNMMlN8g2pjpHJNiGpjJKE06i8Xz8QArQJonMQYJkgzZbt+0Dz6XCG5PaGRCGHm/m4cn54UgDZhhg0pL3EbOVayHSdHflQ0KCp47+omdfBjBcwCgKZ3xA6uGA+glauEqo1ReLdqQtEmLKBQKJjNwRctWvTQQw8tWbJk//79e/fuZV8GXLRo0a9+9au+vtG4H9MB0EyMvEWLFj3yyCPLly/fsWPHs88+y97rs17Pjz322Pr167/55pt3332Xvfrggw8ODg5yRzSbALpBXr7nlhf34C6eycaA5o6CTatgxca019hmv875wIRZj7k8awCaREwjL1wfeILlDkxiKHTXFN6/NiR/QRPJoBcZLmmuumKxWHAJ/+kOq8m8TMwEgG5qarJFnwMDA/V6/ZwoiXXn2QLQkMCT0I68ITEntoFOrSpgB0DbZ9BTo88Wi2V79vvsl96/wkaP37dw09iY++MfBnMHEnl3zHPla3d8uVctFktWdwy3u+OlO3kFAIDmCcI9VdzYRj+SHN6HUHp+BWFQc6/O+/S2JPRUEfZDNh2FY94PdvYHWFlZyd7vcZlpcXExm897lcc+gL7vvvuam5u5A2GJ8IMPPgjD1ndVSUtLY7tzHEDfu2flwdjdu3eZpn73u9+xZlgF0P/7v//LlDx79ixbcmoJJn7d4sWL2VFwxZxam6AWUAAoMCcKAAA9J7KDToECU1SA1JhoAB1br/v5til+dPOHKTbnVtWMkXXDgDJSuTYUa5Fp9iTNhPlWATTNkhxg0FOgz/QO7E4F0Pc0LdxfoR+nvGTExjAa3nvBpyvHbGNtsVhmB0ATapNml8gqg9bsSiS1MEWQFElNeYqjo6OZm9Rf//rXrMMy01pubi4bwC44OJjtYpoAetGiRR988AEbYJqiqK1bt7I3yosWLdq8eTN71WKxhIWFsVfT08e80D2bAJodPpvYkb2Mu4QmFQOabYSbuHbHl9ugnbfXZw1A03FgyiIlJ17n0Wf69KCHJo32SafwMQ6G3BGNTxuz9kICT134+7rw9yGBJ9pFx+qhphQCfnzj7pLjdABtNBqvXbtmC0Dz/q5nUyW0I8MOgMZ6CmbTGNCXIwrYB9C2GPSU6TNBEdxnvZvS3+QZqTEPcb8VvUQeWrO9J68ny3Zzy+f08N8Aa1c1cgt8kUFHheJ+AIDmqsFLywLWDYeBflV80EN29VPe1Xl/uisV9SvCDt/CAiqAB/SMzPZf/vIX5n5v69bRaO9s/I3nn3+e16t9AP3nP/+ZVz4kJIRpn+uSzCvT3t7O3nM6CKD/7d/+jRvlg23QQQBNURQbLiMnJ4et7mBCq9WmpaX9+OOPy5Yt++tf/3r//fez9jMJAKAdVBIUAwq4mgIAQLvajAB7gAL2FKBjF6wSar5N0Z0tIKGFtU83nN2mXCU0XK9UbY42RtRq9iVTiPOdNWwB6AkZ9NTos9MBdLnkFvdX6IWqH3nr6XZvErfAD/mf8ArMDoC2WCzm4m7VlhiGQWt2j4HR0JEsvFdNqPiB53im2jndt28fc4fKi6zHVNmxYwdz9ZNPRoc/TQD93HPP8TYVlMlk7HbhTz75JPfVS8aMxx9/nDHjzJkz3LHMJwAtNw6s5ezEtT37fTtR0acDoMeH0uZKOj5NkaQq9gALoKXnV7Bp8YEndPlBmLLP8XAcpoKfIIEnXOKni1gOCTzxAetRXMabMZ9ynA6gMzIybNHnmJiYyc64E6VGmmOg4FdsMWi0LcWJfYGmnKLAhAB6PIPGSMyvYh/zz+Vq0TN2npyNt5CiqOSOkBsNp5kjsf06r0xY80XuP8TjeTGv/IGCjdzy9fIyXgGtWcUtsDaJj7QcAdAUSTJ/VhQxAiJJFKYwhESt+1TybGBPmXZI1ETohihre+3SBWwEOyJ0CtI85qk52yxp1pPYjNz3Ss+voN+JOfSs+MCTssAFB6C/zUDXRCG7UtFDtwCAZpebMxM+Pj7Mzd7vf/97Buly429cunSJ15l9AM2NvMxUPHbsGNP+c889x2uKPeXuN+gggP6P//gPtjo3wQLoRx99lM0f7wEtkUgYqxYtWsRz2WZrWU0oFIqvv/7617/+NVudTXAxNADQVtUDmUAB11cAAGjXnyNgIVBgVAGsS8kAO/2V0tHchZFCKvqUq0MM4TXqL2O1PpnaH9NIBKcwgjShpAEh5HpiECIUetKEMuCSIinKPOmbaTsA2g6DnjJ9tlgsBIl/l7duY9pr7MH9GTnZGNApnaHc6kkdIbzVwfvde6nmIK8AA6CLauPxXjXWMYTUiNEmKVo3gDZLkYo+tEaMtclxiRap6EOq+tB6CdYiQ8p7sbsytFlqvtWBVPRibQqsS4n3qLC7MrxfgzYM0keNGOtQmPO7zEX3SCOC1kvwHpVJ1KT+MtaqH7RqU5Q5t30KM8gMJzIykr1hvXTpEg8NDw4O3h7+dHd3s8OfJoDOzMxkm2ITv//97xkzLlywsuceG5LP13fM+9TzCUDz9h7M7o5jxRmfYAD0VtHL6oTDQyE75YGfKsP36ApvKKO+Vycdh/KuGaridYU3dPlBcGuBruC6viSMMGqM9emGGhHS34BKWnGVGJPfM3fXmDvLzJ3lcFuhuasC7iihT7sqjXdSkf5GZKAZETea2ouh3AD51Q0Dh5/nomc2LRdsxBTdJGoab+f4HGPOD5DA01x1BQp+mSbR5RfHl5n3Oc4F0D09Pbbos7+//9DQ0BzqiQ+16qO9bALo1km8nUMzNbOewjGGx+FaGaEbIhEjiZhIWEfohjBlH4maKAzB1QM4JKdIgjTrUVkn0luHye9hqn5U2oH0N5i7q81dlfSa7yg1d5abu6uR3jp04C6m6MY1g6bGbGyol6WKFIEjvXdIZOpP+CYrvtWnBVYzbbVMYmaahJr1uErMjZBAURRhgnjIkkSMtG6Y2dxZZmrMwhQ9bYPlXiKPAwUbbbXP5HP3JPw87XXmH9PJ0mf7XVgslvy+FO4/014ij/H/EPMa2XNrFbdKp7qJVwAnMW6Bfw0WJcZsqcoA6OvXXpRd/EiT7Avdujp0c7sy8ltdcQiUGzAUuksZsVd2aZXkxOvygPXSCytVcQd1BcGKG1uHhNvVScc16aeHv4QFatFRdeIRXX6QvjRCV3BdVyyUnnl/KORr+pu58IYm9ZQq1lsVd5D+Ar/6ibE+A5W0YooeTNWvyw+WXlgpPbdcm3OJ7i7qe3XCYV1+MNxRSpcZXsyYsldfEqrNvqjLDzY1ZmnSTyujvjPfq4RbC8xdlYOnl8AdpcY7aeauStPdPF3hDUNVvKkxG24tQKUd9J8A/bVfZu6qMN+rMvfUmu9VGetS4LZCU1MufTRmmZpy9BUxuuIQU1OOsS5FXxGjL4s0VMbJA9Yrrn8pOfmm+MATqjj+TRFP6vl3mt5OHMvDfi7EzpZM+p55/qkxEyNqaWlh70jz8vIsFgsbf+OBBx5QKPgbqtsH0GvXruUZeenSJab9v/zlL7xL7CkLiBctWjQ7AHpoaIgddU2NoxHJDAbD008/zVZ86KGHXnvtte3bt58/fz4rK0upVD7xxBPMVQCg2ckFCaCAeykAALR7zRewdqErgHUOKT8OV22K0gfy/V/mvTRYm1y1KdoYU0/zytUh9LEuVLk+zCq+NMXVk0aUGDKQRsTBSA5Ym5xC8fxOkZfIw7/2sC09x8fimA59ttpLTnc895fkpGJAd6qbzlZ+zx7NQ9XcLoyo/quspdzGUzpDuQXYEByZ+w4oVwnV2+LosCccP2XoaLZqc7T660TocJZml0izJ0nrna47eUuzW6T6PGpka8E1Idof0/UBJZrdIq1Phu5CodYn0xhWYxBWmURNxug7SHU/LqE3G6Tp9nBYc6uTqFwl1F8pxdr4t+Y8g62eQhDE3YHw8ccfP3DgQH5+/vjtvNnq0wTQ3PAabJv/7//9P+ZGOSvLyn50W7ZsYa7OVwA9qO9bI3qWXW9fZLzDYyKsUEyCAdBfJrwweOqdwdNLJMf/OXD0RcmxV8Q+zwwcfZFGw+zOgQefZknxSML7KfGhZ+VXPhYfeGLgyAsDh58fOPSc7JKX9Nxy2cWP5Nc+k55dPnDEc+CI55BwuyJokzJiryb9tCrxiDLmB35TvwSGprclLAnDITnPzvGnplsHIYEn1lvIQEl9jNf4MvM+x4kAGkXRmzdv2gLQpaVz//xVn7jZFoDWZRzSZl1QxXrLr32mit4/cOQFRfAXg6fekQWsk5x4Y/DMUrlgo/TCSvrJh88z0gsr6RV76Lnh5T1uVR94go5Ly13tw2Fqba1Ye/k+z2hSTiD9jfRTTxOEDraxD1doGG22HpbdKYsWlXXqikMIk5ZpjSJw093b+rJIRNykyw/SZl/EFD1sR8baZH151LB5MIkYUUkrIm5C+huMDZnajHPSs8sGzyyVXvhw8PQSbcY5RdAm+ZUN0rPLxT4eg6eXyK9+MnD0pcFT7zI6/OLTSsd5Lz7p4QiA5vlBe4k8nEufMRK72XiG/UpkEp+nv2E//sa/dk349vZabi3ev+yMetwCXiIPHaJhVbVYLCMAOvhVybFX6SV39EV6QZ58S3zgCXo1HnmBu3hoGU8vGTy9hJspPvCE5OSb0jPv8zLtnXo/ae/qL9+0jpehA2WcfHPk74Wt7uMhF2xUBG3WJPuqYn5URn2nCNpM/5PB/LEc9Bj8+W2x95PS8x/IA9aLDz5Nj+LccumFD0f69fFg/mVh/hj1pWO2i+RqOF/TQ0ZqsRD5PAE5lgcA9ExN8lNPPcXc723fvt1isezatYs5fe+998Z3aR9Af/7557wqmZmZTGsPP/wwC5d5ZdjAdLMGoC0Wy29/+1vGsIQEftQg1ryCgoLc4Y9aTcdeP3jwIFPlvvvu8/b2Hn/TDgA0Kx1IAAXcVAEAoN104oDZC1QBfECr2hiJlHTT/r+GMe4t814Rc0GXcnUInH7XFqwczV8dot2fagyt0R7MUO9M0PsX6y8VG0NrdOcLdaduGwTl+iulpvgGOpT2qdv6K6WG4ApDYJn+crExvDZHdNU+gB7vB/11zgfMD781Sc85suvghDM1HQBtp3GMQH1Ld/J+o453pGI8oLOP/oQ2Dmp/TDfF1SvXhmp9Mowh1aa4emNELa2YsEr7Q5r+UpHubIH+YpExtIYRUP1VvPaHNOinbO1Bmjvr/PJ0P9/W+eVpdiXqA8uMUXXmgi44vQVOuwtntZni6nXnCwxB5dDx3NG5WyXkpzeEG4IrprAz4blz59jd/5jb2UWLFj3wwAOenp4+Pj5tbW08raYJoHmtMad///vfma6Li63smTkpAJ3THf9x8ovcY33yC9zZ5F5i0r1Qh1Wr7Gc6MQZ0cP3PXAvjWq1vzs7awwDoL6LHYDg+azjwhPjQszTRO7NUcvJNmiwwGMLHQxG0WZ10TBn5rTrpuOzSKm3WeU36GU3KiSHhdlX0fk3KCfmVjxVBm5WR+5QR+2QB6zTppxXXv1QlHJL4WgsGzTTr/eTgqXeNdSmE3l6EVnPtdRpAD1QyMaAhwQsLLQC0xWJxIoAuKiqyRZ9DQkIwbI4pCS5rHKHPIUv1Wd48Ei31e1Pi+/rgz2/LLq+WHP+n9Oxy2eU10rPLaf9KLko+8MTAYU/5tc9oonp2meMMbmolB/3eG/jpZen5FXLBRvpv4dpn9DMe39cGT70jPughOf5PbcZZZeS3sosfDYV8TXuwhu5SBH8hv/Kx7OJH0jPvK8P3DIV8rQjaPHTzqyHhdsaDVVcQrIrer4z6XhG0WXphpfzqBsX1L4ZCdqpFP8kDP6VLhnwtC1hHFwjeoo4/pIo7qM08p0k/MxTytckJfI4AACAASURBVDLqe1Wst+Tkm7JLXnLBRm3OJU3aKVNzrjJin/zqBujWFU3qKU3KCbpY9P6Bw57sqKVnl8kueYnHkk36kZXfe2IfD7YYL1Hs+4SDABonsW1ZS9gvrh8LPp2Upzb7bTY+cU/TsueWF9syk1iT9FylhPaItP/Zkb2cW7FTPWYLMvqhAkVwC3iJPIzomEAWDIAO9v+FCPsMY9mxC5In2pRPB454ygPWy69+AuX66wqCZRc/kpx4Y0i4Q3bxo2H2/ZI88NNfOPhLQze3y69+Ij3/gSxg3egjRhYuW02wE+3joRB8rorery8Nl1/9hF60N7Zpcy7JLq8Z+bPyfgpuyTfdzdOXRcour5Zf/UQVvd9QFc88qqTh+5n31cm+khNvKK5/oRB8Lj7wpDabHw/B/tS4+1WUoFJaiTXRyKpI5Hj+HH+1uruYduz38/Nj7gb/8Ic/4Dj+2GOPMafh4eHja00WQHd1dbF3uTExMeMbtFgs3L2vWUjNjcvBftF1dnYyrU0zBIfFYnnuueeYpjZt2mTVqsHBQdbyjg76lvWNN95gcjZs2DC+CkVR//mf/8kUAB7Q4/UBOUABt1AAAGi3mCZgJFBgRAFCaaQ3IUxpVq4STgHJubWOWIdCs0sEZ7TwAeV4ZDmNnNTv9k8IoHkMmv0Z6RT6bLFYZgJAK4yD+/M38H6gXqk7On5JMACa8YBWrg7RXyoy3KjUncrT7EtWb4+nQ5B/I1KuDtHsTVLvTICO5Wh9MjXfpdCT4iVUrg1Vb7UeUkO9NVZ/pdQYfQc6cQs6nAVntpqSm0zpLdr9qWOqeI0D0MMtQ0ez8XvK8dbaz6mrq3v99dcffPBB9gaXTdx///0ff/yxyTQaYMHFAXTmvRje9E142qiotK+P1avOAtAkRW7JeJtr5D1Nq9Ue2czxAJqJj0FzOsHGwVPvDvq9R6Ous8sHfnqZJlAHn6ap08GnaWe3YedomqYdeEJy7BUGsdF+kafeZZia2PvJYZ/TUUSlit4/JNwxcPTFgSOjeGvEaY5LPbyfFPs8A926Sphot32rH/OdEHrvwY4MKOglSOCpj/qQwkaXltUq8y/TWQBaLpf7+/vbAtD9/f1zLp25JoiJtaKPXWMqOskF0LqI5Yx5hF6lK7ypTjxCszC/9+RXN6iTjtM+uezS8n6S9u5nnfrZfJCYAQUcBNDcXQfZ7y5B/QkWzUxt7ZEUmdh+nbstIdP4Z6n/bFBUONImzwO6VVnHq4XgMGswkyAogluGBdDSCytpgm9V5IO0I7ni+hf044SA9UMhO1XR+yUn3mAKywUbh8J2i72fUkZ9J7u0auDQc0MhX6tFR4dubh849JwyYq9C8Pmg33vKyH20c/EvrvqDfosHf36bdUvn9zv8IEFy7FXZJS/68UbITto3+fwHzKOagZ9ell1ePej3nsT3taHQXYN+iyUnXme+5AeOvMA4LA9/4dM+3eKDHoN+i6Vnl8mvfKxJ9mXiaYzpbvhpojJin6EixlAjMlTF0w9FovcPhewcPP0e8yBk4OiLugJ+wG6ujPMvrTZRx/OxzYkoCMExo5Pb39/Pbgpy/Phx5l70N7/5jdWX5yYLoAmC+Nvf/sa0+fLLL4/fcaS6uprtfTY9oLdt28ZY9atf/Uout/Iy2dmzZ5kCf/vb3xj9Wb4cEBAwfkZSUlKY8osWLQIAerw+IAco4BYKAADtFtMEjAQKjCiANkmVa0MZ3oc2DC4oXUxx9dpDmXpB+QwBaNUnEeovY9OPHXIEQFssFhNm4P6e9K855KzpcDqAzu1J/CT1Fd6v0x3Zy43YGA8pxn4GQBdWx+K9arxfQ5EUoTKaEhrgjBaDsMoYUWtKbjYIyo1hNaaUZji9xVx0D62XoMOhogm1CWuTYy0yOLOVTnQMIaU9SI2YQnBCaaSjdUNmYshAmTEKJ2mOf0+p3hbHcG0m1gd04pbuTD4dX+WXpwha7wy8W6X6NNJ8eyr+vBaLRavVxsTEbNu27f/+7/+4t+CLFi1aunQpSxYmBNDsbXF9fT2jlVwuZ2+Frc6+Ez2g3Q5A3x2q4S65TelvslJb1cpisYwA6JhRRszzGB2hEsNRmxlqPBS6C+4oQcSN5u4aTNFN6FWotAPXSOi3/gtvaLMvajPO6kvC6EigrQW4VmZqzjX31Jqab+FaKQnr1IlHZQHrRyDFQQ/JsVf05VEj4T5+ATSG6kTo1pWBw89TmM2XTsx1NyCBJ3I3nmGR+oTRzS1tDXb+5TsFQJMkGRUVZYs+5+TkuIJuSIuIhc7G9F1sGhJ46iKWkSaV+V6VviRMlx8kv7ZRfnXDUNjuoZvbJb6vS8+vGDjsyfjzDhx9SXZ5tTrZV5NykiF0tB/oueVDYbvHPBH5ZR2OQWlulSk5+RYT7kBx/Uu16CiN3Q88IfbxYOJpiA88wXjLMv7XMv+1Mn/afVURvEWbc1kV6y09u1x+bePouw7DnuOyy2tov/Iz7w8cfl528SPam/vkWxLf16QXPmTCLNAReC6vYUVzBEBz6fNq0TPHSnew32DTYdAqWHGoaAvbFJv4If8Tib7XwfXsM7aFkoFsXsVBfR/bspfI4+OUl3gFWADthGceBz14HujDgY886VdJDj0r9n5qPOCWnnlf4vu6KuaHMWv70LPDjxKfGp6+N5Xhe0yN2caGTOOdNDoGi9mASlrNXRV0Tm2yxWKhSBJT9tIxoO9VUThGGDWEXsVEjyERE/OAEIfkzNsqJKzD5F10LHWzYTjSuoGEdbxQM+bOMmNDpqEqQVd403yvCm4v1mSeQ2WdPOnm8akGpjQw9U06ujEeuVqJg00IZ3SuX331VfaOkUmsX7/eao+TBdAWiyUqKoptfM2aNcxWh0zjVVVVjzzyCHt1NgF0X1/fr371K6brp556SiaTccdbVVXF7jS4Z88e5tI//vEPpvyqVau4hf/lHF1UVPS73/2OHYhIJOIVAKdAAaCAWygAALRbTBMwEigwogDer9GdytNfKlKuEqL1kgWlC1LVB/nmqr9OpNHkGhpQqr6MVe9MUG2JUX0Wqfo0kgkMrdktUm+LU22KVm0cDkm8OkTzjUi1KRo6mq31yYRO3NLsS9adLdD55THRJNTb4vSBZdDhLFNcvea7lPQTRxwB0Ny4z8yvvtWiZ4rEGU6ZEScCaAhRnyjbxf1dyqS9CzdCCB1tbfyHAdC837eUGSOkOrYwnN1G6mmUzOYwCUJhhWjzyrCnFEUZAsvUOxNY1qzaEE6j7dBq7YF0JhM6lgNnttLbTh5Ix3utG8w26EhicHDw4MGDjz76KHsL29Q0spuTfQANQRBbZU4AdFZ3zGrRM7yDO7O8S6tFzzQpqhzRhFfGWR7QvPgbF6p+5HU0/vQXAP3M4M9vS8+8Lz2/Qhm5T514RJ3sq044rM06D+UJDJWxmKofbivCNRJM1U/hNl8ZJox0CFRufFveTmVIT5064TCLqMTeT0nPLVfFHdRXxDCkW3LiDU2anybZd+Cwpyb9NImZx9vM5JjvCGkA3RTNsEhd1EpbJedxvlMAdG1trS36HBQUBMOwKwiIdeeNQGfh24acI1wAbcz5nsLN9CaB4kZDbZIy8ltF8BeK61/o8oOhW1d0Bdeh24G6gmAo118Z9T29nWZb4VDY7sEzS9Xxh3QF1zVpfjL/NcOxAjYogrcM/PTyoN9iZdR3dAQM4XaaqB56VnrhQ5n/Wvm1zyS+r0l8X6cJ7KVVTLjegcPPS068MXDouYHDz0vPfyA59upQyE5l5Ld0wN+LHymufyk9v0J64UM64sehZ2UXP6I3nTv2Ch2FIOm4/OoG+riygY7RkfqzWnRUFXuADqobvV9XJGQiY6hiflTFetNjuR2oDP9GXxapLwmlN3Mrj4ZyA5SR+4ZufiUP/FRfEqYvCVXF/DAUtlsZvsdYmwzlXRsK2TkckGQZbdhw6OHRP71Dz6piD+jy6S3vxAc96FA5178YecuBg9rpAA7DfrUDP72sjPxWk/qzMnwP/ReafkYVd9BQnSgP/FSTegrKuwbl+qviDqrjD9HY+uDT0gsfFv/8jP0QHDz6XNifbrFYEtuvs9+xU2PQEn0vb98FL5HHuqTnRe03eR7K9hf2+aofWEu8RB6xrdd45WukRdwCX+es4BVgAHRE/j5tziVt5jn6GA5SBHeU6oqFw1vzCaHbV+lVWhyiSTlBp3MDDFXxUG6AvjTCeCfVeCfNUJtkqIzTV8QYqhPhlnxmZ1e4vdh09zYibsTVA0ynFEWhsk4ckpvvVQ1DZPpdHOb7k9CrsKFeXD3AfBtTBE6RtKc2swknz+bZOSUMalwlpvf/NDjhHmN2bHZWL2aMkumpL0TorlTUvxz7MRt1VsugnfEKBAYGsreRTCI9nf6eGf+ZAoCmKIq7d98f/vCHtWvXbt269fnnnx//FuCsheD4l7PO999/z476T3/6065duyIjI4VC4ZYtWx544AHm0p/+9CeVaiTK2WeffcaWX7p0aURERFJS0unTp1esWMHmM4nly5cnJiaOVw/kAAWAAi6uAADQLj5BwDygwBgFCJVRuSGciYaMNi4sD2hcotUHlmn2JilXCbWHs9Q7EnTnCkzJTfiAFinvpV1uW+Vo3QBSI8Z7VMSQAWuRURhBYWPeQh2j5i8nFIqTRoTUwniP6nZt9IQAmkuf1yQ9tzv3I+aHn7MYtLMA9B1ZKS8GAmOnoP4ERtj8mWEVQP8ilTP/T8j12h/T6MAdq4T0tH4crt2fivdroKPZI0h6dYjOL0+5OsQQXIHWjfyyddCC/fv379y5c+/evX19feOrdHV1sU4ZgYGBTAH2BcaCgoLxVfLy8th73zkB0ONNMmEGljh8mfnu+AJTy5kQQBMkrjEPcQ+CxHl9kRT5RcY7rHleIo/8vhRemfGnDID+KmvULX18GWflUCRhqIwd9FvMUDD51Q1i7yd1+UHmrkom7gfjmDno996g32J9eTSm6LbTNROCA+stYlikPt5K7EI71efHpekDaAiCrl69agtAt7ZOEMJl1mTEBipHnjREr/ol6rcnk2PM2E1oRrfUc9Ak2rVT0Y1KWszdNaikhXbzrEsxVCUYakQMmEOlHfryaH1ZpKk511CbpCu8QVEUoVea71XCHSWETgG3FcGtBUhvHa6VYvJ7iLgR6b1jvleF9DeQiAlXiVFZJ6FXEXoV0lOHawYZ6uegedMsRpEkhSGESUuYtJiyl0RNJKyD24sZRgndukK/lNCYhQ62IQPNpsYs0mww1mdocy5rUk4i4kZ9WYQm5YQsYJ2+JMxQm4RKOzBFDyrrhFsLaL9XvcpQnahJO4VKWlEJvUJoMVX9OCTXZpxVBG+RBayTnlteduktOwDaKn1mRj0dBt2jbd+c/ib3a9BL5LE796MebftkJU3qCOG2c7L8G14LDF9my5yr+sFqgfHkmlcMnC40Bfq15GIhsisVLe4lLpTafKC70GSZifGqVCruxiS/+93vxsfKYPqdAoC2WCwqlYob6Jm9ZWUSX3311b//+78zaRQd+Qkw0zGg/7WBqsFg2LBhA88Y7ulDDz1UVFTECt7U1MTayS3GpP/xj3+sXbuWzX/44YfZiiABFAAKuIsCAEC7y0wBO4ECtAKEQq9cHULI9co1IUi5oy9vzg/t0HqJalOUMaJWuUpojL6jXB0y5ZgMdgQp6Eu1D6B59LlCchsjsZPl3zA//JzCoJ0CoHN6ElaLaJ8v7vFV1tIJvWJnB0ATQwbGkZ9+nOCTqd6RoPXJNOe2a/bQDxhUm6JoB/ZVQtXGKGN4zRR8n1955RXmDvXs2bNWp/uPf/wjU0AgGNkZ77XXXmNyLl68OL4K993JBQ6gJfoe7qLyEnmUiLN4ikkNYl6ZIZOUV2b8KQugx19ybg5FknBHycjObwc9lBF7ZRc/Uobv0RXeEPs8Q+9MdX4FA6Zll9cY69Mn9IxD6kMhgSeFm/UJn0ACT2P2d8412C1amz6ATkpKskWfXeplW0LTM+L1fP1VKJiO+s09jBm73GK+5pORE4b36VA32gLQdugzI9HUGDRGYrtyV/K+Bs9Ufofg9rz4YczIfbanR7SMDU1DVdymVoueEetGH4nBuGnTWNKd3BHCm1+GUAMAzZMFnGphyisKWRONnC3BzpYAAD2zK+L9999n4emOHTtsdTY1AE2/Z0CSvr6+Tz75JOv1/NBDD7344ovXrl1jX+N75JFH2H6tAuju7m7GSG5Jtgqz4TBT4NFHH2Xz6+vrmcw//vGPbCabiIyM/P3vf8+OnU2sXLny3r17bDEmcevWLTYQB1vygQce2LJli8lkamlpuf/++5l8AKB50oFToIBbKAAAtFtMEzASKDCiAKkxKVcJmZi5C80DmqaTu0SmhEYaQIdUK1cJsa5J70o34UqyD6DH02emQecy6OkDaFH7Te6PVSZ9sdrbhPGDZowXZHYANLORJuPprNoUpVwdYoqtV30awYbjUK4SQsdykNIeiqTGGzlhzsGDB5nb00ceeaS6uppXPiYmhr2pbW8fcUZj3/v7r//6L6l0lJaazebt27ez5RctWgQANG913erhvwXJex98bdLzJEVH/bb/mTUATegUiuAvGMQ8cOQFsc8zMv+16vhDozEBhre0gnID0ME2+zYzV2kP6OCXLRaLPvojSOBpKjpJmpz/7eSIJXNYZpoAuq2tzRZ9vnLlilY7QuLmcIBs16R+0JC2g4HOutB3ufTZkLIVbU1iS4KEiyhgC0BPSJ8Z+6fAoJM6hLzvSe/CjRqzUo9orR7Ma0lhzRe5tT5OeYn55iRInPdOyanyPeyrJ5F3/bm1vEQeCiP/DTkAoF1kKbqaGUaU2pSAfhqHXC7HrtfwX2ZyNWvd3R6VStXxy0enG41rxxuXwWDoHP6IxWL2kkajYTKt7ubHFmMSMAyXlZUVFRWxcavq6uqY+9hnnnmGLUwQBNNmZ+eY0OednZ0dHR12tvxlCnDZMYIgTFPd3aPPxtiOmER/f39aWtqpU6f8/f1zcnKsvqHIlKQoqrS0VCgU+vr6Xr9+vaamxmwejYEmkUguX74cFBTU2NjI6wKcAgWAAq6vAADQrj9HwEKgwKgChNJIA+itsarN0cw2bqPX5nsKv6dUfRphSmpSrhLC6S3KVUKkxOZdzpTFsAOgbdFnpi8nMuhpAug7slLeb9E1Sc/lORAAgRnILABoXKw1iegHCfQxHM5bvTWWi56VXkL9lVIKnrozTn19/cMPP8zcbd9///2LFy8+duxYQEDA8ePH33nnHZYm//Wvf2WXSn5+Ppv/29/+du/evX5+flu2bPnLX/7C5jMJAKB5C2w8gE4e+8L4V1lLWZ3tJGYHQGPKPkI3JL/yMY2bDw5veOj9FC8oreTE68aGTDum8i6Z625Cwa8MA+hVUPArcPEpXNHCKzPvT6cDoGEYDgoKsgWga2pqXEo9rLfIXBvMcGdjxm4ugDZm7cUG6Ii34ONSClgF0A7SZ2Ygk2LQCGH+JOVl3vek/dPc4cd4PADtJfJgQ0VH3L3Ma+G7vPXXG04dLd7Gyz9WasWzEgBol1qQLmJMzQBZPUCsCEc2xCJZHcRPeVO/6XKRES1YM7KzswXDH1vUmHWk8PLyWrAqgYEDBYACrqAAANCuMAvABqCAowrQMaBXCTXfpWj2JuHdIzs2OFrZzcvhEq1yTYhBUE4rsIveihDrHHL6mGwBaPv0mTHDWQzaEQB9qmIv9zfn/vyRmLPjX/udbFSQmQbQeLcKa5OrtsSMIc6rhJBvLpOj2S3C2uTTn9mEhAT2NT0eQWZO//znP/M8Nd577z2rJRctWrR06VI2RgcA0Ny15yXyGA+gr9TSm3myh3fh545M6CwAaIqizF2V+pLQMc7OB54Y9FssvbCSzvR+UhXvQ8I2XZOsDsRcI2BCcBjStqPtqfrYtZTtMOtWW3DlTARB+hz4tHA+BDFx8H3ukHNzc23R58jIyMm2xm15JtJYdx5cepbmzsK39LFruQDakLSF1PGdT2fCBtDmpBSwCqBTOkOZ76jVomeYXQftt8ll0Lx9enkVe7Rt7Lefg4kJAbQR03+Z+e6Era1Lel6s47/SbrFYAIDmzRE4tVgs/VpyACK3p6DLwpCLZdixfACg3XVdsME9vvmGHyDeYrG0t7f/5je/Ye5vL1265K6DBHYDBYAC80IBAKDnxTSCQSwYBSgEV64LM8XWq7fFEWrTghk3PVC0VqzZLVJtjqZ9wLfFKVcJZwLBWwXQjtBnZi6cwqCnAKB3ZC9nDMjqjhn/A3Vd0vO2ji0Zb/NW0UwDaOinbOW6MB59Zk5VW2JMcfVOdO0vKytbvXo1GwuPhct/+MMfvvnmG+67jYwIOI4fOnSIu0vMfffd969QdEePHiUIYsmSJUwLLIDWarUM47YVh+6JJ55gqowPA2KxWLZs2cJc9fX15c7CqfI9XiKPamkhN3N8GsZN7FxvzVw8vsDUcibchHBQ38f2yyTGA+iDhZu4ZcbviGXVtlkA0Kisc+Doi2KfYcfnA0/wMLT82kbzvam4r8KlZ3XhtJe3LnQxXPwz0hRtdYBumslEXeTg5YmTk0LGYrHYFn2+fPmyTCZzNd0IdRdccYnhzsacH8YA6MSNrmYtsMdisVgF0DBm9C783EH6zMjIMGi/in04aQ/VFYkzuF+AjqQnBNB06FVV/RcZ9hj0hpSXisXWX90AABr8IYxXgKKoAYj8LhNdE4VENeLeuTa3px5fF+S4lAJBQUHM/eR999134MABlWrERQnDsNTU1EceeYS5+j//8z8IgriU5cAYoABQYKEpAAD0QptxMF73VoBCcPXOBDirjcavEheKiTkLsmJtCpZaqr+Kpz2gW5wPJqwC6OD6n5kfkGuSnquQ3LY/WB6D7oU67Jcff3U6APpitbcjv3XZMhvTXuMZMHMAmiJIOKOFibnBTuVIYm2oQVhF6kdDvPGsms6pVqttaGhIS0uLjo7Oy8trbW21T8cQBKmuro6KisrMzNRoNGzXFEWRwx82x2KxMJm2tsCyWoWtTv3yYXOYhIMA2mKxVA7mFfVnFPVnNA1V8RqZ8mmDvLxInMEe7C5YbIMURZWIs5h+mf9KDaNhCplirco73AKd6ma2up3ETANoHJIPCbfzoDNzKvNfa6iIsWOb/Uum2z76+A2kSamP8TJXXTHmfE9h9rYas9+aq12dUQCN43hoaKgtAF1YOMFjmDnRCuu+ba4MYLizIWnzGAAtcsjZf07MXsidWgXQFosFxoytyrpJKdMgL7dPny0WS3TLFfYfWQcTt3pFFoslvPkSrzwbgoMxEkI0vqU7eWWY029vr5Xoe2yNBQBoW8os5HwzTqlMlHcO+lk8vQnhz4X2HqssZKFcf+xarfbpp59mKPOiRYsefPDBJ5988plnnmGD0TGXYmNjXX8swEKgAFBgfisAAPT8nl8wuvmmAKlHNHuTDDerlKuEaL3EucOjiIl3CWN7pBCcgjFSj5B6hJDrSSNKQjCFERRBUmYMl0CE0kgMGYYvIVjnEForxrqUaOMgUtZrLrqHNgxiLXL0zoApuRmp7kfK6Uxzfqc5tx3OoQ/z7U5jZC2cepc5kKo+U3KzcnXIiKvsZ5F0DOjKPtYeZyWsAugBXc+WjLcdoc+MGSyDvljtzfv16Iid0wHQ3+Wts/rT1FbmbAJotFbMzqBylVD1aYT+Sol6e7zWJ2MmnNkdkdo1yzgOoF3T/ilbNaMAmiIwVfT+Ufrs/eSg32JN+mmx91PanMukWT9lsy0Wi+nWQUPiRgo1GDP3wGXnIcELuPTOdBp0qbozCqDLysps0ecbN26gqCt65MElp+HyCwx35m1CqI8fiYbkUjMIjLEFoGdIGamhn/sEzpG0DqEfdsqNEl7h8U83KYpqHqpO7Qz3rznkU7T5QtWPie03amXFKGHPsREA6Bmaa3dvVmGgtiSi+zJQQTV+uhgAaDeeTwiC2Bf1WBLNJv7+978XFBS48fCA6UABoMB8UQAA6Pkyk2AcC0MBEoI1+5LhtLvKVUJCNhqlFO9WkSb6hzqFEViHgoRGPEnxXjVlxki9GU5vMSU1GcNqjGE1hptVunMF0LEc/ZVStFlqjKrTncrT7k/V/piuO3XbFFdvEFYZhFWQb67660T1tjjVZ5Gab0TKj8OVa0OVa0NVn0SoPo1QeglpmLg2dMSDdU0IyxbV2+O5EX6ZcBl8j1dmAzqr//USKteHafYmjaniJdTsS9adyVdtokNwMAec2er0abcKoP8VLWFA19OomMS7+RiJ3e5NmgJ9tlgsUwbQJEWuT37BFmu2mj9rAJrUm3U/3x5dJDsTzLnt0JEsU3LzpJ58OH3GXbBBAKBnYlKQnjqJ7+sjAPqghzJir74kVBG8Bel3wi7qSEsCdPMNY/Z3+oRPDWnbIYEnoZz0qw8zMWqntEkQhMGBT2trKxubw/5LBqxVSqUyICDAFoDmhWhna815AusvhW68znV8Hk0Hv4z1FRNQ/5wbCQzgKjDLAJrbtYukAYB2kYlwNTMwgjqWj/kWYGX9BAjB4WqzMwV7Ojo6fHx8Vq1a5enp+fTTT69evdrb2zssLAxE3piCmKAKUAAoMBMKAAA9E6qCNoECM6UAqTEpN4QjpT3KVUKtTwYNlEOrtQfSjaHVxvBa9M4AdPKWMbJWdzpfdyZfd67AGFKtO1egv1Ss9cmkkfEv6JabUG+NVX8Roxr2KVauDtH6ZGoPZWq+S9FfLlZ9GjFcvUi1JUbzbQp0NFu9LU53Oo/hzpq9SbrzhVrvDM2eJO2hTCY6M7dlZr/ESQPoVUL1l7Ej9nANXh3CG4I5v9PpQtsC0E7vyE6Dg/q+5I4Q9rAaC/juUG1SRwh7MOEjLRZLdnccm+lIoqg/g2fJTITgIFRGzZ4kNvSz7uQtY2i13r+YUEzL7ZRn+bw5BQDa6VOpL4sYPL2E3Dn+MwAAIABJREFUdX/WFd5Qxx+Cbl2hCNwpfaH3bkHBL5nrburC3zflHYYEnqTR+VukOsXUmWukra1tUgCaoqjY2Fhb9Dkjg//VNHOWT7Zl0gyNEmeBJy+NtqdSqGGybYLyM6oAANAAQM/oAnPfxs0YtScdXRuN5HcTIASH+84jsBwoABQACriLAgBAu8tMATuBArQCFEEq14YaAst4nNfOKe3FvDNB65MJ+eaqPo1Uegm1P6TRsHh1iPbHdOhYjnprrO5MvkFQDh3O0uxKtNOUq11CKmYpBMeCWnxOB9AURhhuVCrXj2w8qP460XCjEsTcsLOoAIC2I84ULpm7KofCdo/QZ+8nh25u15eEkfDoGyRTaJNXxVx3HQp+BVfc1UWtRDszoeuvUqRz0DavI1c+nSyAbmhosEWfAwMDDQbXZbiEst1UcIzHnUdOb76B9Ra58jQtTNsAgAYAemGu/AlHTVLU+hhksRC5UAZiQE+oFigAFAAKAAWAAtNVAADo6SoI6gMFZlMB0ogo14WxvsaqTyPVOxNG42Bw/YUnk9bsFtFRNRyp8ksU5gkLqz6P0l8qUm4IV64SqrfGanbRHJy2dpVQszeJRuFs+I71Ydr9qert9L6CzFXtwQzV51F0nJDDWXStbXGs8yy3X3PRPaeL7woe0E4f1KQadC6ApsyYMbJO71/MTJx6WxxS0k3CIM6gvTkBANqeOpO8RuiViqBNiutfMABaFfMD0ju5Pccc6dBcI4CuvwoX/ayLXAkXn9LHrqGfF+IzsqmmI/bMSZlJAWiDwRAYGGgLQDc1Nc3JEBzsFJc3IY2RVgG0PnYNLqlxsB1QbNYUAAAaAOhZW2zu1RFFUZ/FI8tCkauVuHeOK8bcdy89nWItRVKydlI7SG/MI24gBltIGKIsFousnWzOwjuKiJ5KoiYWv5uDtxcQ1TFYQyp+r4yojsULA7E7SXiWH1pwFSsMxHLPo0k+SJYfmn0GzTiJJh9Cs/zQ25dR0UEk7RhdJvkwGrEDidmLiA4gMXuQsG3mkC3mm5+bb3xG/zf0C3P4diR2H5LkgwR/Ys6/gnWVEhaLBTFRLbdwxECb5PQPjs5Is063EzQIFAAKTFkBAKCnLB2oCBSYAwUIhV7zbYp6ZwJ08hbkmwsdz2UiY0DHc3V+w3GcvTOgn7LVOxN0p/OModWGm1WGoHK9f4n2x3TNbpH6q3ga9e5IYHiuzi/PcKNSH1hmjL6j2hSl2hyt2S2id4fbHE2T4uGQHeptceovY9U7E1Qbo5RrQqDDWarPo+hIvgyJ/jic9qH+MpbLhTW7ErU/pjNAmQ4hbQttrwnR7EuGjmbTdHJtqCGoHDqWw+xNR/tif5eiO5Ov2ZM0DMcj2WjU3OjScOpdp88BANDOBdCkAWHjPkPHc0mNyelTNv8aBADaiXOqLwkb8X32eUZfEjp+Ry+n9GWuD9FFrjDlHdFFLDek7YCCXiKG2hYaiJwUgE5LS7NFn+Pi4mZompwy1xaLhdQPIvVhkMDTINqki1o5hkQHv4R2ZTurI9COsxQAABoAaGetpfnUDklROjN1rgRbEY5siEW+TgUA2iWmN/0EKlhrvnURLbmBZZ9BQ7aYk3yQy8vgG5/RUPjsm7Dfq/Rx5o2RBHM6o/+9usocsR1pvY1L20hpC1mbgFdGYjVxePh2RNVPSlvJuzm4vJO+1FNFtBcQzZk0H5e1k50lRG8NIa4nBhoJWEcpe0h5B9lRRDRl0NC8t5ZQ9ZMdxUR/PdFTRWgG6OouMQfACKAAUGDGFAAAesakBQ0DBWZGAe4vcxKCWS9gEoKxDgUu1lIYgfeokNIeXv94nwbvViGVfaTGhNYNYC1yCh15SRytl2B3ZVibHO9VkzDGbApHGhC0XkKRo8+iGXrI1CJNKN6vwSUQRZCE0ohU9aHNUrRugFCbCLmewknSiBCDEKmF6X0Ru5RIeS/WJkdKupHq/pGjRozUiHEJhNSIsTYF3qehreocQpuk5tx2vEdFwhg+oCVURrxXjTYMUhhBQmYKxvB+DTFkoE2FYN4Yp38KALRzATTWpmC84FWfR5F6ZPoTtBBaAADaibOsSTnJAGi16CcnNstrCmmK1setQ+pDdZErDan0JoS4ohmXu7QbL28I0z91HEB3dXXZos8BAQEqlWr6xsx0C4wHtEG0yVR4fAyAFniaq67MdO+g/ckqAAA0ANCTXTMLoTxBUiaM2p+FbktCd6SgIAa0i0w6SVB6Bf3jy6CkYB2lk9PQtrOYaM7G60R44TUs/Tia+CMSttWccxY9+9Yojw5aT7swC9aZz/2SOaNUerKNn3kdPvO6PWiefwUz60d/dbrIdAAzgAJAAecqAAC0c/UErQEFgALurQAA0M4F0LS3oMZkiqsnoYUVjmA6fwYAQE9HvfF14bZCY13K+Hwn5iD1Yfr4DRSJ6yJXQEEv6sKX4oq7hLrLiV24flMOAmgURW/cuGELQFdUVLj+SOl3kJtjIIGnLvx9fdSHPABNaHvdYggLykgAoAGAXlALflKD3RBLh+DwK8LOFIPwaJNSbrYL64eotjw8ejdy/h347FuwYN2oNzTLgk8PE95zb8OnXxtGvf+0B3zZWi6SaM5ccJtnzPYaAv0BBVxAAQCgXWASgAlAAaCAyygAALTTAbTLzK3bGAIAtNtM1S+GmgqOQzffQBojdBHLTQU/mfKPgE0If9GG///8/Hxb9DksLIwg3OP1W7Q1aYQ733yDD6CVbfwxg/O5VgAAaACg53oNumj/BEnHgF4sRH4uxC6UAgA9l9Ok6iWNanv+v7J2UtFFJvkgyYfQ8jCsMhIL/4qO5hz3LeL/ARyxHWnOxm9fRq98CBcGYhkn6QDQ599xCECzYT24JNrButwqZ9+ELy+D/Yap95k34EtL4XNv0znX1piDPzEHepnPvT1ij/8HcMxeJHo3cuUjON0XZXB5Z4l73ADM5SoBfQMF3F8BAKDdfw7BCIACQAHnKQAANADQzltNU2wJAOgpCjd31Ux5hyCBJ9qeqgtfpo9dq0/4lDQp586cuenZEQ9oqVRqiz5fvnx5YGBgbkyffK9oZybNnYNeMuUfGQOghW8uwGcPk9dvtmsAAA0A9GyvOTfpD8Gp5WHIkhCkrI+4XA4A9FxOm6qXNOsp1ET13yFk7XSgZMw8yqMpkpK2kvohSi0m2/LorQglTQQKU4p79HaF2kFSJx/etLCejr/ckouX3sRab+P5AVh5GJZzFh28S/bWErcuojF7aGYtOoAMNBLloVjst0h1DJblh0ZsR0qFWJ4/lu5Lb1R46yKq6iNLbmC18XhPJVEmpLc3bEzDBxqJuzl074iRtlPSTAw00XbCOgqGKKOawhFKM0BHhYZ1FIGNhBBhZcXMlLyDjiiCwlR7AR0bui4Bv30JZRy3++8AAM1KBRJAgXmrAADQ83ZqwcCAAkCBKSgAADQA0FNYNs6twgDoH/I/+bn8mwV1/FTylZfI46uspc7VcxZag0v8IIEn1leiC1/K7EpHocZZ6NelupgQQBMEERERYQtA375926WGY98YrCefDsERudKQtJkLoHUh76DtqQtw9u3LNedXAYAGAHrOF6HLGrAtCV0SguTdAwB6jqeoLZ9gQj870Q4YokNIcxtkdhLCkFG0zb06+2llDyk6gFxdZfZ7FW7OxPvrAYOe/UkAPQIFZlUBAKBnVW7QGVAAKODiCgAADQD0nC9RBkB7iTwW5uGOANp8J0QXuhipD4VuvmHM2Q8JPCnUiPUWkQbFnC+nWTNgQgBdVVVliz4HBwebze4UJh7rL4UEngbRJmP611wADQleQBojSbN21mQHHTmiAAOgN6a9tqAe6XEHuyt3pZfII7b1miNygTILRwGcpLxz0I8ikeAaHITgmNt5R0yURkJCsjG8eG5NmoXeG9Px1KO0/7Xfq3BZCKYWL6zhz4LCoAuggKspAAC0q80IsAcoABSYSwUAgAYAei7X33DfXZq7NdKiBXs0KirnfAoma4C57iYkfMtcex0SeJoKfen0nRCkMYLUDU62Kfctbx9AazSagIAAWwC6o6PDvQaOD1RBAk9jxi4m+gqXQdPzbobcazjz3loGQC/MR3rcUQMAPe+X+mQHaETpGNDvCZHYJjygAoTgmKx+ziyPI9RAIx3RwpmNunxbLbn4jY3mM2/QsaGbMnBpKwDQLj9nwECgwPQUAAB6evqB2kABoMD8UoAB0LtyVwru+C7MY2fOB14ij5KB7Pk1sWA0QIEZVADtoCMCw8U/QwJPfcInkMATqQ8z193AZY0z2KuLNW0fQCcmJtqizykpKS42lInNYQC0LvIDuOw8S5/1cevpSCziionrgxKzq4AB1S3YR3rcgQ/q+2ZXeNCbqytgwqi10ci2JLRSTJwuBgB6Luerr5YY6qaDI8+lEbPed2MaHrSejr/h9yqcfhztKFxY/H3W9QYdAgXmXgEAoOd+DoAFQAGggOsowABorsfQwkwDAO06axJY4voKYL1FkPBN0iAzJH8JBb9Cb0jYmQmXnccG3M+be8pq2wHQd+/etUWfr169qtPpptzpXFXE+koY7sw8b2DScNHPupB3mAibc2UY6BcoABQACjiuAElR32agi4XI9Rr8WB4A0I4r5/ySZj3VVUoQ+MIC0K23cf/lNH32exWO/RYx6xfW8J2/jECLQAGXVwAAaJefImAgUAAoMIsKDOr7cnoSwCEziGdRddAVUMCNFaAoSh/1oSFlG0VRhrTtDIskDXKKxN14VJM33RaANplMAoHAFoC+c+fO5Lua+xpY923W8ZlN6CKWQYIXQADouZ8eYAFQYAErMGSklEZK47Aj7YkCbLEQiW/Gj+cDAD2X66a9gCgTYrL2hRWDIvs0GrzBfPYtGkDXxC2su6a5XG2gb6DA3CkAAPTcaQ96BgoABYACQAGgAFDA/RUwV18z5R3GB2v1MV4MjqQwk/sPa3IjsAWgs7KybNHn6OhoknTLH9ukQQYFv8yiZ27CXBM0OeFAaaAAUAAo4DwFThVhS0OQvRnoAOTQt+vJQuzrVFQLUwdzAYB23jRMvqW+OqI5Ex+659CsTb55F61Rn4L7vQqffh32+ye80OC7i04JMAsoMMMKAAA9wwKD5oECQAGgAFAAKAAUmNcKYOIKXdgSuPhnXeRKfewaSOBJwup5PWIrg7MKoPv6+mzRZ39/f4VCYaUhd8hCO+mo37xDF7liOAZ0uTuMANgIFAAKzEMFVCZqsRBZLEQ+T6CjalSKJ46oG3oHv16DV4iJ0DsO+Z9K9TSqdtzDeh6qPDNDGmwhq6IxzLywYlDE70dOvw6HbKHDQCt7SBhaWMOfmaUEWgUKuLQCAEC79PQA44ACQAGgAFAAKAAUcHEFcFkDJPA05R0xpO2AS04DAE0QNPXAMEwoFNoC0CUlJS4+rXbMo6N+Czx1kR/oIleyGBouPaMLW0LhZjsVwSWgAFAAKDCjCpwtoUNqLBYiy8Loo2IiBn2zFs/pJAZ11IkCzDxRAOJmObkxHvkgDAEA2umTKGkiqqIwZc/C8oCujcdj9yER25Ezr8N3c3B5x8IavtNXEWgQKOD6CgAA7fpzBCwECgAFgAJAAaAAUMB1FWAiAhOaHkPS5hEAbYZc19xpWEYQRKuNTwvnwwDo4uJiW/RZKBRimBu/7o1LqiGBpzHjG0PaThZAm2556yI/wKX10xAYVAUKAAWAAtNSwIxRuV0Ew6AXC5GvktHYJtyI2nQs9c5B87sJiY60H4KjoJvYlYpuSkAvl2MNUkAJpzVHVis3puP5VzBx/cRO61aru2lmXSKe+hN64zPaA7o8DGsvWFjDd9NZA2YDBaajAADQ01EP1AUKAAWAAkABoABQYKErgLQkQAJPfKDKkLiRCQNNIfp5KQqO4xzObDNJEIRCofD397cFoHt7e91aH1xSAwk8zXU3TEUnWQANl52nnd9n5dkDBT4OK+DWKw0YDxSYmgIXy0b8oBcLkfdDka9TUZKyzqB/LsROFGAkRSXetR6Co1dDfp+Ffp6A3OoibDUyNSNBLUYBZS/ZUUxI28jW23hf3cIisB2FxLm34dCt5tOvwX21BIZYX6VgqQAFgALzRgEAoOfNVIKBAAWAAkABoABQACgwBwog9aF0CI78o1DwSwyOJJTtc2DHzHfpIIDGMCw6OtoWfc7Ozp55S2e2BwpH9PEbTAXHjTn7WQCNNMdAAk/0Xu7M9m2xFPSleok8wOGgAgX9aTM9I6B9oICrKaBHqG1J6OooOhYHc+xOQ+ObcZzkA77Eu3hsE47gVFYHH33qEepKJbYkBIluxPu1pHh4V8N+LXB/dvJsm7RUZzGBGKiS65i0bWHJm30aDVxtvrbGfOVDGLg/O3lhgeaAAi6pAADQLjktwCigAFAAKAAUAAoABdxEAXPddV3oe6bbPvr4DSMAWtXpJrZPzkwHAXRtba0t+iwQCEwm0+R6dcnSprwjOuHbxsw9zIzrwpagbamQ8C2sJ3+m7QUA2kH0zBQDAHqmFyRo3zUVKO0jThRg74eOMuiQOvyunCTGMuikFjz0Dg2gaySj6BMnqeQW4rtM9NxwROmjt7GdqWiNhF/XNQfujlY1pOLyTlK4ydyWz38M4I7DcdzmzhIibJv5ykr4/LtwcxZOYPwHJI43BUoCBYACbqEAANBuMU3ASKAAUAAoABQACgAFXFQB850QU/4RuNLfmLFrfgNoi8VC2vi0tbUxITlqa2uvXr1qC0C3tLS46CxOxizSpIKCX4GCXjKkfsXMOFzih3blQEEvUahxMi1NpSwDoP1rD0+l8kKq419zyEvkAQD0QppzMNZRBSiKOpaHXa/BWSfoJSFIQAV2q4so7BmlnLe6iPhmnI2tQVLU7XvE5wnIhTIsqBpfM+xDvSQEybtHdKtHCfVoN+NSfVBnxr1ocEyogA7RMOJhZqo5E+8qIxL2I/fKR6dmnLTzMCP1JzTmGyRkCx0DOu8ySky0DeY8lAAMCSiwwBQAAHqBTTgYLlAAKAAUAAoABYACTlUAbU9FGiOwvmJD0hYGR+KDtU7twQ0aYwF0ZGSkLfqcmJjoBiNxwES0LRkSeOqjP2KmGxJ46sKWYD0FdAxoo4IiZnZ/RQCgHZgiuggA0A4KBYrNVwXK+ojYJnx7CsoyaCaxORFtlpPMzoSVYiKjnYDMdFT1/G7iQulI8OjlYaOu08E19rYx5KmX3R03qXcUFmzhHu1IqC7NABn+FdJTSWT5oXWJ1iNx80SeN6eX3odDtpiD1tMAOssPVYsdesgxb4YPBgIUWIAKAAC9ACcdDBkoABQACgAFgAJAAacpYK4RIC2JSEsCXHqGIZKYuNxprbtJQwyAzsvLs0WfAwICNJoRhy83GZNNM7HuPBpAx67BpXeYwN9w+QWsvwwSeBJQPy5vtlnTGRcAgHZQRQCgHRQKFJvHCvyUh4la8Pd+iQTNkujlYYigGk+4i9dISGEdltaGl/UTP2TzUfViIfJVMto2NAksyADofbfX3GjwA4dVBTalv+kl8mABNGKiInciJi3VXkA0ZSwsAF1wFROsM19aCvu9Cgs3mxvTFtbw5/E3DxgaUMCWAgBA21IG5AMFgAJAAaAAUAAoABSYWAFzfYg+ZrXplrcp78hC9oBuaGgIDAy0BaCrqqomltJNStAhOASekMATLj41kqi4RMNogScuqUa7cmZ0HABAOygvANAOCgWKzWMFFAZqaxK6JGTUnXnpL+ktInRFOPJDNvpdJto2RJwdDvfMEmom4RWFxDbhemQSkXkZAB1Uf3IeqzrNoX17ey0XQKv6yeJg7G4OXibEZO2TYP3TNMMVqodsMV9cAl/5kAbQASvgIsHMvj/kCkMGNgAFFrgCAEAv8AUAhg8UAAoABYACQAGgwLQUMOXT3BnrzjNm7jUVHIeCXyKNQ7hiPgQ7dlyXtra2+Ph4W/Q5IiKCIOZPaEtC3UV7QEd9CAleGAHQZecJZTsdiyNyBTZQ6bhuUygJALSDogEA7aBQoNj8ViCjneBhZe9c9IPhCBtLQpAtiejPhdiHEaOEmls4p3PS39sAQE+4nHgAWtlDhm01N6Tijem4ZmABAWhYR51/l0bPZ16n/+v3Kpx8CJ1QPVAAKAAUcGsFAIB26+kDxgMFgAJAAaAAUAAoMMcKmG4dpF1fpfWG1O3GjN268GUURRHq7jk2a3a7Lysrs0WfL1++LJVKZ9ecme2N1A3S7s+lZ7DeIgZA6yJXkjrJcOZZXN40o90DAO2gvABAOygUKDbvFfgmfTS2xmfxyAdhtOMzFzQz6S2JKC9YR4dy0jwUAOgJlxMPQFMUlfgj0pCKJ/kgkuZJE/8Ju3PZAkY1VXAVOz1Mny8shgVrzXn+wAPaZacLGAYUcI4CAEA7R0fQClAAKAAUAAoABYACC1MBU9EJXeQH+GCtIW2nqdBXF7XSYrEQ6q6FowZBENevX7cFoPPz8+eZFBRqhASehuQvcEUzA6BNeYcpRM88h6BQ44yOFwBoB+UFANpBoUCxea9Ar4ZcLEQ+i0e+FKHbklAmKjTjBD0eQ7M5B3MxippE8A1GRgCgJ1xOPACNGGgA3V1BBK42381ZQEGQKZLK8kMZ3+dzb8MXFsPFwQBAT7h8QAGggHsrAAC0e88fsB4oABQACgAFgAJAgblVAK64BN18A+u+bcz+zpj1LSR8kzSpiKG2GbWKoiiSJAmCwHEcRVEEQcxmMwzDJpPJYDDo9XqdTgdBkEajUavVKpVKqVQODQ3J5XKZTCaVSgcHByUSiVgs7u/v7+vr6+3t7enpuXfvXldXV2dnZ0dHR3t7e2tra0tLy927d5ubm5uamhoaGurr6+/cuVNXV1dbW1tdXV1VVVVZWVlRUZGenm6LPt+4cQNF59tLtRRmokNwRK8y1wYzAJo0QzSVDnpxpt2fLRYLANAO/mUBAO2gUKDYQlDgUhnGkuXrNfj5Uvp0c6IVP+jFQmRnCppwFzdhk6bPFosFAOgJlxMfQA9vQthyC7+8DO6tXUAe0BaLpSkDv7rKzDBov1fhgaaFNfwJlwooABSYfwoAAD3/5hSMCCgAFAAKAAWAAkCB2VPAXHUFEnia60Mg4Zv66I90oe8S2j6eB3RjY2NycnJSUpJIJEpISIiPj4+Li4uNjY2Ojo6KioqMjIyIiAgPDw8NDQ0JCREKhTdv3rxx40ZwcHBQUJBAILh27VpgYOCVK1cCAgL8/f1t0V4XzO/qmoee4EwIDn3MarQrhwHQFKLHZfWQwJNQ35vplQcAtIMKAwDtoFCg2EJQQKqn3g8dCfS8PAypEBNRDfipImxNtJXoz5ENU/fDBQB6wuXEA9AkQV1eBtfE4n6vwvfKFxaBVXSRsfsQFkCXhwIP6AmXDygAFHBvBQCAdu/5A9YDBYACQAGgAFAAKDC3CpgKjkECT6Q5Rh+/wSD6HAp+idD0UJiJa1VhYaEL0uGZNiktLY0rwrxJk2YtJPA0Zuw2iDYxAJpQthHKdn3ceoqccXwAALSDCwkAaAeFAsXsK0DoVbriEMKktV/M9a9GN+KsE/SaaCSyAT9TjG2IHQOgl4Yg0Y1Tp8/AA9qRZcAD0BaL5dJSOPEAzWEXGoBuuYVnnByJwuH3KlxyAwBoR1YQKAMUcGMFAIB248kDpgMFgAJAAaAAUAAoMOcKwCWnhwF03PAmhN/oQheTukGeVUVFRTNNe12t/cDAQIPBwNNhfpxSFAXdeF2f8CkU/DIDoNG2FIvFMrz/5KT37JqsJgBAO6gYANAOCgWK2VcAbisUH/SQ+a+dQkBk+y3P8lWMoL5KpmNufBiBLAlB1kQhW5PGhOD4IAypGpjuIzTgAT3htPIANI5QASvg5MM0h711cb5FrLKvRlcpURGBMR7Qp1+DY/Yg9suDq0ABoIC7KwAAtLvPILAfKAAUAAoABYACQIG5VICJw4A0Rupj15gKjhuzviWNCp5BxcXFrgaIZ9qehoYGngjz6VQft46lz7Q3dPrXpH4QEniSZmimh7lgATRFUXLjQIuyTmYQE9TEmAwA6JleigunfVNTjvjQsyRixJR9FDEtB+G5Fa1FQe9G6BWFLA0Z4/i8WIi8J0RC7+AEOZW4z9xBAQDNVcNqmgegTVpKdACpE+H+H8AZJxcQgMYQqioaq4qiAfT5d+ArH8F5/sAD2uqSAZlAgfmjAADQ82cuwUiAAkABoABQACgAFJh9BbDuPDoGdPU1Y/ouY+YeQ8o20qTimVFaWjrTwNel2o+NjXV3b0HeDPJOIeGbw77PL+jCl0ECT7jkNK64C2JAUxTlXbjxu7z1Ex5DJilPUjunpQM53oUbP0l52UvkwRzrkp73LtxYLS20UwsAaDvigEuTVUAZvsdQm0SRJEVgJKybbHXXKZ/VQSwW0h7QbDgOJvFdJqqBKQ0MAPSMzxUPQOMI5f8B3F1J+L0K519ZQARWLSZzz6OFghEP6AuL4TLhAhr+jK8z0AFQwCUVAADaJacFGAUUAAoABYACQAGggJsogDSED/vA7jLlHTamf61P/IxC+HiirKzMpQDxjBoTEBCgVCrdZPamYiYdgkP4FhN8Qx/9ET37OT9g4nJ91IdoV/ZUWpxMHVf2gFYYB1lGbD8xqO9zZNBas8qvYp+dpvbnb4AQtdWmAIC2KgvInJoCcGuB9Mz7mKJbXxJq7q7BIfnU2pnzWhhBbUlE10Qj4fWjIaE/iUO61c4JHwQ8oCecYh6AtlgsNzaai4NpDpt5agF5QFsslt5qQrjZzG5CmH1mYQ1/wqUCCgAF5p8CAEDPvzkFIwIKAAWAAkABoABQYPYUMFddYZxhmY3pCHX3+L7Ly8tnlPm6VOOlpaXjFZhnOYakzZDA03Tbx5C2HRJ46hM+xfrLDMlfIg3hMz1SWwA6vSsysO6YI7EpGAv7dV2Hi7+UGcRONLhaWmgHFnMvOQKgKYryKdrCrWW0OGB4AAAgAElEQVQ1vT9/A4yP2fOTGREA0E6cWdAUHQHm6gZ9eZS+LFJ2yQsdbHPflzzyu4ldqah3LhpRj78npF2h/csxZw3n/7d35lFRXXkCTjrd02e6Z+2Z0/3HnJlz5szMHzPdYycmHRITXOOuiRrcgtHEGOMSTYzGCK5xZxcVkU1AEFmkWGQRFAFBFgURkF1AqIIqoICqV1Vvf69mLg+fz1cFlghKUb86dch99931u4/y5KvL79qLgFZhrfXa+8K7x6Qe2RNOc3RDb2VWy5XgiuN+pXvias+XdOQ88887LAV05EYi5wwS0OVX7DjAywgYGrR8pgflOR0XHHSmBwjoEVCEKkDAngiAgLan1YKxAgEgAASAABAAAuONAF50StgMiwR05g9Wh1dcXDzqjvjMmTNnz54NCAgIDAw8f/58UFBQcHBwSEhIWFjYhQsXwsPDIyIiIiMjo6KioqOjL126FBMTc/ny5bi4uPj4+ISEhCtXrigUiqSkpOTk5JSUlNTU1LS0tPT09IyMjMzMzGvXrmVnZ1+/fv3GjRs5OTk3b97My8vLz8+/detWQUFBYWFhUVFRcXFxSUlJaWnpnTt3MgZeQkWSnPjnCBmubtUFOVGNmYakr3QhU/QxS8iaK/pLS8iaRKsPwChmWhXQWc0Jgpz1K91ji4Nu0zetT5vpopi8MWOeFpeHLB/xaBPqQqw6YstMWwS0OCnL6rKckIqTlmMGAW3JBHJehADVUdtx4qOemB/b976lPPAuVnQZK4p5kQZfVV2G4688YFZcJova2F0Z1LoEUo29aOQNcS52IaBZnv06Y474MXK5JkAcv+0JFdbyw40VYiNiYrni7Ziasyw3pEqWCWiW4T2n4TfPIgFdnTlkLdsHZkcl+1RcQdhgCA4PZzz8S8KOBg9DBQJAYAQEQECPABpUAQJAAAgAASAABIDAIAH8tu8TAZ31k1Uu/f39jx49amtra29vV6lUHR0dnZ2darVao9F0d3f39PRotdre3t6+vj6dTqfX6zEMMxgMJpMJx3GCIEiSpCiKYRiWZTmOG62talaHOrLMurq6mscvln32AXEj62X81BoU0E1ZWNwKfeQcfcRsvNjfkLqJaswc60FaFdB5bWmi/nimgxbts4ti8tasj/sJecjyEU/Bp/QncRhfpM1Q1F+w+k5qiCAZfPheWJ5de3Wq2JqLYvKO68sru0oe6RoV9Re2XFssvbU162PL1kBAWzKBnBck0Jt0WHnAqd39z+1uk9rdJnUFf8n0j3Dz7AuO5AWrP9Ry0RXMp5fIZZfI9Hp2FP9NsQsBfU9zW/oBMgIBndt21TVlirQRWdo974uhvtuTCWiz2Ry0krgVijxsySXHCoLcfp+N/Z4UQ3DE75z4316/4G8uVAcC9k4ABLS9ryCMHwgAASAABIAAEHiVBPBif12Qkz5yHorJcN19qKFQFEVM3Fdtbe1j/1xjMpkm3kRlgsaUe0QX5ETej9JHzNZHLcDiVrDaRixuJd18gyN0Qz0Do5JvVUCbzeac1mTRgAzjoGX2WYuPZijb7dnLxDEcKdz6IvNt0zeJTbkoJq9Pm4XTRrHBHpP681RnaQHLiYCAFnFBYrQIsMa+Tq+F/ddOCQK63W1Sp9+S/nRvvDZ3tLp4ae3gNH+tkS18xBqpUdv+bDabx7+Abtc3b8yYK/30eF4B3dhbtVzxtrQFq+l9+etl/3AIi2spoKM3kw156BBCh4pB0d/BlScy1zwp/4WDITgiviKoFz4G86X9BkFHQAAIjIAACOgRQIMqQAAIAAEgAASAABAYJEDcCdRfnG/M3DG8gH748KGoaCFhdwQ47qkTuqiGNF2QE6fvwGJd0P730Kk8ZdQFv081ZbF65Zj+bgwloG1x0GNqnymWXKF4RxQxF6tPvQgHYZpia5drzslak4WHbumvkxUAAS0DApejQgArjNblnO++sFl00EJCnx8+Ku3beyPjWUD3mNSJ9aFfpM0QP1iExPMK6N03XWUtbL620D3vi9XJ78nyc9uuWi6opYAOXUOUX2E8nPGEHx1oC3D3Qy5+J+kxddA+ezjjp+bjxOhFg7EkDzlAAAi8cgIgoF/5EsAAgAAQAAJAAAgAATsmQFZE6kKdqdokY9Zu47VdQ80EBLTdSWfpgGUCmig5i2JAN2QQ5WFCABaqLnUgKnQG1Zgx1DMwKvnDCOjhHfSY2mez2dzcXyuVL3ltaY90jdktiWH3PQPLD2c8jG3sraJZW8+Yiqzyk7ZW0P5UbBOWZ6UWae3VqZaRr0FAj8rzBo3ICPAs3RWyQXngXZmA1gS4MtrRPNJT1q+9XI5DAd2BPdp5Y+WG9CdBn6WfLS6Kyc8loB/21QxVXYt3yaIDueets1w4SwHtNxcvGAjBcc3T1k9Iy2btLsfQw5+a/8Q+ezjjIZ9BDGi7W0YYMBB4PgIgoJ+PF5QGAkAACAABIAAEgICUAFWPzCNZdZkoC8XiVg4VgQEEtNTn2l1aJqBNN/Y9XvQQQUAbM9AWeKo+le1tkj4eo54eXkAP5aDH2j6bzeabj1KkXubgrY2Wf6W+KXNBY2+VLUxYnmU4WnxL/5JdR/aeLN4h7cuzZKdlmyCgLZlAzqgQMFVlyewzunR/U3V8FvGw9AW7aGtrc3d3d3Z2/td//de///u//8///M8PP/xwz549Dx8+lLVcWFi4beAVEhIiuyVc5ufnCwWSk5PFAjExMUJmY2Oj2WzOysr66aefnJ2d//Ef//G9997buXNnbu5gOBGO4xQKxfbt2998881/+Id/+OMf//jxxx+npaWJTVlNjEMB3dJfJ/24sEw/l4AOr/SWtrAnd62UQ732vvSui2KyxqiSFjCbzZYC2nsWfmU3CoVckexAhxBqGrjg1YQYABptAN9N8txoBoSRkYdLIAAEXjkBENCvfAlgAEAACAABIAAEgIAdEyArY5CLrLxEVl3WBTkRZdZdQHt7+8OhX/X19aKTra+vH7rgCO9IYzQ3NjaOsJWhq4mDr6mpaWpqGrrgSO40NTVJ2x9JE8PWaWhoENuvq6uzWlYmoI3p23XhM8mKSEPKxkEBnfUjEtC1SWP9KD9TQFs66Jb++vVpMwUtsjXrY8twyaMy5ogqH5l5sXq5MundnNYnOsz2ruu0FT8XbPr+uotls+XqAst2QEBbMoGcUSHA87wm8HMrDtptkurIVKqzYcS9eHt7v/HGG69Ze73++usnTpyQtnz+/Hmh4CeffCLNF9OnT58WCixfvlzMXL9+vZCpUCj27Nlj2dXrr7/u4+PDMMzq1ast77722msuLi5ia5YJ2wX03rwvVyjeEd6PdMiGj9FrdAX03rwvpR9BN1rln/myz6hCZZZsXpYC2ms6fs2L8nBGP2WFJ/BlWwUKey19e83AlZUT/xDjCbymMDUg8EwCIKCfiQgKAAEgAASAABAAAkBgSAJCNAaD4ktj9h4koO8GDVl06BsajUZ0oD09PUMXHOGdR48eie0bDIYRtjJ0tbq6OrF9lh3l/4GkKEpsXNi1N/RARnJHp9OJ7SuVNkVwNuXsxy5/ytMmU+7PuiAn7MrnhuQN6HuI6viRjOB56tgioGUOWtQlY2efzWbzzwWbxI6GT7imTOkjup9n0qjs9VaF1WZLOnKsNgUC2ioWyBwVApTygfrUMsFBKw++pzo6XfTRnT6LWUxLa9uet6PQ0FCp8P2nf/qn//iP//ibv/kbaWZUVJTY7AsK6D/84Q9iy7/73e/+6q/+Srz89a9/7ezsLF7+/ve//+1vfytevvbaa4GBgeIwZAnbBbR73jrxN3pMBXSnoU0anl7sVEzYvgOa4znXlCliRRfFZBXWIiNw/t5RaYEoi2j4lgLaZxYeu4MMXE5UXnWkHdCNnNQ+ezjjPrPw/o6njluQsYVLIAAE7J0ACGh7X0EYPxAAAkAACAABIPAqCZhyDyMFGeuij5wzcA7h3hGMBgT0MNDGoYCmGjOF/c5EaQDaAR023Zi+DQnoBwnDTGRUbtkooC0d9JZri0e299lA6fuInqHeJIML81qfNkuqXT5LmXLm7v7UxqjoB6c3ZsyV3nJRTD5X/vPz0hhKQH9/3aUDe2TZmiCgbzxAR8MRD0uZvg6z2czoNDzH8TTJkSamX62/GUypn2y9ZHQaFtNSqlpK3cjqu1mDlmwtxwqjTNXZxntXjfdSybb7eF2+sTxFfzMEK4w2lCUJR9IZy5Lx+gJTZSbTpyLbKzkCM5RewRsKiYeleF0+2V5pvJ/Rn+5jKIk3VqRjhdFEU4mxIs1UlWUsT9FdDzAUx+qyz+pvhetyzmMFkVhhFFYYTbZXUaoavDaX6VUyvUq8/hbReFufH264k6jPu0C2lrMmnfF+hulBDt3TigaMaSl1I6Vu5CicowmOJoz3ruL1BRyFs6Z+sr2SbC03VV7DimOJxiIBF6PTGErisKLLtKZJnx9Ott1n+jt57skXSGR7JV6Xz/R1UJ31xMNSovmuUFF3/Rxr6BXSHGViMZu+M+MHTvLkSBPP0kJdMbIKR5rMZjNHmjgKJcQXRxPCAvE8z+F6oQWz2cxzHGvSidVRDkMz/WoW0zI6jVh9qATqiMDEuzxL8ywSf1RHLa1t41lGeE7QA9OvZvo7xZJigsP1WGGU8uB7QvCNdvc/iwIaJfa+ZarM5DlWnKlYcZiEk5OTIHn/9Kc/3blzRyjJsmxycvLvf/974ZaTk5PYwgsKaKHBr7/+WvhWj2EYDw8PqWX+xS9+sX37dq1Wi5aG41JTU//u7/5OKDB//nxxGLLEOBTQZrNZY1S16ZvE9/Gi76SfSLYLaIzSSSuuULzD8XJhmtZ0SVrm1B13GSKZgGYZ3nc2HrWJPLsEL09k1PXyBmXVJ8xlY4F8B3TgcogBPWGWFyYCBKwTAAFtnQvkAgEgAASAABAAAkDAFgLE3WBD0npj+jb9pSUDAtrNllqyMiCgZUCkl+NQQBuSvtJfnE/ejzZddxNCcBiuo63QeFkE2XqPbKs0m82svttUmYkVXSZaynQ3Ag1lSfq8MKwoRp93wViWbLiT2J/h05/l35fm1Zt8tDf5aN9Vj+7IbT2Xdmrj3LVxbj3RP3SHb+5NPKiN39t9YbM2fm9v4sGu4PXJIUjmnik7IEVkNd2mb5Lu+ztU8A3LjWR73bHb26Q+RZZOabxoNptJlliT+qF4a23q1DpthTgqjOzfk/u5eNdFMXl18nuW4kYsbzWR05osbUGa/jJtpuWWakFAK/ydVMemd3ovbnebhH66v9npvQhtWT3srDo2XXnQSXXYudNrYVfoBrX/p6rjs7pCv0ZHzB2aIvrEDs/5T06cc39TzLee2De53W2Scv9flD9/0O42qSvkq57oHV1hGzs85qr9XdrdJqlPL++O2DowpEXd4ZvVp1e073+nfd/b7WLL+95WHnBCjRx0Uh56v+Pk7PZ9b6v9XVTHZz7p0f3NDo+5HZ7zn+S4TUKFPeZJcwbToht1f1MYVU/MLs05166wbzRnVwtllD9/gNrf93a726SOk7M159Z0hWzovrC5+8Jm1VFESRPg2umzuMNrAXp7zlcd/lBzdrXyAMpXHnhXeWiK6sjUTp/FmrOrO30/Vp9a1un7caffEvWpZR0n5wwMbK7y5w86POd3+i1td39Teeh91dFpg1Pe/w6aiPufBcidfku1sXtUx2cpf/6g0/eT7shtHZ7zEYT977TvfavDa4Hy0PvKQ1NQ4oBT+97JiNJBJzSGg++JFhiN+ecP0KSOTFUdn6UJcFWfXo5W/MhUNCSvBerTK9RnVqIyA9C6gr9EUw79ujt8S2/S4U7vRV2hG9DXA/dS9bkhZOs9qw8k09dBNN5WHZ9lhbnbpHa3Sb1JRyhVrdW6lpkGg0EMvqFQKGQFbt26JZjfN954A8MG1fmLC2h3d7kbnTlzpuig3dzk/5YdPnxYuPsv//IvshGKl+NTQIvDExIXKr2kHyC2C+guY4e04hdpM2Qtm83mW+0Z0jLHi76TlZEJ6J5WtBHY5yMUjKKllKVwRwmC3FQoF9AezjjW4yjTlz0VcAkEHIQACGgHWWiYJhAAAkAACAABIDAmBIg7gcaMHYbkDdiVz3VBTsbsPSPoBgT0MNDGoYDG4lcbs3YTdwKxy58KArovaKYuyKkv5uuuoC8059YgQfbzB+rTKzpOfDSUnxpZfqL3n20R0NJTB0Ub4lO6ewQO2hYB/f8naxkovRbvEt5G6sn2UmFlLcOwaow2RTuRPhg8z2OU7n5XsWW4j5CKp8Ljms1mQUAnej/ZmopiJux9S31qWVfIht6kI4bSBKL5Ll6bSzws4VmGbL2H1+YKAro/3afTZ7H6zApN4OddwV/2Jh3pTdiPFUZr49xVx6Z3nPiow2PuMMunPPCu6visTq+FnX5Lkbc98RHSnYfeF6p0eM4XozcIOapj01WHP0R62t9FecBJdXym6shU5II95spKDtPps28NyPf2fZPVZ1epz6xAjnvAHaOK7m+270XqXPoWbLU0R5pGPvf4zMFa7m9qzq/tTTyoux6AFcUI776U4+pTy1RHpmrOrzM9yNHlBHVHblP7u+hzQ3XZZwUd3+mzuC/NU3fjXF+al7AfXJ8frs8P7w7fYixL1sbuIRpv96d790Tv0OeG6HNDexMP9ioO9V31QJu76/KJphK8Nrc3YX9/uk9f6knt5d3t7m8itx68Xhu/tyt4fV/qCex2NN5QgBVG96V59med7k/3NlakG+9n9CUfRa0l7DdWpJEtaG+4ofQKVhTD6DSUqoZ4WEq2VTJ9HTzLmKqyTA9u0F0tVEet6UEOparhGZpsLecIrD/rdHfEVikWWbrTa2FfynGm99mPOoZhovndvHmz9LFH+7t5ftu2bRs3bty8eXNfX59w9wUF9L/927+RJCnr6MSJE8Iw/vqv/5og5NtRi4qKhLu/+c1vZBXFy4ktoNv0TeLHqYti8saMueLExcSdjlxpmf35X4m3hIRMQGNdvIczrtiLDiFsLn7y9weyWhPvsvUu6zf3qRjQHs6442wAn3gLCjMCArYQAAFtCyUoAwSAABAAAkAACAAB6wRoZYk+YjZRFkpWx4KArqmpcYQY0LoLMwxJXxkS1+mjFiIBHfy+qcATrf6NAxxpZHQaFO7gwQ0U8eB2dP+1U9rYPd3hWwQv9sT07Z3c6b1IE+Da4bUAbfB8Wv8NdWmLgJba561ZH1+uOScKkRE4aBsFtPVfD0nulmuLxGG4KCZbPTlQLI6R/d2mTuGtIwejPYh3OZ47XLhF2to3mfKYAJYCeiikaBvswK7e9r1vDeyMnqE8iPYgj8O38sC7HSc+Qi5739tom/Zja4w2BQ84cTTyvZPRtm7fT9DGYbdJqmMzlPv/guay/x3l/r+oz67qidnV6bcE7WIOWtdxcg4qc2Sq2v9TVGbf211hG7vCvun0Xjy8gLaEg/Ysey1s3/uW8sC76jMrxUdaddhZc85VddhZqNLptRBtQPZ3QbukfT9Bkvqws/rMSrQ5+jHzgV3YrsJ41KdXqI7N6PBaoDo2Xe3v0hP1nfrUsp5LP/TE/CiWf5Jwf7PTb8kzRy74faEWQndyTlfoBkNJnP5mCN5Q0J/h031hU1fw+u7IbYY7iYaS+L6rHljBRcOdRBQvpTQBhVVpvUd1NvSlHO++sOmpzemPp/BkSG6TNOfW4A2FYvwQ8TGWJf793/9ddNDTpk1LSEjQ6/WyMtLLFxTQW7ZskbYmpMPCwoQxvPXWW5Z3Gxsbx5WATm6IiKk5O9S709BuOQUhZ8Q7oDVGpfRjxzVlimUXJR050jJ7876UlZEJaF0n5zkNzwukPZzxtKMOdAihrpPznYOf/QQ/v4IYDAY9Fce6YQe07HmBSyAwoQiAgJ5QywmTAQJAAAgAASAABF4yAao+FcVeuO2LF51CCjLrpxEMAHZADwNtHO6AJu4EGq5uJitjdBdmIAEdOpV8kIAluGIJrtKJ0N2t+pshmsDP2/dNbt87GQlBMdKCKKoeh18YtGYDYRCk9kqWfqaAltlnIe5zdkui6ESe10GfLPperGuZEEJw4IzJSGPi2+o+6x9urJBWL1RmSVlJ0wSDS0/62p69VHpXSGc2x0pbc1FMptmn3M1gCA4/FNECxcQ49L7q+ExhG7IQ3mEgmMP7XUFfdPot6Y7Y2hX8Zbv7m6ojU7Xxe3XZZwylV4xlyaaqLH1uCNoyfGpZ75UDxrJk3Y1A4/0Mtb+LuAla2Kfc6bMYrbK4rGh/sRMK6yE5nk56d/h0h9cCqZCVFhbCd3T6fqw5t6Y7cpsgl5WH3kfOd+/knks/DMQV+RDFnTizUnnQqSt0AwqLcWaF5vw6QVgr9/8FbeI+ORvVFQN0PDXyd7tCv+5LPtqf7t2f7t2r+FmfG9KXekKXE6Q5t4bWNOF1ebobgdrLu/uzTqM4FTdD9LkhxnupwqXpQY6xLJkjDFhBZN9VD31emP5m8ECZUOO9qzwzGADaUBKHBG745u7Ibdo4d/RNjMfcTt9PNGdXIwkevF59enk7sreu3Rc29SoOdfp+0nvlgOacq/rsKuz2pV7FId31gN6kw9qEfdrLu433UvG6fBSbuzgWreCNwL6UY5oAV22cW1/yURSwu/SKNs69V/EzinITu6c/09dUnW2qzMTrC/S5ocTDUqqjjnhYaiiO1eeFoV3S964KUbxN1dfJ1nusvpvuaiEelgqnC6J0Y1FfmqdsB3Rfmpd0sdrdJvVnndYEuHZHfCsLb235SCckJPzqV78SHfRrr732y1/+8u233962bVtKSooYeUOs+IIC+tixY2JTYiIiIkIYwLx588RMMdHc3Czc/e1vfytmyhJWd0DryN6AsoOy9/q0meKv8MniHbK7lV0lspYtLzdmzBNbsEzc7yq2rCLkjFhAdxrapB2tT5tp2UWB8pq0zNHCrbIyMgFtNps9nPGc0xT6eWbwt0NWZUJePshiPJzxM4vxC18MCuiAZYMnCkzI+cKkgAAQMJvNIKDhMQACQAAIAAEgAASAwMgJkJXRKPRz7hGqKWvc7oBWqVSNj18m01PHfI185pKadXV1NY9fo74Dmqbpx2NvbG1tlXQ7OkmdTvd47DVK5bP/WB4dVlabRFZeIu4EDgaATlpPlIfpY5boI2ZLx0Q0lVCdDV1hG7sjtvZn+mLFsZqgddo4t66wbzpOzu7wnN+f6WcovaI5v7bTb0lfyrHepCNiWF6ZxhIvhxfQVu2zMKQRO+huU2ehMmuotwpDK+Ket07qXDKbY6UcUJBoBv8sZYq0jAprkZWRXq69OlUsvELxjok2SO+azeaC9kyxgIti8qpkJ4Z7yt0IAjrpHAr7qzo6XX1mZXfkNuELAOWhKT0xP2rOrxMCE6tPrxDCNEujKguBmFEI44PvaQI+6wrd0B2+Wbn/Lyh48YCrFYOroIDFA5GILb9dkMaSFlfQekKyBR5FPT7xEZLmyJtP6Qr5CoXyQDua56iOTEVDOvAuCnB8+ENhI7Pa30XQsmr/T9H77KqeqO8159eicCKhX/cqDmGFUYaSOLyhsD/dpz/dW3t5d0/Mj/rcUENpAqvv1udd6Es90X/tFHY72ng/A7t9CW8oNNxVCMcMsqZ+8aw/dLwhaRQWgud5G88elC2c7JLRaZg+ldWD/gZiX+QI5xMOVUbaGq1pstqOtMwopvH6gsFt48Lz4Dm/03tRd+S2/ix/YYmVB9/Txu4xlMSpjk7Xxu995g5os9lcXl7+3//931IHLaZ/85vf/PDDDz09T857fIUC+nlDcHQa2qW/rbakI6t8n7lYL19A9xNa6eBXJb1rGcteUPBiMZ/S3bKJWBXQaceQgL4Z8NSHmKziBLtsLUMxoM+vIMQd0DHbSJqEHdATbJ1hOkDgKQIgoJ/CARdAAAgAASAABIAAEHguAnRrvi7IiapLYXvqkIm+efC5qguFx3oH9AiG9FxVxlRAP9dIRlB4BAKabs7RhTozqru6kA+Rg46Yi9+L0QW9pwudKg6A51iyvYrFtCymxetv4bW5aB+lQcvhekpVw9EErW3jCIznWKKpxFSdbbyfob8ZYihL6r/mj9ff0pxzNVVns4ZeY3kK2vgZtK4v9WTPpZ3Z5WeHigE9jH0WRjViBy1OaqhE2H1PUbi4KCbvyV3L8k8FM02oC5YW+DzVWdCa9drKIlW2+K7tGTzwTWa042rPy7r2KtklbdAtd52sgCCgUy6ggA+DR8xFbusO39IT9T2yyZHbBrblBmvOr0OxgJOO9KV59qWexAqj9bmhxop004McuqsZry8gGotMD3Kwgki6q4XpVRLNd433M2htG4v1UMoHRPNd1qQjldWUuhGvuYnX5Zse5BjKksi2SrKlnGi+S7SUka3lZHslpaqlNU10zyO8NpfuamENWhbroXtaybb7dE8ro23ncD16JHA9z3ES52viiKcCaqO7HCeb7IS8pDrrB6Iwj0clx/N8f9bprpANg99GeC1od5vUl+aJ1+aKX1H0Jh5EsUeOz8IKLjJ9HTauEcMw+fn5P/7446RJk37xi1+IAlpI/OlPf7I9BrS/v79Qa/ny5WLv69evFzJfZAe0wwpomqWWK96WfvJYxrIPr/SWFgi6d1SELyQsBbTnNLy5BNnYkkvj8WmXjX+0LvtU3OlFuOe0wQMYPZxROI763Kf+4RitvqAdIAAExgkBENDjZCFgGEAACAABIAAEgIBdEiBKAwYEdLJgoo2ZO0cwDRDQI4A2WlVGIKCJ0nO6ICf60S1d8Pu6ICcs4TO82B/tf0/f/uKj4hmKw/UcId/zi84iY5ncR6lWBfQz7bMwsDFy0EWqbKlzcVFMDig7KGxb5njualP0iqS/SAscefxn6T6lu6X5mzIXCOMMLD8szV+Z9G5mc6ygZSmWjKr2l951UUwOr/SWkRcE9I2qMJ5lZLfgEgi8IAFK+aDT9xPBPpKBjhsAACAASURBVHeHb1Ydm645vw5vKEDx3N0mDe6Od/+z+vQKfV4Y1VE3su76+/vT09NdXV2loTm2bx/8kHnmDuiffvppYgtoz5KdX6bNHOr9oPvuUNhHHILDbDZvz14m/fApU9+S9XKkcKu0QGZznKyApYD2nokE9OXtZO45BxLQrWVs/C7Sby4esGzwKMLL28nedof4dk32SMAlEHAcAiCgHWetYaZAAAgAASAABIDA6BOglSW6ICd9zBJDykaUiF48gj5omsYfvxjG/nyZXe+AZln2MXucop6KIzzUUhLlobogJ7anzpD0FVr0yLnC9xDG7D1DVRmtfKsC2kb7LIxhLBy0juxdk/KBVLu4KCavSf1w542Va1OfBNMQCqxKdnqkaxQGIxPQGzMGI88q9S2rkp1kDa5NnborZ5U0OodQYIXinXrtfRlhQUDntl2V5cMlEHhBApS6UYzQ3en7sfLge/0ZPn0px8TgKsIhll0hX+G1uTb2pVQq8wdeVqMMqVSq//3f/xVs8ptvvim0GRwcLOQsWrTIai9LliwZJwIaZ0ziXzmIiW3ZS8Rf8Ms1AWK+kGjVNVid1KhkvoiA9rvjJg7bRTHZq2SXdEhdxo6VSe9KCzT0VkoLmM1mmYCmcN5vHl6XwyjcyXtJ9vevv2x2tl+qqtnL35FeM/Dg1YMxoCM3ELZXh5JAAAjYIwEQ0Pa4ajBmIAAEgAAQAAJAYLwQoFvzhEDAwk9j5g/jZWQvcRx2LaBHwMmQtF4X5MQROixxLdoBHb96cP972rYRtPZcVawK6ND7JwXlsTXrY+HUweHbFB30CsU7ogsevsoz75Z23JRql2HSqY1RYmtDCWiz2ZxYHzZMI9JbwkGIYptCAgS0DAhcjgoBFuth+tWDZ0vuRcdOKg9NkR81ufctrPDJQ25LvxcvXhRk8f/8z/9YLX/u3DmhwO9+9zuhQHJyspDzxz/+0bJKa2vrr3/963EioC2HJwscP1qfQlY7ssy0RUD73927P/8r8Z3UEC60k9eWJv3wcVFMlg7+XPnP0rvr02bKYtNbCmismz+/gmi4xcZ+TzqUgW26zQp7nz2nD+6ADnQhjL0QA9rygYUcIDBxCICAnjhrCTMBAkAACAABIAAEXj4BsjoW7YGNmC0IaKI87OWP4ZX36JgCmu1t1oVMGQjB4Uq35AqPAc+N7RY2qwKaZqmjt7+10T4LT0t2S+LKpHdvK7NG8eFJboiQBUiVuhgXxeQVincuVp8SAxybzeZhBDTLMWfKDshasLwMqjhmdQogoK1igcwXJEB1NmBFMe3ufxb3O7e7TdIEfKY6/KGQoznnSnc1P28vjx49EmTxa6+9lpKSYll93bp1QoH58+cLd8vKyoSc119/vbCwUFrFYDDMmzdPbPCVx4CWjk1MS+O8Sx2uWGDsErYI6O3ZS6WfNsduD365SDL456nO0lubMhfcVmbV9pTLoj9bDQ1kKaDNZvPZJXi2L5XoRibtI8du1uOt5Z5WLmzt4N5nD+dBB91RAyE4xttCwXiAwGgSAAE9mjShLSAABIAAEAACQMDRCBB3g1Dw3+w9QjhgpnPwFDWH4uBoAloIuMEoS4UvHgxJ68kHCchEX/50rNfdqoA2m80MR+O08bl6xyjdc5W3pXC7vtm39CerGvrHnM+a+2tljcgUsxiCQyxW21P+w40VUt0jpg8XbH7YVyOWlCVAQMuAwOWLE8AbCjXnXJUHnKT2GaUHfLTy0BRDSTzPjfAUtf/6r/8SlPGvfvWr77777vbt2x0dHZ2dnTk5OWvWrBFtsoeHhzARHMf/8Ic/CPn//M//HBoa2tTUVFFRER4eLjYl3AUBLVv6FxHQZrNZdqSq+IkkS3ye6mz171FkITh4jvedjWd6UJe+JRP3kP0djmJgDVpe4U4GLMG9Zw7a54CluPaRo0xf9kzCJRBwEAIgoB1koWGaQAAIAAEgAASAwJgQEEJwGK5u1UfM1kdbj8U5Jh2Pp0YdTUCTVZfRIYTKEtP1vQMxoOdhVz7XBTnhhfKj8EZ9lYYS0KPe0Ys02It3V3WVZrckXnpwNqEu5E5nXrep02qDOG3sMnaIb6u+xmw2a3HN/a7i9IeXo6r9Mx7G3u8q7jGprTYoZoKAFlFAYlQIcLheG79Xrp7dJrW7TVIdnd539SRHv1AE23v37v3t3/6tKJqtJt5//329Xi9Ox9vb22oxIfOjjz4SEiCgRWJC4gUFNMPR0u3bMu8sXK5QvDNUAHqZgDabzYHLibwg+szH+OXvSIPWgWJQJLqR51cQ5z59sg9aXQ8CWva0wiUQmFAEQEBPqOWEyQABIAAEgAAQAAIvmQDdXqQLcjJc3aq7MEMfOZftqX/JAxgP3TmagKbqknVBTlRjhiF5gxB6RR85BwnoAs+xXg67ENBjDcGW9kFA20IJythIgKfJrrBvntjnfZPb976lOefa7jap++J2pq/DxnaGL5afn//2229bdcq//OUvP/30UwzDpC0wDLNv37433nhDVuWNN944ceJEdnY2CGgpLjH9ggL6/wNY0xxtGXBDNNEbM+bV9pSL3ckSMgFNmvhT8/GCUDpsLZF7jpYVntiXVw9TXjPwwOWDAtp7Jk6TDuTfJ/biwuyAgFUCIKCtYoFMIAAEgAAQAAJAAAjYREAQ0ET5BSxuJTLRSV/ZVG1iFWpvb3/0+MVxE38HE1Wfqguegk4gDJsqCGiD4kshEstYLywIaBsJg4C2ERQUs4WAsSJN7e8iCmj12VX6WxFdweuN5VbiNdvS4DBlioqKTpw4sXXr1mXLlrm6uu7atSswMLCrq2uoKpWVlT4+PmvWrFm6dOmBAweuXbum06HoOnq9/vLA6/bt22LdqqoqIbOlpUXMFBNqtVq4W1paKmaKCaPRGDvwSkhIEDNliWvN8S6KycEVx2X5lpeJ9WHHi747XvTdiaLvjNRTYt2y8Ojm5LelC10LP/Pb0i3bv/TgjLRMXO15yzLl6gKf0t3bs5cKQYfWpk7dl/9VeKX38NGNZALa2Mt7OCMBHbyaiN1BqqpY0ugoEjbTgwpeTQStHBTQZz/BOyEGtOVzBjlAYAIRAAE9gRYTpgIEgAAQAAJAAAi8dAJ0W6EuyIntf4QX++vCZ1F1yS99CNDhyyaAdkCHTiXKQwX7jL54SFyHBHTGjrEeCghoGwmDgLYRFBR7JgFjWXJX2MZB+7z/HX1uSF+alzZhH2vqf2ZdRytgu4CeSGRIBu8jum2ckUxAcwzvvxBP3ENGfEX4zsEb8llt68T/Eldgdc2LCnElLm5EAtp7FooE3VI6whDqNsKHYkAACLxaAiCgXy1/6B0IAAEgAASAABCwbwL0o1soHHBrvnAMHd1y077nA6O3gYAp9zCSzinfiAJaH7UQCei0b22o/UJFQEDbiA8EtI2goNjwBMj2yk6/JYP2ee/k7ovbexWH6K7m4Ws57F3HFNDPtdwyAc3SfMgaouY64zEVv7iRMPXzLOMoO6CzfSkPZ9x3NlLP4V8S/gtwjnWUuT/XMwOFgcCEIQACesIsJUwECAABIAAEgAAQeAUE6NZ8Xdh0/NZJ0419uiAnsjruFQwCuny5BIzZe0T1LCSMWT8JSnqsBwIC2kbCIKBtBAXFhiHA0YQ2YV9X8JeCgNacXW28d5XnwZENyQwE9JBoHt+QCWhVFZuwm6xIYXxm4Qk/ko9LOcR/r3kiAT34nooScAihQyw8TNKBCYCAduDFh6kDASAABIAAEAACL0yAbrmpj5hNNaRhlz9Fe2CzfnzhJqGB8U6AKAuRCWgsZqkuyEkftWishw4C2kbCIKBtBAXFhiGgTdgnxn3uTTrCs451RtwwZIa6BQJ6KDJivkxAswwfuoa44U/Ffk/G73IsAZ3tQ4WsIc6vQCE4Lm0lzy7BHSf+tfg8QAIIOBQBENAOtdwwWSAABIAAEAACQGCUCdDNOfqL83mOERSkMXPMowCP8gSguecnQD28LhPQ4iXPj234ThDQNi4XCGgbQUGxYQiIBw/2pXkOUwxuiQRAQIsohkrIBLTZbPZfiN9PZfzm4jHfOpaArr3BxH5PRm0mPZxRFGzf2ThpgD8vGOrBgXwgMBEIgICeCKsIcwACQAAIAAEgAAReFQHkIkOd2f42Y8YOXZCTKf/4qxqJvffLk9jwU+BZiqeMQhmO0PGknmcInjKy2kYO6+Apo/RP43me5/Beur2YUd8XinFEP2fq4QxqTq9i+x+xvc2stpHtaWB76tmeOra7DqV7H7L9j5jOCuJuENN5j27No5UljLqCbsllu+s4rMNsNrPddWTVZV34TFE6SxPDT+HF74KAtpEhCGgbQUGxYQjQ3a3d4Vv60rw4yjRMMbglEgABLaIYKmEpoP3m4Un7kISN3EgMVWtC5pddYbxn4cIO6KKL9Kn5uLZtbL/BnZAYYVJAwI4IgIC2o8WCoQIBIAAEgAAQAALjjgDVlKULcsILPPEiv5cQA5rnnpwRz3OMiIOnDJy+A/nTngZW28gz6P9jkXhlKSFB1iTSj24xmmpGXUnWXOFpnOl6wPa3ii2gYiTGaKro1nxGdZeoiCAro6mma8Sd80RFBN1eTNWnEuVheJEfXuiF5nvbFy/2J0rPEWUhRHkocTcIL/IzZv1ouLoVv3USLz5tTN9uzPrJmLHDkLgOS/gML/Q2XttlzNptzNhhuu5myj2CF3jghV7Ga7uopiyy8pIxfbvh6hZD8gb0TtloSP7akLiOKA0gKy9hsS76qAW6kA+Q6g111kctMKRs1IV8KDW/g+lQZ13YdF3YNCu3gpxGITN4Cmok1BmLWWpM/07e4IUZUp5jkQYBbSNVENA2goJiQGAUCYCAfiZMSwGddpS6n8p4OOMhro4loDM9qHOfErE7kHwvS2D8F+IsDTugn/kEQQEgYMcEQEDb8eLB0IEAEAACQAAIAIFXToBuztEFOVGNmWRljC7Iibhz3nJIPM8xnffIiotsX4ughoUybH8rWXOFqk9le+qQLH4cvYFnabq9iKy4yHQ9GNi9a6Bb8005B/RRC7ArnxszvkfxpsOm6i/Ox+JX6aMWDZpZiWA1pm2jW/PwAg9d+Cxj+jYsbqVUleojZuuC39cFOWGXl5lyj+ijFurCpqHWLn+KXXbRR86TFnaEtP7SEl3YNLzAw5jxvS7UeZgpG1I3IaV+dYvpuhtedEpWUh+92HL1RzcHBLSNPEFA2wgKigGBUSQAAvqZMGUCmmX46C1k8UU6YAkKwYH1OJCBLbxAByzDA5ag4webbrMBS/CGW0++Yn8mSSgABICA3REAAW13SwYDBgJAAAgAASAABMYRAbo1Hwnopmumm4eQ0k34zJi9h7gXTrfmI7nckGHM3IElrqUaM6iGDLI6nm7NR7EjeI5qysKufE7WKNieeuJukOnmIdN1d6I0wJR/DL/tSzfn0K15pryjZHUsWR1HVkQSd84bM3foI+fIpOczLi/MQFVCp+qC35er6lBn/cX5hpRvjNd26S/O1wVP0UfOMV13Myi+ENrURy3C4lZiCa4ovLWw+zjICe1KrogQAl7rwqYZEtcNCOv3ngwjfCZqM3uPIWWj/tInSHajLcnT0TDCpj4pJtHlVjP1EbPx2z6m627DG2GrdZ83Ux/+kT56MRa/ShckmcizRmjZCxa7fKwfTUFAr0p6d93VafAehsCqpHddFJNz266O9YpA+0AACIgEQECLKIZKyAS0oYf3cMbrc9noLWSWN4V1OZCAvhvPRG8hb/hTHlPx4mj6wjri5lk453OoBwfygcBEIAACeiKsIswBCAABIAAEgAAQeFUEGE2VsPEZOVzblWXY9OcoLDYb6qwLGQgBIeY8K6G/OF8ftQiJ4Jgl+uhFOiGChFgrfKYhdZMh6SssfhV25XNDykZjxg5j1k+o1sX5xqzdpvzjeKE3fuuk8douwWIbkr82Zu4URC3aCJxz0JRzUH/p4yfTCZmCxa1AATSubjGmbTOkbsKurDEkrkPBN7L3YIlrkQcXBzB8Ivh9XfgsWwsP39RLuYsluI71cygIaBfFZHjbQgAE9Fg/kNA+EJASAAEtpWE1LRPQuJ73m4tXpTMhrkTCj6TBkXZAF12kQ1wJxV7SeyZO4XzkRsKhNoBbfTwgEwhMbAIgoCf2+sLsgAAQAAJAAAgAgbElwOraBzY+u+K3fcZAlb6HdhNn7TYkrTckrjNddyfvR+PF/oak9WKYY+zyp6Yb+4zZe1AcCbSB9z1UMucAfusEcTdYFz4Ti1+NF3hQtUlMRxnVdM2YvQcv8DTlHjYkb3gJm4vHgMlohHIeGx+Nxa8a26fNbKY52kDp4W0jAZqD/XRj/UhC+0DgCQFBQP9csCm/PR3eVglsylzgopjc0l8vUKNMaAd0XiAdsoaI20k+QekAqZps5vwK4tR83GsGbujhY3eQHOtAG8AdYIVhikBATgAEtJwIXAMBIAAEgAAQAAJAwHYCVEMGcqzB72OxLmKcCpQTPhOFVL6yxpC8AR2gNzbG0/ZmhQ3OKCDGqx7J8APQRy0ypm3Db/uiDdfiUIOniHu39dGLhfgeYo7uwgzsyponhcVajxNYzFLB4FueW4gib8StxK6swRJcUVjt6MWGpPX6iNn6iNloV3j8KpQZOU/U/cP0ogty0kfOtf3JgZJAAAgAgQlGQBDQtvx1goOXEQU0aeJ9ZuEFYfSlreTNAMf6wqz6Gjp60WcWigFdncHEfOtY/n2C/e7DdICALQRAQNtCCcoAASAABIAAEAACQMA6AaI8dHgpOV7uDpw6OIqDQRY4dbM+evGQbYZMMWbuNCStR1GkY5cPVUwfOc+Y8b0YxMOY9q0p/5i08IALXo1ddkGnL8at1IVORUI/5EOxDJLLaEs4imqij5xrSFpvvLbLdN3dkPz1YAzryy7ILF/dgt/2MaZvexLoOeQDw9WtxvRthtTNWMzSgZMb84mKCFPuz0TJWSx+Nerr4nwUvcRmcS89ZNL6EwO5QAAIAIEJSqCyq8T/zl54P5NAt6lTfAT8F+Bpx6jw9URDnmMdwfeojPVwxmO/Iz2n4SWX6IsbCb2GE7FAAggAgYlHAAT0xFtTmBEQAAJAAAgAASDw8ggw6kqiLBS7smbAnB4n7gbTyhKyMgZJzLtB6HDC3MP6mCVkjYK4F06Uh5EVkVRtkinvqDFtG3En0JC0nnp4nSg5a0zfbszYgRedoupSmY5ypquaUVcwHWW0soRuK6RbcqnGTLI63nRjn+HqZhSd+fpeIbCyKWe/Kf+4IXEdkrMXZiAtGzyFuBdBK0uYjjJGdZd+VEA1ZrDaRlavHAwDHTIFne+Xe0R/6RPBxhqzfsISXE3X3Y1p28R93Pqohai71E2G1M3GjO9REOeMHVjcCn3MEhR15LILMr/JG3ThM/VRC/QxS7CYpfroRcjVhjqjAnErjFm7kcZ9vBNZnkDxnd8bCBKyypR72Ji+3XTdXWhciGpiunkQRa+OnPtks/NQTVnmh0zBElzp5hy8wFMX8qE+cg5ZcdGUewQdongvQgyljWZ986AxY4cubLrh6lY0o6tbDamb9JeWGFI2mq7vRbMb2BZtyv3ZmPUTghOM6BlSNg5OJ3zmk3mFTX15Tx70BASAABAAAnZOgKFQCA4PZzxyI2HnU3nu4auqkYC+E0ufXoRHfEUk7SM7HoCAfm6MUAEI2BEBENB2tFgwVCAABIAAEAACQMDOCNAtuabcnxlNlXTcPMcgp/yogFFXstpGTq/ieR5lthcRpQF4oRfb1yItL0vzJEY9vM50PaDbi4mSs1RTFs/zjLqCrIyhGjOQd1bd5SmDtBZqvaPMdGMf1ZTFGbuYrgdUYybdnMPhvULXTxXmGLavBXXRXSvNF9Oo1uP2ef6piI1sfxujvs921zGdFRzRz3MMz1I8iXFYJ150Cknw3mai/ALVkM5oqjmDmmdpztDFGTQ8N7jzi+19yGEdnEHNETqhRw7vZTrKyBoFWR3HaKoZTRVZHUtWx1K1SVRTFvXwOlV/lbwfRbcVMur7ZGU0WRlDt+YjsHgvVZdKVlxElz11HKGjHmYT5WGokc4KRl3B9tST96OJ0nNkxUWmo5znOZ7G0VIYu6mGDM6kNZvNjKaKbs2nW3IZTbXZbOY5RsjnWYozaNieBravhdN3cFgn21PHqO+LlCABBIAAEAACQGB4AkIMaJ9ZePRmhwtAQeG813QkoP0X4gk/kunHqa4mENDDPy9wFwjYNwEQ0Pa9fjB6IAAEgAAQAAJAAAgAASAABIAAEAACQMDuCHAM7zsHL4qkw9YRHPPUF7p2N5fnHXD3Q87DGW8qZD2n4fE7ybC1REO+YwUheV5iUB4I2DsBEND2voIwfiAABIAAEAACQAAIAAEgAASAABAAAkDAzgjwPO87G28uYb2m4/W5jqVfux9yoZ8j6ezhjIeuIXzn4M3FjkXAzh5WGC4QeGECIKBfGCE0AASAABAAAkAACAABIAAEgAAQAAJAAAgAgechQBp4rxl42FrCwxkvS2Cep6rdl1VVsafm49WZjIczikDiMRXvrIEQHHa/rDABIDAMARDQw8CBW0AACAABIAAEgAAQAAJAAAgAASAABIAAEBh9AjTJX1hHxO0kvWbgd+McS0A/KmcvrCNid5AezugQQs/puKYRBPToP2PQIhAYPwRAQI+ftYCRAAEgAASAABAAAkAACAABIAAEgAAQAAIOQYCh+JDPiHtJzJnFDiegOZZPO0op3JCAjv2ODP+SqM5wLAXvEI84TBIISAiAgJbAgCQQAAJAAAgAASAABIAAEAACQAAIAAEgAATGngBN8P4L8IZbbOjnhKPtgEbhR6bjt0JpD2c8L5AOWIrfDKDHHjn0AASAwCsjAAL6laGHjoEAEAACQAAIAAEgAASAABAAAkAACAABxyTAMkhAZ5ykvKbj+UGOpV8flbOe09ABjB7OeMYJymMqXnYFdkA75u8BzNpRCICAdpSVhnkCASAABIAAEAACQAAIAAEgAASAABAAAuOHQMAS3GcW7uGMK6vY8TOqlzASXM97OOPF0WgHdEEYfXoRfjceBPRLAA9dAIFXRgAE9CtDDx0DASAABIAAEAACQAAIAAEgAASAABAAAo5JgGN571n4xY3Eqfk4rucdDYKHM16Vzng44zHfkv4L8MJwx9oD7mjLDfMFAiCg4RkAAkAACAABIAAEgAAQAAJAAAgAASAABIDAyyYQuJxQuCH9Wp3pWPt/SSPvNxeP2owOITz7CdoD3pDnWHvAX/ajBv0BgVdNAAT0q14B6B8IAAEgAASAABAAAkAACAABIAAEgAAQcDwCgcuJR2Xs+RWEstKx9GufivNwxr0Hwo8IAroixbEUvOM97DBjRycAAtrRnwCYPxAAAkAACAABIAAEgAAQAAJAAAgAASDw8gmErCHyglAc5JJL9hqAgiafBA8xaHmWRpc8xzMkT5p40sATGE+ZeG0bp9egN9aFbtEELwS/9nDGg1YRHs743TgQ0C//AYQegcDLIwAC+uWxhp6AABAAAkAACAABIAAEgAAQAAJAAAgAASAgEAj5jGguYX0+wutzbdoBzbFI7xIY36fkelq4zlpOXc81FbJV6UzdTdSCpoFrLWOLL9KlMXTtDUZVxWoaUZm6HOZ2BJ17jr7mSd0ORz/TjqB3pgd1zYtK3k/F7SQV7mTsDjJ8PYoKEvs9eWU3mXKQyjhBJe0jozeTF78hIr8mrnlRQasI3zn4uU+Js0tw75koeobfXPzsEtx/AUr7zMI9p6PEMG+fWbjXDFQrYOmTYtm+FDwVQAAITGACIKAn8OLC1IAAEAACQAAIAAEgAASAABAAAkAACACBcUrg9CK8OoPxX4hn+1IdNVxXE3cvibmfyjTkszzPNxawFclM+RXmQRbTkMfWZDN345naG0ziHlIIXiGTvIHL0VZiD2fcc9qg2D3zMR68GmWeX4F+ek1HghgVmI5HfIVy/OYMlvT5CEfVpw5eyloWLk8vwoNWDnZhtYDVzICleMKPpDgkocyFdUTEV0hhi1Wu+4GAHqdPKQwLCIwKARDQo4IRGgECQAAIAAEgAASAABAAAkAACAABIAAEgMBzEAhcThSGoxAclm+/eVYyvWfhPh/hoZ8T4V8SpxehAp7Tnuhm/4VINAe6EFGbSb85SDcHLEECOmwtEfMteWo+Hr8TbWoOXo3qhqwh/Obh8btQvoczfnoRHrWJjN5Chq4hYraR5z61Ipp956DeLYc6KjkFYfYahOQ51huKAgEHJgAC2oEXH6YOBIAAEAACQAAIAAEgAASAABAAAkAACLwiAhFfERfWEcI2ZN/ZSB9b3dosGt5znxLBq1EZIW6yhzMeugYZZw9nPPxL4uI3qKksbxQ3A7X8xTN2NIvN2pIIWkUIpwUKhf0XoCgcKD0VxdOQtoDc9+Mcr+m47xwUqcPnIyTKxQ3X0vJCujAcBPQregqhWyDwUgiAgH4pmKETIAAEgAAQAAJAAAgAASAABIAAEAACQAAIPCbAsbwYLlkws35zkboVHLTXdOR2/eYNXgYsQduZTy/CfWc/ZXtFk+s5DT/7CX5qPoqk4b/QehmxsJAI/5KQtRa2dlBniyUDluGRGwifj/DIjUg3+80Z3FXtO3sw6HPAMvzMx2iQYWuJ6C3kpW/J0M+J+J0kKj8VDSblIBW2lrgVQmd6UNFbyIBlKPqz2L6YyPSAEByPnwz4LxCYiARAQE/EVYU5AQEgAASAABAAAkAACAABIAAEgAAQAALjmwDWxauqWYOWJzAe6+JzTlP9HZyxD11WpDBNt9k+FVedicJA0yQ6flB4mfr52htMdQaTF0irqtgsbyrbh+p6yAl31fVc7jm6IJSuzmQq05jmYrazhqu9wWR5U423WGUVq67n2u6x95KYh7fZxgK2LoepyWYKQun8YFpZxZZdYVIOUjmnqZSDVHE0wUA4LwAAAqdJREFUXRyNDjNsv88WhtMPspj6XLYgjFbsJXPO0IluKKDH1cPolELhrMJbIfTdeOb6Kar1LnvDn8oPoq/7UWnHqPxguu0earnkEn0vibkdji4rUtAZibdC6eIo+lYo3ZBn0zGMjxnAf4EAELAzAiCg7WzBYLhAAAgAASAABIAAEAACQAAIAAEgAASAABAAAkAACAABeyEAAtpeVgrGCQSAABAAAkAACAABIAAEgAAQAAJAAAgAASAABIAAELAzAiCg7WzBYLhAAAgAASAABIAAEAACQAAIAAEgAASAABAAAkAACAABeyEAAtpeVgrGCQSAABAAAkAACAABIAAEgAAQAAJAAAgAASAABIAAELAzAiCg7WzBYLhAAAgAASAABIAAEAACQAAIAAEgAASAABAAAkAACAABeyEAAtpeVgrGCQSAABAAAkAACAABIAAEgAAQAAJAAAgAASAABIAAELAzAiCg7WzBYLhAAAgAASAABIAAEAACQAAIAAEgAASAABAAAkAACAABeyEAAtpeVgrGCQSAABAAAkAACAABIAAEgAAQAAJAAAgAASAABIAAELAzAiCg7WzBYLhAAAgAASAABIAAEAACQAAIAAEgAASAABAAAkAACAABeyEAAtpeVgrGCQSAABAAAkAACAABIAAEgAAQAAJAAAgAASAABIAAELAzAiCg7WzBYLhAAAgAASAABIAAEAACQAAIAAEgAASAABAAAkAACAABeyEAAtpeVgrGCQSAABAAAkAACAABIAAEgAAQAAJAAAgAASAABIAAELAzAiCg7WzBYLhAAAgAASAABIAAEAACQAAIAAEgAASAABAAAkAACAABeyEAAtpeVgrGCQSAABAAAkAACAABIAAEgAAQAAJAAAgAASAABIAAELAzAv8H97SDRlJtn70AAAAASUVORK5CYII=)"
      ],
      "metadata": {
        "id": "p4o4FssWlM4_"
      }
    },
    {
      "cell_type": "markdown",
      "source": [
        "# Import and Format data and then Build a DataLoader From Scratch."
      ],
      "metadata": {
        "id": "Q_WXdcwQK5uI"
      }
    },
    {
      "cell_type": "code",
      "execution_count": 1,
      "metadata": {
        "id": "Ri2xi9bwlB2E"
      },
      "outputs": [],
      "source": [
        "!pip install lightning > /dev/null"
      ]
    },
    {
      "cell_type": "code",
      "source": [
        "import torch\n",
        "import torch.nn as nn\n",
        "import torch.nn.functional as F\n",
        "from torch.optim import Adam\n",
        "\n",
        "import lightning as L\n",
        "from torch.utils.data import TensorDataset, DataLoader\n",
        "\n",
        "import pandas as pd\n",
        "from sklearn.model_selection import train_test_split"
      ],
      "metadata": {
        "id": "FEQQlPU3lse-"
      },
      "execution_count": 2,
      "outputs": []
    },
    {
      "cell_type": "code",
      "source": [
        "url = \"https://raw.githubusercontent.com/StatQuest/signa/main/chapter_03/iris.txt\"\n",
        "df = pd.read_table(url, sep=\",\", header=None)"
      ],
      "metadata": {
        "id": "OlIp0Aftmewe"
      },
      "execution_count": 44,
      "outputs": []
    },
    {
      "cell_type": "code",
      "source": [
        "df.head()"
      ],
      "metadata": {
        "colab": {
          "base_uri": "https://localhost:8080/",
          "height": 206
        },
        "id": "OjGDiUGJGdwp",
        "outputId": "a197d63d-fa40-4926-b12b-5a1eb000927a"
      },
      "execution_count": 45,
      "outputs": [
        {
          "output_type": "execute_result",
          "data": {
            "text/plain": [
              "     0    1    2    3            4\n",
              "0  5.1  3.5  1.4  0.2  Iris-setosa\n",
              "1  4.9  3.0  1.4  0.2  Iris-setosa\n",
              "2  4.7  3.2  1.3  0.2  Iris-setosa\n",
              "3  4.6  3.1  1.5  0.2  Iris-setosa\n",
              "4  5.0  3.6  1.4  0.2  Iris-setosa"
            ],
            "text/html": [
              "\n",
              "  <div id=\"df-eec5edeb-6932-43ec-a2b2-6b494676e70f\" class=\"colab-df-container\">\n",
              "    <div>\n",
              "<style scoped>\n",
              "    .dataframe tbody tr th:only-of-type {\n",
              "        vertical-align: middle;\n",
              "    }\n",
              "\n",
              "    .dataframe tbody tr th {\n",
              "        vertical-align: top;\n",
              "    }\n",
              "\n",
              "    .dataframe thead th {\n",
              "        text-align: right;\n",
              "    }\n",
              "</style>\n",
              "<table border=\"1\" class=\"dataframe\">\n",
              "  <thead>\n",
              "    <tr style=\"text-align: right;\">\n",
              "      <th></th>\n",
              "      <th>0</th>\n",
              "      <th>1</th>\n",
              "      <th>2</th>\n",
              "      <th>3</th>\n",
              "      <th>4</th>\n",
              "    </tr>\n",
              "  </thead>\n",
              "  <tbody>\n",
              "    <tr>\n",
              "      <th>0</th>\n",
              "      <td>5.1</td>\n",
              "      <td>3.5</td>\n",
              "      <td>1.4</td>\n",
              "      <td>0.2</td>\n",
              "      <td>Iris-setosa</td>\n",
              "    </tr>\n",
              "    <tr>\n",
              "      <th>1</th>\n",
              "      <td>4.9</td>\n",
              "      <td>3.0</td>\n",
              "      <td>1.4</td>\n",
              "      <td>0.2</td>\n",
              "      <td>Iris-setosa</td>\n",
              "    </tr>\n",
              "    <tr>\n",
              "      <th>2</th>\n",
              "      <td>4.7</td>\n",
              "      <td>3.2</td>\n",
              "      <td>1.3</td>\n",
              "      <td>0.2</td>\n",
              "      <td>Iris-setosa</td>\n",
              "    </tr>\n",
              "    <tr>\n",
              "      <th>3</th>\n",
              "      <td>4.6</td>\n",
              "      <td>3.1</td>\n",
              "      <td>1.5</td>\n",
              "      <td>0.2</td>\n",
              "      <td>Iris-setosa</td>\n",
              "    </tr>\n",
              "    <tr>\n",
              "      <th>4</th>\n",
              "      <td>5.0</td>\n",
              "      <td>3.6</td>\n",
              "      <td>1.4</td>\n",
              "      <td>0.2</td>\n",
              "      <td>Iris-setosa</td>\n",
              "    </tr>\n",
              "  </tbody>\n",
              "</table>\n",
              "</div>\n",
              "    <div class=\"colab-df-buttons\">\n",
              "\n",
              "  <div class=\"colab-df-container\">\n",
              "    <button class=\"colab-df-convert\" onclick=\"convertToInteractive('df-eec5edeb-6932-43ec-a2b2-6b494676e70f')\"\n",
              "            title=\"Convert this dataframe to an interactive table.\"\n",
              "            style=\"display:none;\">\n",
              "\n",
              "  <svg xmlns=\"http://www.w3.org/2000/svg\" height=\"24px\" viewBox=\"0 -960 960 960\">\n",
              "    <path d=\"M120-120v-720h720v720H120Zm60-500h600v-160H180v160Zm220 220h160v-160H400v160Zm0 220h160v-160H400v160ZM180-400h160v-160H180v160Zm440 0h160v-160H620v160ZM180-180h160v-160H180v160Zm440 0h160v-160H620v160Z\"/>\n",
              "  </svg>\n",
              "    </button>\n",
              "\n",
              "  <style>\n",
              "    .colab-df-container {\n",
              "      display:flex;\n",
              "      gap: 12px;\n",
              "    }\n",
              "\n",
              "    .colab-df-convert {\n",
              "      background-color: #E8F0FE;\n",
              "      border: none;\n",
              "      border-radius: 50%;\n",
              "      cursor: pointer;\n",
              "      display: none;\n",
              "      fill: #1967D2;\n",
              "      height: 32px;\n",
              "      padding: 0 0 0 0;\n",
              "      width: 32px;\n",
              "    }\n",
              "\n",
              "    .colab-df-convert:hover {\n",
              "      background-color: #E2EBFA;\n",
              "      box-shadow: 0px 1px 2px rgba(60, 64, 67, 0.3), 0px 1px 3px 1px rgba(60, 64, 67, 0.15);\n",
              "      fill: #174EA6;\n",
              "    }\n",
              "\n",
              "    .colab-df-buttons div {\n",
              "      margin-bottom: 4px;\n",
              "    }\n",
              "\n",
              "    [theme=dark] .colab-df-convert {\n",
              "      background-color: #3B4455;\n",
              "      fill: #D2E3FC;\n",
              "    }\n",
              "\n",
              "    [theme=dark] .colab-df-convert:hover {\n",
              "      background-color: #434B5C;\n",
              "      box-shadow: 0px 1px 3px 1px rgba(0, 0, 0, 0.15);\n",
              "      filter: drop-shadow(0px 1px 2px rgba(0, 0, 0, 0.3));\n",
              "      fill: #FFFFFF;\n",
              "    }\n",
              "  </style>\n",
              "\n",
              "    <script>\n",
              "      const buttonEl =\n",
              "        document.querySelector('#df-eec5edeb-6932-43ec-a2b2-6b494676e70f button.colab-df-convert');\n",
              "      buttonEl.style.display =\n",
              "        google.colab.kernel.accessAllowed ? 'block' : 'none';\n",
              "\n",
              "      async function convertToInteractive(key) {\n",
              "        const element = document.querySelector('#df-eec5edeb-6932-43ec-a2b2-6b494676e70f');\n",
              "        const dataTable =\n",
              "          await google.colab.kernel.invokeFunction('convertToInteractive',\n",
              "                                                    [key], {});\n",
              "        if (!dataTable) return;\n",
              "\n",
              "        const docLinkHtml = 'Like what you see? Visit the ' +\n",
              "          '<a target=\"_blank\" href=https://colab.research.google.com/notebooks/data_table.ipynb>data table notebook</a>'\n",
              "          + ' to learn more about interactive tables.';\n",
              "        element.innerHTML = '';\n",
              "        dataTable['output_type'] = 'display_data';\n",
              "        await google.colab.output.renderOutput(dataTable, element);\n",
              "        const docLink = document.createElement('div');\n",
              "        docLink.innerHTML = docLinkHtml;\n",
              "        element.appendChild(docLink);\n",
              "      }\n",
              "    </script>\n",
              "  </div>\n",
              "\n",
              "\n",
              "    <div id=\"df-496e36cc-0210-4c5f-aaae-5b6e31595df3\">\n",
              "      <button class=\"colab-df-quickchart\" onclick=\"quickchart('df-496e36cc-0210-4c5f-aaae-5b6e31595df3')\"\n",
              "                title=\"Suggest charts\"\n",
              "                style=\"display:none;\">\n",
              "\n",
              "<svg xmlns=\"http://www.w3.org/2000/svg\" height=\"24px\"viewBox=\"0 0 24 24\"\n",
              "     width=\"24px\">\n",
              "    <g>\n",
              "        <path d=\"M19 3H5c-1.1 0-2 .9-2 2v14c0 1.1.9 2 2 2h14c1.1 0 2-.9 2-2V5c0-1.1-.9-2-2-2zM9 17H7v-7h2v7zm4 0h-2V7h2v10zm4 0h-2v-4h2v4z\"/>\n",
              "    </g>\n",
              "</svg>\n",
              "      </button>\n",
              "\n",
              "<style>\n",
              "  .colab-df-quickchart {\n",
              "      --bg-color: #E8F0FE;\n",
              "      --fill-color: #1967D2;\n",
              "      --hover-bg-color: #E2EBFA;\n",
              "      --hover-fill-color: #174EA6;\n",
              "      --disabled-fill-color: #AAA;\n",
              "      --disabled-bg-color: #DDD;\n",
              "  }\n",
              "\n",
              "  [theme=dark] .colab-df-quickchart {\n",
              "      --bg-color: #3B4455;\n",
              "      --fill-color: #D2E3FC;\n",
              "      --hover-bg-color: #434B5C;\n",
              "      --hover-fill-color: #FFFFFF;\n",
              "      --disabled-bg-color: #3B4455;\n",
              "      --disabled-fill-color: #666;\n",
              "  }\n",
              "\n",
              "  .colab-df-quickchart {\n",
              "    background-color: var(--bg-color);\n",
              "    border: none;\n",
              "    border-radius: 50%;\n",
              "    cursor: pointer;\n",
              "    display: none;\n",
              "    fill: var(--fill-color);\n",
              "    height: 32px;\n",
              "    padding: 0;\n",
              "    width: 32px;\n",
              "  }\n",
              "\n",
              "  .colab-df-quickchart:hover {\n",
              "    background-color: var(--hover-bg-color);\n",
              "    box-shadow: 0 1px 2px rgba(60, 64, 67, 0.3), 0 1px 3px 1px rgba(60, 64, 67, 0.15);\n",
              "    fill: var(--button-hover-fill-color);\n",
              "  }\n",
              "\n",
              "  .colab-df-quickchart-complete:disabled,\n",
              "  .colab-df-quickchart-complete:disabled:hover {\n",
              "    background-color: var(--disabled-bg-color);\n",
              "    fill: var(--disabled-fill-color);\n",
              "    box-shadow: none;\n",
              "  }\n",
              "\n",
              "  .colab-df-spinner {\n",
              "    border: 2px solid var(--fill-color);\n",
              "    border-color: transparent;\n",
              "    border-bottom-color: var(--fill-color);\n",
              "    animation:\n",
              "      spin 1s steps(1) infinite;\n",
              "  }\n",
              "\n",
              "  @keyframes spin {\n",
              "    0% {\n",
              "      border-color: transparent;\n",
              "      border-bottom-color: var(--fill-color);\n",
              "      border-left-color: var(--fill-color);\n",
              "    }\n",
              "    20% {\n",
              "      border-color: transparent;\n",
              "      border-left-color: var(--fill-color);\n",
              "      border-top-color: var(--fill-color);\n",
              "    }\n",
              "    30% {\n",
              "      border-color: transparent;\n",
              "      border-left-color: var(--fill-color);\n",
              "      border-top-color: var(--fill-color);\n",
              "      border-right-color: var(--fill-color);\n",
              "    }\n",
              "    40% {\n",
              "      border-color: transparent;\n",
              "      border-right-color: var(--fill-color);\n",
              "      border-top-color: var(--fill-color);\n",
              "    }\n",
              "    60% {\n",
              "      border-color: transparent;\n",
              "      border-right-color: var(--fill-color);\n",
              "    }\n",
              "    80% {\n",
              "      border-color: transparent;\n",
              "      border-right-color: var(--fill-color);\n",
              "      border-bottom-color: var(--fill-color);\n",
              "    }\n",
              "    90% {\n",
              "      border-color: transparent;\n",
              "      border-bottom-color: var(--fill-color);\n",
              "    }\n",
              "  }\n",
              "</style>\n",
              "\n",
              "      <script>\n",
              "        async function quickchart(key) {\n",
              "          const quickchartButtonEl =\n",
              "            document.querySelector('#' + key + ' button');\n",
              "          quickchartButtonEl.disabled = true;  // To prevent multiple clicks.\n",
              "          quickchartButtonEl.classList.add('colab-df-spinner');\n",
              "          try {\n",
              "            const charts = await google.colab.kernel.invokeFunction(\n",
              "                'suggestCharts', [key], {});\n",
              "          } catch (error) {\n",
              "            console.error('Error during call to suggestCharts:', error);\n",
              "          }\n",
              "          quickchartButtonEl.classList.remove('colab-df-spinner');\n",
              "          quickchartButtonEl.classList.add('colab-df-quickchart-complete');\n",
              "        }\n",
              "        (() => {\n",
              "          let quickchartButtonEl =\n",
              "            document.querySelector('#df-496e36cc-0210-4c5f-aaae-5b6e31595df3 button');\n",
              "          quickchartButtonEl.style.display =\n",
              "            google.colab.kernel.accessAllowed ? 'block' : 'none';\n",
              "        })();\n",
              "      </script>\n",
              "    </div>\n",
              "\n",
              "    </div>\n",
              "  </div>\n"
            ],
            "application/vnd.google.colaboratory.intrinsic+json": {
              "type": "dataframe",
              "variable_name": "df",
              "summary": "{\n  \"name\": \"df\",\n  \"rows\": 150,\n  \"fields\": [\n    {\n      \"column\": 0,\n      \"properties\": {\n        \"dtype\": \"number\",\n        \"std\": 0.8280661279778629,\n        \"min\": 4.3,\n        \"max\": 7.9,\n        \"num_unique_values\": 35,\n        \"samples\": [\n          6.2,\n          4.5,\n          5.6\n        ],\n        \"semantic_type\": \"\",\n        \"description\": \"\"\n      }\n    },\n    {\n      \"column\": 1,\n      \"properties\": {\n        \"dtype\": \"number\",\n        \"std\": 0.4335943113621737,\n        \"min\": 2.0,\n        \"max\": 4.4,\n        \"num_unique_values\": 23,\n        \"samples\": [\n          2.3,\n          4.0,\n          3.5\n        ],\n        \"semantic_type\": \"\",\n        \"description\": \"\"\n      }\n    },\n    {\n      \"column\": 2,\n      \"properties\": {\n        \"dtype\": \"number\",\n        \"std\": 1.7644204199522617,\n        \"min\": 1.0,\n        \"max\": 6.9,\n        \"num_unique_values\": 43,\n        \"samples\": [\n          6.7,\n          3.8,\n          3.7\n        ],\n        \"semantic_type\": \"\",\n        \"description\": \"\"\n      }\n    },\n    {\n      \"column\": 3,\n      \"properties\": {\n        \"dtype\": \"number\",\n        \"std\": 0.7631607417008414,\n        \"min\": 0.1,\n        \"max\": 2.5,\n        \"num_unique_values\": 22,\n        \"samples\": [\n          0.2,\n          1.2,\n          1.3\n        ],\n        \"semantic_type\": \"\",\n        \"description\": \"\"\n      }\n    },\n    {\n      \"column\": 4,\n      \"properties\": {\n        \"dtype\": \"category\",\n        \"num_unique_values\": 3,\n        \"samples\": [\n          \"Iris-setosa\",\n          \"Iris-versicolor\",\n          \"Iris-virginica\"\n        ],\n        \"semantic_type\": \"\",\n        \"description\": \"\"\n      }\n    }\n  ]\n}"
            }
          },
          "metadata": {},
          "execution_count": 45
        }
      ]
    },
    {
      "cell_type": "code",
      "source": [
        "df.columns = [\"sepal_length\",\n",
        "              \"sepal_width\",\n",
        "              \"petal_length\",\n",
        "              \"petal_width\",\n",
        "              \"class\"]\n",
        "df.head()"
      ],
      "metadata": {
        "colab": {
          "base_uri": "https://localhost:8080/",
          "height": 206
        },
        "id": "MfDhh9msG2Xm",
        "outputId": "7e1423d7-5094-46d1-b305-b95068cc0290"
      },
      "execution_count": 46,
      "outputs": [
        {
          "output_type": "execute_result",
          "data": {
            "text/plain": [
              "   sepal_length  sepal_width  petal_length  petal_width        class\n",
              "0           5.1          3.5           1.4          0.2  Iris-setosa\n",
              "1           4.9          3.0           1.4          0.2  Iris-setosa\n",
              "2           4.7          3.2           1.3          0.2  Iris-setosa\n",
              "3           4.6          3.1           1.5          0.2  Iris-setosa\n",
              "4           5.0          3.6           1.4          0.2  Iris-setosa"
            ],
            "text/html": [
              "\n",
              "  <div id=\"df-1f541d6f-9906-4d9a-ac11-6dfb8341fce4\" class=\"colab-df-container\">\n",
              "    <div>\n",
              "<style scoped>\n",
              "    .dataframe tbody tr th:only-of-type {\n",
              "        vertical-align: middle;\n",
              "    }\n",
              "\n",
              "    .dataframe tbody tr th {\n",
              "        vertical-align: top;\n",
              "    }\n",
              "\n",
              "    .dataframe thead th {\n",
              "        text-align: right;\n",
              "    }\n",
              "</style>\n",
              "<table border=\"1\" class=\"dataframe\">\n",
              "  <thead>\n",
              "    <tr style=\"text-align: right;\">\n",
              "      <th></th>\n",
              "      <th>sepal_length</th>\n",
              "      <th>sepal_width</th>\n",
              "      <th>petal_length</th>\n",
              "      <th>petal_width</th>\n",
              "      <th>class</th>\n",
              "    </tr>\n",
              "  </thead>\n",
              "  <tbody>\n",
              "    <tr>\n",
              "      <th>0</th>\n",
              "      <td>5.1</td>\n",
              "      <td>3.5</td>\n",
              "      <td>1.4</td>\n",
              "      <td>0.2</td>\n",
              "      <td>Iris-setosa</td>\n",
              "    </tr>\n",
              "    <tr>\n",
              "      <th>1</th>\n",
              "      <td>4.9</td>\n",
              "      <td>3.0</td>\n",
              "      <td>1.4</td>\n",
              "      <td>0.2</td>\n",
              "      <td>Iris-setosa</td>\n",
              "    </tr>\n",
              "    <tr>\n",
              "      <th>2</th>\n",
              "      <td>4.7</td>\n",
              "      <td>3.2</td>\n",
              "      <td>1.3</td>\n",
              "      <td>0.2</td>\n",
              "      <td>Iris-setosa</td>\n",
              "    </tr>\n",
              "    <tr>\n",
              "      <th>3</th>\n",
              "      <td>4.6</td>\n",
              "      <td>3.1</td>\n",
              "      <td>1.5</td>\n",
              "      <td>0.2</td>\n",
              "      <td>Iris-setosa</td>\n",
              "    </tr>\n",
              "    <tr>\n",
              "      <th>4</th>\n",
              "      <td>5.0</td>\n",
              "      <td>3.6</td>\n",
              "      <td>1.4</td>\n",
              "      <td>0.2</td>\n",
              "      <td>Iris-setosa</td>\n",
              "    </tr>\n",
              "  </tbody>\n",
              "</table>\n",
              "</div>\n",
              "    <div class=\"colab-df-buttons\">\n",
              "\n",
              "  <div class=\"colab-df-container\">\n",
              "    <button class=\"colab-df-convert\" onclick=\"convertToInteractive('df-1f541d6f-9906-4d9a-ac11-6dfb8341fce4')\"\n",
              "            title=\"Convert this dataframe to an interactive table.\"\n",
              "            style=\"display:none;\">\n",
              "\n",
              "  <svg xmlns=\"http://www.w3.org/2000/svg\" height=\"24px\" viewBox=\"0 -960 960 960\">\n",
              "    <path d=\"M120-120v-720h720v720H120Zm60-500h600v-160H180v160Zm220 220h160v-160H400v160Zm0 220h160v-160H400v160ZM180-400h160v-160H180v160Zm440 0h160v-160H620v160ZM180-180h160v-160H180v160Zm440 0h160v-160H620v160Z\"/>\n",
              "  </svg>\n",
              "    </button>\n",
              "\n",
              "  <style>\n",
              "    .colab-df-container {\n",
              "      display:flex;\n",
              "      gap: 12px;\n",
              "    }\n",
              "\n",
              "    .colab-df-convert {\n",
              "      background-color: #E8F0FE;\n",
              "      border: none;\n",
              "      border-radius: 50%;\n",
              "      cursor: pointer;\n",
              "      display: none;\n",
              "      fill: #1967D2;\n",
              "      height: 32px;\n",
              "      padding: 0 0 0 0;\n",
              "      width: 32px;\n",
              "    }\n",
              "\n",
              "    .colab-df-convert:hover {\n",
              "      background-color: #E2EBFA;\n",
              "      box-shadow: 0px 1px 2px rgba(60, 64, 67, 0.3), 0px 1px 3px 1px rgba(60, 64, 67, 0.15);\n",
              "      fill: #174EA6;\n",
              "    }\n",
              "\n",
              "    .colab-df-buttons div {\n",
              "      margin-bottom: 4px;\n",
              "    }\n",
              "\n",
              "    [theme=dark] .colab-df-convert {\n",
              "      background-color: #3B4455;\n",
              "      fill: #D2E3FC;\n",
              "    }\n",
              "\n",
              "    [theme=dark] .colab-df-convert:hover {\n",
              "      background-color: #434B5C;\n",
              "      box-shadow: 0px 1px 3px 1px rgba(0, 0, 0, 0.15);\n",
              "      filter: drop-shadow(0px 1px 2px rgba(0, 0, 0, 0.3));\n",
              "      fill: #FFFFFF;\n",
              "    }\n",
              "  </style>\n",
              "\n",
              "    <script>\n",
              "      const buttonEl =\n",
              "        document.querySelector('#df-1f541d6f-9906-4d9a-ac11-6dfb8341fce4 button.colab-df-convert');\n",
              "      buttonEl.style.display =\n",
              "        google.colab.kernel.accessAllowed ? 'block' : 'none';\n",
              "\n",
              "      async function convertToInteractive(key) {\n",
              "        const element = document.querySelector('#df-1f541d6f-9906-4d9a-ac11-6dfb8341fce4');\n",
              "        const dataTable =\n",
              "          await google.colab.kernel.invokeFunction('convertToInteractive',\n",
              "                                                    [key], {});\n",
              "        if (!dataTable) return;\n",
              "\n",
              "        const docLinkHtml = 'Like what you see? Visit the ' +\n",
              "          '<a target=\"_blank\" href=https://colab.research.google.com/notebooks/data_table.ipynb>data table notebook</a>'\n",
              "          + ' to learn more about interactive tables.';\n",
              "        element.innerHTML = '';\n",
              "        dataTable['output_type'] = 'display_data';\n",
              "        await google.colab.output.renderOutput(dataTable, element);\n",
              "        const docLink = document.createElement('div');\n",
              "        docLink.innerHTML = docLinkHtml;\n",
              "        element.appendChild(docLink);\n",
              "      }\n",
              "    </script>\n",
              "  </div>\n",
              "\n",
              "\n",
              "    <div id=\"df-a96e2c3f-c811-4980-b33e-d401f1caffa2\">\n",
              "      <button class=\"colab-df-quickchart\" onclick=\"quickchart('df-a96e2c3f-c811-4980-b33e-d401f1caffa2')\"\n",
              "                title=\"Suggest charts\"\n",
              "                style=\"display:none;\">\n",
              "\n",
              "<svg xmlns=\"http://www.w3.org/2000/svg\" height=\"24px\"viewBox=\"0 0 24 24\"\n",
              "     width=\"24px\">\n",
              "    <g>\n",
              "        <path d=\"M19 3H5c-1.1 0-2 .9-2 2v14c0 1.1.9 2 2 2h14c1.1 0 2-.9 2-2V5c0-1.1-.9-2-2-2zM9 17H7v-7h2v7zm4 0h-2V7h2v10zm4 0h-2v-4h2v4z\"/>\n",
              "    </g>\n",
              "</svg>\n",
              "      </button>\n",
              "\n",
              "<style>\n",
              "  .colab-df-quickchart {\n",
              "      --bg-color: #E8F0FE;\n",
              "      --fill-color: #1967D2;\n",
              "      --hover-bg-color: #E2EBFA;\n",
              "      --hover-fill-color: #174EA6;\n",
              "      --disabled-fill-color: #AAA;\n",
              "      --disabled-bg-color: #DDD;\n",
              "  }\n",
              "\n",
              "  [theme=dark] .colab-df-quickchart {\n",
              "      --bg-color: #3B4455;\n",
              "      --fill-color: #D2E3FC;\n",
              "      --hover-bg-color: #434B5C;\n",
              "      --hover-fill-color: #FFFFFF;\n",
              "      --disabled-bg-color: #3B4455;\n",
              "      --disabled-fill-color: #666;\n",
              "  }\n",
              "\n",
              "  .colab-df-quickchart {\n",
              "    background-color: var(--bg-color);\n",
              "    border: none;\n",
              "    border-radius: 50%;\n",
              "    cursor: pointer;\n",
              "    display: none;\n",
              "    fill: var(--fill-color);\n",
              "    height: 32px;\n",
              "    padding: 0;\n",
              "    width: 32px;\n",
              "  }\n",
              "\n",
              "  .colab-df-quickchart:hover {\n",
              "    background-color: var(--hover-bg-color);\n",
              "    box-shadow: 0 1px 2px rgba(60, 64, 67, 0.3), 0 1px 3px 1px rgba(60, 64, 67, 0.15);\n",
              "    fill: var(--button-hover-fill-color);\n",
              "  }\n",
              "\n",
              "  .colab-df-quickchart-complete:disabled,\n",
              "  .colab-df-quickchart-complete:disabled:hover {\n",
              "    background-color: var(--disabled-bg-color);\n",
              "    fill: var(--disabled-fill-color);\n",
              "    box-shadow: none;\n",
              "  }\n",
              "\n",
              "  .colab-df-spinner {\n",
              "    border: 2px solid var(--fill-color);\n",
              "    border-color: transparent;\n",
              "    border-bottom-color: var(--fill-color);\n",
              "    animation:\n",
              "      spin 1s steps(1) infinite;\n",
              "  }\n",
              "\n",
              "  @keyframes spin {\n",
              "    0% {\n",
              "      border-color: transparent;\n",
              "      border-bottom-color: var(--fill-color);\n",
              "      border-left-color: var(--fill-color);\n",
              "    }\n",
              "    20% {\n",
              "      border-color: transparent;\n",
              "      border-left-color: var(--fill-color);\n",
              "      border-top-color: var(--fill-color);\n",
              "    }\n",
              "    30% {\n",
              "      border-color: transparent;\n",
              "      border-left-color: var(--fill-color);\n",
              "      border-top-color: var(--fill-color);\n",
              "      border-right-color: var(--fill-color);\n",
              "    }\n",
              "    40% {\n",
              "      border-color: transparent;\n",
              "      border-right-color: var(--fill-color);\n",
              "      border-top-color: var(--fill-color);\n",
              "    }\n",
              "    60% {\n",
              "      border-color: transparent;\n",
              "      border-right-color: var(--fill-color);\n",
              "    }\n",
              "    80% {\n",
              "      border-color: transparent;\n",
              "      border-right-color: var(--fill-color);\n",
              "      border-bottom-color: var(--fill-color);\n",
              "    }\n",
              "    90% {\n",
              "      border-color: transparent;\n",
              "      border-bottom-color: var(--fill-color);\n",
              "    }\n",
              "  }\n",
              "</style>\n",
              "\n",
              "      <script>\n",
              "        async function quickchart(key) {\n",
              "          const quickchartButtonEl =\n",
              "            document.querySelector('#' + key + ' button');\n",
              "          quickchartButtonEl.disabled = true;  // To prevent multiple clicks.\n",
              "          quickchartButtonEl.classList.add('colab-df-spinner');\n",
              "          try {\n",
              "            const charts = await google.colab.kernel.invokeFunction(\n",
              "                'suggestCharts', [key], {});\n",
              "          } catch (error) {\n",
              "            console.error('Error during call to suggestCharts:', error);\n",
              "          }\n",
              "          quickchartButtonEl.classList.remove('colab-df-spinner');\n",
              "          quickchartButtonEl.classList.add('colab-df-quickchart-complete');\n",
              "        }\n",
              "        (() => {\n",
              "          let quickchartButtonEl =\n",
              "            document.querySelector('#df-a96e2c3f-c811-4980-b33e-d401f1caffa2 button');\n",
              "          quickchartButtonEl.style.display =\n",
              "            google.colab.kernel.accessAllowed ? 'block' : 'none';\n",
              "        })();\n",
              "      </script>\n",
              "    </div>\n",
              "\n",
              "    </div>\n",
              "  </div>\n"
            ],
            "application/vnd.google.colaboratory.intrinsic+json": {
              "type": "dataframe",
              "variable_name": "df",
              "summary": "{\n  \"name\": \"df\",\n  \"rows\": 150,\n  \"fields\": [\n    {\n      \"column\": \"sepal_length\",\n      \"properties\": {\n        \"dtype\": \"number\",\n        \"std\": 0.8280661279778629,\n        \"min\": 4.3,\n        \"max\": 7.9,\n        \"num_unique_values\": 35,\n        \"samples\": [\n          6.2,\n          4.5,\n          5.6\n        ],\n        \"semantic_type\": \"\",\n        \"description\": \"\"\n      }\n    },\n    {\n      \"column\": \"sepal_width\",\n      \"properties\": {\n        \"dtype\": \"number\",\n        \"std\": 0.4335943113621737,\n        \"min\": 2.0,\n        \"max\": 4.4,\n        \"num_unique_values\": 23,\n        \"samples\": [\n          2.3,\n          4.0,\n          3.5\n        ],\n        \"semantic_type\": \"\",\n        \"description\": \"\"\n      }\n    },\n    {\n      \"column\": \"petal_length\",\n      \"properties\": {\n        \"dtype\": \"number\",\n        \"std\": 1.7644204199522617,\n        \"min\": 1.0,\n        \"max\": 6.9,\n        \"num_unique_values\": 43,\n        \"samples\": [\n          6.7,\n          3.8,\n          3.7\n        ],\n        \"semantic_type\": \"\",\n        \"description\": \"\"\n      }\n    },\n    {\n      \"column\": \"petal_width\",\n      \"properties\": {\n        \"dtype\": \"number\",\n        \"std\": 0.7631607417008414,\n        \"min\": 0.1,\n        \"max\": 2.5,\n        \"num_unique_values\": 22,\n        \"samples\": [\n          0.2,\n          1.2,\n          1.3\n        ],\n        \"semantic_type\": \"\",\n        \"description\": \"\"\n      }\n    },\n    {\n      \"column\": \"class\",\n      \"properties\": {\n        \"dtype\": \"category\",\n        \"num_unique_values\": 3,\n        \"samples\": [\n          \"Iris-setosa\",\n          \"Iris-versicolor\",\n          \"Iris-virginica\"\n        ],\n        \"semantic_type\": \"\",\n        \"description\": \"\"\n      }\n    }\n  ]\n}"
            }
          },
          "metadata": {},
          "execution_count": 46
        }
      ]
    },
    {
      "cell_type": "code",
      "source": [
        "df[\"class\"].unique()"
      ],
      "metadata": {
        "colab": {
          "base_uri": "https://localhost:8080/"
        },
        "id": "8CDibmJtGexw",
        "outputId": "590b0080-2866-4315-dac6-7da3b7d0a038"
      },
      "execution_count": 47,
      "outputs": [
        {
          "output_type": "execute_result",
          "data": {
            "text/plain": [
              "array(['Iris-setosa', 'Iris-versicolor', 'Iris-virginica'], dtype=object)"
            ]
          },
          "metadata": {},
          "execution_count": 47
        }
      ]
    },
    {
      "cell_type": "code",
      "source": [
        "for class_name in df['class'].unique(): # for each unique class name...\n",
        "\n",
        "    ## ...print out the number of rows associated with it\n",
        "    print(class_name, \": \", sum(df['class'] == class_name), sep=\"\")"
      ],
      "metadata": {
        "colab": {
          "base_uri": "https://localhost:8080/"
        },
        "id": "_HIJxQsVHYTo",
        "outputId": "12c7201a-15bf-408a-b354-53a4038514e1"
      },
      "execution_count": 48,
      "outputs": [
        {
          "output_type": "stream",
          "name": "stdout",
          "text": [
            "Iris-setosa: 50\n",
            "Iris-versicolor: 50\n",
            "Iris-virginica: 50\n"
          ]
        }
      ]
    },
    {
      "cell_type": "code",
      "source": [
        "df[['petal_width', 'sepal_width']].head()"
      ],
      "metadata": {
        "colab": {
          "base_uri": "https://localhost:8080/",
          "height": 206
        },
        "id": "aTkVh6ewHeyI",
        "outputId": "93d35cc7-19da-41f2-c374-e7410bdc37a6"
      },
      "execution_count": 49,
      "outputs": [
        {
          "output_type": "execute_result",
          "data": {
            "text/plain": [
              "   petal_width  sepal_width\n",
              "0          0.2          3.5\n",
              "1          0.2          3.0\n",
              "2          0.2          3.2\n",
              "3          0.2          3.1\n",
              "4          0.2          3.6"
            ],
            "text/html": [
              "\n",
              "  <div id=\"df-7da19d98-b4f0-4174-96fc-eeae30c70c3c\" class=\"colab-df-container\">\n",
              "    <div>\n",
              "<style scoped>\n",
              "    .dataframe tbody tr th:only-of-type {\n",
              "        vertical-align: middle;\n",
              "    }\n",
              "\n",
              "    .dataframe tbody tr th {\n",
              "        vertical-align: top;\n",
              "    }\n",
              "\n",
              "    .dataframe thead th {\n",
              "        text-align: right;\n",
              "    }\n",
              "</style>\n",
              "<table border=\"1\" class=\"dataframe\">\n",
              "  <thead>\n",
              "    <tr style=\"text-align: right;\">\n",
              "      <th></th>\n",
              "      <th>petal_width</th>\n",
              "      <th>sepal_width</th>\n",
              "    </tr>\n",
              "  </thead>\n",
              "  <tbody>\n",
              "    <tr>\n",
              "      <th>0</th>\n",
              "      <td>0.2</td>\n",
              "      <td>3.5</td>\n",
              "    </tr>\n",
              "    <tr>\n",
              "      <th>1</th>\n",
              "      <td>0.2</td>\n",
              "      <td>3.0</td>\n",
              "    </tr>\n",
              "    <tr>\n",
              "      <th>2</th>\n",
              "      <td>0.2</td>\n",
              "      <td>3.2</td>\n",
              "    </tr>\n",
              "    <tr>\n",
              "      <th>3</th>\n",
              "      <td>0.2</td>\n",
              "      <td>3.1</td>\n",
              "    </tr>\n",
              "    <tr>\n",
              "      <th>4</th>\n",
              "      <td>0.2</td>\n",
              "      <td>3.6</td>\n",
              "    </tr>\n",
              "  </tbody>\n",
              "</table>\n",
              "</div>\n",
              "    <div class=\"colab-df-buttons\">\n",
              "\n",
              "  <div class=\"colab-df-container\">\n",
              "    <button class=\"colab-df-convert\" onclick=\"convertToInteractive('df-7da19d98-b4f0-4174-96fc-eeae30c70c3c')\"\n",
              "            title=\"Convert this dataframe to an interactive table.\"\n",
              "            style=\"display:none;\">\n",
              "\n",
              "  <svg xmlns=\"http://www.w3.org/2000/svg\" height=\"24px\" viewBox=\"0 -960 960 960\">\n",
              "    <path d=\"M120-120v-720h720v720H120Zm60-500h600v-160H180v160Zm220 220h160v-160H400v160Zm0 220h160v-160H400v160ZM180-400h160v-160H180v160Zm440 0h160v-160H620v160ZM180-180h160v-160H180v160Zm440 0h160v-160H620v160Z\"/>\n",
              "  </svg>\n",
              "    </button>\n",
              "\n",
              "  <style>\n",
              "    .colab-df-container {\n",
              "      display:flex;\n",
              "      gap: 12px;\n",
              "    }\n",
              "\n",
              "    .colab-df-convert {\n",
              "      background-color: #E8F0FE;\n",
              "      border: none;\n",
              "      border-radius: 50%;\n",
              "      cursor: pointer;\n",
              "      display: none;\n",
              "      fill: #1967D2;\n",
              "      height: 32px;\n",
              "      padding: 0 0 0 0;\n",
              "      width: 32px;\n",
              "    }\n",
              "\n",
              "    .colab-df-convert:hover {\n",
              "      background-color: #E2EBFA;\n",
              "      box-shadow: 0px 1px 2px rgba(60, 64, 67, 0.3), 0px 1px 3px 1px rgba(60, 64, 67, 0.15);\n",
              "      fill: #174EA6;\n",
              "    }\n",
              "\n",
              "    .colab-df-buttons div {\n",
              "      margin-bottom: 4px;\n",
              "    }\n",
              "\n",
              "    [theme=dark] .colab-df-convert {\n",
              "      background-color: #3B4455;\n",
              "      fill: #D2E3FC;\n",
              "    }\n",
              "\n",
              "    [theme=dark] .colab-df-convert:hover {\n",
              "      background-color: #434B5C;\n",
              "      box-shadow: 0px 1px 3px 1px rgba(0, 0, 0, 0.15);\n",
              "      filter: drop-shadow(0px 1px 2px rgba(0, 0, 0, 0.3));\n",
              "      fill: #FFFFFF;\n",
              "    }\n",
              "  </style>\n",
              "\n",
              "    <script>\n",
              "      const buttonEl =\n",
              "        document.querySelector('#df-7da19d98-b4f0-4174-96fc-eeae30c70c3c button.colab-df-convert');\n",
              "      buttonEl.style.display =\n",
              "        google.colab.kernel.accessAllowed ? 'block' : 'none';\n",
              "\n",
              "      async function convertToInteractive(key) {\n",
              "        const element = document.querySelector('#df-7da19d98-b4f0-4174-96fc-eeae30c70c3c');\n",
              "        const dataTable =\n",
              "          await google.colab.kernel.invokeFunction('convertToInteractive',\n",
              "                                                    [key], {});\n",
              "        if (!dataTable) return;\n",
              "\n",
              "        const docLinkHtml = 'Like what you see? Visit the ' +\n",
              "          '<a target=\"_blank\" href=https://colab.research.google.com/notebooks/data_table.ipynb>data table notebook</a>'\n",
              "          + ' to learn more about interactive tables.';\n",
              "        element.innerHTML = '';\n",
              "        dataTable['output_type'] = 'display_data';\n",
              "        await google.colab.output.renderOutput(dataTable, element);\n",
              "        const docLink = document.createElement('div');\n",
              "        docLink.innerHTML = docLinkHtml;\n",
              "        element.appendChild(docLink);\n",
              "      }\n",
              "    </script>\n",
              "  </div>\n",
              "\n",
              "\n",
              "    <div id=\"df-e74eab97-24f4-4510-94fb-deb2b2f1cade\">\n",
              "      <button class=\"colab-df-quickchart\" onclick=\"quickchart('df-e74eab97-24f4-4510-94fb-deb2b2f1cade')\"\n",
              "                title=\"Suggest charts\"\n",
              "                style=\"display:none;\">\n",
              "\n",
              "<svg xmlns=\"http://www.w3.org/2000/svg\" height=\"24px\"viewBox=\"0 0 24 24\"\n",
              "     width=\"24px\">\n",
              "    <g>\n",
              "        <path d=\"M19 3H5c-1.1 0-2 .9-2 2v14c0 1.1.9 2 2 2h14c1.1 0 2-.9 2-2V5c0-1.1-.9-2-2-2zM9 17H7v-7h2v7zm4 0h-2V7h2v10zm4 0h-2v-4h2v4z\"/>\n",
              "    </g>\n",
              "</svg>\n",
              "      </button>\n",
              "\n",
              "<style>\n",
              "  .colab-df-quickchart {\n",
              "      --bg-color: #E8F0FE;\n",
              "      --fill-color: #1967D2;\n",
              "      --hover-bg-color: #E2EBFA;\n",
              "      --hover-fill-color: #174EA6;\n",
              "      --disabled-fill-color: #AAA;\n",
              "      --disabled-bg-color: #DDD;\n",
              "  }\n",
              "\n",
              "  [theme=dark] .colab-df-quickchart {\n",
              "      --bg-color: #3B4455;\n",
              "      --fill-color: #D2E3FC;\n",
              "      --hover-bg-color: #434B5C;\n",
              "      --hover-fill-color: #FFFFFF;\n",
              "      --disabled-bg-color: #3B4455;\n",
              "      --disabled-fill-color: #666;\n",
              "  }\n",
              "\n",
              "  .colab-df-quickchart {\n",
              "    background-color: var(--bg-color);\n",
              "    border: none;\n",
              "    border-radius: 50%;\n",
              "    cursor: pointer;\n",
              "    display: none;\n",
              "    fill: var(--fill-color);\n",
              "    height: 32px;\n",
              "    padding: 0;\n",
              "    width: 32px;\n",
              "  }\n",
              "\n",
              "  .colab-df-quickchart:hover {\n",
              "    background-color: var(--hover-bg-color);\n",
              "    box-shadow: 0 1px 2px rgba(60, 64, 67, 0.3), 0 1px 3px 1px rgba(60, 64, 67, 0.15);\n",
              "    fill: var(--button-hover-fill-color);\n",
              "  }\n",
              "\n",
              "  .colab-df-quickchart-complete:disabled,\n",
              "  .colab-df-quickchart-complete:disabled:hover {\n",
              "    background-color: var(--disabled-bg-color);\n",
              "    fill: var(--disabled-fill-color);\n",
              "    box-shadow: none;\n",
              "  }\n",
              "\n",
              "  .colab-df-spinner {\n",
              "    border: 2px solid var(--fill-color);\n",
              "    border-color: transparent;\n",
              "    border-bottom-color: var(--fill-color);\n",
              "    animation:\n",
              "      spin 1s steps(1) infinite;\n",
              "  }\n",
              "\n",
              "  @keyframes spin {\n",
              "    0% {\n",
              "      border-color: transparent;\n",
              "      border-bottom-color: var(--fill-color);\n",
              "      border-left-color: var(--fill-color);\n",
              "    }\n",
              "    20% {\n",
              "      border-color: transparent;\n",
              "      border-left-color: var(--fill-color);\n",
              "      border-top-color: var(--fill-color);\n",
              "    }\n",
              "    30% {\n",
              "      border-color: transparent;\n",
              "      border-left-color: var(--fill-color);\n",
              "      border-top-color: var(--fill-color);\n",
              "      border-right-color: var(--fill-color);\n",
              "    }\n",
              "    40% {\n",
              "      border-color: transparent;\n",
              "      border-right-color: var(--fill-color);\n",
              "      border-top-color: var(--fill-color);\n",
              "    }\n",
              "    60% {\n",
              "      border-color: transparent;\n",
              "      border-right-color: var(--fill-color);\n",
              "    }\n",
              "    80% {\n",
              "      border-color: transparent;\n",
              "      border-right-color: var(--fill-color);\n",
              "      border-bottom-color: var(--fill-color);\n",
              "    }\n",
              "    90% {\n",
              "      border-color: transparent;\n",
              "      border-bottom-color: var(--fill-color);\n",
              "    }\n",
              "  }\n",
              "</style>\n",
              "\n",
              "      <script>\n",
              "        async function quickchart(key) {\n",
              "          const quickchartButtonEl =\n",
              "            document.querySelector('#' + key + ' button');\n",
              "          quickchartButtonEl.disabled = true;  // To prevent multiple clicks.\n",
              "          quickchartButtonEl.classList.add('colab-df-spinner');\n",
              "          try {\n",
              "            const charts = await google.colab.kernel.invokeFunction(\n",
              "                'suggestCharts', [key], {});\n",
              "          } catch (error) {\n",
              "            console.error('Error during call to suggestCharts:', error);\n",
              "          }\n",
              "          quickchartButtonEl.classList.remove('colab-df-spinner');\n",
              "          quickchartButtonEl.classList.add('colab-df-quickchart-complete');\n",
              "        }\n",
              "        (() => {\n",
              "          let quickchartButtonEl =\n",
              "            document.querySelector('#df-e74eab97-24f4-4510-94fb-deb2b2f1cade button');\n",
              "          quickchartButtonEl.style.display =\n",
              "            google.colab.kernel.accessAllowed ? 'block' : 'none';\n",
              "        })();\n",
              "      </script>\n",
              "    </div>\n",
              "\n",
              "    </div>\n",
              "  </div>\n"
            ],
            "application/vnd.google.colaboratory.intrinsic+json": {
              "type": "dataframe",
              "summary": "{\n  \"name\": \"df[['petal_width', 'sepal_width']]\",\n  \"rows\": 5,\n  \"fields\": [\n    {\n      \"column\": \"petal_width\",\n      \"properties\": {\n        \"dtype\": \"number\",\n        \"std\": 0.0,\n        \"min\": 0.2,\n        \"max\": 0.2,\n        \"num_unique_values\": 1,\n        \"samples\": [\n          0.2\n        ],\n        \"semantic_type\": \"\",\n        \"description\": \"\"\n      }\n    },\n    {\n      \"column\": \"sepal_width\",\n      \"properties\": {\n        \"dtype\": \"number\",\n        \"std\": 0.2588435821108957,\n        \"min\": 3.0,\n        \"max\": 3.6,\n        \"num_unique_values\": 5,\n        \"samples\": [\n          3.0\n        ],\n        \"semantic_type\": \"\",\n        \"description\": \"\"\n      }\n    }\n  ]\n}"
            }
          },
          "metadata": {},
          "execution_count": 49
        }
      ]
    },
    {
      "cell_type": "code",
      "source": [
        "input_values = df[['petal_width', 'sepal_width']]\n",
        "input_values.head()"
      ],
      "metadata": {
        "colab": {
          "base_uri": "https://localhost:8080/",
          "height": 206
        },
        "id": "QueovuIEH0fY",
        "outputId": "529e33b8-30cd-4cdc-8969-94112d6c94bc"
      },
      "execution_count": 50,
      "outputs": [
        {
          "output_type": "execute_result",
          "data": {
            "text/plain": [
              "   petal_width  sepal_width\n",
              "0          0.2          3.5\n",
              "1          0.2          3.0\n",
              "2          0.2          3.2\n",
              "3          0.2          3.1\n",
              "4          0.2          3.6"
            ],
            "text/html": [
              "\n",
              "  <div id=\"df-3b2802c6-a0cf-4ce4-abb6-16711cb4e374\" class=\"colab-df-container\">\n",
              "    <div>\n",
              "<style scoped>\n",
              "    .dataframe tbody tr th:only-of-type {\n",
              "        vertical-align: middle;\n",
              "    }\n",
              "\n",
              "    .dataframe tbody tr th {\n",
              "        vertical-align: top;\n",
              "    }\n",
              "\n",
              "    .dataframe thead th {\n",
              "        text-align: right;\n",
              "    }\n",
              "</style>\n",
              "<table border=\"1\" class=\"dataframe\">\n",
              "  <thead>\n",
              "    <tr style=\"text-align: right;\">\n",
              "      <th></th>\n",
              "      <th>petal_width</th>\n",
              "      <th>sepal_width</th>\n",
              "    </tr>\n",
              "  </thead>\n",
              "  <tbody>\n",
              "    <tr>\n",
              "      <th>0</th>\n",
              "      <td>0.2</td>\n",
              "      <td>3.5</td>\n",
              "    </tr>\n",
              "    <tr>\n",
              "      <th>1</th>\n",
              "      <td>0.2</td>\n",
              "      <td>3.0</td>\n",
              "    </tr>\n",
              "    <tr>\n",
              "      <th>2</th>\n",
              "      <td>0.2</td>\n",
              "      <td>3.2</td>\n",
              "    </tr>\n",
              "    <tr>\n",
              "      <th>3</th>\n",
              "      <td>0.2</td>\n",
              "      <td>3.1</td>\n",
              "    </tr>\n",
              "    <tr>\n",
              "      <th>4</th>\n",
              "      <td>0.2</td>\n",
              "      <td>3.6</td>\n",
              "    </tr>\n",
              "  </tbody>\n",
              "</table>\n",
              "</div>\n",
              "    <div class=\"colab-df-buttons\">\n",
              "\n",
              "  <div class=\"colab-df-container\">\n",
              "    <button class=\"colab-df-convert\" onclick=\"convertToInteractive('df-3b2802c6-a0cf-4ce4-abb6-16711cb4e374')\"\n",
              "            title=\"Convert this dataframe to an interactive table.\"\n",
              "            style=\"display:none;\">\n",
              "\n",
              "  <svg xmlns=\"http://www.w3.org/2000/svg\" height=\"24px\" viewBox=\"0 -960 960 960\">\n",
              "    <path d=\"M120-120v-720h720v720H120Zm60-500h600v-160H180v160Zm220 220h160v-160H400v160Zm0 220h160v-160H400v160ZM180-400h160v-160H180v160Zm440 0h160v-160H620v160ZM180-180h160v-160H180v160Zm440 0h160v-160H620v160Z\"/>\n",
              "  </svg>\n",
              "    </button>\n",
              "\n",
              "  <style>\n",
              "    .colab-df-container {\n",
              "      display:flex;\n",
              "      gap: 12px;\n",
              "    }\n",
              "\n",
              "    .colab-df-convert {\n",
              "      background-color: #E8F0FE;\n",
              "      border: none;\n",
              "      border-radius: 50%;\n",
              "      cursor: pointer;\n",
              "      display: none;\n",
              "      fill: #1967D2;\n",
              "      height: 32px;\n",
              "      padding: 0 0 0 0;\n",
              "      width: 32px;\n",
              "    }\n",
              "\n",
              "    .colab-df-convert:hover {\n",
              "      background-color: #E2EBFA;\n",
              "      box-shadow: 0px 1px 2px rgba(60, 64, 67, 0.3), 0px 1px 3px 1px rgba(60, 64, 67, 0.15);\n",
              "      fill: #174EA6;\n",
              "    }\n",
              "\n",
              "    .colab-df-buttons div {\n",
              "      margin-bottom: 4px;\n",
              "    }\n",
              "\n",
              "    [theme=dark] .colab-df-convert {\n",
              "      background-color: #3B4455;\n",
              "      fill: #D2E3FC;\n",
              "    }\n",
              "\n",
              "    [theme=dark] .colab-df-convert:hover {\n",
              "      background-color: #434B5C;\n",
              "      box-shadow: 0px 1px 3px 1px rgba(0, 0, 0, 0.15);\n",
              "      filter: drop-shadow(0px 1px 2px rgba(0, 0, 0, 0.3));\n",
              "      fill: #FFFFFF;\n",
              "    }\n",
              "  </style>\n",
              "\n",
              "    <script>\n",
              "      const buttonEl =\n",
              "        document.querySelector('#df-3b2802c6-a0cf-4ce4-abb6-16711cb4e374 button.colab-df-convert');\n",
              "      buttonEl.style.display =\n",
              "        google.colab.kernel.accessAllowed ? 'block' : 'none';\n",
              "\n",
              "      async function convertToInteractive(key) {\n",
              "        const element = document.querySelector('#df-3b2802c6-a0cf-4ce4-abb6-16711cb4e374');\n",
              "        const dataTable =\n",
              "          await google.colab.kernel.invokeFunction('convertToInteractive',\n",
              "                                                    [key], {});\n",
              "        if (!dataTable) return;\n",
              "\n",
              "        const docLinkHtml = 'Like what you see? Visit the ' +\n",
              "          '<a target=\"_blank\" href=https://colab.research.google.com/notebooks/data_table.ipynb>data table notebook</a>'\n",
              "          + ' to learn more about interactive tables.';\n",
              "        element.innerHTML = '';\n",
              "        dataTable['output_type'] = 'display_data';\n",
              "        await google.colab.output.renderOutput(dataTable, element);\n",
              "        const docLink = document.createElement('div');\n",
              "        docLink.innerHTML = docLinkHtml;\n",
              "        element.appendChild(docLink);\n",
              "      }\n",
              "    </script>\n",
              "  </div>\n",
              "\n",
              "\n",
              "    <div id=\"df-4f0a7221-c918-4ff3-8497-53266782bf80\">\n",
              "      <button class=\"colab-df-quickchart\" onclick=\"quickchart('df-4f0a7221-c918-4ff3-8497-53266782bf80')\"\n",
              "                title=\"Suggest charts\"\n",
              "                style=\"display:none;\">\n",
              "\n",
              "<svg xmlns=\"http://www.w3.org/2000/svg\" height=\"24px\"viewBox=\"0 0 24 24\"\n",
              "     width=\"24px\">\n",
              "    <g>\n",
              "        <path d=\"M19 3H5c-1.1 0-2 .9-2 2v14c0 1.1.9 2 2 2h14c1.1 0 2-.9 2-2V5c0-1.1-.9-2-2-2zM9 17H7v-7h2v7zm4 0h-2V7h2v10zm4 0h-2v-4h2v4z\"/>\n",
              "    </g>\n",
              "</svg>\n",
              "      </button>\n",
              "\n",
              "<style>\n",
              "  .colab-df-quickchart {\n",
              "      --bg-color: #E8F0FE;\n",
              "      --fill-color: #1967D2;\n",
              "      --hover-bg-color: #E2EBFA;\n",
              "      --hover-fill-color: #174EA6;\n",
              "      --disabled-fill-color: #AAA;\n",
              "      --disabled-bg-color: #DDD;\n",
              "  }\n",
              "\n",
              "  [theme=dark] .colab-df-quickchart {\n",
              "      --bg-color: #3B4455;\n",
              "      --fill-color: #D2E3FC;\n",
              "      --hover-bg-color: #434B5C;\n",
              "      --hover-fill-color: #FFFFFF;\n",
              "      --disabled-bg-color: #3B4455;\n",
              "      --disabled-fill-color: #666;\n",
              "  }\n",
              "\n",
              "  .colab-df-quickchart {\n",
              "    background-color: var(--bg-color);\n",
              "    border: none;\n",
              "    border-radius: 50%;\n",
              "    cursor: pointer;\n",
              "    display: none;\n",
              "    fill: var(--fill-color);\n",
              "    height: 32px;\n",
              "    padding: 0;\n",
              "    width: 32px;\n",
              "  }\n",
              "\n",
              "  .colab-df-quickchart:hover {\n",
              "    background-color: var(--hover-bg-color);\n",
              "    box-shadow: 0 1px 2px rgba(60, 64, 67, 0.3), 0 1px 3px 1px rgba(60, 64, 67, 0.15);\n",
              "    fill: var(--button-hover-fill-color);\n",
              "  }\n",
              "\n",
              "  .colab-df-quickchart-complete:disabled,\n",
              "  .colab-df-quickchart-complete:disabled:hover {\n",
              "    background-color: var(--disabled-bg-color);\n",
              "    fill: var(--disabled-fill-color);\n",
              "    box-shadow: none;\n",
              "  }\n",
              "\n",
              "  .colab-df-spinner {\n",
              "    border: 2px solid var(--fill-color);\n",
              "    border-color: transparent;\n",
              "    border-bottom-color: var(--fill-color);\n",
              "    animation:\n",
              "      spin 1s steps(1) infinite;\n",
              "  }\n",
              "\n",
              "  @keyframes spin {\n",
              "    0% {\n",
              "      border-color: transparent;\n",
              "      border-bottom-color: var(--fill-color);\n",
              "      border-left-color: var(--fill-color);\n",
              "    }\n",
              "    20% {\n",
              "      border-color: transparent;\n",
              "      border-left-color: var(--fill-color);\n",
              "      border-top-color: var(--fill-color);\n",
              "    }\n",
              "    30% {\n",
              "      border-color: transparent;\n",
              "      border-left-color: var(--fill-color);\n",
              "      border-top-color: var(--fill-color);\n",
              "      border-right-color: var(--fill-color);\n",
              "    }\n",
              "    40% {\n",
              "      border-color: transparent;\n",
              "      border-right-color: var(--fill-color);\n",
              "      border-top-color: var(--fill-color);\n",
              "    }\n",
              "    60% {\n",
              "      border-color: transparent;\n",
              "      border-right-color: var(--fill-color);\n",
              "    }\n",
              "    80% {\n",
              "      border-color: transparent;\n",
              "      border-right-color: var(--fill-color);\n",
              "      border-bottom-color: var(--fill-color);\n",
              "    }\n",
              "    90% {\n",
              "      border-color: transparent;\n",
              "      border-bottom-color: var(--fill-color);\n",
              "    }\n",
              "  }\n",
              "</style>\n",
              "\n",
              "      <script>\n",
              "        async function quickchart(key) {\n",
              "          const quickchartButtonEl =\n",
              "            document.querySelector('#' + key + ' button');\n",
              "          quickchartButtonEl.disabled = true;  // To prevent multiple clicks.\n",
              "          quickchartButtonEl.classList.add('colab-df-spinner');\n",
              "          try {\n",
              "            const charts = await google.colab.kernel.invokeFunction(\n",
              "                'suggestCharts', [key], {});\n",
              "          } catch (error) {\n",
              "            console.error('Error during call to suggestCharts:', error);\n",
              "          }\n",
              "          quickchartButtonEl.classList.remove('colab-df-spinner');\n",
              "          quickchartButtonEl.classList.add('colab-df-quickchart-complete');\n",
              "        }\n",
              "        (() => {\n",
              "          let quickchartButtonEl =\n",
              "            document.querySelector('#df-4f0a7221-c918-4ff3-8497-53266782bf80 button');\n",
              "          quickchartButtonEl.style.display =\n",
              "            google.colab.kernel.accessAllowed ? 'block' : 'none';\n",
              "        })();\n",
              "      </script>\n",
              "    </div>\n",
              "\n",
              "    </div>\n",
              "  </div>\n"
            ],
            "application/vnd.google.colaboratory.intrinsic+json": {
              "type": "dataframe",
              "variable_name": "input_values",
              "summary": "{\n  \"name\": \"input_values\",\n  \"rows\": 150,\n  \"fields\": [\n    {\n      \"column\": \"petal_width\",\n      \"properties\": {\n        \"dtype\": \"number\",\n        \"std\": 0.7631607417008414,\n        \"min\": 0.1,\n        \"max\": 2.5,\n        \"num_unique_values\": 22,\n        \"samples\": [\n          0.2,\n          1.2,\n          1.3\n        ],\n        \"semantic_type\": \"\",\n        \"description\": \"\"\n      }\n    },\n    {\n      \"column\": \"sepal_width\",\n      \"properties\": {\n        \"dtype\": \"number\",\n        \"std\": 0.4335943113621737,\n        \"min\": 2.0,\n        \"max\": 4.4,\n        \"num_unique_values\": 23,\n        \"samples\": [\n          2.3,\n          4.0,\n          3.5\n        ],\n        \"semantic_type\": \"\",\n        \"description\": \"\"\n      }\n    }\n  ]\n}"
            }
          },
          "metadata": {},
          "execution_count": 50
        }
      ]
    },
    {
      "cell_type": "code",
      "source": [
        "label_values = df['class']\n",
        "label_values.head()"
      ],
      "metadata": {
        "colab": {
          "base_uri": "https://localhost:8080/",
          "height": 241
        },
        "id": "uuvQruKEH3jL",
        "outputId": "324a306e-3b9b-407c-baf3-da8d005a98cf"
      },
      "execution_count": 51,
      "outputs": [
        {
          "output_type": "execute_result",
          "data": {
            "text/plain": [
              "0    Iris-setosa\n",
              "1    Iris-setosa\n",
              "2    Iris-setosa\n",
              "3    Iris-setosa\n",
              "4    Iris-setosa\n",
              "Name: class, dtype: object"
            ],
            "text/html": [
              "<div>\n",
              "<style scoped>\n",
              "    .dataframe tbody tr th:only-of-type {\n",
              "        vertical-align: middle;\n",
              "    }\n",
              "\n",
              "    .dataframe tbody tr th {\n",
              "        vertical-align: top;\n",
              "    }\n",
              "\n",
              "    .dataframe thead th {\n",
              "        text-align: right;\n",
              "    }\n",
              "</style>\n",
              "<table border=\"1\" class=\"dataframe\">\n",
              "  <thead>\n",
              "    <tr style=\"text-align: right;\">\n",
              "      <th></th>\n",
              "      <th>class</th>\n",
              "    </tr>\n",
              "  </thead>\n",
              "  <tbody>\n",
              "    <tr>\n",
              "      <th>0</th>\n",
              "      <td>Iris-setosa</td>\n",
              "    </tr>\n",
              "    <tr>\n",
              "      <th>1</th>\n",
              "      <td>Iris-setosa</td>\n",
              "    </tr>\n",
              "    <tr>\n",
              "      <th>2</th>\n",
              "      <td>Iris-setosa</td>\n",
              "    </tr>\n",
              "    <tr>\n",
              "      <th>3</th>\n",
              "      <td>Iris-setosa</td>\n",
              "    </tr>\n",
              "    <tr>\n",
              "      <th>4</th>\n",
              "      <td>Iris-setosa</td>\n",
              "    </tr>\n",
              "  </tbody>\n",
              "</table>\n",
              "</div><br><label><b>dtype:</b> object</label>"
            ]
          },
          "metadata": {},
          "execution_count": 51
        }
      ]
    },
    {
      "cell_type": "code",
      "source": [
        "classes_as_numbers = label_values.factorize()[0]\n",
        "classes_as_numbers"
      ],
      "metadata": {
        "colab": {
          "base_uri": "https://localhost:8080/"
        },
        "id": "X8MWZ1AQH40I",
        "outputId": "12225c11-6dc3-40e4-bacd-260d8e283daf"
      },
      "execution_count": 52,
      "outputs": [
        {
          "output_type": "execute_result",
          "data": {
            "text/plain": [
              "array([0, 0, 0, 0, 0, 0, 0, 0, 0, 0, 0, 0, 0, 0, 0, 0, 0, 0, 0, 0, 0, 0,\n",
              "       0, 0, 0, 0, 0, 0, 0, 0, 0, 0, 0, 0, 0, 0, 0, 0, 0, 0, 0, 0, 0, 0,\n",
              "       0, 0, 0, 0, 0, 0, 1, 1, 1, 1, 1, 1, 1, 1, 1, 1, 1, 1, 1, 1, 1, 1,\n",
              "       1, 1, 1, 1, 1, 1, 1, 1, 1, 1, 1, 1, 1, 1, 1, 1, 1, 1, 1, 1, 1, 1,\n",
              "       1, 1, 1, 1, 1, 1, 1, 1, 1, 1, 1, 1, 2, 2, 2, 2, 2, 2, 2, 2, 2, 2,\n",
              "       2, 2, 2, 2, 2, 2, 2, 2, 2, 2, 2, 2, 2, 2, 2, 2, 2, 2, 2, 2, 2, 2,\n",
              "       2, 2, 2, 2, 2, 2, 2, 2, 2, 2, 2, 2, 2, 2, 2, 2, 2, 2])"
            ]
          },
          "metadata": {},
          "execution_count": 52
        }
      ]
    },
    {
      "cell_type": "code",
      "source": [
        "input_train, input_test, label_train, label_test = train_test_split(input_values,\n",
        "                                                                    classes_as_numbers,\n",
        "                                                                    test_size=0.25,\n",
        "                                                                    stratify=classes_as_numbers)"
      ],
      "metadata": {
        "id": "QB56f79gIDKn"
      },
      "execution_count": 53,
      "outputs": []
    },
    {
      "cell_type": "code",
      "source": [
        "input_train.shape"
      ],
      "metadata": {
        "colab": {
          "base_uri": "https://localhost:8080/"
        },
        "id": "061U4Ca6IFvw",
        "outputId": "df98195f-807d-40d3-c47d-e3992d9266b6"
      },
      "execution_count": 54,
      "outputs": [
        {
          "output_type": "execute_result",
          "data": {
            "text/plain": [
              "(112, 2)"
            ]
          },
          "metadata": {},
          "execution_count": 54
        }
      ]
    },
    {
      "cell_type": "code",
      "source": [
        "label_train.shape"
      ],
      "metadata": {
        "colab": {
          "base_uri": "https://localhost:8080/"
        },
        "id": "S8ZsILRHIH04",
        "outputId": "ea33d895-71f8-4107-ae05-aa680fc537a0"
      },
      "execution_count": 55,
      "outputs": [
        {
          "output_type": "execute_result",
          "data": {
            "text/plain": [
              "(112,)"
            ]
          },
          "metadata": {},
          "execution_count": 55
        }
      ]
    },
    {
      "cell_type": "code",
      "source": [
        "input_test.shape"
      ],
      "metadata": {
        "colab": {
          "base_uri": "https://localhost:8080/"
        },
        "id": "2wLYLIC6IJMj",
        "outputId": "ff828b4b-8321-4810-fccb-110e4443fdf8"
      },
      "execution_count": 56,
      "outputs": [
        {
          "output_type": "execute_result",
          "data": {
            "text/plain": [
              "(38, 2)"
            ]
          },
          "metadata": {},
          "execution_count": 56
        }
      ]
    },
    {
      "cell_type": "code",
      "source": [
        "label_test.shape"
      ],
      "metadata": {
        "colab": {
          "base_uri": "https://localhost:8080/"
        },
        "id": "4KkWEi9IIOXw",
        "outputId": "3e1b95d3-c687-4a02-e8fa-b7b8d8738de4"
      },
      "execution_count": 57,
      "outputs": [
        {
          "output_type": "execute_result",
          "data": {
            "text/plain": [
              "(38,)"
            ]
          },
          "metadata": {},
          "execution_count": 57
        }
      ]
    },
    {
      "cell_type": "markdown",
      "source": [
        "Now, because our neural network will have 3 outputs, one for each species (see the drawing of the neural network above), we need to convert the numbers in label_train into 3 element arrays, where each element in an array corresponds to a specific output in the neural network. Specifically, we'll use [1.0, 0.0, 0.0] to correspond to Setosa, [0.0, 1.0, 0.0] for Versicolor, and [0.0, 0.0, 1.0] for Virginica. The good news is that we can easily do the one-hot encoding. We also tack on type(torch.float32) to ensure the numbers are saved in the correct format for the neural network to process efficiently."
      ],
      "metadata": {
        "id": "pk1tzTvsKL3q"
      }
    },
    {
      "cell_type": "code",
      "source": [
        "one_hot_label_train = F.one_hot(torch.tensor(label_train)).type(torch.float32)"
      ],
      "metadata": {
        "id": "aP9s5TeRIO-x"
      },
      "execution_count": 58,
      "outputs": []
    },
    {
      "cell_type": "code",
      "source": [
        "one_hot_label_train[:10]"
      ],
      "metadata": {
        "colab": {
          "base_uri": "https://localhost:8080/"
        },
        "id": "-ykE8eLwIZu4",
        "outputId": "67f06a3a-c451-4ff7-eada-d573c3656e9e"
      },
      "execution_count": 59,
      "outputs": [
        {
          "output_type": "execute_result",
          "data": {
            "text/plain": [
              "tensor([[0., 0., 1.],\n",
              "        [0., 0., 1.],\n",
              "        [0., 1., 0.],\n",
              "        [0., 1., 0.],\n",
              "        [0., 1., 0.],\n",
              "        [0., 0., 1.],\n",
              "        [1., 0., 0.],\n",
              "        [0., 0., 1.],\n",
              "        [1., 0., 0.],\n",
              "        [0., 0., 1.]])"
            ]
          },
          "metadata": {},
          "execution_count": 59
        }
      ]
    },
    {
      "cell_type": "markdown",
      "source": [
        "Now, let's normalize the input variables so that their values range from 0 to 1. Normalizing data, so that it's all on the same scale, often makes it easier to train machine learning methods. In this case, since we have two datasets, input_train and input_test, we'll start determining the maximum and minimum values in input_train. Then we will use those values to normalize input_train and input_test. Using the maximum and minimum values from input_train to normalize both datasets avoids something called Data Leakage."
      ],
      "metadata": {
        "id": "iTLxQKo_KIOR"
      }
    },
    {
      "cell_type": "code",
      "source": [
        "max_vals_in_input_train = input_train.max()"
      ],
      "metadata": {
        "id": "IwACKj4MJ-4K"
      },
      "execution_count": 60,
      "outputs": []
    },
    {
      "cell_type": "code",
      "source": [
        "max_vals_in_input_train"
      ],
      "metadata": {
        "colab": {
          "base_uri": "https://localhost:8080/",
          "height": 147
        },
        "id": "My15-wmUKAy4",
        "outputId": "e7184ed9-9021-48fe-8d93-eb289aaa33b8"
      },
      "execution_count": 61,
      "outputs": [
        {
          "output_type": "execute_result",
          "data": {
            "text/plain": [
              "petal_width    2.5\n",
              "sepal_width    4.4\n",
              "dtype: float64"
            ],
            "text/html": [
              "<div>\n",
              "<style scoped>\n",
              "    .dataframe tbody tr th:only-of-type {\n",
              "        vertical-align: middle;\n",
              "    }\n",
              "\n",
              "    .dataframe tbody tr th {\n",
              "        vertical-align: top;\n",
              "    }\n",
              "\n",
              "    .dataframe thead th {\n",
              "        text-align: right;\n",
              "    }\n",
              "</style>\n",
              "<table border=\"1\" class=\"dataframe\">\n",
              "  <thead>\n",
              "    <tr style=\"text-align: right;\">\n",
              "      <th></th>\n",
              "      <th>0</th>\n",
              "    </tr>\n",
              "  </thead>\n",
              "  <tbody>\n",
              "    <tr>\n",
              "      <th>petal_width</th>\n",
              "      <td>2.5</td>\n",
              "    </tr>\n",
              "    <tr>\n",
              "      <th>sepal_width</th>\n",
              "      <td>4.4</td>\n",
              "    </tr>\n",
              "  </tbody>\n",
              "</table>\n",
              "</div><br><label><b>dtype:</b> float64</label>"
            ]
          },
          "metadata": {},
          "execution_count": 61
        }
      ]
    },
    {
      "cell_type": "code",
      "source": [
        "min_vals_in_input_train = input_train.min()"
      ],
      "metadata": {
        "id": "rfsT2-gZKDOo"
      },
      "execution_count": 62,
      "outputs": []
    },
    {
      "cell_type": "code",
      "source": [
        "min_vals_in_input_train"
      ],
      "metadata": {
        "colab": {
          "base_uri": "https://localhost:8080/",
          "height": 147
        },
        "id": "MQv27ZC0KFIH",
        "outputId": "638eae19-332a-4592-fd67-b4320f5936e2"
      },
      "execution_count": 63,
      "outputs": [
        {
          "output_type": "execute_result",
          "data": {
            "text/plain": [
              "petal_width    0.1\n",
              "sepal_width    2.0\n",
              "dtype: float64"
            ],
            "text/html": [
              "<div>\n",
              "<style scoped>\n",
              "    .dataframe tbody tr th:only-of-type {\n",
              "        vertical-align: middle;\n",
              "    }\n",
              "\n",
              "    .dataframe tbody tr th {\n",
              "        vertical-align: top;\n",
              "    }\n",
              "\n",
              "    .dataframe thead th {\n",
              "        text-align: right;\n",
              "    }\n",
              "</style>\n",
              "<table border=\"1\" class=\"dataframe\">\n",
              "  <thead>\n",
              "    <tr style=\"text-align: right;\">\n",
              "      <th></th>\n",
              "      <th>0</th>\n",
              "    </tr>\n",
              "  </thead>\n",
              "  <tbody>\n",
              "    <tr>\n",
              "      <th>petal_width</th>\n",
              "      <td>0.1</td>\n",
              "    </tr>\n",
              "    <tr>\n",
              "      <th>sepal_width</th>\n",
              "      <td>2.0</td>\n",
              "    </tr>\n",
              "  </tbody>\n",
              "</table>\n",
              "</div><br><label><b>dtype:</b> float64</label>"
            ]
          },
          "metadata": {},
          "execution_count": 63
        }
      ]
    },
    {
      "cell_type": "code",
      "source": [
        "input_train = (input_train - min_vals_in_input_train) / (max_vals_in_input_train - min_vals_in_input_train)\n",
        "input_train.head()"
      ],
      "metadata": {
        "colab": {
          "base_uri": "https://localhost:8080/",
          "height": 206
        },
        "id": "I6mbv2gJKRRC",
        "outputId": "f7d09226-dbce-4b33-a788-c7da7186dd9b"
      },
      "execution_count": 64,
      "outputs": [
        {
          "output_type": "execute_result",
          "data": {
            "text/plain": [
              "     petal_width  sepal_width\n",
              "130     0.750000     0.333333\n",
              "122     0.791667     0.333333\n",
              "81      0.375000     0.166667\n",
              "71      0.500000     0.333333\n",
              "89      0.500000     0.208333"
            ],
            "text/html": [
              "\n",
              "  <div id=\"df-45d05bc5-f5f3-481a-b022-e4bab1a472a2\" class=\"colab-df-container\">\n",
              "    <div>\n",
              "<style scoped>\n",
              "    .dataframe tbody tr th:only-of-type {\n",
              "        vertical-align: middle;\n",
              "    }\n",
              "\n",
              "    .dataframe tbody tr th {\n",
              "        vertical-align: top;\n",
              "    }\n",
              "\n",
              "    .dataframe thead th {\n",
              "        text-align: right;\n",
              "    }\n",
              "</style>\n",
              "<table border=\"1\" class=\"dataframe\">\n",
              "  <thead>\n",
              "    <tr style=\"text-align: right;\">\n",
              "      <th></th>\n",
              "      <th>petal_width</th>\n",
              "      <th>sepal_width</th>\n",
              "    </tr>\n",
              "  </thead>\n",
              "  <tbody>\n",
              "    <tr>\n",
              "      <th>130</th>\n",
              "      <td>0.750000</td>\n",
              "      <td>0.333333</td>\n",
              "    </tr>\n",
              "    <tr>\n",
              "      <th>122</th>\n",
              "      <td>0.791667</td>\n",
              "      <td>0.333333</td>\n",
              "    </tr>\n",
              "    <tr>\n",
              "      <th>81</th>\n",
              "      <td>0.375000</td>\n",
              "      <td>0.166667</td>\n",
              "    </tr>\n",
              "    <tr>\n",
              "      <th>71</th>\n",
              "      <td>0.500000</td>\n",
              "      <td>0.333333</td>\n",
              "    </tr>\n",
              "    <tr>\n",
              "      <th>89</th>\n",
              "      <td>0.500000</td>\n",
              "      <td>0.208333</td>\n",
              "    </tr>\n",
              "  </tbody>\n",
              "</table>\n",
              "</div>\n",
              "    <div class=\"colab-df-buttons\">\n",
              "\n",
              "  <div class=\"colab-df-container\">\n",
              "    <button class=\"colab-df-convert\" onclick=\"convertToInteractive('df-45d05bc5-f5f3-481a-b022-e4bab1a472a2')\"\n",
              "            title=\"Convert this dataframe to an interactive table.\"\n",
              "            style=\"display:none;\">\n",
              "\n",
              "  <svg xmlns=\"http://www.w3.org/2000/svg\" height=\"24px\" viewBox=\"0 -960 960 960\">\n",
              "    <path d=\"M120-120v-720h720v720H120Zm60-500h600v-160H180v160Zm220 220h160v-160H400v160Zm0 220h160v-160H400v160ZM180-400h160v-160H180v160Zm440 0h160v-160H620v160ZM180-180h160v-160H180v160Zm440 0h160v-160H620v160Z\"/>\n",
              "  </svg>\n",
              "    </button>\n",
              "\n",
              "  <style>\n",
              "    .colab-df-container {\n",
              "      display:flex;\n",
              "      gap: 12px;\n",
              "    }\n",
              "\n",
              "    .colab-df-convert {\n",
              "      background-color: #E8F0FE;\n",
              "      border: none;\n",
              "      border-radius: 50%;\n",
              "      cursor: pointer;\n",
              "      display: none;\n",
              "      fill: #1967D2;\n",
              "      height: 32px;\n",
              "      padding: 0 0 0 0;\n",
              "      width: 32px;\n",
              "    }\n",
              "\n",
              "    .colab-df-convert:hover {\n",
              "      background-color: #E2EBFA;\n",
              "      box-shadow: 0px 1px 2px rgba(60, 64, 67, 0.3), 0px 1px 3px 1px rgba(60, 64, 67, 0.15);\n",
              "      fill: #174EA6;\n",
              "    }\n",
              "\n",
              "    .colab-df-buttons div {\n",
              "      margin-bottom: 4px;\n",
              "    }\n",
              "\n",
              "    [theme=dark] .colab-df-convert {\n",
              "      background-color: #3B4455;\n",
              "      fill: #D2E3FC;\n",
              "    }\n",
              "\n",
              "    [theme=dark] .colab-df-convert:hover {\n",
              "      background-color: #434B5C;\n",
              "      box-shadow: 0px 1px 3px 1px rgba(0, 0, 0, 0.15);\n",
              "      filter: drop-shadow(0px 1px 2px rgba(0, 0, 0, 0.3));\n",
              "      fill: #FFFFFF;\n",
              "    }\n",
              "  </style>\n",
              "\n",
              "    <script>\n",
              "      const buttonEl =\n",
              "        document.querySelector('#df-45d05bc5-f5f3-481a-b022-e4bab1a472a2 button.colab-df-convert');\n",
              "      buttonEl.style.display =\n",
              "        google.colab.kernel.accessAllowed ? 'block' : 'none';\n",
              "\n",
              "      async function convertToInteractive(key) {\n",
              "        const element = document.querySelector('#df-45d05bc5-f5f3-481a-b022-e4bab1a472a2');\n",
              "        const dataTable =\n",
              "          await google.colab.kernel.invokeFunction('convertToInteractive',\n",
              "                                                    [key], {});\n",
              "        if (!dataTable) return;\n",
              "\n",
              "        const docLinkHtml = 'Like what you see? Visit the ' +\n",
              "          '<a target=\"_blank\" href=https://colab.research.google.com/notebooks/data_table.ipynb>data table notebook</a>'\n",
              "          + ' to learn more about interactive tables.';\n",
              "        element.innerHTML = '';\n",
              "        dataTable['output_type'] = 'display_data';\n",
              "        await google.colab.output.renderOutput(dataTable, element);\n",
              "        const docLink = document.createElement('div');\n",
              "        docLink.innerHTML = docLinkHtml;\n",
              "        element.appendChild(docLink);\n",
              "      }\n",
              "    </script>\n",
              "  </div>\n",
              "\n",
              "\n",
              "    <div id=\"df-d42b6579-6529-4ca0-87ef-b82418fdcc23\">\n",
              "      <button class=\"colab-df-quickchart\" onclick=\"quickchart('df-d42b6579-6529-4ca0-87ef-b82418fdcc23')\"\n",
              "                title=\"Suggest charts\"\n",
              "                style=\"display:none;\">\n",
              "\n",
              "<svg xmlns=\"http://www.w3.org/2000/svg\" height=\"24px\"viewBox=\"0 0 24 24\"\n",
              "     width=\"24px\">\n",
              "    <g>\n",
              "        <path d=\"M19 3H5c-1.1 0-2 .9-2 2v14c0 1.1.9 2 2 2h14c1.1 0 2-.9 2-2V5c0-1.1-.9-2-2-2zM9 17H7v-7h2v7zm4 0h-2V7h2v10zm4 0h-2v-4h2v4z\"/>\n",
              "    </g>\n",
              "</svg>\n",
              "      </button>\n",
              "\n",
              "<style>\n",
              "  .colab-df-quickchart {\n",
              "      --bg-color: #E8F0FE;\n",
              "      --fill-color: #1967D2;\n",
              "      --hover-bg-color: #E2EBFA;\n",
              "      --hover-fill-color: #174EA6;\n",
              "      --disabled-fill-color: #AAA;\n",
              "      --disabled-bg-color: #DDD;\n",
              "  }\n",
              "\n",
              "  [theme=dark] .colab-df-quickchart {\n",
              "      --bg-color: #3B4455;\n",
              "      --fill-color: #D2E3FC;\n",
              "      --hover-bg-color: #434B5C;\n",
              "      --hover-fill-color: #FFFFFF;\n",
              "      --disabled-bg-color: #3B4455;\n",
              "      --disabled-fill-color: #666;\n",
              "  }\n",
              "\n",
              "  .colab-df-quickchart {\n",
              "    background-color: var(--bg-color);\n",
              "    border: none;\n",
              "    border-radius: 50%;\n",
              "    cursor: pointer;\n",
              "    display: none;\n",
              "    fill: var(--fill-color);\n",
              "    height: 32px;\n",
              "    padding: 0;\n",
              "    width: 32px;\n",
              "  }\n",
              "\n",
              "  .colab-df-quickchart:hover {\n",
              "    background-color: var(--hover-bg-color);\n",
              "    box-shadow: 0 1px 2px rgba(60, 64, 67, 0.3), 0 1px 3px 1px rgba(60, 64, 67, 0.15);\n",
              "    fill: var(--button-hover-fill-color);\n",
              "  }\n",
              "\n",
              "  .colab-df-quickchart-complete:disabled,\n",
              "  .colab-df-quickchart-complete:disabled:hover {\n",
              "    background-color: var(--disabled-bg-color);\n",
              "    fill: var(--disabled-fill-color);\n",
              "    box-shadow: none;\n",
              "  }\n",
              "\n",
              "  .colab-df-spinner {\n",
              "    border: 2px solid var(--fill-color);\n",
              "    border-color: transparent;\n",
              "    border-bottom-color: var(--fill-color);\n",
              "    animation:\n",
              "      spin 1s steps(1) infinite;\n",
              "  }\n",
              "\n",
              "  @keyframes spin {\n",
              "    0% {\n",
              "      border-color: transparent;\n",
              "      border-bottom-color: var(--fill-color);\n",
              "      border-left-color: var(--fill-color);\n",
              "    }\n",
              "    20% {\n",
              "      border-color: transparent;\n",
              "      border-left-color: var(--fill-color);\n",
              "      border-top-color: var(--fill-color);\n",
              "    }\n",
              "    30% {\n",
              "      border-color: transparent;\n",
              "      border-left-color: var(--fill-color);\n",
              "      border-top-color: var(--fill-color);\n",
              "      border-right-color: var(--fill-color);\n",
              "    }\n",
              "    40% {\n",
              "      border-color: transparent;\n",
              "      border-right-color: var(--fill-color);\n",
              "      border-top-color: var(--fill-color);\n",
              "    }\n",
              "    60% {\n",
              "      border-color: transparent;\n",
              "      border-right-color: var(--fill-color);\n",
              "    }\n",
              "    80% {\n",
              "      border-color: transparent;\n",
              "      border-right-color: var(--fill-color);\n",
              "      border-bottom-color: var(--fill-color);\n",
              "    }\n",
              "    90% {\n",
              "      border-color: transparent;\n",
              "      border-bottom-color: var(--fill-color);\n",
              "    }\n",
              "  }\n",
              "</style>\n",
              "\n",
              "      <script>\n",
              "        async function quickchart(key) {\n",
              "          const quickchartButtonEl =\n",
              "            document.querySelector('#' + key + ' button');\n",
              "          quickchartButtonEl.disabled = true;  // To prevent multiple clicks.\n",
              "          quickchartButtonEl.classList.add('colab-df-spinner');\n",
              "          try {\n",
              "            const charts = await google.colab.kernel.invokeFunction(\n",
              "                'suggestCharts', [key], {});\n",
              "          } catch (error) {\n",
              "            console.error('Error during call to suggestCharts:', error);\n",
              "          }\n",
              "          quickchartButtonEl.classList.remove('colab-df-spinner');\n",
              "          quickchartButtonEl.classList.add('colab-df-quickchart-complete');\n",
              "        }\n",
              "        (() => {\n",
              "          let quickchartButtonEl =\n",
              "            document.querySelector('#df-d42b6579-6529-4ca0-87ef-b82418fdcc23 button');\n",
              "          quickchartButtonEl.style.display =\n",
              "            google.colab.kernel.accessAllowed ? 'block' : 'none';\n",
              "        })();\n",
              "      </script>\n",
              "    </div>\n",
              "\n",
              "    </div>\n",
              "  </div>\n"
            ],
            "application/vnd.google.colaboratory.intrinsic+json": {
              "type": "dataframe",
              "variable_name": "input_train",
              "summary": "{\n  \"name\": \"input_train\",\n  \"rows\": 112,\n  \"fields\": [\n    {\n      \"column\": \"petal_width\",\n      \"properties\": {\n        \"dtype\": \"number\",\n        \"std\": 0.3214722629472344,\n        \"min\": 0.0,\n        \"max\": 1.0,\n        \"num_unique_values\": 20,\n        \"samples\": [\n          0.75,\n          0.8750000000000001,\n          0.9583333333333333\n        ],\n        \"semantic_type\": \"\",\n        \"description\": \"\"\n      }\n    },\n    {\n      \"column\": \"sepal_width\",\n      \"properties\": {\n        \"dtype\": \"number\",\n        \"std\": 0.1836542999577314,\n        \"min\": 0.0,\n        \"max\": 1.0,\n        \"num_unique_values\": 22,\n        \"samples\": [\n          0.3333333333333332,\n          1.0,\n          0.0\n        ],\n        \"semantic_type\": \"\",\n        \"description\": \"\"\n      }\n    }\n  ]\n}"
            }
          },
          "metadata": {},
          "execution_count": 64
        }
      ]
    },
    {
      "cell_type": "code",
      "source": [
        "input_test = (input_test - min_vals_in_input_train) / (max_vals_in_input_train - min_vals_in_input_train)\n",
        "input_test.head()"
      ],
      "metadata": {
        "colab": {
          "base_uri": "https://localhost:8080/",
          "height": 206
        },
        "id": "qOnWE3HZKV9P",
        "outputId": "021e69ea-c926-4694-d781-f2ab30d24bd7"
      },
      "execution_count": 65,
      "outputs": [
        {
          "output_type": "execute_result",
          "data": {
            "text/plain": [
              "    petal_width  sepal_width\n",
              "42     0.041667     0.500000\n",
              "56     0.625000     0.541667\n",
              "99     0.500000     0.333333\n",
              "53     0.500000     0.125000\n",
              "38     0.041667     0.416667"
            ],
            "text/html": [
              "\n",
              "  <div id=\"df-d19d5302-a9f1-4c2d-aa05-f1d4940f7b8a\" class=\"colab-df-container\">\n",
              "    <div>\n",
              "<style scoped>\n",
              "    .dataframe tbody tr th:only-of-type {\n",
              "        vertical-align: middle;\n",
              "    }\n",
              "\n",
              "    .dataframe tbody tr th {\n",
              "        vertical-align: top;\n",
              "    }\n",
              "\n",
              "    .dataframe thead th {\n",
              "        text-align: right;\n",
              "    }\n",
              "</style>\n",
              "<table border=\"1\" class=\"dataframe\">\n",
              "  <thead>\n",
              "    <tr style=\"text-align: right;\">\n",
              "      <th></th>\n",
              "      <th>petal_width</th>\n",
              "      <th>sepal_width</th>\n",
              "    </tr>\n",
              "  </thead>\n",
              "  <tbody>\n",
              "    <tr>\n",
              "      <th>42</th>\n",
              "      <td>0.041667</td>\n",
              "      <td>0.500000</td>\n",
              "    </tr>\n",
              "    <tr>\n",
              "      <th>56</th>\n",
              "      <td>0.625000</td>\n",
              "      <td>0.541667</td>\n",
              "    </tr>\n",
              "    <tr>\n",
              "      <th>99</th>\n",
              "      <td>0.500000</td>\n",
              "      <td>0.333333</td>\n",
              "    </tr>\n",
              "    <tr>\n",
              "      <th>53</th>\n",
              "      <td>0.500000</td>\n",
              "      <td>0.125000</td>\n",
              "    </tr>\n",
              "    <tr>\n",
              "      <th>38</th>\n",
              "      <td>0.041667</td>\n",
              "      <td>0.416667</td>\n",
              "    </tr>\n",
              "  </tbody>\n",
              "</table>\n",
              "</div>\n",
              "    <div class=\"colab-df-buttons\">\n",
              "\n",
              "  <div class=\"colab-df-container\">\n",
              "    <button class=\"colab-df-convert\" onclick=\"convertToInteractive('df-d19d5302-a9f1-4c2d-aa05-f1d4940f7b8a')\"\n",
              "            title=\"Convert this dataframe to an interactive table.\"\n",
              "            style=\"display:none;\">\n",
              "\n",
              "  <svg xmlns=\"http://www.w3.org/2000/svg\" height=\"24px\" viewBox=\"0 -960 960 960\">\n",
              "    <path d=\"M120-120v-720h720v720H120Zm60-500h600v-160H180v160Zm220 220h160v-160H400v160Zm0 220h160v-160H400v160ZM180-400h160v-160H180v160Zm440 0h160v-160H620v160ZM180-180h160v-160H180v160Zm440 0h160v-160H620v160Z\"/>\n",
              "  </svg>\n",
              "    </button>\n",
              "\n",
              "  <style>\n",
              "    .colab-df-container {\n",
              "      display:flex;\n",
              "      gap: 12px;\n",
              "    }\n",
              "\n",
              "    .colab-df-convert {\n",
              "      background-color: #E8F0FE;\n",
              "      border: none;\n",
              "      border-radius: 50%;\n",
              "      cursor: pointer;\n",
              "      display: none;\n",
              "      fill: #1967D2;\n",
              "      height: 32px;\n",
              "      padding: 0 0 0 0;\n",
              "      width: 32px;\n",
              "    }\n",
              "\n",
              "    .colab-df-convert:hover {\n",
              "      background-color: #E2EBFA;\n",
              "      box-shadow: 0px 1px 2px rgba(60, 64, 67, 0.3), 0px 1px 3px 1px rgba(60, 64, 67, 0.15);\n",
              "      fill: #174EA6;\n",
              "    }\n",
              "\n",
              "    .colab-df-buttons div {\n",
              "      margin-bottom: 4px;\n",
              "    }\n",
              "\n",
              "    [theme=dark] .colab-df-convert {\n",
              "      background-color: #3B4455;\n",
              "      fill: #D2E3FC;\n",
              "    }\n",
              "\n",
              "    [theme=dark] .colab-df-convert:hover {\n",
              "      background-color: #434B5C;\n",
              "      box-shadow: 0px 1px 3px 1px rgba(0, 0, 0, 0.15);\n",
              "      filter: drop-shadow(0px 1px 2px rgba(0, 0, 0, 0.3));\n",
              "      fill: #FFFFFF;\n",
              "    }\n",
              "  </style>\n",
              "\n",
              "    <script>\n",
              "      const buttonEl =\n",
              "        document.querySelector('#df-d19d5302-a9f1-4c2d-aa05-f1d4940f7b8a button.colab-df-convert');\n",
              "      buttonEl.style.display =\n",
              "        google.colab.kernel.accessAllowed ? 'block' : 'none';\n",
              "\n",
              "      async function convertToInteractive(key) {\n",
              "        const element = document.querySelector('#df-d19d5302-a9f1-4c2d-aa05-f1d4940f7b8a');\n",
              "        const dataTable =\n",
              "          await google.colab.kernel.invokeFunction('convertToInteractive',\n",
              "                                                    [key], {});\n",
              "        if (!dataTable) return;\n",
              "\n",
              "        const docLinkHtml = 'Like what you see? Visit the ' +\n",
              "          '<a target=\"_blank\" href=https://colab.research.google.com/notebooks/data_table.ipynb>data table notebook</a>'\n",
              "          + ' to learn more about interactive tables.';\n",
              "        element.innerHTML = '';\n",
              "        dataTable['output_type'] = 'display_data';\n",
              "        await google.colab.output.renderOutput(dataTable, element);\n",
              "        const docLink = document.createElement('div');\n",
              "        docLink.innerHTML = docLinkHtml;\n",
              "        element.appendChild(docLink);\n",
              "      }\n",
              "    </script>\n",
              "  </div>\n",
              "\n",
              "\n",
              "    <div id=\"df-e5f194a1-471e-49bc-a7cb-ecb7bd1b9a20\">\n",
              "      <button class=\"colab-df-quickchart\" onclick=\"quickchart('df-e5f194a1-471e-49bc-a7cb-ecb7bd1b9a20')\"\n",
              "                title=\"Suggest charts\"\n",
              "                style=\"display:none;\">\n",
              "\n",
              "<svg xmlns=\"http://www.w3.org/2000/svg\" height=\"24px\"viewBox=\"0 0 24 24\"\n",
              "     width=\"24px\">\n",
              "    <g>\n",
              "        <path d=\"M19 3H5c-1.1 0-2 .9-2 2v14c0 1.1.9 2 2 2h14c1.1 0 2-.9 2-2V5c0-1.1-.9-2-2-2zM9 17H7v-7h2v7zm4 0h-2V7h2v10zm4 0h-2v-4h2v4z\"/>\n",
              "    </g>\n",
              "</svg>\n",
              "      </button>\n",
              "\n",
              "<style>\n",
              "  .colab-df-quickchart {\n",
              "      --bg-color: #E8F0FE;\n",
              "      --fill-color: #1967D2;\n",
              "      --hover-bg-color: #E2EBFA;\n",
              "      --hover-fill-color: #174EA6;\n",
              "      --disabled-fill-color: #AAA;\n",
              "      --disabled-bg-color: #DDD;\n",
              "  }\n",
              "\n",
              "  [theme=dark] .colab-df-quickchart {\n",
              "      --bg-color: #3B4455;\n",
              "      --fill-color: #D2E3FC;\n",
              "      --hover-bg-color: #434B5C;\n",
              "      --hover-fill-color: #FFFFFF;\n",
              "      --disabled-bg-color: #3B4455;\n",
              "      --disabled-fill-color: #666;\n",
              "  }\n",
              "\n",
              "  .colab-df-quickchart {\n",
              "    background-color: var(--bg-color);\n",
              "    border: none;\n",
              "    border-radius: 50%;\n",
              "    cursor: pointer;\n",
              "    display: none;\n",
              "    fill: var(--fill-color);\n",
              "    height: 32px;\n",
              "    padding: 0;\n",
              "    width: 32px;\n",
              "  }\n",
              "\n",
              "  .colab-df-quickchart:hover {\n",
              "    background-color: var(--hover-bg-color);\n",
              "    box-shadow: 0 1px 2px rgba(60, 64, 67, 0.3), 0 1px 3px 1px rgba(60, 64, 67, 0.15);\n",
              "    fill: var(--button-hover-fill-color);\n",
              "  }\n",
              "\n",
              "  .colab-df-quickchart-complete:disabled,\n",
              "  .colab-df-quickchart-complete:disabled:hover {\n",
              "    background-color: var(--disabled-bg-color);\n",
              "    fill: var(--disabled-fill-color);\n",
              "    box-shadow: none;\n",
              "  }\n",
              "\n",
              "  .colab-df-spinner {\n",
              "    border: 2px solid var(--fill-color);\n",
              "    border-color: transparent;\n",
              "    border-bottom-color: var(--fill-color);\n",
              "    animation:\n",
              "      spin 1s steps(1) infinite;\n",
              "  }\n",
              "\n",
              "  @keyframes spin {\n",
              "    0% {\n",
              "      border-color: transparent;\n",
              "      border-bottom-color: var(--fill-color);\n",
              "      border-left-color: var(--fill-color);\n",
              "    }\n",
              "    20% {\n",
              "      border-color: transparent;\n",
              "      border-left-color: var(--fill-color);\n",
              "      border-top-color: var(--fill-color);\n",
              "    }\n",
              "    30% {\n",
              "      border-color: transparent;\n",
              "      border-left-color: var(--fill-color);\n",
              "      border-top-color: var(--fill-color);\n",
              "      border-right-color: var(--fill-color);\n",
              "    }\n",
              "    40% {\n",
              "      border-color: transparent;\n",
              "      border-right-color: var(--fill-color);\n",
              "      border-top-color: var(--fill-color);\n",
              "    }\n",
              "    60% {\n",
              "      border-color: transparent;\n",
              "      border-right-color: var(--fill-color);\n",
              "    }\n",
              "    80% {\n",
              "      border-color: transparent;\n",
              "      border-right-color: var(--fill-color);\n",
              "      border-bottom-color: var(--fill-color);\n",
              "    }\n",
              "    90% {\n",
              "      border-color: transparent;\n",
              "      border-bottom-color: var(--fill-color);\n",
              "    }\n",
              "  }\n",
              "</style>\n",
              "\n",
              "      <script>\n",
              "        async function quickchart(key) {\n",
              "          const quickchartButtonEl =\n",
              "            document.querySelector('#' + key + ' button');\n",
              "          quickchartButtonEl.disabled = true;  // To prevent multiple clicks.\n",
              "          quickchartButtonEl.classList.add('colab-df-spinner');\n",
              "          try {\n",
              "            const charts = await google.colab.kernel.invokeFunction(\n",
              "                'suggestCharts', [key], {});\n",
              "          } catch (error) {\n",
              "            console.error('Error during call to suggestCharts:', error);\n",
              "          }\n",
              "          quickchartButtonEl.classList.remove('colab-df-spinner');\n",
              "          quickchartButtonEl.classList.add('colab-df-quickchart-complete');\n",
              "        }\n",
              "        (() => {\n",
              "          let quickchartButtonEl =\n",
              "            document.querySelector('#df-e5f194a1-471e-49bc-a7cb-ecb7bd1b9a20 button');\n",
              "          quickchartButtonEl.style.display =\n",
              "            google.colab.kernel.accessAllowed ? 'block' : 'none';\n",
              "        })();\n",
              "      </script>\n",
              "    </div>\n",
              "\n",
              "    </div>\n",
              "  </div>\n"
            ],
            "application/vnd.google.colaboratory.intrinsic+json": {
              "type": "dataframe",
              "variable_name": "input_test",
              "summary": "{\n  \"name\": \"input_test\",\n  \"rows\": 38,\n  \"fields\": [\n    {\n      \"column\": \"petal_width\",\n      \"properties\": {\n        \"dtype\": \"number\",\n        \"std\": 0.3115829360399803,\n        \"min\": 0.04166666666666667,\n        \"max\": 0.9583333333333333,\n        \"num_unique_values\": 15,\n        \"samples\": [\n          0.4166666666666667,\n          0.08333333333333333,\n          0.04166666666666667\n        ],\n        \"semantic_type\": \"\",\n        \"description\": \"\"\n      }\n    },\n    {\n      \"column\": \"sepal_width\",\n      \"properties\": {\n        \"dtype\": \"number\",\n        \"std\": 0.17359076062171586,\n        \"min\": 0.1249999999999999,\n        \"max\": 0.8333333333333333,\n        \"num_unique_values\": 15,\n        \"samples\": [\n          0.20833333333333331,\n          0.7083333333333333,\n          0.5\n        ],\n        \"semantic_type\": \"\",\n        \"description\": \"\"\n      }\n    }\n  ]\n}"
            }
          },
          "metadata": {},
          "execution_count": 65
        }
      ]
    },
    {
      "cell_type": "markdown",
      "source": [
        "Now, let's put our training data into a DataLoader, which we can use to train the neural network. DataLoaders are great for large datasets because they make it easy to access the data in batches, make it easy to shuffle the data each epoch, and they make it easy to use a relatively small fraction of the data if we want to do a quick and dirty training for debugging our code.\n",
        "\n",
        "To put our data training data into a DataLoader, we'll start by converting input_train into tensors with torch.tensor(). We'll then combine 'input_train with one_hot_label_train to create a TensorDataset. Lastly, we'll use the TensorDataset to create the DataLoader."
      ],
      "metadata": {
        "id": "6AR5y5cNKlfJ"
      }
    },
    {
      "cell_type": "code",
      "source": [
        "input_train_tensors = torch.tensor(input_train.values).type(torch.float32)"
      ],
      "metadata": {
        "id": "OeHv5l0zKa6j"
      },
      "execution_count": 66,
      "outputs": []
    },
    {
      "cell_type": "code",
      "source": [
        "input_train_tensors[:5]"
      ],
      "metadata": {
        "colab": {
          "base_uri": "https://localhost:8080/"
        },
        "id": "yLM4-sEYKf8J",
        "outputId": "0af612ae-9c45-4156-c29e-70a02d1dc421"
      },
      "execution_count": 67,
      "outputs": [
        {
          "output_type": "execute_result",
          "data": {
            "text/plain": [
              "tensor([[0.7500, 0.3333],\n",
              "        [0.7917, 0.3333],\n",
              "        [0.3750, 0.1667],\n",
              "        [0.5000, 0.3333],\n",
              "        [0.5000, 0.2083]])"
            ]
          },
          "metadata": {},
          "execution_count": 67
        }
      ]
    },
    {
      "cell_type": "code",
      "source": [
        "input_test_tensors = torch.tensor(input_test.values).type(torch.float32)"
      ],
      "metadata": {
        "id": "rW_LZ75TKkOj"
      },
      "execution_count": 68,
      "outputs": []
    },
    {
      "cell_type": "code",
      "source": [
        "input_test_tensors[:5]"
      ],
      "metadata": {
        "colab": {
          "base_uri": "https://localhost:8080/"
        },
        "id": "dw-0SswLKqcB",
        "outputId": "b45e3fff-6a9e-4562-dcd2-5fac5f34c914"
      },
      "execution_count": 69,
      "outputs": [
        {
          "output_type": "execute_result",
          "data": {
            "text/plain": [
              "tensor([[0.0417, 0.5000],\n",
              "        [0.6250, 0.5417],\n",
              "        [0.5000, 0.3333],\n",
              "        [0.5000, 0.1250],\n",
              "        [0.0417, 0.4167]])"
            ]
          },
          "metadata": {},
          "execution_count": 69
        }
      ]
    },
    {
      "cell_type": "code",
      "source": [
        "train_dataset = TensorDataset(input_train_tensors, one_hot_label_train)\n",
        "train_dataloader = DataLoader(train_dataset)"
      ],
      "metadata": {
        "id": "Cg891FIgKsWH"
      },
      "execution_count": 70,
      "outputs": []
    },
    {
      "cell_type": "markdown",
      "source": [
        "# Building a neural network with multiple inputs and outputs with PyTorch and Lightning"
      ],
      "metadata": {
        "id": "QfHg1XrAK8jL"
      }
    },
    {
      "cell_type": "code",
      "source": [
        "class MultipleInsOuts(L.LightningModule):\n",
        "\n",
        "  def __init__(self):\n",
        "    super().__init__()\n",
        "\n",
        "    L.seed_everything(seed=42)\n",
        "\n",
        "    self.input_to_hidden = nn.Linear(in_features=2, out_features=2, bias=True)\n",
        "    self.hidden_to_output = nn.Linear(in_features=2, out_features=3, bias=True)\n",
        "    self.loss = nn.MSELoss(reduction='sum')\n",
        "\n",
        "\n",
        "  def forward(self, input):\n",
        "    hidden = self.input_to_hidden(input)\n",
        "    output_values = self.hidden_to_output(torch.relu(hidden))\n",
        "\n",
        "    return (output_values)\n",
        "\n",
        "\n",
        "  def configure_optimizers(self):\n",
        "     return Adam(self.parameters(), lr=0.001)\n",
        "\n",
        "\n",
        "  def training_step(self, batch, batch_idx):\n",
        "    inputs, labels = batch\n",
        "    outputs = self.forward(inputs)\n",
        "    loss = self.loss(outputs, labels)\n",
        "\n",
        "    return loss\n"
      ],
      "metadata": {
        "id": "1D-g5LnMK_Eq"
      },
      "execution_count": 75,
      "outputs": []
    },
    {
      "cell_type": "code",
      "source": [
        "model = MultipleInsOuts()"
      ],
      "metadata": {
        "colab": {
          "base_uri": "https://localhost:8080/"
        },
        "id": "qnYFBwGeN3cy",
        "outputId": "13103f04-ee55-46a1-b9c4-d52688b8ecdf"
      },
      "execution_count": 76,
      "outputs": [
        {
          "output_type": "stream",
          "name": "stderr",
          "text": [
            "INFO: Seed set to 42\n",
            "INFO:lightning.fabric.utilities.seed:Seed set to 42\n"
          ]
        }
      ]
    },
    {
      "cell_type": "code",
      "source": [
        "for name, param in model.named_parameters():\n",
        "    print(name, torch.round(param.data, decimals=2))"
      ],
      "metadata": {
        "colab": {
          "base_uri": "https://localhost:8080/"
        },
        "id": "M2h0z2JXOBIS",
        "outputId": "3eb635c7-367b-4cd3-ac1e-a194e8e415f0"
      },
      "execution_count": 77,
      "outputs": [
        {
          "output_type": "stream",
          "name": "stdout",
          "text": [
            "input_to_hidden.weight tensor([[ 0.5400,  0.5900],\n",
            "        [-0.1700,  0.6500]])\n",
            "input_to_hidden.bias tensor([-0.1500,  0.1400])\n",
            "hidden_to_output.weight tensor([[-0.3400,  0.4200],\n",
            "        [ 0.6200, -0.5200],\n",
            "        [ 0.6100,  0.1300]])\n",
            "hidden_to_output.bias tensor([0.5200, 0.1000, 0.3400])\n"
          ]
        }
      ]
    },
    {
      "cell_type": "markdown",
      "source": [
        "# Training our Neural Network"
      ],
      "metadata": {
        "id": "7fVQChrbQLCp"
      }
    },
    {
      "cell_type": "code",
      "source": [
        "trainer = L.Trainer(max_epochs=10)\n",
        "trainer.fit(model, train_dataloaders=train_dataloader)"
      ],
      "metadata": {
        "colab": {
          "base_uri": "https://localhost:8080/",
          "height": 694,
          "referenced_widgets": [
            "1eebc1a6691c47dd825b5b281d11b5d0",
            "71045efa7f564038b65ab1146a1c3d2c",
            "37077b71dfd546549de8b3241e646742",
            "efbcc337d3bf441f8ee1d54d90d63c3e",
            "690f993b65c145d39682a3719a84efbe",
            "ebc4a0d8b26d48589a68554bedfa3cd2",
            "10c66f219aca495890eb0bf8484de053",
            "c0a322f26a8b4f6699a77ace6f981467",
            "51f909d9610140a2a148667e613950f1",
            "a3080d52ba1b4e23995fdd52996375f0",
            "8a6fd15c07c04b08a9bf79e6a2e95c05"
          ]
        },
        "id": "8Qosxew0QRf4",
        "outputId": "6609e1f1-04e2-4f53-ceaa-9a3862d64fb3"
      },
      "execution_count": 78,
      "outputs": [
        {
          "output_type": "stream",
          "name": "stderr",
          "text": [
            "INFO: 💡 Tip: For seamless cloud uploads and versioning, try installing [litmodels](https://pypi.org/project/litmodels/) to enable LitModelCheckpoint, which syncs automatically with the Lightning model registry.\n",
            "INFO:lightning.pytorch.utilities.rank_zero:💡 Tip: For seamless cloud uploads and versioning, try installing [litmodels](https://pypi.org/project/litmodels/) to enable LitModelCheckpoint, which syncs automatically with the Lightning model registry.\n",
            "INFO: GPU available: False, used: False\n",
            "INFO:lightning.pytorch.utilities.rank_zero:GPU available: False, used: False\n",
            "INFO: TPU available: False, using: 0 TPU cores\n",
            "INFO:lightning.pytorch.utilities.rank_zero:TPU available: False, using: 0 TPU cores\n",
            "INFO: HPU available: False, using: 0 HPUs\n",
            "INFO:lightning.pytorch.utilities.rank_zero:HPU available: False, using: 0 HPUs\n",
            "INFO: \n",
            "  | Name             | Type    | Params | Mode \n",
            "-----------------------------------------------------\n",
            "0 | input_to_hidden  | Linear  | 6      | train\n",
            "1 | hidden_to_output | Linear  | 9      | train\n",
            "2 | loss             | MSELoss | 0      | train\n",
            "-----------------------------------------------------\n",
            "15        Trainable params\n",
            "0         Non-trainable params\n",
            "15        Total params\n",
            "0.000     Total estimated model params size (MB)\n",
            "3         Modules in train mode\n",
            "0         Modules in eval mode\n",
            "INFO:lightning.pytorch.callbacks.model_summary:\n",
            "  | Name             | Type    | Params | Mode \n",
            "-----------------------------------------------------\n",
            "0 | input_to_hidden  | Linear  | 6      | train\n",
            "1 | hidden_to_output | Linear  | 9      | train\n",
            "2 | loss             | MSELoss | 0      | train\n",
            "-----------------------------------------------------\n",
            "15        Trainable params\n",
            "0         Non-trainable params\n",
            "15        Total params\n",
            "0.000     Total estimated model params size (MB)\n",
            "3         Modules in train mode\n",
            "0         Modules in eval mode\n"
          ]
        },
        {
          "output_type": "display_data",
          "data": {
            "text/plain": [
              "Training: |          | 0/? [00:00<?, ?it/s]"
            ],
            "application/vnd.jupyter.widget-view+json": {
              "version_major": 2,
              "version_minor": 0,
              "model_id": "1eebc1a6691c47dd825b5b281d11b5d0"
            }
          },
          "metadata": {}
        },
        {
          "output_type": "stream",
          "name": "stderr",
          "text": [
            "INFO: `Trainer.fit` stopped: `max_epochs=10` reached.\n",
            "INFO:lightning.pytorch.utilities.rank_zero:`Trainer.fit` stopped: `max_epochs=10` reached.\n"
          ]
        }
      ]
    },
    {
      "cell_type": "code",
      "source": [
        "predictions = model(input_test_tensors)"
      ],
      "metadata": {
        "id": "xDdU7wswQT8G"
      },
      "execution_count": 79,
      "outputs": []
    },
    {
      "cell_type": "code",
      "source": [
        "predictions[0:4,]"
      ],
      "metadata": {
        "colab": {
          "base_uri": "https://localhost:8080/"
        },
        "id": "rKRlkaRiRGNN",
        "outputId": "13dd708d-f56f-44d4-bf6d-489bc3d19a2f"
      },
      "execution_count": 80,
      "outputs": [
        {
          "output_type": "execute_result",
          "data": {
            "text/plain": [
              "tensor([[0.7585, 0.0282, 0.0331],\n",
              "        [0.1994, 0.3877, 0.4948],\n",
              "        [0.2486, 0.3490, 0.3868],\n",
              "        [0.1941, 0.3776, 0.3712]], grad_fn=<SliceBackward0>)"
            ]
          },
          "metadata": {},
          "execution_count": 80
        }
      ]
    },
    {
      "cell_type": "code",
      "source": [
        "predicted_labels = torch.argmax(predictions, dim=1) ## dim=0 applies argmax to rows, dim=1 applies argmax to columns\n",
        "predicted_labels[0:4]"
      ],
      "metadata": {
        "colab": {
          "base_uri": "https://localhost:8080/"
        },
        "id": "Ahtr7YRKRNP5",
        "outputId": "1df07dba-f4dd-4c5c-f065-a107d0bce307"
      },
      "execution_count": 81,
      "outputs": [
        {
          "output_type": "execute_result",
          "data": {
            "text/plain": [
              "tensor([0, 2, 2, 1])"
            ]
          },
          "metadata": {},
          "execution_count": 81
        }
      ]
    },
    {
      "cell_type": "code",
      "source": [
        "torch.sum(torch.eq(torch.tensor(label_test), predicted_labels)) / len(predicted_labels)"
      ],
      "metadata": {
        "colab": {
          "base_uri": "https://localhost:8080/"
        },
        "id": "hdUoaUy5RPhp",
        "outputId": "a5b9f2eb-1140-43e6-fd9a-373fa6283de8"
      },
      "execution_count": 82,
      "outputs": [
        {
          "output_type": "execute_result",
          "data": {
            "text/plain": [
              "tensor(0.7368)"
            ]
          },
          "metadata": {},
          "execution_count": 82
        }
      ]
    },
    {
      "cell_type": "markdown",
      "source": [
        "We see that our neural network only correctly predicts 74% of the testing data. This isn't very good. So, will training our model for more epochs improve the model's predictions?\n",
        "\n",
        "One way to answer that question is to just train for longer and see what happens.\n",
        "\n",
        "The good news is that because we're using Lightning, we can pick up where we left off training without starting over from scratch. This is because training with Lightning creates checkpoint files that keep track of the Weights and Biases as they change. As a result, all we have to do to pick up where we left off is tell the Trainer where the checkpoint files are. This is awesome and will save us a lot of time since we don't have to retrain the first 10 epochs. So, let's add an additional 90 epochs to the training.\n",
        "\n",
        "To add additional epochs to the training, we first identify where the checkpoint file is with the following command"
      ],
      "metadata": {
        "id": "F6UdMpFjRkj_"
      }
    },
    {
      "cell_type": "code",
      "source": [
        "path_to_checkpoint = trainer.checkpoint_callback.best_model_path"
      ],
      "metadata": {
        "id": "38wo__7RRmMp"
      },
      "execution_count": 83,
      "outputs": []
    },
    {
      "cell_type": "code",
      "source": [
        "trainer = L.Trainer(max_epochs=100)"
      ],
      "metadata": {
        "colab": {
          "base_uri": "https://localhost:8080/"
        },
        "id": "5fXElAEkRs7o",
        "outputId": "36899ea9-7b5d-498b-ae1c-7352b9ab386b"
      },
      "execution_count": 84,
      "outputs": [
        {
          "output_type": "stream",
          "name": "stderr",
          "text": [
            "INFO: 💡 Tip: For seamless cloud uploads and versioning, try installing [litmodels](https://pypi.org/project/litmodels/) to enable LitModelCheckpoint, which syncs automatically with the Lightning model registry.\n",
            "INFO:lightning.pytorch.utilities.rank_zero:💡 Tip: For seamless cloud uploads and versioning, try installing [litmodels](https://pypi.org/project/litmodels/) to enable LitModelCheckpoint, which syncs automatically with the Lightning model registry.\n",
            "INFO: GPU available: False, used: False\n",
            "INFO:lightning.pytorch.utilities.rank_zero:GPU available: False, used: False\n",
            "INFO: TPU available: False, using: 0 TPU cores\n",
            "INFO:lightning.pytorch.utilities.rank_zero:TPU available: False, using: 0 TPU cores\n",
            "INFO: HPU available: False, using: 0 HPUs\n",
            "INFO:lightning.pytorch.utilities.rank_zero:HPU available: False, using: 0 HPUs\n"
          ]
        }
      ]
    },
    {
      "cell_type": "code",
      "source": [
        "trainer.fit(model, train_dataloaders=train_dataloader, ckpt_path=path_to_checkpoint)"
      ],
      "metadata": {
        "colab": {
          "base_uri": "https://localhost:8080/",
          "height": 642,
          "referenced_widgets": [
            "8a8834e0381a4502ada135095e38a9cb",
            "91df484b00004b75a3087a016e30ddb4",
            "5b13ddc1803d4510b7cef391fc90c60f",
            "c6f7cc4086f24c13bcdf60538467bf33",
            "eaf13d8b8ebb487a96472792fea09c36",
            "78aad8480acd4c5cbe89dc5bf2ead86a",
            "5448aeab9bef4c24b82854fc32d3f165",
            "86cdf1aabdf04e42a3f2e09772e8d699",
            "d060844fba9a4bee8a3b9df99e3d8c6c",
            "f4a53f6741d14d989454f69586d47a05",
            "412e31e672704bddae165666643ccd72"
          ]
        },
        "id": "yjMMNc6dRvJz",
        "outputId": "7d271ccd-4a86-4ddc-9ce2-9f580edad8b2"
      },
      "execution_count": 85,
      "outputs": [
        {
          "output_type": "stream",
          "name": "stderr",
          "text": [
            "INFO: Restoring states from the checkpoint path at /content/lightning_logs/version_2/checkpoints/epoch=9-step=1120.ckpt\n",
            "INFO:lightning.pytorch.utilities.rank_zero:Restoring states from the checkpoint path at /content/lightning_logs/version_2/checkpoints/epoch=9-step=1120.ckpt\n",
            "/usr/local/lib/python3.11/dist-packages/lightning/pytorch/callbacks/model_checkpoint.py:366: The dirpath has changed from '/content/lightning_logs/version_2/checkpoints' to '/content/lightning_logs/version_3/checkpoints', therefore `best_model_score`, `kth_best_model_path`, `kth_value`, `last_model_path` and `best_k_models` won't be reloaded. Only `best_model_path` will be reloaded.\n",
            "INFO: \n",
            "  | Name             | Type    | Params | Mode \n",
            "-----------------------------------------------------\n",
            "0 | input_to_hidden  | Linear  | 6      | train\n",
            "1 | hidden_to_output | Linear  | 9      | train\n",
            "2 | loss             | MSELoss | 0      | train\n",
            "-----------------------------------------------------\n",
            "15        Trainable params\n",
            "0         Non-trainable params\n",
            "15        Total params\n",
            "0.000     Total estimated model params size (MB)\n",
            "3         Modules in train mode\n",
            "0         Modules in eval mode\n",
            "INFO:lightning.pytorch.callbacks.model_summary:\n",
            "  | Name             | Type    | Params | Mode \n",
            "-----------------------------------------------------\n",
            "0 | input_to_hidden  | Linear  | 6      | train\n",
            "1 | hidden_to_output | Linear  | 9      | train\n",
            "2 | loss             | MSELoss | 0      | train\n",
            "-----------------------------------------------------\n",
            "15        Trainable params\n",
            "0         Non-trainable params\n",
            "15        Total params\n",
            "0.000     Total estimated model params size (MB)\n",
            "3         Modules in train mode\n",
            "0         Modules in eval mode\n",
            "INFO: Restored all states from the checkpoint at /content/lightning_logs/version_2/checkpoints/epoch=9-step=1120.ckpt\n",
            "INFO:lightning.pytorch.utilities.rank_zero:Restored all states from the checkpoint at /content/lightning_logs/version_2/checkpoints/epoch=9-step=1120.ckpt\n"
          ]
        },
        {
          "output_type": "display_data",
          "data": {
            "text/plain": [
              "Training: |          | 0/? [00:00<?, ?it/s]"
            ],
            "application/vnd.jupyter.widget-view+json": {
              "version_major": 2,
              "version_minor": 0,
              "model_id": "8a8834e0381a4502ada135095e38a9cb"
            }
          },
          "metadata": {}
        },
        {
          "output_type": "stream",
          "name": "stderr",
          "text": [
            "INFO: `Trainer.fit` stopped: `max_epochs=100` reached.\n",
            "INFO:lightning.pytorch.utilities.rank_zero:`Trainer.fit` stopped: `max_epochs=100` reached.\n"
          ]
        }
      ]
    },
    {
      "cell_type": "code",
      "source": [
        "predictions = model(input_test_tensors)"
      ],
      "metadata": {
        "id": "Bn8X1ED-R_iK"
      },
      "execution_count": 86,
      "outputs": []
    },
    {
      "cell_type": "code",
      "source": [
        "predicted_labels = torch.argmax(predictions, dim=1)"
      ],
      "metadata": {
        "id": "owzFx5oPSABF"
      },
      "execution_count": 87,
      "outputs": []
    },
    {
      "cell_type": "code",
      "source": [
        "torch.sum(torch.eq(torch.tensor(label_test), predicted_labels)) / len(predicted_labels)"
      ],
      "metadata": {
        "colab": {
          "base_uri": "https://localhost:8080/"
        },
        "id": "Ox82G9oDSCbD",
        "outputId": "724f0557-9f47-462b-a503-c9f9df8ac3ba"
      },
      "execution_count": 88,
      "outputs": [
        {
          "output_type": "execute_result",
          "data": {
            "text/plain": [
              "tensor(0.9211)"
            ]
          },
          "metadata": {},
          "execution_count": 88
        }
      ]
    },
    {
      "cell_type": "markdown",
      "source": [
        "After 100 training epochs, we correctly classified 92% of the testing data. This means adding more training was helpful!"
      ],
      "metadata": {
        "id": "98ykW0-iSFGh"
      }
    },
    {
      "cell_type": "markdown",
      "source": [
        "# Make a Prediction with New Data"
      ],
      "metadata": {
        "id": "jS5sVwkySHnd"
      }
    },
    {
      "cell_type": "code",
      "source": [
        "normalized_values = ([0.2, 3.0] - min_vals_in_input_train) / (max_vals_in_input_train - min_vals_in_input_train)\n",
        "normalized_values"
      ],
      "metadata": {
        "colab": {
          "base_uri": "https://localhost:8080/",
          "height": 147
        },
        "id": "y3lSpIVpSJJr",
        "outputId": "e0c84329-58b5-4f3f-ad09-83294ce4094d"
      },
      "execution_count": 89,
      "outputs": [
        {
          "output_type": "execute_result",
          "data": {
            "text/plain": [
              "petal_width    0.041667\n",
              "sepal_width    0.416667\n",
              "dtype: float64"
            ],
            "text/html": [
              "<div>\n",
              "<style scoped>\n",
              "    .dataframe tbody tr th:only-of-type {\n",
              "        vertical-align: middle;\n",
              "    }\n",
              "\n",
              "    .dataframe tbody tr th {\n",
              "        vertical-align: top;\n",
              "    }\n",
              "\n",
              "    .dataframe thead th {\n",
              "        text-align: right;\n",
              "    }\n",
              "</style>\n",
              "<table border=\"1\" class=\"dataframe\">\n",
              "  <thead>\n",
              "    <tr style=\"text-align: right;\">\n",
              "      <th></th>\n",
              "      <th>0</th>\n",
              "    </tr>\n",
              "  </thead>\n",
              "  <tbody>\n",
              "    <tr>\n",
              "      <th>petal_width</th>\n",
              "      <td>0.041667</td>\n",
              "    </tr>\n",
              "    <tr>\n",
              "      <th>sepal_width</th>\n",
              "      <td>0.416667</td>\n",
              "    </tr>\n",
              "  </tbody>\n",
              "</table>\n",
              "</div><br><label><b>dtype:</b> float64</label>"
            ]
          },
          "metadata": {},
          "execution_count": 89
        }
      ]
    },
    {
      "cell_type": "code",
      "source": [
        "model(torch.tensor(normalized_values).type(torch.float32))"
      ],
      "metadata": {
        "colab": {
          "base_uri": "https://localhost:8080/"
        },
        "id": "-JhegL80SNEY",
        "outputId": "4fb18df0-7ec3-435b-8a0e-23f46d86a2aa"
      },
      "execution_count": 90,
      "outputs": [
        {
          "output_type": "stream",
          "name": "stderr",
          "text": [
            "/tmp/ipython-input-90-3219751161.py:1: FutureWarning: Series.__getitem__ treating keys as positions is deprecated. In a future version, integer keys will always be treated as labels (consistent with DataFrame behavior). To access a value by position, use `ser.iloc[pos]`\n",
            "  model(torch.tensor(normalized_values).type(torch.float32))\n"
          ]
        },
        {
          "output_type": "execute_result",
          "data": {
            "text/plain": [
              "tensor([ 0.7956,  0.1990, -0.0419], grad_fn=<ViewBackward0>)"
            ]
          },
          "metadata": {},
          "execution_count": 90
        }
      ]
    },
    {
      "cell_type": "markdown",
      "source": [
        "first output has the largest value, meaning that the neural network predicts that the measurements come from Setosa."
      ],
      "metadata": {
        "id": "hMtKmQfQSSrU"
      }
    }
  ]
}